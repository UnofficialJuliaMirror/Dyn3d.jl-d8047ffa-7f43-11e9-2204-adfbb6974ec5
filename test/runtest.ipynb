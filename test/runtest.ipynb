{
 "cells": [
  {
   "cell_type": "code",
   "execution_count": 1,
   "metadata": {
    "collapsed": false,
    "scrolled": true
   },
   "outputs": [],
   "source": [
    "# test ConstructSystem\n",
    "\n",
    "# include should only be used once, serves as copy paste code purpose\n",
    "# using should be used whenever contents in this module is called\n",
    "# in individual modules, using other modules should consider hierarcy, \n",
    "#    which is also related to how files are included in MAIN.\n",
    "\n",
    "include(\"../src/Config_files/ConfigDataType.jl\")\n",
    "include(\"../src/ConstructSystem.jl\")\n",
    "using ConstructSystem\n",
    "using ConfigDataType"
   ]
  },
  {
   "cell_type": "code",
   "execution_count": 2,
   "metadata": {
    "collapsed": false,
    "scrolled": true
   },
   "outputs": [
    {
     "data": {
      "text/plain": [
       " nbody=2\n"
      ]
     },
     "execution_count": 2,
     "metadata": {},
     "output_type": "execute_result"
    }
   ],
   "source": [
    "# body = config_body(4,4,[1. 2. 3.;4. 5. 6.],1.)\n",
    "nbody = 2\n",
    "config_body = ConfigBody(nbody)"
   ]
  },
  {
   "cell_type": "code",
   "execution_count": 3,
   "metadata": {
    "collapsed": false
   },
   "outputs": [],
   "source": [
    "njoint = nbody\n",
    "config_joints = Vector{ConfigJoint}(njoint)\n",
    "for i = 1:nbody\n",
    "    config_joints[i] = ConfigJoint(njoint, \"revolute\")\n",
    "end"
   ]
  },
  {
   "cell_type": "code",
   "execution_count": 4,
   "metadata": {
    "collapsed": false,
    "scrolled": false
   },
   "outputs": [
    {
     "data": {
      "text/plain": [
       "body_id = 1, parent_id = 0, nchild = 0, child_id = Int64[]\n",
       "nverts = 4, verts = [0.0 0.0 0.0; 0.0 0.0 1.0; 0.5 0.0 1.0; 0.5 0.0 0.0]\n",
       "verts_i = [0.0 0.0 0.0; 0.0 0.0 1.0; 0.5 0.0 1.0; 0.5 0.0 0.0]\n",
       "x_c = [0.25, 0.0, 0.5], x_0 = Float64[]\n",
       "mass = 0.005\n",
       "inertia_c = [0.000416667 0.0 -0.0 0.0 0.0 0.0; 0.0 0.000520833 0.0 0.0 0.0 0.0; -0.0 0.0 0.000104167 0.0 0.0 0.0; 0.0 0.0 0.0 0.005 0.0 0.0; 0.0 0.0 0.0 0.0 0.005 0.0; 0.0 0.0 0.0 0.0 0.0 0.005]\n",
       "inertia_0 = Array{Float64}(0,0)\n",
       "Xb_to_c = Array{Float64}(0,0)\n",
       "Xb_to_i = Array{Float64}(0,0)\n",
       "Xp_to_b = Array{Float64}(0,0)\n",
       "q = Float64[], v = Float64[], c = Float64[]\n"
      ]
     },
     "execution_count": 4,
     "metadata": {},
     "output_type": "execute_result"
    }
   ],
   "source": [
    "body = Vector{SingleBody}(nbody) # body system\n",
    "for i = 1:nbody\n",
    "    body[i] = SingleBody() # init struct\n",
    "    body[i] = AddBody(i, config_body, body[i]) # add body\n",
    "end\n",
    "\n",
    "body[1]"
   ]
  },
  {
   "cell_type": "code",
   "execution_count": 5,
   "metadata": {
    "collapsed": false
   },
   "outputs": [
    {
     "data": {
      "text/plain": [
       "joint_id = 0, joint_type =  , pid = 0\n",
       "shape1 = Float64[], shape2 = Float64[]\n",
       "nudof = 0, ncdof = 0, np = 0, na = 0\n",
       "udof = Float64[], cdof = Float64[]\n",
       "udof_p = Float64[], udof_a = Float64[]\n",
       "i_udof_p = Float64[], i_udof_a = Float64[]\n",
       "udof_map = Float64[]\n",
       "nudof_HERK = 0, ncdof_HERK = 0\n",
       "udof_HERK = Float64[], cdof_HERK = Float64[]\n",
       "S = Array{Float64}(0,0)\n",
       "T = Array{Float64}(0,0)\n",
       "T_HERK = Array{Float64}(0,0)\n",
       "joint_dof = ConfigDataType.Dof[ConfigDataType.Dof(0, \"active\", 0.0, 0.0, [0.0, 0.0, 0.0, 0.0, 0.0, 0.0], ConfigDataType.Motions(\"hold\", [0.0]))]\n",
       "Xj = Array{Float64}(0,0)\n",
       "Xp_to_j = Array{Float64}(0,0)\n",
       "Xj_to_ch = Array{Float64}(0,0)\n",
       "qJ = Float64[], vJ = Float64[], cJ = Float64[]\n"
      ]
     },
     "execution_count": 5,
     "metadata": {},
     "output_type": "execute_result"
    }
   ],
   "source": [
    "joint = Vector{SingleJoint}(4)\n",
    "for i = 1:nbody\n",
    "    joint[i] = SingleJoint() # init struct\n",
    "    joint[i] = AddJoint(config_joints[i], joint[i]) # add joint\n",
    "end\n",
    "\n",
    "joint[1]"
   ]
  }
 ],
 "metadata": {
  "kernelspec": {
   "display_name": "Julia 0.6.2",
   "language": "julia",
   "name": "julia-0.6"
  },
  "language_info": {
   "file_extension": ".jl",
   "mimetype": "application/julia",
   "name": "julia",
   "version": "0.6.2"
  }
 },
 "nbformat": 4,
 "nbformat_minor": 2
}
