{
 "cells": [
  {
   "cell_type": "code",
   "execution_count": 1,
   "metadata": {
    "collapsed": false,
    "scrolled": true
   },
   "outputs": [],
   "source": [
    "# include should only be used once, serves as copy paste code purpose\n",
    "# using should be used whenever contents in this module is called\n",
    "# in individual modules, using other modules should consider hierarcy, \n",
    "# which is also related to how files are included in MAIN.\n",
    "\n",
    "include(\"../src/Config_files/ConfigDataType.jl\")\n",
    "include(\"../src/SpatialAlgebra.jl\")\n",
    "include(\"../src/ConstructSystem.jl\")\n",
    "include(\"../src/UpdateSystem.jl\")\n",
    "\n",
    "using ConfigDataType\n",
    "using SpatialAlgebra\n",
    "using ConstructSystem\n",
    "using UpdateSystem"
   ]
  },
  {
   "cell_type": "code",
   "execution_count": 2,
   "metadata": {
    "collapsed": false,
    "scrolled": true
   },
   "outputs": [
    {
     "data": {
      "text/plain": [
       " nbody=4\n",
       " nverts=4\n",
       " verts=[0.0 0.0; 1.0 0.0; 1.0 0.25; 0.0 0.25]\n",
       " ρ=0.01\n"
      ]
     },
     "execution_count": 2,
     "metadata": {},
     "output_type": "execute_result"
    }
   ],
   "source": [
    "# body = config_body(4,4,[1. 2. 3.;4. 5. 6.],1.)\n",
    "nbody = 4\n",
    "ndim = 2\n",
    "config_body = ConfigBody(nbody)"
   ]
  },
  {
   "cell_type": "code",
   "execution_count": 3,
   "metadata": {
    "collapsed": false
   },
   "outputs": [],
   "source": [
    "njoint = nbody\n",
    "config_joints = Vector{ConfigJoint}(njoint)\n",
    "\n",
    "# set the first active joint\n",
    "qJ_init = \n",
    "active_motion = Motions(\"oscillatory\", [π/4, 1., 0.])\n",
    "active_dof = Dof(3, \"active\", 0., 0., active_motion)\n",
    "config_joints[1] = ConfigJoint(njoint, 1, \"revolute\",\n",
    "                               zeros(Float64,6), zeros(Float64,6),\n",
    "                               0, [active_dof], zeros(Float64,6))\n",
    "\n",
    "# set the rest passive joint\n",
    "for i = 2:njoint\n",
    "    config_joints[i] = ConfigJoint(njoint, \"revolute\")\n",
    "    config_joints[i].body1 = i-1\n",
    "end"
   ]
  },
  {
   "cell_type": "code",
   "execution_count": 4,
   "metadata": {
    "collapsed": false,
    "scrolled": false
   },
   "outputs": [],
   "source": [
    "bodys = Vector{SingleBody}(nbody) # body system\n",
    "for i = 1:nbody\n",
    "    bodys[i] = AddBody(i, config_body) # add body\n",
    "end"
   ]
  },
  {
   "cell_type": "code",
   "execution_count": 5,
   "metadata": {
    "collapsed": false
   },
   "outputs": [],
   "source": [
    "joints = Vector{SingleJoint}(njoint) # joint system\n",
    "for i = 1:njoint\n",
    "    joints[i] = AddJoint(i, config_joints[i]) # add joint\n",
    "end"
   ]
  },
  {
   "cell_type": "code",
   "execution_count": 6,
   "metadata": {
    "collapsed": false
   },
   "outputs": [
    {
     "data": {
      "text/plain": [
       "ndim = 2, njoint = 4, nbody = 4\n",
       "ndof = 24, nudof = 4, ncdof = 20, np = 3, na = 1\n",
       "udof = [3, 9, 15, 21]\n",
       "udof_p = [9, 15, 21]\n",
       "udof_a = [3]\n",
       "nudof_HERK = 3, ncdof_HERK = 21\n",
       "udof_HERK = [9, 15, 21]\n"
      ]
     },
     "execution_count": 6,
     "metadata": {},
     "output_type": "execute_result"
    }
   ],
   "source": [
    "# assemble system to a chain\n",
    "system = System(ndim, nbody, njoint)\n",
    "bodys, joints, system = AssembleSystem!(bodys, joints, system)\n",
    "system"
   ]
  },
  {
   "cell_type": "code",
   "execution_count": 8,
   "metadata": {
    "collapsed": false
   },
   "outputs": [
    {
     "data": {
      "text/plain": [
       "(ConstructSystem.SingleBody[ConstructSystem.SingleBody(1, 0, [2], 1, 4, [0.0 0.0 0.0; 0.0 0.0 1.0; 0.25 0.0 1.0; 0.25 0.0 0.0], [0.0 0.0 0.0; 0.0 0.0 1.0; 0.25 0.0 1.0; 0.25 0.0 0.0], [0.125, 0.0, 0.5], [0.0, 0.0, 0.0], 0.0025, [0.000208333 0.0 … 0.0 0.0; 0.0 0.000221354 … 0.0 0.0; … ; 0.0 0.0 … 0.0025 0.0; 0.0 0.0 … 0.0 0.0025], [0.000833333 0.0 … -0.00125 0.0; 0.0 0.000885417 … 0.0 -0.0003125; … ; -0.00125 0.0 … 0.0025 0.0; 0.0 -0.0003125 … 0.0 0.0025], [1.0 0.0 … 0.0 0.0; 0.0 1.0 … 0.0 0.0; … ; -0.5 0.0 … 1.0 0.0; 0.0 -0.125 … 0.0 1.0], [1.0 0.0 … 0.0 0.0; 0.0 1.0 … 0.0 0.0; … ; 0.0 0.0 … 1.0 0.0; 0.0 0.0 … 0.0 1.0], [1.0 0.0 … 0.0 0.0; 0.0 1.0 … 0.0 0.0; … ; 0.0 0.0 … 1.0 0.0; 0.0 0.0 … 0.0 1.0], [0.0, 0.0, 0.0, 0.0, 0.0, 0.0], [1.0, 1.0, 1.0, 1.0, 1.0, 1.0], [0.0, 0.0, 0.0, 0.0, 0.0, 0.0], Float64[], Array{Float64}(0,0)), ConstructSystem.SingleBody(2, 1, [3], 1, 4, [0.25 0.0 0.0; 0.25 0.0 1.0; 0.5 0.0 1.0; 0.5 0.0 0.0], [0.25 0.0 0.0; 0.25 0.0 1.0; 0.5 0.0 1.0; 0.5 0.0 0.0], [0.125, 0.0, 0.5], [0.25, 0.0, 0.0], 0.0025, [0.000208333 0.0 … 0.0 0.0; 0.0 0.000221354 … 0.0 0.0; … ; 0.0 0.0 … 0.0025 0.0; 0.0 0.0 … 0.0 0.0025], [0.000833333 0.0 … -0.00125 0.0; 0.0 0.000885417 … 0.0 -0.0003125; … ; -0.00125 0.0 … 0.0025 0.0; 0.0 -0.0003125 … 0.0 0.0025], [1.0 0.0 … 0.0 0.0; 0.0 1.0 … 0.0 0.0; … ; -0.5 0.0 … 1.0 0.0; 0.0 -0.125 … 0.0 1.0], [1.0 0.0 … 0.0 0.0; 0.0 1.0 … 0.0 0.0; … ; 0.0 0.0 … 1.0 0.0; 0.0 0.25 … 0.0 1.0], [1.0 0.0 … 0.0 0.0; 0.0 1.0 … 0.0 0.0; … ; 0.0 0.0 … 1.0 0.0; 0.0 -0.25 … 0.0 1.0], [0.0, 0.0, 0.0, 0.0, 0.0, 0.0], [1.0, 1.0, 1.0, 1.0, 1.0, 1.0], [0.0, 0.0, 0.0, 0.0, 0.0, 0.0], Float64[], Array{Float64}(0,0)), ConstructSystem.SingleBody(3, 2, [4], 1, 4, [0.5 0.0 0.0; 0.5 0.0 1.0; 0.75 0.0 1.0; 0.75 0.0 0.0], [0.5 0.0 0.0; 0.5 0.0 1.0; 0.75 0.0 1.0; 0.75 0.0 0.0], [0.125, 0.0, 0.5], [0.5, 0.0, 0.0], 0.0025, [0.000208333 0.0 … 0.0 0.0; 0.0 0.000221354 … 0.0 0.0; … ; 0.0 0.0 … 0.0025 0.0; 0.0 0.0 … 0.0 0.0025], [0.000833333 0.0 … -0.00125 0.0; 0.0 0.000885417 … 0.0 -0.0003125; … ; -0.00125 0.0 … 0.0025 0.0; 0.0 -0.0003125 … 0.0 0.0025], [1.0 0.0 … 0.0 0.0; 0.0 1.0 … 0.0 0.0; … ; -0.5 0.0 … 1.0 0.0; 0.0 -0.125 … 0.0 1.0], [1.0 0.0 … 0.0 0.0; 0.0 1.0 … 0.0 0.0; … ; 0.0 0.0 … 1.0 0.0; 0.0 0.5 … 0.0 1.0], [1.0 0.0 … 0.0 0.0; 0.0 1.0 … 0.0 0.0; … ; 0.0 0.0 … 1.0 0.0; 0.0 -0.25 … 0.0 1.0], [0.0, 0.0, 0.0, 0.0, 0.0, 0.0], [1.0, 1.0, 1.0, 1.0, 1.0, 1.0], [0.0, 0.0, 0.0, 0.0, 0.0, 0.0], Float64[], Array{Float64}(0,0)), ConstructSystem.SingleBody(4, 3, Int64[], 0, 4, [0.75 0.0 0.0; 0.75 0.0 1.0; 1.0 0.0 1.0; 1.0 0.0 0.0], [0.75 0.0 0.0; 0.75 0.0 1.0; 1.0 0.0 1.0; 1.0 0.0 0.0], [0.125, 0.0, 0.5], [0.75, 0.0, 0.0], 0.0025, [0.000208333 0.0 … 0.0 0.0; 0.0 0.000221354 … 0.0 0.0; … ; 0.0 0.0 … 0.0025 0.0; 0.0 0.0 … 0.0 0.0025], [0.000833333 0.0 … -0.00125 0.0; 0.0 0.000885417 … 0.0 -0.0003125; … ; -0.00125 0.0 … 0.0025 0.0; 0.0 -0.0003125 … 0.0 0.0025], [1.0 0.0 … 0.0 0.0; 0.0 1.0 … 0.0 0.0; … ; -0.5 0.0 … 1.0 0.0; 0.0 -0.125 … 0.0 1.0], [1.0 0.0 … 0.0 0.0; 0.0 1.0 … 0.0 0.0; … ; 0.0 0.0 … 1.0 0.0; 0.0 0.75 … 0.0 1.0], [1.0 0.0 … 0.0 0.0; 0.0 1.0 … 0.0 0.0; … ; 0.0 0.0 … 1.0 0.0; 0.0 -0.25 … 0.0 1.0], [0.0, 0.0, 0.0, 0.0, 0.0, 0.0], [1.0, 1.0, 1.0, 1.0, 1.0, 1.0], [0.0, 0.0, 0.0, 0.0, 0.0, 0.0], Float64[], Array{Float64}(0,0))], ConstructSystem.SingleJoint[joint_id = 1, joint_type = revolute, pid = 0\n",
       "shape1 = [0.0, 0.0, 0.0, 0.0, 0.0, 0.0], shape2 = [0.0, 0.0, 0.0, 0.0, 0.0, 0.0]\n",
       "nudof = 1, ncdof = 5, np = 0, na = 1\n",
       "udof = [3], cdof = [1, 2, 4, 5, 6]\n",
       "udof_p = Int64[], udof_a = [3]\n",
       "i_udof_p = Int64[], i_udof_a = [1]\n",
       "udofmap = [1]\n",
       "cdofmap_HERK = [1, 2, 3, 4, 5, 6]\n",
       "nudof_HERK = 0, ncdof_HERK = 6\n",
       "udof_HERK = Int64[], cdof_HERK = [1, 2, 3, 4, 5, 6]\n",
       "S = [0; 0; 1; 0; 0; 0]\n",
       "T = [1 0 0 0 0; 0 1 0 0 0; 0 0 0 0 0; 0 0 1 0 0; 0 0 0 1 0; 0 0 0 0 1]\n",
       "T_HERK = [1 0 0 0 0 0; 0 1 0 0 0 0; 0 0 1 0 0 0; 0 0 0 1 0 0; 0 0 0 0 1 0; 0 0 0 0 0 1]\n",
       "joint_dof = ConfigDataType.Dof[ConfigDataType.Dof(3, \"active\", 0.0, 0.0, ConfigDataType.Motions(\"oscillatory\", [0.785398, 1.0, 0.0]))]\n",
       "Xj = [1.0 0.0 0.0 0.0 0.0 0.0; 0.0 1.0 0.0 0.0 0.0 0.0; 0.0 0.0 1.0 0.0 0.0 0.0; 0.0 0.0 0.0 1.0 0.0 0.0; 0.0 0.0 0.0 0.0 1.0 0.0; 0.0 0.0 0.0 0.0 0.0 1.0]\n",
       "Xp_to_j = [1.0 0.0 0.0 0.0 0.0 0.0; 0.0 1.0 0.0 0.0 0.0 0.0; 0.0 0.0 1.0 0.0 0.0 0.0; 0.0 0.0 0.0 1.0 0.0 0.0; 0.0 0.0 0.0 0.0 1.0 0.0; 0.0 0.0 0.0 0.0 0.0 1.0]\n",
       "Xj_to_ch = [1.0 0.0 0.0 0.0 0.0 0.0; 0.0 1.0 0.0 0.0 0.0 0.0; 0.0 0.0 1.0 0.0 0.0 0.0; 0.0 0.0 0.0 1.0 0.0 0.0; 0.0 0.0 0.0 0.0 1.0 0.0; 0.0 0.0 0.0 0.0 0.0 1.0]\n",
       "qJ = [0.0, 0.0, 0.0, 0.0, 0.0, 0.0]\n",
       "vJ = [1.0, 1.0, 1.0, 1.0, 1.0, 1.0]\n",
       "cJ = [0.0, 0.0, 0.0, 0.0, 0.0, 0.0]\n",
       ", joint_id = 2, joint_type = revolute, pid = 1\n",
       "shape1 = [0.0, 0.0, 0.0, 0.25, 0.0, 0.0], shape2 = [0.0, 0.0, 0.0, 0.0, 0.0, 0.0]\n",
       "nudof = 1, ncdof = 5, np = 1, na = 0\n",
       "udof = [3], cdof = [1, 2, 4, 5, 6]\n",
       "udof_p = [3], udof_a = Int64[]\n",
       "i_udof_p = [1], i_udof_a = Int64[]\n",
       "udofmap = [2]\n",
       "cdofmap_HERK = [7, 8, 9, 10, 11]\n",
       "nudof_HERK = 1, ncdof_HERK = 5\n",
       "udof_HERK = [3], cdof_HERK = [1, 2, 4, 5, 6]\n",
       "S = [0; 0; 1; 0; 0; 0]\n",
       "T = [1 0 0 0 0; 0 1 0 0 0; 0 0 0 0 0; 0 0 1 0 0; 0 0 0 1 0; 0 0 0 0 1]\n",
       "T_HERK = [1 0 0 0 0; 0 1 0 0 0; 0 0 0 0 0; 0 0 1 0 0; 0 0 0 1 0; 0 0 0 0 1]\n",
       "joint_dof = ConfigDataType.Dof[ConfigDataType.Dof(3, \"passive\", 0.03, 0.01, ConfigDataType.Motions(\"\", Float64[]))]\n",
       "Xj = [1.0 0.0 0.0 0.0 0.0 0.0; 0.0 1.0 0.0 0.0 0.0 0.0; 0.0 0.0 1.0 0.0 0.0 0.0; 0.0 0.0 0.0 1.0 0.0 0.0; 0.0 0.0 0.0 0.0 1.0 0.0; 0.0 0.0 0.0 0.0 0.0 1.0]\n",
       "Xp_to_j = [1.0 0.0 0.0 0.0 0.0 0.0; 0.0 1.0 0.0 0.0 0.0 0.0; 0.0 0.0 1.0 0.0 0.0 0.0; 0.0 0.0 0.0 1.0 0.0 0.0; 0.0 0.0 0.25 0.0 1.0 0.0; 0.0 -0.25 0.0 0.0 0.0 1.0]\n",
       "Xj_to_ch = [1.0 0.0 0.0 0.0 0.0 0.0; 0.0 1.0 0.0 0.0 0.0 0.0; 0.0 0.0 1.0 0.0 0.0 0.0; 0.0 0.0 0.0 1.0 0.0 0.0; 0.0 0.0 0.0 0.0 1.0 0.0; 0.0 0.0 0.0 0.0 0.0 1.0]\n",
       "qJ = [0.0, 0.0, 0.0, 0.0, 0.0, 0.0]\n",
       "vJ = [0.0, 0.0, 0.0, 0.0, -0.25, 0.25]\n",
       "cJ = [0.0, 0.0, 0.0, 0.0, 0.0, 0.0]\n",
       ", joint_id = 3, joint_type = revolute, pid = 2\n",
       "shape1 = [0.0, 0.0, 0.0, 0.25, 0.0, 0.0], shape2 = [0.0, 0.0, 0.0, 0.0, 0.0, 0.0]\n",
       "nudof = 1, ncdof = 5, np = 1, na = 0\n",
       "udof = [3], cdof = [1, 2, 4, 5, 6]\n",
       "udof_p = [3], udof_a = Int64[]\n",
       "i_udof_p = [1], i_udof_a = Int64[]\n",
       "udofmap = [3]\n",
       "cdofmap_HERK = [12, 13, 14, 15, 16]\n",
       "nudof_HERK = 1, ncdof_HERK = 5\n",
       "udof_HERK = [3], cdof_HERK = [1, 2, 4, 5, 6]\n",
       "S = [0; 0; 1; 0; 0; 0]\n",
       "T = [1 0 0 0 0; 0 1 0 0 0; 0 0 0 0 0; 0 0 1 0 0; 0 0 0 1 0; 0 0 0 0 1]\n",
       "T_HERK = [1 0 0 0 0; 0 1 0 0 0; 0 0 0 0 0; 0 0 1 0 0; 0 0 0 1 0; 0 0 0 0 1]\n",
       "joint_dof = ConfigDataType.Dof[ConfigDataType.Dof(3, \"passive\", 0.03, 0.01, ConfigDataType.Motions(\"\", Float64[]))]\n",
       "Xj = [1.0 0.0 0.0 0.0 0.0 0.0; 0.0 1.0 0.0 0.0 0.0 0.0; 0.0 0.0 1.0 0.0 0.0 0.0; 0.0 0.0 0.0 1.0 0.0 0.0; 0.0 0.0 0.0 0.0 1.0 0.0; 0.0 0.0 0.0 0.0 0.0 1.0]\n",
       "Xp_to_j = [1.0 0.0 0.0 0.0 0.0 0.0; 0.0 1.0 0.0 0.0 0.0 0.0; 0.0 0.0 1.0 0.0 0.0 0.0; 0.0 0.0 0.0 1.0 0.0 0.0; 0.0 0.0 0.25 0.0 1.0 0.0; 0.0 -0.25 0.0 0.0 0.0 1.0]\n",
       "Xj_to_ch = [1.0 0.0 0.0 0.0 0.0 0.0; 0.0 1.0 0.0 0.0 0.0 0.0; 0.0 0.0 1.0 0.0 0.0 0.0; 0.0 0.0 0.0 1.0 0.0 0.0; 0.0 0.0 0.0 0.0 1.0 0.0; 0.0 0.0 0.0 0.0 0.0 1.0]\n",
       "qJ = [0.0, 0.0, 0.0, 0.0, 0.0, 0.0]\n",
       "vJ = [0.0, 0.0, 0.0, 0.0, -0.25, 0.25]\n",
       "cJ = [0.0, 0.0, 0.0, 0.0, 0.0, 0.0]\n",
       ", joint_id = 4, joint_type = revolute, pid = 3\n",
       "shape1 = [0.0, 0.0, 0.0, 0.25, 0.0, 0.0], shape2 = [0.0, 0.0, 0.0, 0.0, 0.0, 0.0]\n",
       "nudof = 1, ncdof = 5, np = 1, na = 0\n",
       "udof = [3], cdof = [1, 2, 4, 5, 6]\n",
       "udof_p = [3], udof_a = Int64[]\n",
       "i_udof_p = [1], i_udof_a = Int64[]\n",
       "udofmap = [4]\n",
       "cdofmap_HERK = [17, 18, 19, 20, 21]\n",
       "nudof_HERK = 1, ncdof_HERK = 5\n",
       "udof_HERK = [3], cdof_HERK = [1, 2, 4, 5, 6]\n",
       "S = [0; 0; 1; 0; 0; 0]\n",
       "T = [1 0 0 0 0; 0 1 0 0 0; 0 0 0 0 0; 0 0 1 0 0; 0 0 0 1 0; 0 0 0 0 1]\n",
       "T_HERK = [1 0 0 0 0; 0 1 0 0 0; 0 0 0 0 0; 0 0 1 0 0; 0 0 0 1 0; 0 0 0 0 1]\n",
       "joint_dof = ConfigDataType.Dof[ConfigDataType.Dof(3, \"passive\", 0.03, 0.01, ConfigDataType.Motions(\"\", Float64[]))]\n",
       "Xj = [1.0 0.0 0.0 0.0 0.0 0.0; 0.0 1.0 0.0 0.0 0.0 0.0; 0.0 0.0 1.0 0.0 0.0 0.0; 0.0 0.0 0.0 1.0 0.0 0.0; 0.0 0.0 0.0 0.0 1.0 0.0; 0.0 0.0 0.0 0.0 0.0 1.0]\n",
       "Xp_to_j = [1.0 0.0 0.0 0.0 0.0 0.0; 0.0 1.0 0.0 0.0 0.0 0.0; 0.0 0.0 1.0 0.0 0.0 0.0; 0.0 0.0 0.0 1.0 0.0 0.0; 0.0 0.0 0.25 0.0 1.0 0.0; 0.0 -0.25 0.0 0.0 0.0 1.0]\n",
       "Xj_to_ch = [1.0 0.0 0.0 0.0 0.0 0.0; 0.0 1.0 0.0 0.0 0.0 0.0; 0.0 0.0 1.0 0.0 0.0 0.0; 0.0 0.0 0.0 1.0 0.0 0.0; 0.0 0.0 0.0 0.0 1.0 0.0; 0.0 0.0 0.0 0.0 0.0 1.0]\n",
       "qJ = [0.0, 0.0, 0.0, 0.0, 0.0, 0.0]\n",
       "vJ = [0.0, 0.0, 0.0, 0.0, -0.25, 0.25]\n",
       "cJ = [0.0, 0.0, 0.0, 0.0, 0.0, 0.0]\n",
       "], ndim = 2, njoint = 4, nbody = 4\n",
       "ndof = 24, nudof = 4, ncdof = 20, np = 3, na = 1\n",
       "udof = [3, 9, 15, 21]\n",
       "udof_p = [9, 15, 21]\n",
       "udof_a = [3]\n",
       "nudof_HERK = 3, ncdof_HERK = 21\n",
       "udof_HERK = [9, 15, 21]\n",
       ", [1.0, 1.0, 1.0, 1.0, 1.0, 1.0, 0.0, 0.0, 0.0, 0.0  …  0.0, 0.0, -0.25, 0.25, 0.0, 0.0, 0.0, 0.0, -0.25, 0.25])"
      ]
     },
     "execution_count": 8,
     "metadata": {},
     "output_type": "execute_result"
    }
   ],
   "source": [
    "# test function UpdatePosition!\n",
    "bodys, joints, system = UpdatePosition!(bodys, joints, system)\n",
    "\n",
    "# test function UpdateVelocity!\n",
    "for i = 1:nbody\n",
    "    @assert length(bodys[i].v) == 6\n",
    "    @assert length(bodys[i].Xp_to_b) == 36\n",
    "    @assert length(joints[i].vJ) == 6\n",
    "end\n",
    "v = ones(Float64,24)\n",
    "bodys, joints, system, vJ = UpdateVelocity!(bodys, joints, system, v)\n",
    "\n",
    "# do some output\n",
    "bodys[1]\n",
    "bodys[2]\n",
    "joints[1]"
   ]
  }
 ],
 "metadata": {
  "kernelspec": {
   "display_name": "Julia 0.6.2",
   "language": "julia",
   "name": "julia-0.6"
  },
  "language_info": {
   "file_extension": ".jl",
   "mimetype": "application/julia",
   "name": "julia",
   "version": "0.6.2"
  }
 },
 "nbformat": 4,
 "nbformat_minor": 2
}
