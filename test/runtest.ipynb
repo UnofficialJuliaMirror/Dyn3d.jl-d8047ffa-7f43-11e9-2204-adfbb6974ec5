{
 "cells": [
  {
   "cell_type": "code",
   "execution_count": 1,
   "metadata": {
    "collapsed": false,
    "scrolled": true
   },
   "outputs": [
    {
     "data": {
      "text/html": [
       "1 method for generic function <b>AddBody</b>:<ul><li> AddBody(b::<b>ConfigDataType.ConfigBody</b>) at <a href=\"file:///media/ruizhi/Seagate Expansion Drive/Research/dyn3d/src/ConstructSystem.jl\" target=\"_blank\">/media/ruizhi/Seagate Expansion Drive/Research/dyn3d/src/ConstructSystem.jl:78</a></li> </ul>"
      ],
      "text/plain": [
       "# 1 method for generic function \"AddBody\":\n",
       "AddBody(b::ConfigDataType.ConfigBody) in ConstructSystem at /media/ruizhi/Seagate Expansion Drive/Research/dyn3d/src/ConstructSystem.jl:78"
      ]
     },
     "execution_count": 1,
     "metadata": {},
     "output_type": "execute_result"
    }
   ],
   "source": [
    "# test ConstructSystem\n",
    "\n",
    "# include should only be used once, serves as copy paste code purpose\n",
    "# using should be used whenever contents in this module is called\n",
    "# in individual modules, using other modules should consider hierarcy, \n",
    "#    which is also related to how files are included in MAIN.\n",
    "\n",
    "include(\"../src/Config_files/ConfigDataType.jl\")\n",
    "include(\"../src/ConstructSystem.jl\")\n",
    "using ConstructSystem\n",
    "using ConfigDataType\n",
    "\n",
    "methods(AddBody)"
   ]
  },
  {
   "cell_type": "code",
   "execution_count": 2,
   "metadata": {
    "collapsed": false,
    "scrolled": true
   },
   "outputs": [
    {
     "data": {
      "text/plain": [
       " nbody=3\n"
      ]
     },
     "execution_count": 2,
     "metadata": {},
     "output_type": "execute_result"
    }
   ],
   "source": [
    "# body = config_body(4,4,[1. 2. 3.;4. 5. 6.],1.)\n",
    "config_b = ConfigBody(4)\n",
    "config_b = let\n",
    "    ConfigBody(3) end"
   ]
  },
  {
   "cell_type": "code",
   "execution_count": 3,
   "metadata": {
    "collapsed": false,
    "scrolled": true
   },
   "outputs": [
    {
     "data": {
      "text/plain": [
       "body_id = 1, parent_id = 0, nchild = 2, child_id = [2, 3]\n",
       "nverts = 0, verts = Array{Float64}(0,0)\n",
       "verts_i = Array{Float64}(0,0)\n",
       "x_c = Float64[], x_0 = Float64[]\n",
       "mass = 0.0\n",
       "inertia_c = Array{Float64}(0,0)\n",
       "inertia_0 = Array{Float64}(0,0)\n",
       "Xb_to_c = Array{Float64}(0,0)\n",
       "Xb_to_i = Array{Float64}(0,0)\n",
       "Xp_to_b = Array{Float64}(0,0)\n",
       "q = Float64[], v = Float64[], c = Float64[]\n"
      ]
     },
     "execution_count": 3,
     "metadata": {},
     "output_type": "execute_result"
    }
   ],
   "source": [
    "body = Vector{SingleBody}(4) # body system\n",
    "body[1] = SingleBody() # initialize single body structure\n",
    "body[1].id = 1\n",
    "body[1].pid = 0\n",
    "body[1].nchild = 2\n",
    "body[1].chid = [2,3]\n",
    "\n",
    "body[1]"
   ]
  }
 ],
 "metadata": {
  "kernelspec": {
   "display_name": "Julia 0.6.2",
   "language": "julia",
   "name": "julia-0.6"
  },
  "language_info": {
   "file_extension": ".jl",
   "mimetype": "application/julia",
   "name": "julia",
   "version": "0.6.2"
  }
 },
 "nbformat": 4,
 "nbformat_minor": 2
}
