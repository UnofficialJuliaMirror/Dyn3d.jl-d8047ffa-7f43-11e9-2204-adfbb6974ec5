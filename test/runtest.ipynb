{
 "cells": [
  {
   "cell_type": "code",
   "execution_count": 1,
   "metadata": {
    "collapsed": false,
    "scrolled": true
   },
   "outputs": [],
   "source": [
    "# include should only be used once, serves as copy paste code purpose\n",
    "# using should be used whenever contents in this module is called\n",
    "# in individual modules, using other modules should consider hierarcy, \n",
    "# which is also related to how files are included in MAIN.\n",
    "\n",
    "include(\"../src/Config_files/ConfigDataType.jl\")\n",
    "include(\"../src/SpatialAlgebra.jl\")\n",
    "include(\"../src/ConstructSystem.jl\")\n",
    "include(\"../src/UpdateSystem.jl\")\n",
    "include(\"../src/HERK.jl\")\n",
    "\n",
    "using ConfigDataType\n",
    "using SpatialAlgebra\n",
    "using ConstructSystem\n",
    "using UpdateSystem\n",
    "using HERK"
   ]
  },
  {
   "cell_type": "code",
   "execution_count": 2,
   "metadata": {
    "collapsed": false,
    "scrolled": true
   },
   "outputs": [
    {
     "data": {
      "text/plain": [
       " nbody=4\n",
       " nverts=4\n",
       " verts=[0.0 0.0; 1.0 0.0; 1.0 0.25; 0.0 0.25]\n",
       " ρ=0.01\n"
      ]
     },
     "execution_count": 2,
     "metadata": {},
     "output_type": "execute_result"
    }
   ],
   "source": [
    "# body = config_body(4,4,[1. 2. 3.;4. 5. 6.],1.)\n",
    "nbody = 4\n",
    "ndim = 2\n",
    "config_body = ConfigBody(nbody)"
   ]
  },
  {
   "cell_type": "code",
   "execution_count": 3,
   "metadata": {
    "collapsed": false
   },
   "outputs": [],
   "source": [
    "njoint = nbody\n",
    "config_joints = Vector{ConfigJoint}(njoint)\n",
    "\n",
    "# set the first active joint\n",
    "qJ_init = \n",
    "active_motion = Motions(\"oscillatory\", [π/4, 1., 0.])\n",
    "active_dof = Dof(3, \"active\", 0., 0., active_motion)\n",
    "config_joints[1] = ConfigJoint(njoint, 1, \"revolute\",\n",
    "                               zeros(Float64,6), zeros(Float64,6),\n",
    "                               0, [active_dof], zeros(Float64,6))\n",
    "\n",
    "# set the rest passive joint\n",
    "for i = 2:njoint\n",
    "#     config_joints[i] = deepcopy(config_joints[1])\n",
    "    config_joints[i] = ConfigJoint(njoint, \"revolute\")\n",
    "    config_joints[i].body1 = i-1\n",
    "end"
   ]
  },
  {
   "cell_type": "code",
   "execution_count": 4,
   "metadata": {
    "collapsed": false,
    "scrolled": false
   },
   "outputs": [],
   "source": [
    "bodys = Vector{SingleBody}(nbody) # body system\n",
    "for i = 1:nbody\n",
    "    bodys[i] = AddBody(i, config_body) # add body\n",
    "end"
   ]
  },
  {
   "cell_type": "code",
   "execution_count": 5,
   "metadata": {
    "collapsed": false
   },
   "outputs": [],
   "source": [
    "joints = Vector{SingleJoint}(njoint) # joint system\n",
    "for i = 1:njoint\n",
    "    joints[i] = AddJoint(i, config_joints[i]) # add joint\n",
    "end"
   ]
  },
  {
   "cell_type": "code",
   "execution_count": 6,
   "metadata": {
    "collapsed": false
   },
   "outputs": [
    {
     "data": {
      "text/plain": [
       "ndim = 2, njoint = 4, nbody = 4\n",
       "ndof = 24, nudof = 4, ncdof = 20, np = 3, na = 1\n",
       "udof = [3, 9, 15, 21]\n",
       "udof_p = [9, 15, 21]\n",
       "udof_a = [3]\n",
       "nudof_HERK = 3, ncdof_HERK = 21\n",
       "udof_HERK = [9, 15, 21]\n",
       "gravity = [0.0, 0.0, 0.0]\n",
       "kinmap = [1 1]\n"
      ]
     },
     "execution_count": 6,
     "metadata": {},
     "output_type": "execute_result"
    }
   ],
   "source": [
    "# assemble system to a chain\n",
    "gravity = [0., 0., 0., ] # [0., -9.8, 0., ]\n",
    "system = System(ndim, nbody, njoint, gravity)\n",
    "bodys, joints, system = AssembleSystem!(bodys, joints, system)\n",
    "system"
   ]
  },
  {
   "cell_type": "code",
   "execution_count": 7,
   "metadata": {
    "collapsed": false,
    "scrolled": true
   },
   "outputs": [
    {
     "data": {
      "text/plain": [
       "joint_id = 1, joint_type = revolute, pid = 0\n",
       "shape1 = [0.0, 0.0, 0.0, 0.0, 0.0, 0.0], shape2 = [0.0, 0.0, 0.0, 0.0, 0.0, 0.0]\n",
       "nudof = 1, ncdof = 5, np = 0, na = 1\n",
       "udof = [3], cdof = [1, 2, 4, 5, 6]\n",
       "udof_p = Int64[], udof_a = [3]\n",
       "i_udof_p = Int64[], i_udof_a = [1]\n",
       "udofmap = [1]\n",
       "cdofmap_HERK = [1, 2, 3, 4, 5, 6]\n",
       "nudof_HERK = 0, ncdof_HERK = 6\n",
       "udof_HERK = Int64[], cdof_HERK = [1, 2, 3, 4, 5, 6]\n",
       "S = [0; 0; 1; 0; 0; 0]\n",
       "T = [1 0 0 0 0; 0 1 0 0 0; 0 0 0 0 0; 0 0 1 0 0; 0 0 0 1 0; 0 0 0 0 1]\n",
       "T_HERK = [1 0 0 0 0 0; 0 1 0 0 0 0; 0 0 1 0 0 0; 0 0 0 1 0 0; 0 0 0 0 1 0; 0 0 0 0 0 1]\n",
       "joint_dof = ConfigDataType.Dof[ConfigDataType.Dof(3, \"active\", 0.0, 0.0, ConfigDataType.Motions(\"oscillatory\", [0.785398, 1.0, 0.0]))]\n",
       "Xj = [1.0 0.0 0.0 0.0 0.0 0.0; 0.0 1.0 0.0 0.0 0.0 0.0; 0.0 0.0 1.0 0.0 0.0 0.0; 0.0 0.0 0.0 1.0 0.0 0.0; 0.0 0.0 0.0 0.0 1.0 0.0; 0.0 0.0 0.0 0.0 0.0 1.0]\n",
       "Xp_to_j = [1.0 0.0 0.0 0.0 0.0 0.0; 0.0 1.0 0.0 0.0 0.0 0.0; 0.0 0.0 1.0 0.0 0.0 0.0; 0.0 0.0 0.0 1.0 0.0 0.0; 0.0 0.0 0.0 0.0 1.0 0.0; 0.0 0.0 0.0 0.0 0.0 1.0]\n",
       "Xj_to_ch = [1.0 0.0 0.0 0.0 0.0 0.0; 0.0 1.0 0.0 0.0 0.0 0.0; 0.0 0.0 1.0 0.0 0.0 0.0; 0.0 0.0 0.0 1.0 0.0 0.0; 0.0 0.0 0.0 0.0 1.0 0.0; 0.0 0.0 0.0 0.0 0.0 1.0]\n",
       "qJ = [0.0, 0.0, 0.0, 0.0, 0.0, 0.0]\n",
       "vJ = [1.0, 1.0, 1.0, 1.0, 1.0, 1.0]\n",
       "cJ = [0.0, 0.0, 0.0, 0.0, 0.0, 0.0]\n"
      ]
     },
     "execution_count": 7,
     "metadata": {},
     "output_type": "execute_result"
    }
   ],
   "source": [
    "# test function UpdatePosition!\n",
    "bodys, joints, system = UpdatePosition!(bodys, joints, system)\n",
    "\n",
    "# test function UpdateVelocity!\n",
    "for i = 1:nbody\n",
    "    @assert length(bodys[i].v) == 6\n",
    "    @assert length(bodys[i].Xp_to_b) == 36\n",
    "    @assert length(joints[i].vJ) == 6\n",
    "end\n",
    "v = ones(Float64,24)\n",
    "bodys, joints, system, vJ = UpdateVelocity!(bodys, joints, system, v)\n",
    "\n",
    "# do some output\n",
    "bodys[1]\n",
    "bodys[2]\n",
    "joints[1]"
   ]
  },
  {
   "cell_type": "code",
   "execution_count": 8,
   "metadata": {
    "collapsed": false,
    "scrolled": true
   },
   "outputs": [
    {
     "data": {
      "text/plain": [
       "([0.0 0.0 0.0; 0.5 0.0 0.0; 0.57735 0.42265 0.0; 0.788675 -0.57735 0.788675], [0.0, 0.5, 1.0, 1.0])"
      ]
     },
     "execution_count": 8,
     "metadata": {},
     "output_type": "execute_result"
    }
   ],
   "source": [
    "HERK.HERKMain(0,0,0,0,0,0,0,0,0)"
   ]
  },
  {
   "cell_type": "code",
   "execution_count": 9,
   "metadata": {
    "collapsed": false,
    "scrolled": true
   },
   "outputs": [
    {
     "data": {
      "text/plain": [
       "ndim = 2, njoint = 4, nbody = 4\n",
       "ndof = 24, nudof = 4, ncdof = 20, np = 3, na = 1\n",
       "udof = [3, 9, 15, 21]\n",
       "udof_p = [9, 15, 21]\n",
       "udof_a = [3]\n",
       "nudof_HERK = 3, ncdof_HERK = 21\n",
       "udof_HERK = [9, 15, 21]\n",
       "gravity = [0.0, 0.0, 0.0]\n",
       "kinmap = [1 1]\n"
      ]
     },
     "execution_count": 9,
     "metadata": {},
     "output_type": "execute_result"
    }
   ],
   "source": [
    "system"
   ]
  }
 ],
 "metadata": {
  "kernelspec": {
   "display_name": "Julia 0.6.2",
   "language": "julia",
   "name": "julia-0.6"
  },
  "language_info": {
   "file_extension": ".jl",
   "mimetype": "application/julia",
   "name": "julia",
   "version": "0.6.2"
  }
 },
 "nbformat": 4,
 "nbformat_minor": 2
}
