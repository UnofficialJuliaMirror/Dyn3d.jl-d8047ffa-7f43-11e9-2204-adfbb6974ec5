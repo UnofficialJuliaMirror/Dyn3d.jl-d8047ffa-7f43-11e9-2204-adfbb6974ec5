{
 "cells": [
  {
   "cell_type": "code",
   "execution_count": 2,
   "metadata": {
    "collapsed": false,
    "scrolled": true
   },
   "outputs": [
    {
     "ename": "LoadError",
     "evalue": "LoadError: \u001b[91msyntax: \"abstract type\" at /media/ruizhi/Seagate Expansion Drive/Research/dyn3d/src/Config_files/ConfigDataType.jl:23 expected \"end\", got \"with\"\u001b[39m\nwhile loading /media/ruizhi/Seagate Expansion Drive/Research/dyn3d/src/Config_files/ConfigDataType.jl, in expression starting on line 23",
     "output_type": "error",
     "traceback": [
      "LoadError: \u001b[91msyntax: \"abstract type\" at /media/ruizhi/Seagate Expansion Drive/Research/dyn3d/src/Config_files/ConfigDataType.jl:23 expected \"end\", got \"with\"\u001b[39m\nwhile loading /media/ruizhi/Seagate Expansion Drive/Research/dyn3d/src/Config_files/ConfigDataType.jl, in expression starting on line 23",
      "",
      "Stacktrace:",
      " [1] \u001b[1minclude_from_node1\u001b[22m\u001b[22m\u001b[1m(\u001b[22m\u001b[22m::String\u001b[1m)\u001b[22m\u001b[22m at \u001b[1m./loading.jl:576\u001b[22m\u001b[22m",
      " [2] \u001b[1minclude\u001b[22m\u001b[22m\u001b[1m(\u001b[22m\u001b[22m::String\u001b[1m)\u001b[22m\u001b[22m at \u001b[1m./sysimg.jl:14\u001b[22m\u001b[22m",
      " [3] \u001b[1minclude_string\u001b[22m\u001b[22m\u001b[1m(\u001b[22m\u001b[22m::String, ::String\u001b[1m)\u001b[22m\u001b[22m at \u001b[1m./loading.jl:522\u001b[22m\u001b[22m"
     ]
    }
   ],
   "source": [
    "# test ConstructSystem\n",
    "\n",
    "# include should only be used once, serves as copy paste code purpose\n",
    "# using should be used whenever contents in this module is called\n",
    "# in individual modules, using other modules should consider hierarcy, \n",
    "#    which is also related to how files are included in MAIN.\n",
    "\n",
    "include(\"../src/Config_files/ConfigDataType.jl\")\n",
    "# using ConfigDataType\n",
    "include(\"../src/ConstructSystem.jl\")\n",
    "using ConstructSystem\n",
    "\n",
    "methods(AddBody)"
   ]
  },
  {
   "cell_type": "code",
   "execution_count": null,
   "metadata": {
    "collapsed": false
   },
   "outputs": [],
   "source": [
    "include(\"../src/Config_files/ConfigDataType.jl\")\n",
    "using ConfigDataType\n",
    "\n",
    "body = config_body(4,4,[1. 2. 3.;4. 5. 6.],1.)"
   ]
  }
 ],
 "metadata": {
  "kernelspec": {
   "display_name": "Julia 0.6.2",
   "language": "julia",
   "name": "julia-0.6"
  },
  "language_info": {
   "file_extension": ".jl",
   "mimetype": "application/julia",
   "name": "julia",
   "version": "0.6.2"
  }
 },
 "nbformat": 4,
 "nbformat_minor": 2
}
