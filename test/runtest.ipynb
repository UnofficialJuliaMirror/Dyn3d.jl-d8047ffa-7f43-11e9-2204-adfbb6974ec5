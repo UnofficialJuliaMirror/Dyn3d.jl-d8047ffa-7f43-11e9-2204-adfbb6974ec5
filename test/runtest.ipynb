{
 "cells": [
  {
   "cell_type": "code",
   "execution_count": 9,
   "metadata": {
    "collapsed": false
   },
   "outputs": [
    {
     "name": "stderr",
     "output_type": "stream",
     "text": [
      "WARNING: replacing module Dyn3d\n",
      "WARNING: ignoring conflicting import of Dyn3d.ConfigBody into Main\n",
      "WARNING: ignoring conflicting import of Dyn3d.ConfigJoint into Main\n",
      "WARNING: ignoring conflicting import of Dyn3d.SingleBody into Main\n",
      "WARNING: ignoring conflicting import of Dyn3d.SingleJoint into Main\n",
      "WARNING: ignoring conflicting import of Dyn3d.System into Main\n",
      "WARNING: ignoring conflicting import of Dyn3d.Motions into Main\n",
      "WARNING: ignoring conflicting import of Dyn3d.Dof into Main\n",
      "WARNING: ignoring conflicting import of Dyn3d.NumParams into Main\n",
      "WARNING: ignoring conflicting import of Dyn3d.Soln into Main\n",
      "WARNING: ignoring conflicting import of Dyn3d.AddBody into Main\n",
      "WARNING: ignoring conflicting import of Dyn3d.AddJoint into Main\n",
      "WARNING: ignoring conflicting import of Dyn3d.AssembleSystem! into Main\n",
      "WARNING: ignoring conflicting import of Dyn3d.InitSystem! into Main\n",
      "WARNING: ignoring conflicting import of Dyn3d.HERK! into Main\n",
      "\u001b[1m\u001b[36mINFO: \u001b[39m\u001b[22m\u001b[36mPrecompiling module BenchmarkTools.\n",
      "\u001b[39m"
     ]
    }
   ],
   "source": [
    "include(\"../src/Dyn3d.jl\")\n",
    "import Dyn3d: ConfigBody, ConfigJoint, SingleBody, SingleJoint, \n",
    "              System, Motions, Dof, NumParams, Soln,\n",
    "              AddBody, AddJoint, AssembleSystem!, InitSystem!, HERK!\n",
    "\n",
    "using BenchmarkTools, Compat"
   ]
  },
  {
   "cell_type": "code",
   "execution_count": 2,
   "metadata": {
    "collapsed": false,
    "scrolled": true
   },
   "outputs": [],
   "source": [
    "# choose config files \n",
    "include(\"../src/Config_files/2dLinkobj.jl\")"
   ]
  },
  {
   "cell_type": "code",
   "execution_count": 3,
   "metadata": {
    "collapsed": false,
    "scrolled": false
   },
   "outputs": [
    {
     "data": {
      "text/plain": [
       "ndim = 2, njoint = 8, nbody = 8\n",
       "ndof = 48, nudof = 8, ncdof = 40, np = 7, na = 1\n",
       "udof = [3, 9, 15, 21, 27, 33, 39, 45]\n",
       "udof_p = [9, 15, 21, 27, 33, 39, 45]\n",
       "udof_a = [3]\n",
       "nudof_HERK = 7, ncdof_HERK = 41\n",
       "udof_HERK = [9, 15, 21, 27, 33, 39, 45]\n",
       "gravity = [0.0, 0.0, 0.0]\n",
       "kinmap = [1 1]\n"
      ]
     },
     "execution_count": 3,
     "metadata": {},
     "output_type": "execute_result"
    }
   ],
   "source": [
    "# add bodys\n",
    "bodys = Vector{SingleBody}(nbody) # body system\n",
    "for i = 1:nbody\n",
    "    bodys[i] = AddBody(i, config_body) # add body\n",
    "end\n",
    "\n",
    "# add joints\n",
    "joints = Vector{SingleJoint}(njoint) # joint system\n",
    "for i = 1:njoint\n",
    "    joints[i] = AddJoint(i, config_joints[i]) # add joint\n",
    "end\n",
    "\n",
    "# assemble system to a chain\n",
    "system = System(ndim, nbody, njoint, gravity, num_params)\n",
    "bodys, joints, system = AssembleSystem!(bodys, joints, system)\n",
    "system"
   ]
  },
  {
   "cell_type": "code",
   "execution_count": 4,
   "metadata": {
    "collapsed": false,
    "scrolled": true
   },
   "outputs": [
    {
     "data": {
      "text/plain": [
       "ndim = 2, njoint = 8, nbody = 8\n",
       "ndof = 48, nudof = 8, ncdof = 40, np = 7, na = 1\n",
       "udof = [3, 9, 15, 21, 27, 33, 39, 45]\n",
       "udof_p = [9, 15, 21, 27, 33, 39, 45]\n",
       "udof_a = [3]\n",
       "nudof_HERK = 7, ncdof_HERK = 41\n",
       "udof_HERK = [9, 15, 21, 27, 33, 39, 45]\n",
       "gravity = [0.0, 0.0, 0.0]\n",
       "kinmap = [1 1]\n"
      ]
     },
     "execution_count": 4,
     "metadata": {},
     "output_type": "execute_result"
    }
   ],
   "source": [
    "# # test function UpdatePosition!\n",
    "# bodys, joints, system = UpdatePosition!(bodys, joints, system)\n",
    "\n",
    "# # test function UpdateVelocity!\n",
    "# for i = 1:nbody\n",
    "#     @assert length(bodys[i].v) == 6\n",
    "#     @assert length(bodys[i].Xp_to_b) == 36\n",
    "#     @assert length(joints[i].vJ) == 6\n",
    "# end\n",
    "# v = ones(Float64,24)\n",
    "# bodys, joints, system, vJ = UpdateVelocity!(bodys, joints, system, v)\n",
    "\n",
    "\n",
    "# do some output\n",
    "# bodys[1]\n",
    "# bodys[2]\n",
    "# joints[1]\n",
    "system"
   ]
  },
  {
   "cell_type": "code",
   "execution_count": 5,
   "metadata": {
    "collapsed": false
   },
   "outputs": [
    {
     "data": {
      "text/plain": [
       "1-element Array{Dyn3d.ConstructSystem.Soln,1}:\n",
       " Dyn3d.ConstructSystem.Soln{Float64}(0.0, 0.001, [0.0, 0.0, 0.785398, 0.0, 0.0, 0.0, 0.0, 0.0, 0.0, 0.0  …  0.0, 0.0, 0.0, 0.0, 0.0, 0.0, 0.0, 0.0, 0.0, 0.0], [0.0, 0.0, 0.0, 0.0, 0.0, 0.0, 0.0, 0.0, 0.0, 0.0  …  0.0, 0.0, 0.0, 0.0, 0.0, 0.0, 0.0, 0.0, 0.0, 0.0], Float64[], Float64[])"
      ]
     },
     "execution_count": 5,
     "metadata": {},
     "output_type": "execute_result"
    }
   ],
   "source": [
    "# init system\n",
    "bodys, joints, system, soln = InitSystem!(bodys, joints, system)\n",
    "solns = (Soln)[]\n",
    "push!(solns, soln)"
   ]
  },
  {
   "cell_type": "code",
   "execution_count": 6,
   "metadata": {
    "collapsed": false,
    "scrolled": true
   },
   "outputs": [
    {
     "name": "stdout",
     "output_type": "stream",
     "text": [
      "itr = 1, t = 0.001, dt = 4.810511e-05\n",
      "itr = 301, t = 0.031, dt = 1.185335e-04\n",
      "itr = 601, t = 0.067, dt = 1.184831e-04\n",
      "itr = 901, t = 0.102, dt = 1.185315e-04\n",
      "itr = 1201, t = 0.138, dt = 1.186946e-04\n",
      "itr = 1501, t = 0.174, dt = 1.190095e-04\n",
      "itr = 1801, t = 0.209, dt = 1.194530e-04\n",
      "itr = 2101, t = 0.245, dt = 1.199602e-04\n",
      "itr = 2401, t = 0.281, dt = 1.204585e-04\n",
      "itr = 2701, t = 0.318, dt = 1.208801e-04\n",
      "itr = 3001, t = 0.354, dt = 1.211611e-04\n",
      "itr = 3301, t = 0.390, dt = 1.212460e-04\n",
      "itr = 3601, t = 0.427, dt = 1.211015e-04\n",
      "itr = 3901, t = 0.463, dt = 1.207293e-04\n",
      "itr = 4201, t = 0.499, dt = 1.201717e-04\n",
      "itr = 4501, t = 0.535, dt = 1.195145e-04\n",
      "itr = 4801, t = 0.571, dt = 1.188966e-04\n",
      "itr = 5101, t = 0.606, dt = 1.185137e-04\n",
      "itr = 5401, t = 0.642, dt = 1.185312e-04\n",
      "itr = 5701, t = 0.678, dt = 1.189132e-04\n",
      "itr = 6001, t = 0.713, dt = 1.195161e-04\n",
      "itr = 6301, t = 0.749, dt = 1.202684e-04\n",
      "itr = 6601, t = 0.785, dt = 1.211233e-04\n",
      "itr = 6901, t = 0.822, dt = 1.220071e-04\n",
      "itr = 7201, t = 0.859, dt = 1.228236e-04\n",
      "itr = 7501, t = 0.896, dt = 1.234722e-04\n",
      "itr = 7801, t = 0.933, dt = 1.238679e-04\n",
      "itr = 8101, t = 0.970, dt = 1.239583e-04\n",
      "itr = 8401, t = 1.007, dt = 1.237307e-04\n",
      "itr = 8701, t = 1.044, dt = 1.232062e-04\n",
      "itr = 9001, t = 1.081, dt = 1.224319e-04\n",
      "itr = 9301, t = 1.118, dt = 1.214789e-04\n",
      "itr = 9601, t = 1.154, dt = 1.204489e-04\n",
      "itr = 9901, t = 1.190, dt = 1.194841e-04\n",
      "itr = 10201, t = 1.225, dt = 1.187825e-04\n",
      "itr = 10501, t = 1.261, dt = 1.185388e-04\n",
      "itr = 10801, t = 1.297, dt = 1.187335e-04\n",
      "itr = 11101, t = 1.332, dt = 1.191384e-04\n",
      "itr = 11401, t = 1.368, dt = 1.195602e-04\n",
      "itr = 11701, t = 1.404, dt = 1.198963e-04\n",
      "itr = 12001, t = 1.440, dt = 1.200847e-04\n",
      "itr = 12301, t = 1.476, dt = 1.200859e-04\n",
      "itr = 12601, t = 1.512, dt = 1.198901e-04\n",
      "itr = 12901, t = 1.548, dt = 1.195313e-04\n",
      "itr = 13201, t = 1.584, dt = 1.190965e-04\n",
      "itr = 13501, t = 1.619, dt = 1.187225e-04\n",
      "itr = 13801, t = 1.655, dt = 1.185497e-04\n",
      "itr = 14101, t = 1.691, dt = 1.186334e-04\n",
      "itr = 14401, t = 1.726, dt = 1.189276e-04\n",
      "itr = 14701, t = 1.762, dt = 1.193669e-04\n",
      "itr = 15001, t = 1.798, dt = 1.198916e-04\n",
      "itr = 15301, t = 1.834, dt = 1.204291e-04\n",
      "itr = 15601, t = 1.870, dt = 1.208975e-04\n",
      "itr = 15901, t = 1.906, dt = 1.212215e-04\n",
      "itr = 16201, t = 1.943, dt = 1.213469e-04\n",
      "itr = 16501, t = 1.979, dt = 1.212494e-04\n",
      " 53.151878 seconds (94.10 M allocations: 24.249 GiB, 4.85% gc time)\n"
     ]
    }
   ],
   "source": [
    "# advance in time\n",
    "idx = 0\n",
    "@time begin\n",
    "while soln.t < tf\n",
    "    soln, bodys, joints, system = HERK!(soln, bodys, joints, system)\n",
    "    push!(solns, soln)\n",
    "    idx += 1\n",
    "    if mod(idx,500) == 1 @printf(\"itr = %d, t = %.3f, dt = %e\\n\", idx, soln.t, soln.dt) end\n",
    "end\n",
    "end"
   ]
  },
  {
   "cell_type": "code",
   "execution_count": 7,
   "metadata": {
    "collapsed": false,
    "scrolled": false
   },
   "outputs": [
    {
     "data": {
      "text/plain": [
       "41-element Array{Float64,1}:\n",
       " -0.0122689 \n",
       "  0.00255893\n",
       "  0.00554699\n",
       "  0.00450463\n",
       "  0.0244582 \n",
       "  0.0       \n",
       " -0.011203  \n",
       " -0.00182002\n",
       " -0.00394707\n",
       "  0.0218659 \n",
       "  0.0       \n",
       " -0.00752907\n",
       " -0.00355383\n",
       "  ⋮         \n",
       " -0.00348716\n",
       "  0.0       \n",
       "  0.00244941\n",
       "  0.00159814\n",
       "  0.00319678\n",
       " -0.00493285\n",
       "  0.0       \n",
       "  0.00193459\n",
       "  0.00135646\n",
       "  0.00271292\n",
       " -0.00386917\n",
       "  0.0       "
      ]
     },
     "execution_count": 7,
     "metadata": {},
     "output_type": "execute_result"
    }
   ],
   "source": [
    "# solns[end].t\n",
    "solns[end].qJ\n",
    "solns[end].v\n",
    "solns[end].v̇\n",
    "solns[end].λ"
   ]
  },
  {
   "cell_type": "code",
   "execution_count": 10,
   "metadata": {
    "collapsed": false,
    "scrolled": true
   },
   "outputs": [
    {
     "data": {
      "text/plain": [
       "BenchmarkTools.Trial: \n",
       "  memory estimate:  1.49 MiB\n",
       "  allocs estimate:  5601\n",
       "  --------------\n",
       "  minimum time:     2.488 ms (0.00% GC)\n",
       "  median time:      2.589 ms (0.00% GC)\n",
       "  mean time:        2.959 ms (4.38% GC)\n",
       "  maximum time:     30.140 ms (7.42% GC)\n",
       "  --------------\n",
       "  samples:          1685\n",
       "  evals/sample:     1"
      ]
     },
     "execution_count": 10,
     "metadata": {},
     "output_type": "execute_result"
    }
   ],
   "source": [
    "@benchmark HERK!(soln, bodys, joints, system)"
   ]
  },
  {
   "cell_type": "code",
   "execution_count": null,
   "metadata": {
    "collapsed": true
   },
   "outputs": [],
   "source": [
    "@benchmark HERK!(soln, bodys, joints, system)"
   ]
  }
 ],
 "metadata": {
  "kernelspec": {
   "display_name": "Julia 0.6.2",
   "language": "julia",
   "name": "julia-0.6"
  },
  "language_info": {
   "file_extension": ".jl",
   "mimetype": "application/julia",
   "name": "julia",
   "version": "0.6.2"
  }
 },
 "nbformat": 4,
 "nbformat_minor": 2
}
