{
 "cells": [
  {
   "cell_type": "code",
   "execution_count": 1,
   "metadata": {
    "collapsed": false,
    "scrolled": true
   },
   "outputs": [],
   "source": [
    "# include should only be used once, serves as copy paste code purpose\n",
    "# using should be used whenever contents in this module is called\n",
    "# in individual modules, using other modules should consider hierarcy, \n",
    "# which is also related to how files are included in MAIN.\n",
    "\n",
    "include(\"../src/Config_files/ConfigDataType.jl\")\n",
    "include(\"../src/SpatialAlgebra.jl\")\n",
    "include(\"../src/ConstructSystem.jl\")\n",
    "\n",
    "using SpatialAlgebra\n",
    "using ConstructSystem\n",
    "using ConfigDataType"
   ]
  },
  {
   "cell_type": "code",
   "execution_count": 2,
   "metadata": {
    "collapsed": false,
    "scrolled": true
   },
   "outputs": [
    {
     "data": {
      "text/plain": [
       " nbody=4\n",
       " nverts=4\n",
       " verts=[0.0 0.0; 1.0 0.0; 1.0 0.25; 0.0 0.25]\n",
       " ρ=0.01\n"
      ]
     },
     "execution_count": 2,
     "metadata": {},
     "output_type": "execute_result"
    }
   ],
   "source": [
    "# body = config_body(4,4,[1. 2. 3.;4. 5. 6.],1.)\n",
    "nbody = 4\n",
    "ndim = 2\n",
    "config_body = ConfigBody(nbody)"
   ]
  },
  {
   "cell_type": "code",
   "execution_count": 3,
   "metadata": {
    "collapsed": false
   },
   "outputs": [],
   "source": [
    "njoint = nbody\n",
    "config_joints = Vector{ConfigJoint}(njoint)\n",
    "\n",
    "# set the first active joint\n",
    "qJ_init = \n",
    "active_motion = Motions(\"oscillatory\", [π/4, 1., 0.])\n",
    "active_dof = Dof(3, \"active\", 0., 0., active_motion)\n",
    "config_joints[1] = ConfigJoint(njoint, 1, \"revolute\",\n",
    "                               zeros(Float64,6), zeros(Float64,6),\n",
    "                               0, [active_dof], zeros(Float64,6))\n",
    "\n",
    "# set the rest passive joint\n",
    "for i = 2:njoint\n",
    "    config_joints[i] = ConfigJoint(njoint, \"revolute\")\n",
    "    config_joints[i].body1 = i-1\n",
    "end"
   ]
  },
  {
   "cell_type": "code",
   "execution_count": 4,
   "metadata": {
    "collapsed": false,
    "scrolled": false
   },
   "outputs": [],
   "source": [
    "bodys = Vector{SingleBody}(nbody) # body system\n",
    "for i = 1:nbody\n",
    "    bodys[i] = SingleBody() # init struct\n",
    "    bodys[i] = AddBody!(i, config_body, bodys[i]) # add body\n",
    "end\n",
    "\n",
    "# bodys[2]"
   ]
  },
  {
   "cell_type": "code",
   "execution_count": 5,
   "metadata": {
    "collapsed": false
   },
   "outputs": [],
   "source": [
    "joints = Vector{SingleJoint}(njoint)\n",
    "for i = 1:njoint\n",
    "    joints[i] = SingleJoint() # init struct\n",
    "    joints[i] = AddJoint!(i, config_joints[i], joints[i]) # add joint\n",
    "end\n",
    "\n",
    "# joints[1]"
   ]
  },
  {
   "cell_type": "code",
   "execution_count": 6,
   "metadata": {
    "collapsed": false
   },
   "outputs": [
    {
     "data": {
      "text/plain": [
       "ndim = 2, njoint = 4, nbody = 4\n",
       "ndof = 24, nudof = 4, ncdof = 20, np = 3, na = 1\n",
       "udof = [3, 9, 15, 21]\n",
       "udof_p = [9, 15, 21]\n",
       "udof_a = [3]\n",
       "nudof_HERK = 3, ncdof_HERK = 21\n",
       "udof_HERK = [9, 15, 21]\n"
      ]
     },
     "execution_count": 6,
     "metadata": {},
     "output_type": "execute_result"
    }
   ],
   "source": [
    "system = System(ndim, nbody, njoint)\n",
    "bodys, joints, system = AssembleSystem!(bodys, joints, system)\n",
    "system"
   ]
  },
  {
   "cell_type": "code",
   "execution_count": 7,
   "metadata": {
    "collapsed": false
   },
   "outputs": [
    {
     "data": {
      "text/plain": [
       "body_id = 2, parent_id = 1, nchild = 1, chid = [3]\n",
       "nverts = 4, verts = [0.0 0.0 0.0; 0.0 0.0 1.0; 0.25 0.0 1.0; 0.25 0.0 0.0]\n",
       "verts_i = [0.0 0.0 0.0; 0.0 0.0 1.0; 0.25 0.0 1.0; 0.25 0.0 0.0]\n",
       "x_c = [0.125, 0.0, 0.5], x_i = Float64[]\n",
       "mass = 0.0025\n",
       "inertia_c = [0.000208333 0.0 -0.0 0.0 0.0 0.0; 0.0 0.000221354 0.0 0.0 0.0 0.0; -0.0 0.0 1.30208e-5 0.0 0.0 0.0; 0.0 0.0 0.0 0.0025 0.0 0.0; 0.0 0.0 0.0 0.0 0.0025 0.0; 0.0 0.0 0.0 0.0 0.0 0.0025]\n",
       "inertia_b = [0.000833333 0.0 -0.00015625 0.0 -0.00125 0.0; 0.0 0.000885417 0.0 0.00125 0.0 -0.0003125; -0.00015625 0.0 5.20833e-5 0.0 0.0003125 0.0; 0.0 0.00125 0.0 0.0025 0.0 0.0; -0.00125 0.0 0.0003125 0.0 0.0025 0.0; 0.0 -0.0003125 0.0 0.0 0.0 0.0025]\n",
       "Xb_to_c = [1.0 0.0 0.0 0.0 0.0 0.0; 0.0 1.0 0.0 0.0 0.0 0.0; 0.0 0.0 1.0 0.0 0.0 0.0; 0.0 0.5 0.0 1.0 0.0 0.0; -0.5 0.0 0.125 0.0 1.0 0.0; 0.0 -0.125 0.0 0.0 0.0 1.0]\n",
       "Xb_to_i = Array{Float64}(0,0)\n",
       "Xp_to_b = Array{Float64}(0,0)\n",
       "q = [0.0, 0.0, 0.0, 0.0, 0.0, 0.0]\n",
       "v = [0.0, 0.0, 0.0, 0.0, 0.0, 0.0]\n",
       "c = [0.0, 0.0, 0.0, 0.0, 0.0, 0.0]\n"
      ]
     },
     "execution_count": 7,
     "metadata": {},
     "output_type": "execute_result"
    }
   ],
   "source": [
    "bodys[2]"
   ]
  },
  {
   "cell_type": "code",
   "execution_count": 8,
   "metadata": {
    "collapsed": false,
    "scrolled": true
   },
   "outputs": [
    {
     "data": {
      "text/plain": [
       "body_id = 1, parent_id = 0, nchild = 1, chid = [2]\n",
       "nverts = 4, verts = [0.0 0.0 0.0; 0.0 0.0 1.0; 0.25 0.0 1.0; 0.25 0.0 0.0]\n",
       "verts_i = [0.0 0.0 0.0; 0.0 0.0 1.0; 0.25 0.0 1.0; 0.25 0.0 0.0]\n",
       "x_c = [0.125, 0.0, 0.5], x_i = Float64[]\n",
       "mass = 0.0025\n",
       "inertia_c = [0.000208333 0.0 -0.0 0.0 0.0 0.0; 0.0 0.000221354 0.0 0.0 0.0 0.0; -0.0 0.0 1.30208e-5 0.0 0.0 0.0; 0.0 0.0 0.0 0.0025 0.0 0.0; 0.0 0.0 0.0 0.0 0.0025 0.0; 0.0 0.0 0.0 0.0 0.0 0.0025]\n",
       "inertia_b = [0.000833333 0.0 -0.00015625 0.0 -0.00125 0.0; 0.0 0.000885417 0.0 0.00125 0.0 -0.0003125; -0.00015625 0.0 5.20833e-5 0.0 0.0003125 0.0; 0.0 0.00125 0.0 0.0025 0.0 0.0; -0.00125 0.0 0.0003125 0.0 0.0025 0.0; 0.0 -0.0003125 0.0 0.0 0.0 0.0025]\n",
       "Xb_to_c = [1.0 0.0 0.0 0.0 0.0 0.0; 0.0 1.0 0.0 0.0 0.0 0.0; 0.0 0.0 1.0 0.0 0.0 0.0; 0.0 0.5 0.0 1.0 0.0 0.0; -0.5 0.0 0.125 0.0 1.0 0.0; 0.0 -0.125 0.0 0.0 0.0 1.0]\n",
       "Xb_to_i = Array{Float64}(0,0)\n",
       "Xp_to_b = Array{Float64}(0,0)\n",
       "q = [0.0, 0.0, 0.0, 0.0, 0.0, 0.0]\n",
       "v = [0.0, 0.0, 0.0, 0.0, 0.0, 0.0]\n",
       "c = [0.0, 0.0, 0.0, 0.0, 0.0, 0.0]\n"
      ]
     },
     "execution_count": 8,
     "metadata": {},
     "output_type": "execute_result"
    }
   ],
   "source": [
    "bodys[1]"
   ]
  },
  {
   "cell_type": "code",
   "execution_count": 10,
   "metadata": {
    "collapsed": false
   },
   "outputs": [
    {
     "data": {
      "text/plain": [
       "joint_id = 1, joint_type = revolute, pid = 0\n",
       "shape1 = [0.0, 0.0, 0.0, 0.0, 0.0, 0.0], shape2 = [0.0, 0.0, 0.0, 0.0, 0.0, 0.0]\n",
       "nudof = 1, ncdof = 5, np = 0, na = 1\n",
       "udof = [3], cdof = [1, 2, 4, 5, 6]\n",
       "udof_p = Int64[], udof_a = [3]\n",
       "i_udof_p = Int64[], i_udof_a = [1]\n",
       "udofmap = [1]\n",
       "cdofmap_HERK = [1, 2, 3, 4, 5, 6]\n",
       "nudof_HERK = 0, ncdof_HERK = 6\n",
       "udof_HERK = Int64[], cdof_HERK = [1, 2, 3, 4, 5, 6]\n",
       "S = [0; 0; 1; 0; 0; 0]\n",
       "T = [1 0 0 0 0; 0 1 0 0 0; 0 0 0 0 0; 0 0 1 0 0; 0 0 0 1 0; 0 0 0 0 1]\n",
       "T_HERK = [1 0 0 0 0 0; 0 1 0 0 0 0; 0 0 1 0 0 0; 0 0 0 1 0 0; 0 0 0 0 1 0; 0 0 0 0 0 1]\n",
       "joint_dof = ConfigDataType.Dof[ConfigDataType.Dof(3, \"active\", 0.0, 0.0, ConfigDataType.Motions(\"oscillatory\", [0.785398, 1.0, 0.0]))]\n",
       "Xj = Array{Float64}(0,0)\n",
       "Xp_to_j = [1.0 0.0 0.0 0.0 0.0 0.0; 0.0 1.0 0.0 0.0 0.0 0.0; 0.0 0.0 1.0 0.0 0.0 0.0; 0.0 0.0 0.0 1.0 0.0 0.0; 0.0 0.0 0.0 0.0 1.0 0.0; 0.0 0.0 0.0 0.0 0.0 1.0]\n",
       "Xj_to_ch = [1.0 0.0 0.0 0.0 0.0 0.0; 0.0 1.0 0.0 0.0 0.0 0.0; 0.0 0.0 1.0 0.0 0.0 0.0; 0.0 0.0 0.0 1.0 0.0 0.0; 0.0 0.0 0.0 0.0 1.0 0.0; 0.0 0.0 0.0 0.0 0.0 1.0]\n",
       "qJ = [0.0, 0.0, 0.0, 0.0, 0.0, 0.0]\n",
       "vJ = [0.0, 0.0, 0.0, 0.0, 0.0, 0.0]\n",
       "cJ = [0.0, 0.0, 0.0, 0.0, 0.0, 0.0]\n"
      ]
     },
     "execution_count": 10,
     "metadata": {},
     "output_type": "execute_result"
    }
   ],
   "source": [
    "joints[1]"
   ]
  }
 ],
 "metadata": {
  "kernelspec": {
   "display_name": "Julia 0.6.2",
   "language": "julia",
   "name": "julia-0.6"
  },
  "language_info": {
   "file_extension": ".jl",
   "mimetype": "application/julia",
   "name": "julia",
   "version": "0.6.2"
  }
 },
 "nbformat": 4,
 "nbformat_minor": 2
}
