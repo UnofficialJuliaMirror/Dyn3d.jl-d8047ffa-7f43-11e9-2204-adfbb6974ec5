{
 "cells": [
  {
   "cell_type": "markdown",
   "metadata": {},
   "source": [
    "# Navier-Stokes with a pivot-fixed falling flat plate \n",
    "## Using `Whirl` and `Dyn3d`"
   ]
  },
  {
   "cell_type": "code",
   "execution_count": 1,
   "metadata": {},
   "outputs": [],
   "source": [
    "include(joinpath(Pkg.dir(\"Whirl\"), \"src/Whirl.jl\"))\n",
    "using Whirl\n",
    "\n",
    "include(Pkg.dir(\"Dyn3d\")*\"/src/Dyn3d.jl\")\n",
    "using Dyn3d"
   ]
  },
  {
   "cell_type": "code",
   "execution_count": 2,
   "metadata": {},
   "outputs": [],
   "source": [
    "using Plots\n",
    "pyplot()\n",
    "clibrary(:colorbrewer)\n",
    "default(grid = false)"
   ]
  },
  {
   "cell_type": "markdown",
   "metadata": {},
   "source": [
    "## <span style=\"color:blue\"> Set up rigid body with Dyn3d"
   ]
  },
  {
   "cell_type": "code",
   "execution_count": 137,
   "metadata": {},
   "outputs": [
    {
     "name": "stdout",
     "output_type": "stream",
     "text": [
      "Config info set up.\n"
     ]
    }
   ],
   "source": [
    "include(Pkg.dir(\"Dyn3d\")*\"/src/config_files/2dFall.jl\")"
   ]
  },
  {
   "cell_type": "markdown",
   "metadata": {},
   "source": [
    "#### Build joint-body chain"
   ]
  },
  {
   "cell_type": "code",
   "execution_count": 138,
   "metadata": {},
   "outputs": [
    {
     "data": {
      "text/plain": []
     },
     "execution_count": 138,
     "metadata": {},
     "output_type": "execute_result"
    }
   ],
   "source": [
    "# build joint-body chain\n",
    "bodys, joints, system = BuildChain(config_bodys, config_joints, \n",
    "                                   config_system)\n",
    "bd = BodyDyn(bodys, joints, system)"
   ]
  },
  {
   "cell_type": "markdown",
   "metadata": {},
   "source": [
    "#### Initialize rigid body system state"
   ]
  },
  {
   "cell_type": "code",
   "execution_count": 139,
   "metadata": {},
   "outputs": [
    {
     "name": "stdout",
     "output_type": "stream",
     "text": [
      "This is a 1 body-joint system.\n",
      "System is fixed in space\n"
     ]
    }
   ],
   "source": [
    "# init system\n",
    "bd, soln = InitSystem!(bd)\n",
    "\n",
    "# init soln structure\n",
    "solns = (Soln)[]\n",
    "push!(solns, soln)\n",
    "\n",
    "# init VertsHistory struct\n",
    "vs = []\n",
    "push!(vs, VertsHistory(system.nbody, bd.bs))\n",
    "\n",
    "nothing"
   ]
  },
  {
   "cell_type": "markdown",
   "metadata": {},
   "source": [
    "#### Set up HERKBody object"
   ]
  },
  {
   "cell_type": "code",
   "execution_count": 140,
   "metadata": {},
   "outputs": [
    {
     "data": {
      "text/plain": [
       "Order-3 HERK integrator.\n"
      ]
     },
     "execution_count": 140,
     "metadata": {},
     "output_type": "execute_result"
    }
   ],
   "source": [
    "herkbody = Dyn3d.HERKBody(system.num_params,HERKFuncM, HERKFuncGT, HERKFuncG,\n",
    "                (HERKFuncf,HERKFuncgti), (UpdatePosition!,UpdateVelocity!))"
   ]
  },
  {
   "cell_type": "markdown",
   "metadata": {},
   "source": [
    "#### Genrate body grid points and get linear velocity on in"
   ]
  },
  {
   "cell_type": "code",
   "execution_count": 141,
   "metadata": {
    "scrolled": true
   },
   "outputs": [],
   "source": [
    "# generate body points and fit it into 2d, which each items choose [1,3] for 2d cases in [x,y]\n",
    "bgs = GenerateBodyGrid(bd; np=201)\n",
    "bgs = CutOut2d(bd,bgs)\n",
    "bgs = AcquireBodyGridKinematics(bd,bgs)\n",
    "\n",
    "# generate the format for fluid interface\n",
    "coord = hcat(bgs[1].q_i...)'[:,[1,2]]\n",
    "motion = hcat(bgs[1].v_i...)'[:,[1,2]];"
   ]
  },
  {
   "cell_type": "code",
   "execution_count": 142,
   "metadata": {},
   "outputs": [
    {
     "data": {
      "image/png": "[encoded data removed]"
     },
     "execution_count": 142,
     "metadata": {},
     "output_type": "execute_result"
    }
   ],
   "source": [
    "v = isdefined(:plot_dir) ? plot_dir : system.ndim==2 ? (1,2) : (1,2,3)\n",
    "p = plot(vs[1][1,:,1],vs[1][1,:,2], linewidth=3, aspect_ratio=:equal)        \n",
    "plot!(xlims=(0,3), ylims=(0,2))"
   ]
  },
  {
   "cell_type": "markdown",
   "metadata": {},
   "source": [
    "## <span style=\"color:blue\"> Set up fluid solver with Whirl </span>"
   ]
  },
  {
   "cell_type": "markdown",
   "metadata": {},
   "source": [
    "Set the flow parameters"
   ]
  },
  {
   "cell_type": "code",
   "execution_count": 143,
   "metadata": {},
   "outputs": [],
   "source": [
    "Re = 200; # Reynolds number\n",
    "U = 0.0; # Free stream velocity\n",
    "U∞ = (U,0.0);"
   ]
  },
  {
   "cell_type": "markdown",
   "metadata": {},
   "source": [
    "Set the domain size and time step size"
   ]
  },
  {
   "cell_type": "code",
   "execution_count": 144,
   "metadata": {},
   "outputs": [
    {
     "data": {
      "text/plain": [
       "(-0.01:0.02:3.0100000000000002, -0.01:0.02:2.0100000000000002)"
      ]
     },
     "execution_count": 144,
     "metadata": {},
     "output_type": "execute_result"
    }
   ],
   "source": [
    "nx = 152; ny = 102;\n",
    "Ly = 2.0;\n",
    "Δx = Ly/(ny-2);\n",
    "Δt = min(0.5*Δx,0.5*Δx^2*Re)\n",
    "w₀ = Nodes(Dual,(nx,ny));\n",
    "xg, yg = coordinates(w₀,dx=Δx)"
   ]
  },
  {
   "cell_type": "markdown",
   "metadata": {},
   "source": [
    "#### Set up the Navier-Stokes  problem type"
   ]
  },
  {
   "cell_type": "code",
   "execution_count": 145,
   "metadata": {},
   "outputs": [
    {
     "data": {
      "text/plain": [
       "Navier-Stokes system on a grid of size 152 x 102"
      ]
     },
     "execution_count": 145,
     "metadata": {},
     "output_type": "execute_result"
    }
   ],
   "source": [
    "X̃ = VectorData(coord)\n",
    "sys = Systems.NavierStokes((nx,ny),Re,Δx,Δt,U∞ = U∞, X̃ = X̃, isstore = true, isstatic = false)"
   ]
  },
  {
   "cell_type": "markdown",
   "metadata": {},
   "source": [
    "#### Set up initial conditions"
   ]
  },
  {
   "cell_type": "code",
   "execution_count": 146,
   "metadata": {},
   "outputs": [],
   "source": [
    "t = 0.0\n",
    "w₀ .= 0.0\n",
    "tf = 0.5\n",
    "T = Δt:Δt:tf\n",
    "fx = Float64[]\n",
    "fy = Float64[]\n",
    "thist = []\n",
    "uhist = []\n",
    "tsample = 0.02;"
   ]
  },
  {
   "cell_type": "markdown",
   "metadata": {},
   "source": [
    "## <span style=\"color:blue\"> Demonstration of one-step no iteration </span>"
   ]
  },
  {
   "cell_type": "code",
   "execution_count": 147,
   "metadata": {},
   "outputs": [],
   "source": [
    "# # integrate fluid force for each body\n",
    "# for i = 1:bgs[1].np\n",
    "#     bgs[1].f_ex3d[i][1] = f[1].u[i]\n",
    "#     bgs[1].f_ex3d[i][3] = f[1].v[i]\n",
    "# end\n",
    "# bgs = IntegrateBodyGridDynamics(bd,bgs)\n",
    "# f_exi = zeros(bd.sys.nbody,6)\n",
    "# for i = 1:bd.sys.nbody\n",
    "#     f_exi[i,:] = bgs[i].f_ex6d\n",
    "# end\n",
    "# f_exi\n",
    "\n",
    "# # run body solver\n",
    "# herk = HERKBody(system.num_params,HERKFuncM, HERKFuncGT, HERKFuncG,\n",
    "#                 (HERKFuncf,HERKFuncgti),\n",
    "#                 (UpdatePosition!,UpdateVelocity!))\n",
    "# soln, bd = herkbody(soln, bd; _isfixedstep=true, f_exi=f_exi);\n",
    "\n",
    "# # get body points coord and motion\n",
    "# bgs = AcquireBodyGridKinematics(bd,bgs)\n",
    "# motion = hcat(bgs[1].v_i...)'[:,[1,2]]\n",
    "# coord = hcat(bgs[1].q_i...)'[:,[1,2]];\n",
    "\n",
    "# # create ifherk object\n",
    "# u = (w₀,[coord motion][:])\n",
    "# nc = length(u[2])\n",
    "# # uniform constant free stream\n",
    "# ifherk = Whirl.IFHERK(u,f,sys.Δt,\n",
    "#                 ((t,u) -> Systems.plan_intfact(t,u,sys),\n",
    "#                  (t,u) -> eye(nc)),\n",
    "#                 (u,t) -> Whirl.plan_constraints(u,t,sys),\n",
    "#                 ((u,t) -> Whirl.r₁(u,t,sys),\n",
    "#                  (u,t) -> Whirl.r₂(u,t,sys)),\n",
    "#                 tol=1e-3,rk=Whirl.TimeMarching.RK31,\n",
    "#                 isstored=true,isstaticconstraints=false)\n",
    "\n",
    "# # run fluid solver\n",
    "# t, u, f = ifherk(t,u)\n",
    "# push!(thist,t)\n",
    "# push!(fx,sum(f[1].u)*Δx^2)\n",
    "# push!(fy,sum(f[1].v)*Δx^2)\n",
    "# push!(uhist,u)\n",
    "\n",
    "# # fx\n",
    "# # fy"
   ]
  },
  {
   "cell_type": "markdown",
   "metadata": {},
   "source": [
    "## <span style=\"color:blue\"> Preparation for Time Marching </span>"
   ]
  },
  {
   "cell_type": "markdown",
   "metadata": {},
   "source": [
    "#### Constants for coupling"
   ]
  },
  {
   "cell_type": "code",
   "execution_count": 148,
   "metadata": {},
   "outputs": [
    {
     "data": {
      "text/plain": [
       "0.5"
      ]
     },
     "execution_count": 148,
     "metadata": {},
     "output_type": "execute_result"
    }
   ],
   "source": [
    "tol = 5e-4\n",
    "soln.dt = Δt\n",
    "ω = (config_bodys[1].ρ)/(1.0+config_bodys[1].ρ)"
   ]
  },
  {
   "cell_type": "markdown",
   "metadata": {},
   "source": [
    "#### Helper function to convert VectorData type"
   ]
  },
  {
   "cell_type": "code",
   "execution_count": 149,
   "metadata": {},
   "outputs": [
    {
     "data": {
      "text/plain": [
       "* (generic function with 287 methods)"
      ]
     },
     "execution_count": 149,
     "metadata": {},
     "output_type": "execute_result"
    }
   ],
   "source": [
    "import Base: +,*\n",
    "function (+)(a::VectorData, b::VectorData)\n",
    "    c = VectorData(a)\n",
    "    c.u .= a.u .+ b.u\n",
    "    c.v .= a.v .+ b.v\n",
    "    return c\n",
    "end\n",
    "\n",
    "function (*)(ω::T, a::VectorData) where T<: Real\n",
    "    c = VectorData(a)\n",
    "    c.u .= ω.*a.u\n",
    "    c.v .= ω.*a.v\n",
    "    return c\n",
    "end\n",
    "\n",
    "function (*)(a::VectorData,ω::T) where T<: Real\n",
    "    c = VectorData(a)\n",
    "    c.u .= ω.*a.u\n",
    "    c.v .= ω.*a.v\n",
    "    return c\n",
    "end"
   ]
  },
  {
   "cell_type": "markdown",
   "metadata": {},
   "source": [
    "#### Create Body solver object of type HerkBody"
   ]
  },
  {
   "cell_type": "code",
   "execution_count": 150,
   "metadata": {},
   "outputs": [
    {
     "data": {
      "text/plain": [
       "Order-3 HERK integrator.\n"
      ]
     },
     "execution_count": 150,
     "metadata": {},
     "output_type": "execute_result"
    }
   ],
   "source": [
    "# construct body solver\n",
    "herk = HERKBody(system.num_params,HERKFuncM, HERKFuncGT, HERKFuncG,\n",
    "            (HERKFuncf,HERKFuncgti),\n",
    "            (UpdatePosition!,UpdateVelocity!))"
   ]
  },
  {
   "cell_type": "markdown",
   "metadata": {},
   "source": [
    "#### Create Fluid solver object of type IFHERK"
   ]
  },
  {
   "cell_type": "code",
   "execution_count": 151,
   "metadata": {},
   "outputs": [
    {
     "data": {
      "text/plain": [
       "Order-3 IF-HERK integrator with\n",
       "   State of type Tuple{Whirl.Fields.Nodes{Whirl.Fields.Dual,152,102},Array{Float64,1}}\n",
       "   Force of type Tuple{Whirl.Fields.VectorData{51},Array{Float64,1}}\n",
       "   Time step size 0.01\n"
      ]
     },
     "execution_count": 151,
     "metadata": {},
     "output_type": "execute_result"
    }
   ],
   "source": [
    "u = (w₀,[coord motion][:])\n",
    "f = (VectorData(X̃),Vector{Float64}())\n",
    "\n",
    "# number of constraints (4*body points)\n",
    "nc = length(u[2])\n",
    "\n",
    "# construct fluid solver with uniform constant free stream\n",
    "ifherk = Whirl.IFHERK(u,f,sys.Δt,\n",
    "                ((t,u) -> Systems.plan_intfact(t,u,sys),\n",
    "                 (t,u) -> eye(nc)),\n",
    "                (u,t) -> Whirl.plan_constraints(u,t,sys),\n",
    "                ((u,t) -> Whirl.r₁(u,t,sys),\n",
    "                 (u,t) -> Whirl.r₂(u,t,sys)),\n",
    "                tol=1e-3,rk=Whirl.TimeMarching.RK31,\n",
    "                isstored=true,isstaticconstraints=false)"
   ]
  },
  {
   "cell_type": "markdown",
   "metadata": {},
   "source": [
    "## <span style=\"color:blue\"> Time Marching! </span>"
   ]
  },
  {
   "cell_type": "code",
   "execution_count": 152,
   "metadata": {},
   "outputs": [
    {
     "name": "stdout",
     "output_type": "stream",
     "text": [
      "time = 0.02 converged through 9 iterations\n",
      "time = 0.03 converged through 4 iterations\n",
      "time = 0.04 converged through 3 iterations\n",
      "time = 0.05 converged through 3 iterations\n",
      "time = 0.060000000000000005 converged through 3 iterations\n",
      "time = 0.06999999999999999 converged through 3 iterations\n",
      "time = 0.08 converged through 4 iterations\n",
      "time = 0.09 converged through 4 iterations\n",
      "time = 0.09999999999999999 converged through 4 iterations\n",
      "time = 0.11 converged through 4 iterations\n",
      "time = 0.12 converged through 4 iterations\n",
      "time = 0.13 converged through 4 iterations\n",
      "time = 0.14 converged through 4 iterations\n",
      "time = 0.15000000000000002 converged through 4 iterations\n",
      "time = 0.16 converged through 4 iterations\n",
      "time = 0.17 converged through 4 iterations\n",
      "time = 0.18000000000000002 converged through 4 iterations\n",
      "time = 0.19 converged through 4 iterations\n",
      "time = 0.2 converged through 4 iterations\n",
      "time = 0.21000000000000002 converged through 4 iterations\n",
      "time = 0.22 converged through 5 iterations\n",
      "time = 0.23 converged through 5 iterations\n",
      "time = 0.24000000000000002 converged through 5 iterations\n",
      "time = 0.25 converged through 5 iterations\n",
      "time = 0.26 converged through 5 iterations\n",
      "time = 0.27 converged through 5 iterations\n",
      "time = 0.28 converged through 5 iterations\n",
      "time = 0.29000000000000004 converged through 5 iterations\n",
      "time = 0.3 converged through 5 iterations\n",
      "time = 0.31 converged through 5 iterations\n",
      "time = 0.32 converged through 5 iterations\n",
      "time = 0.33 converged through 5 iterations\n",
      "time = 0.34 converged through 5 iterations\n",
      "time = 0.35000000000000003 converged through 5 iterations\n",
      "time = 0.36 converged through 5 iterations\n",
      "time = 0.37 converged through 5 iterations\n",
      "time = 0.38 converged through 4 iterations\n",
      "time = 0.39 converged through 3 iterations\n",
      "time = 0.4 converged through 3 iterations\n",
      "time = 0.41000000000000003 converged through 3 iterations\n",
      "time = 0.42 converged through 4 iterations\n",
      "time = 0.43 converged through 4 iterations\n",
      "time = 0.44 converged through 4 iterations\n",
      "time = 0.45 converged through 4 iterations\n",
      "time = 0.46 converged through 4 iterations\n",
      "time = 0.47000000000000003 converged through 4 iterations\n",
      "time = 0.48 converged through 5 iterations\n",
      "time = 0.49 converged through 5 iterations\n",
      "time = 0.5 converged through 5 iterations\n",
      "time = 0.51 converged through 5 iterations\n",
      "1560.705261 seconds (9.60 G allocations: 1.726 TiB, 15.91% gc time)\n",
      "solution completed through time t = 0.51\n"
     ]
    }
   ],
   "source": [
    "@time for t in T\n",
    "\n",
    "    cnt = 1\n",
    "    fᵢ = -1*f[1]*Δx^2\n",
    "\n",
    "    # record body info\n",
    "    soln_buffer = deepcopy(soln)\n",
    "    bd_buffer = deepcopy(bd)\n",
    "    bgs_buffer = deepcopy(bgs)\n",
    "\n",
    "    # record fluid info\n",
    "    u_buffer = deepcopy(u)\n",
    "    t_buffer = t\n",
    "\n",
    "    while true\n",
    "\n",
    "        # get body state of the last timestep\n",
    "        soln = deepcopy(soln_buffer)\n",
    "        bd = deepcopy(bd_buffer)\n",
    "        bgs = deepcopy(bgs_buffer)\n",
    "\n",
    "        # integrate body force for body solver\n",
    "        for i = 1:bgs[1].np\n",
    "            bgs[1].f_ex3d[i][1] = fᵢ.u[i]\n",
    "            bgs[1].f_ex3d[i][3] = fᵢ.v[i]\n",
    "        end\n",
    "        bgs = IntegrateBodyGridDynamics(bd,bgs)\n",
    "        f_exi = zeros(bd.sys.nbody,6)\n",
    "        for i = 1:bd.sys.nbody\n",
    "            f_exi[i,:] = bgs[i].f_ex6d\n",
    "        end\n",
    "\n",
    "        # advance body solver for one step\n",
    "        soln, bd = herkbody(soln, bd; _isfixedstep=true, f_exi=f_exi);\n",
    "\n",
    "        # acquire vel and coord of body points for fluid computation\n",
    "        bgs = AcquireBodyGridKinematics(bd,bgs)\n",
    "        coord = hcat(bgs[1].q_i...)'[:,[1,2]]\n",
    "        motion = hcat(bgs[1].v_i...)'[:,[1,2]]\n",
    "\n",
    "        # get fluid state of the last timestep\n",
    "        u = deepcopy(u_buffer)\n",
    "        t = t_buffer\n",
    "\n",
    "        # advance fluid solver for one step\n",
    "        u = (u[1],[coord motion][:])\n",
    "        t, u, f = ifherk(t,u)\n",
    "\n",
    "        # check if converge\n",
    "        ϵ = norm(-1*f[1]*Δx^2 - fᵢ)\n",
    "        if ϵ < tol break end\n",
    "\n",
    "#         println(\"proposed fy:\", sum(fᵢ.v))\n",
    "#         println(\"corrected fy:\", sum(-1*f[1].v)*Δx^2)\n",
    "\n",
    "        # if not converge, use relaxation\n",
    "        fᵢ = (1-ω)*fᵢ + ω*(-1*f[1])*Δx^2\n",
    "\n",
    "#         println(\"relaxation fy:\", sum(fᵢ.v),\"\\n\")\n",
    "\n",
    "        # loop count\n",
    "#         println(\"count \",cnt,\", ϵ = \",ϵ,\"\\n\");\n",
    "        cnt += 1\n",
    "\n",
    "    end\n",
    "\n",
    "    # converged for this timestep\n",
    "    print(\"time = \", t, \" converged through \", cnt, \" iterations\\n\")\n",
    "    \n",
    "    # record body info\n",
    "    push!(solns, soln)\n",
    "    push!(vs, VertsHistory(system.nbody, bd.bs))\n",
    "\n",
    "    # record fluid info\n",
    "    push!(thist,t)\n",
    "    push!(fx,sum(fᵢ.u))\n",
    "    push!(fy,sum(fᵢ.v))\n",
    "    push!(uhist,deepcopy(u))\n",
    "    \n",
    "end\n",
    "\n",
    "println(\"solution completed through time t = \",t)"
   ]
  },
  {
   "cell_type": "markdown",
   "metadata": {},
   "source": [
    "#### Plot first and last time field"
   ]
  },
  {
   "cell_type": "code",
   "execution_count": 153,
   "metadata": {},
   "outputs": [
    {
     "data": {
      "image/png": "[encoded data removed]"
     },
     "execution_count": 153,
     "metadata": {},
     "output_type": "execute_result"
    }
   ],
   "source": [
    "plot(xg,yg,uhist[1][1],levels=linspace(-0.05,0.05,80))\n",
    "plot!(bd.bs[1].verts_i[2:3,1], bd.bs[1].verts_i[2:3,2],linewidth=2,linecolor=\"grey\")"
   ]
  },
  {
   "cell_type": "code",
   "execution_count": 154,
   "metadata": {
    "scrolled": true
   },
   "outputs": [
    {
     "data": {
      "image/png": "[encoded data removed]"
     },
     "execution_count": 154,
     "metadata": {},
     "output_type": "execute_result"
    }
   ],
   "source": [
    "plot(xg,yg,uhist[end][1],levels=linspace(-0.05,0.05,80))\n",
    "plot!(bd.bs[1].verts_i[2:3,1], bd.bs[1].verts_i[2:3,2],linewidth=2,linecolor=\"grey\")"
   ]
  },
  {
   "cell_type": "markdown",
   "metadata": {},
   "source": [
    "#### Gif!"
   ]
  },
  {
   "cell_type": "code",
   "execution_count": 161,
   "metadata": {},
   "outputs": [],
   "source": [
    "@get bd (bs, js, sys)\n",
    "\n",
    "# get verts info based on this regular grid solution\n",
    "vshist = []\n",
    "for i = 1:length(solns)\n",
    "    bs, js, sys = UpdatePosition!(bs, js, sys, solns[i].qJ)\n",
    "    push!(vshist, VertsHistory(sys.nbody, bs))\n",
    "end"
   ]
  },
  {
   "cell_type": "code",
   "execution_count": null,
   "metadata": {},
   "outputs": [],
   "source": []
  },
  {
   "cell_type": "code",
   "execution_count": 178,
   "metadata": {},
   "outputs": [
    {
     "name": "stderr",
     "output_type": "stream",
     "text": [
      "\u001b[1m\u001b[36mINFO: \u001b[39m\u001b[22m\u001b[36mSaved animation to /media/ruizhi/Seagate Expansion Drive/Research/Dyn3d.jl/notebook/tmp.gif\n",
      "\u001b[39m"
     ]
    },
    {
     "data": {
      "text/html": [
       "<img src=\"tmp.gif?0.9180156345310524>\" />"
      ],
      "text/plain": [
       "Plots.AnimatedGif(\"/media/ruizhi/Seagate Expansion Drive/Research/Dyn3d.jl/notebook/tmp.gif\")"
      ]
     },
     "execution_count": 178,
     "metadata": {},
     "output_type": "execute_result"
    }
   ],
   "source": [
    "@gif for i = 1:length(uhist)\n",
    "    plot(xg,yg,uhist[i],levels=linspace(-0.05,0.05,80))\n",
    "    plot!(vshist[i][1,2:3,1], vshist[51][1,2:3,2],linewidth=2,linecolor=\"grey\")\n",
    "    plot!(xlims=(0.8,2.2), ylims=(0.7,1.3))\n",
    "end"
   ]
  },
  {
   "cell_type": "code",
   "execution_count": 159,
   "metadata": {},
   "outputs": [
    {
     "data": {
      "image/png": "[encoded data removed]"
     },
     "execution_count": 159,
     "metadata": {},
     "output_type": "execute_result"
    }
   ],
   "source": [
    "px = plot(thist,2*fx,ylim=(-0.005,0.005),xlabel=\"Convective time\",ylabel=\"\\$C_D\\$\",legend=false)\n",
    "py = plot(thist,2*fy,ylim=(0.5,1.5),xlabel=\"Convective time\",ylabel=\"\\$C_L\\$\",legend=false)\n",
    "plot(px,py)"
   ]
  }
 ],
 "metadata": {
  "kernelspec": {
   "display_name": "Julia 0.6.2",
   "language": "julia",
   "name": "julia-0.6"
  },
  "language_info": {
   "file_extension": ".jl",
   "mimetype": "application/julia",
   "name": "julia",
   "version": "0.6.2"
  }
 },
 "nbformat": 4,
 "nbformat_minor": 2
}
