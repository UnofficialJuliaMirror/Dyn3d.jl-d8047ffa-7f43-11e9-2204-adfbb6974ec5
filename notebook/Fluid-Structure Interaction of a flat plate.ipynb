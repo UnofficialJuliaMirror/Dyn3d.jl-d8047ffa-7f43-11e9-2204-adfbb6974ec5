{
 "cells": [
  {
   "cell_type": "markdown",
   "metadata": {},
   "source": [
    "# Navier-Stokes with a pivot-fixed falling flat plate \n",
    "## Using `Whirl` and `Dyn3d`"
   ]
  },
  {
   "cell_type": "code",
   "execution_count": 1,
   "metadata": {},
   "outputs": [],
   "source": [
    "include(joinpath(Pkg.dir(\"Whirl\"), \"src/Whirl.jl\"))\n",
    "using Whirl\n",
    "\n",
    "include(Pkg.dir(\"Dyn3d\")*\"/src/Dyn3d.jl\")\n",
    "using Dyn3d"
   ]
  },
  {
   "cell_type": "code",
   "execution_count": 2,
   "metadata": {},
   "outputs": [],
   "source": [
    "using Plots\n",
    "pyplot()\n",
    "clibrary(:colorbrewer)\n",
    "default(grid = false)"
   ]
  },
  {
   "cell_type": "markdown",
   "metadata": {},
   "source": [
    "## <span style=\"color:blue\"> Set up rigid body with Dyn3d"
   ]
  },
  {
   "cell_type": "code",
   "execution_count": 3,
   "metadata": {},
   "outputs": [
    {
     "name": "stdout",
     "output_type": "stream",
     "text": [
      "Config info set up.\n"
     ]
    }
   ],
   "source": [
    "include(Pkg.dir(\"Dyn3d\")*\"/src/config_files/2dFall.jl\")"
   ]
  },
  {
   "cell_type": "markdown",
   "metadata": {},
   "source": [
    "### Build joint-body chain"
   ]
  },
  {
   "cell_type": "code",
   "execution_count": 4,
   "metadata": {},
   "outputs": [
    {
     "data": {
      "text/plain": []
     },
     "execution_count": 4,
     "metadata": {},
     "output_type": "execute_result"
    }
   ],
   "source": [
    "# build joint-body chain\n",
    "bodys, joints, system = BuildChain(config_bodys, config_joints, \n",
    "                                   config_system)\n",
    "bd = BodyDyn(bodys, joints, system)"
   ]
  },
  {
   "cell_type": "markdown",
   "metadata": {},
   "source": [
    "### Initialize rigid body system state"
   ]
  },
  {
   "cell_type": "code",
   "execution_count": 5,
   "metadata": {},
   "outputs": [
    {
     "name": "stdout",
     "output_type": "stream",
     "text": [
      "This is a 1 body-joint system.\n",
      "System is fixed in space\n"
     ]
    }
   ],
   "source": [
    "# init system\n",
    "bd, soln = InitSystem!(bd)\n",
    "\n",
    "# init soln structure\n",
    "solns = (Soln)[]\n",
    "push!(solns, soln)\n",
    "\n",
    "# init VertsHistory struct\n",
    "vs = []\n",
    "push!(vs, VertsHistory(system.nbody, bd.bs))\n",
    "\n",
    "nothing"
   ]
  },
  {
   "cell_type": "markdown",
   "metadata": {},
   "source": [
    "### Set up HERKBody object"
   ]
  },
  {
   "cell_type": "code",
   "execution_count": 6,
   "metadata": {},
   "outputs": [
    {
     "data": {
      "text/plain": [
       "Order-3 HERK integrator.\n"
      ]
     },
     "execution_count": 6,
     "metadata": {},
     "output_type": "execute_result"
    }
   ],
   "source": [
    "herkbody = Dyn3d.HERKBody(system.num_params,HERKFuncM, HERKFuncGT, HERKFuncG,\n",
    "                (HERKFuncf,HERKFuncgti), (UpdatePosition!,UpdateVelocity!))"
   ]
  },
  {
   "cell_type": "markdown",
   "metadata": {},
   "source": [
    "Genrate body grid points and get linear velocity on in"
   ]
  },
  {
   "cell_type": "code",
   "execution_count": 7,
   "metadata": {
    "scrolled": true
   },
   "outputs": [],
   "source": [
    "# generate body points and fit it into 2d, which each items choose [1,3] for 2d cases in [x,y]\n",
    "bgs = GenerateBodyGrid(bd; np=201)\n",
    "bgs = CutOut2d(bd,bgs)\n",
    "bgs = AcquireBodyGridKinematics(bd,bgs)\n",
    "\n",
    "# generate the format for fluid interface\n",
    "coord = hcat(bgs[1].q_i...)'[:,[1,2]]\n",
    "motion = hcat(bgs[1].v_i...)'[:,[1,2]];"
   ]
  },
  {
   "cell_type": "code",
   "execution_count": 8,
   "metadata": {},
   "outputs": [
    {
     "data": {
      "image/png": "[encoded data removed]"
     },
     "execution_count": 8,
     "metadata": {},
     "output_type": "execute_result"
    }
   ],
   "source": [
    "v = isdefined(:plot_dir) ? plot_dir : system.ndim==2 ? (1,2) : (1,2,3)\n",
    "p = plot(vs[1][1,:,1],vs[1][1,:,2], linewidth=3, aspect_ratio=:equal)        \n",
    "plot!(xlims=(0,3), ylims=(0,2))"
   ]
  },
  {
   "cell_type": "markdown",
   "metadata": {},
   "source": [
    "## <span style=\"color:blue\"> Set up fluid solver with Whirl </span>"
   ]
  },
  {
   "cell_type": "markdown",
   "metadata": {},
   "source": [
    "Set the flow parameters"
   ]
  },
  {
   "cell_type": "code",
   "execution_count": 9,
   "metadata": {},
   "outputs": [],
   "source": [
    "Re = 200; # Reynolds number\n",
    "U = 1.0; # Free stream velocity\n",
    "U∞ = (U,0.0);"
   ]
  },
  {
   "cell_type": "markdown",
   "metadata": {},
   "source": [
    "Set the domain size and time step size"
   ]
  },
  {
   "cell_type": "code",
   "execution_count": 10,
   "metadata": {},
   "outputs": [
    {
     "data": {
      "text/plain": [
       "(-0.01:0.02:3.0100000000000002, -0.01:0.02:2.0100000000000002)"
      ]
     },
     "execution_count": 10,
     "metadata": {},
     "output_type": "execute_result"
    }
   ],
   "source": [
    "nx = 152; ny = 102;\n",
    "Ly = 2.0;\n",
    "Δx = Ly/(ny-2);\n",
    "Δt = min(0.5*Δx,0.5*Δx^2*Re)\n",
    "w₀ = Nodes(Dual,(nx,ny));\n",
    "xg, yg = coordinates(w₀,dx=Δx)"
   ]
  },
  {
   "cell_type": "markdown",
   "metadata": {},
   "source": [
    "### Now start constructing operators"
   ]
  },
  {
   "cell_type": "markdown",
   "metadata": {},
   "source": [
    "#### Set up the state vector and constraint force vector for a moving body"
   ]
  },
  {
   "cell_type": "code",
   "execution_count": 11,
   "metadata": {},
   "outputs": [
    {
     "data": {
      "text/plain": [
       "Navier-Stokes system on a grid of size 152 x 102"
      ]
     },
     "execution_count": 11,
     "metadata": {},
     "output_type": "execute_result"
    }
   ],
   "source": [
    "X̃ = VectorData(coord)\n",
    "sys = Systems.NavierStokes((nx,ny),Re,Δx,Δt,U∞ = U∞, X̃ = X̃, isstore = true, isstatic = false)"
   ]
  },
  {
   "cell_type": "code",
   "execution_count": 12,
   "metadata": {},
   "outputs": [
    {
     "data": {
      "text/plain": [
       "(51 points of vector-valued data\n",
       ", Float64[])"
      ]
     },
     "execution_count": 12,
     "metadata": {},
     "output_type": "execute_result"
    }
   ],
   "source": [
    "t = 0.0\n",
    "w₀ .= 0.0\n",
    "tf = 0.01\n",
    "T = Δt:Δt:tf\n",
    "fx = Float64[]\n",
    "fy = Float64[]\n",
    "thist = []\n",
    "uhist = []\n",
    "tsample = 0.02\n",
    "\n",
    "f = (VectorData(X̃),Vector{Float64}())"
   ]
  },
  {
   "cell_type": "code",
   "execution_count": 13,
   "metadata": {},
   "outputs": [
    {
     "data": {
      "text/plain": [
       "DeVectorData (generic function with 1 method)"
      ]
     },
     "execution_count": 13,
     "metadata": {},
     "output_type": "execute_result"
    }
   ],
   "source": [
    "function DeVectorData(f::VectorData)\n",
    "    return hcat(f.u,f.v)\n",
    "end"
   ]
  },
  {
   "cell_type": "markdown",
   "metadata": {},
   "source": [
    "## <span style=\"color:blue\"> Prepare interface for fluid-body coupling </span>"
   ]
  },
  {
   "cell_type": "markdown",
   "metadata": {},
   "source": [
    "Convert fluid force from VectorData format to Array{Float64,2}"
   ]
  },
  {
   "cell_type": "code",
   "execution_count": 14,
   "metadata": {},
   "outputs": [],
   "source": [
    "# for i = 1:bgs[1].np\n",
    "#     bgs[1].f_ex3d[i][1] = DeVectorData(f[1])[i,1]\n",
    "#     bgs[1].f_ex3d[i][3] = DeVectorData(f[1])[i,2]    \n",
    "# end\n",
    "\n",
    "# bgs = IntegrateBodyGridDynamics(bd,bgs)\n",
    "\n",
    "# f_exi = zeros(bd.sys.nbody,6)\n",
    "# for i = 1:bd.sys.nbody\n",
    "#     f_exi[i,:] = bgs[i].f_ex6d\n",
    "# end\n",
    "# f_exi"
   ]
  },
  {
   "cell_type": "markdown",
   "metadata": {},
   "source": [
    "## <span style=\"color:blue\"> Time Marching! </span>"
   ]
  },
  {
   "cell_type": "markdown",
   "metadata": {},
   "source": [
    "Body Time marching"
   ]
  },
  {
   "cell_type": "code",
   "execution_count": 15,
   "metadata": {},
   "outputs": [],
   "source": [
    "# herk = HERKBody(system.num_params,HERKFuncM, HERKFuncGT, HERKFuncG,\n",
    "#                 (HERKFuncf,HERKFuncgti),\n",
    "#                 (UpdatePosition!,UpdateVelocity!))\n",
    "# soln, bd = herkbody(soln, bd; _isfixedstep=true, f_exi=f_exi);"
   ]
  },
  {
   "cell_type": "markdown",
   "metadata": {},
   "source": [
    "Acquire motion and coord at this time for fluid"
   ]
  },
  {
   "cell_type": "code",
   "execution_count": 16,
   "metadata": {},
   "outputs": [],
   "source": [
    "# bgs = AcquireBodyGridKinematics(bd,bgs)\n",
    "\n",
    "# motion = hcat(bgs[1].v_i...)'[:,[1,2]]\n",
    "# coord = hcat(bgs[1].q_i...)'[:,[1,2]];"
   ]
  },
  {
   "cell_type": "markdown",
   "metadata": {},
   "source": [
    "Create Fluid solver object of type IFHERK"
   ]
  },
  {
   "cell_type": "code",
   "execution_count": 17,
   "metadata": {
    "scrolled": true
   },
   "outputs": [],
   "source": [
    "# u = (w₀,[coord motion][:])\n",
    "# nc = length(u[2])\n",
    "\n",
    "# # uniform constant free stream\n",
    "# ifherk = Whirl.IFHERK(u,f,sys.Δt,\n",
    "#                 ((t,u) -> Systems.plan_intfact(t,u,sys),\n",
    "#                  (t,u) -> eye(nc)),\n",
    "#                 (u,t) -> Whirl.plan_constraints(u,t,sys),\n",
    "#                 ((u,t) -> Whirl.r₁(u,t,sys),\n",
    "#                  (u,t) -> Whirl.r₂(u,t,sys)),\n",
    "#                 tol=1e-3,rk=Whirl.TimeMarching.RK31,\n",
    "#                 isstored=true,isstaticconstraints=false)"
   ]
  },
  {
   "cell_type": "markdown",
   "metadata": {},
   "source": [
    "Fluid Time Marching"
   ]
  },
  {
   "cell_type": "code",
   "execution_count": 18,
   "metadata": {
    "scrolled": false
   },
   "outputs": [],
   "source": [
    "# t, u, f = ifherk(t,u)\n",
    "\n",
    "# push!(thist,t)\n",
    "# push!(fx,sum(f[1].u)*Δx^2)\n",
    "# push!(fy,sum(f[1].v)*Δx^2)\n",
    "# push!(uhist,u)"
   ]
  },
  {
   "cell_type": "markdown",
   "metadata": {},
   "source": [
    "## Now put everything in a loop for one timestep"
   ]
  },
  {
   "cell_type": "code",
   "execution_count": 19,
   "metadata": {},
   "outputs": [
    {
     "data": {
      "text/plain": [
       "Order-3 HERK integrator.\n"
      ]
     },
     "execution_count": 19,
     "metadata": {},
     "output_type": "execute_result"
    }
   ],
   "source": [
    "# construct body solver\n",
    "herk = HERKBody(system.num_params,HERKFuncM, HERKFuncGT, HERKFuncG,\n",
    "            (HERKFuncf,HERKFuncgti),\n",
    "            (UpdatePosition!,UpdateVelocity!))"
   ]
  },
  {
   "cell_type": "code",
   "execution_count": 20,
   "metadata": {},
   "outputs": [
    {
     "data": {
      "text/plain": [
       "Order-3 IF-HERK integrator with\n",
       "   State of type Tuple{Whirl.Fields.Nodes{Whirl.Fields.Dual,152,102},Array{Float64,1}}\n",
       "   Force of type Tuple{Whirl.Fields.VectorData{51},Array{Float64,1}}\n",
       "   Time step size 0.01\n"
      ]
     },
     "execution_count": 20,
     "metadata": {},
     "output_type": "execute_result"
    }
   ],
   "source": [
    "u = (w₀,[coord motion][:])\n",
    "nc = length(u[2])\n",
    "\n",
    "# construct fluid solver\n",
    "# uniform constant free stream\n",
    "ifherk = Whirl.IFHERK(u,f,sys.Δt,\n",
    "                ((t,u) -> Systems.plan_intfact(t,u,sys),\n",
    "                 (t,u) -> eye(nc)),\n",
    "                (u,t) -> Whirl.plan_constraints(u,t,sys),\n",
    "                ((u,t) -> Whirl.r₁(u,t,sys),\n",
    "                 (u,t) -> Whirl.r₂(u,t,sys)),\n",
    "                tol=1e-3,rk=Whirl.TimeMarching.RK31,\n",
    "                isstored=true,isstaticconstraints=false)"
   ]
  },
  {
   "cell_type": "code",
   "execution_count": 21,
   "metadata": {},
   "outputs": [
    {
     "data": {
      "text/plain": [
       "+ (generic function with 241 methods)"
      ]
     },
     "execution_count": 21,
     "metadata": {},
     "output_type": "execute_result"
    }
   ],
   "source": [
    "import Base:+\n",
    "function (+)(a::VectorData, b::VectorData)\n",
    "    c = VectorData(a)\n",
    "    c.u .= a.u .+ b.u\n",
    "    c.v .= a.v .+ b.v\n",
    "    return c\n",
    "end"
   ]
  },
  {
   "cell_type": "code",
   "execution_count": 22,
   "metadata": {},
   "outputs": [
    {
     "data": {
      "text/plain": [
       "* (generic function with 287 methods)"
      ]
     },
     "execution_count": 22,
     "metadata": {},
     "output_type": "execute_result"
    }
   ],
   "source": [
    "import Base:*\n",
    "function (*)(ω::Float64, a::VectorData)\n",
    "    c = VectorData(a)\n",
    "    c.u .= ω.*a.u\n",
    "    c.v .= ω.*a.v\n",
    "    return c\n",
    "end\n",
    "function (*)(a::VectorData,ω::Float64)\n",
    "    c = VectorData(a)\n",
    "    c.u .= ω.*a.u\n",
    "    c.v .= ω.*a.v\n",
    "    return c\n",
    "end"
   ]
  },
  {
   "cell_type": "code",
   "execution_count": 23,
   "metadata": {},
   "outputs": [],
   "source": [
    "# typeof(f[1]*Δx^2)"
   ]
  },
  {
   "cell_type": "code",
   "execution_count": 24,
   "metadata": {},
   "outputs": [],
   "source": [
    "# (1-ω)*fᵢ + ω*f[1]*Δx^2"
   ]
  },
  {
   "cell_type": "code",
   "execution_count": null,
   "metadata": {},
   "outputs": [
    {
     "name": "stdout",
     "output_type": "stream",
     "text": [
      "count 1, ϵ = 1542.83642616112\n",
      "count 2, ϵ = 1571.4460898237817\n",
      "count 3, ϵ = 1608.2946194713627\n",
      "count 4, ϵ = 1650.15671771381\n",
      "count 5, ϵ = 1694.6149814247542\n",
      "count 6, ϵ = 1739.9173168509433\n",
      "count 7, ϵ = 1784.8313849671742\n",
      "count 8, ϵ = 1828.5174147155487\n"
     ]
    }
   ],
   "source": [
    "tol = 1e-3\n",
    "soln.dt = Δt\n",
    "ω = (config_bodys[1].ρ)/(1.0+config_bodys[1].ρ)\n",
    "cnt = 1\n",
    "fᵢ = f[1]\n",
    "\n",
    "# record body info\n",
    "soln_buffer = deepcopy(soln)\n",
    "bd_buffer = deepcopy(bd)\n",
    "bgs_buffer = deepcopy(bgs)\n",
    "\n",
    "# record fluid info\n",
    "u_buffer = deepcopy(u)\n",
    "t_buffer = t\n",
    "\n",
    "while true\n",
    "\n",
    "    # retain previous body state\n",
    "    soln = deepcopy(soln_buffer)\n",
    "    bd = deepcopy(bd_buffer)\n",
    "    bgs = deepcopy(bgs_buffer)\n",
    "\n",
    "    # integrate body force for body solver\n",
    "    for i = 1:bgs[1].np\n",
    "        bgs[1].f_ex3d[i][1] = DeVectorData(fᵢ)[i,1]\n",
    "        bgs[1].f_ex3d[i][3] = DeVectorData(fᵢ)[i,2]\n",
    "    end\n",
    "    bgs = IntegrateBodyGridDynamics(bd,bgs)\n",
    "    f_exi = zeros(bd.sys.nbody,6)\n",
    "    for i = 1:bd.sys.nbody\n",
    "        f_exi[i,:] = bgs[i].f_ex6d\n",
    "    end\n",
    "\n",
    "    # advance body solver for one step\n",
    "    soln, bd = herkbody(soln, bd; _isfixedstep=true, f_exi=f_exi);\n",
    "\n",
    "    # acquire vel and coord of body points for fluid computation\n",
    "    bgs = AcquireBodyGridKinematics(bd,bgs)\n",
    "    coord = hcat(bgs[1].q_i...)'[:,[1,2]]\n",
    "    motion = hcat(bgs[1].v_i...)'[:,[1,2]]\n",
    "\n",
    "    # retain previous fluid state\n",
    "    u = deepcopy(u_buffer)\n",
    "    t = t_buffer\n",
    "\n",
    "    # advance fluid solver for one step\n",
    "    u = (u[1],[coord motion][:])\n",
    "    t, u, f = ifherk(t,u)\n",
    "\n",
    "    # check if converge\n",
    "    ϵ = norm(f[1] - fᵢ)\n",
    "    if ϵ < tol\n",
    "        break\n",
    "    end\n",
    "\n",
    "    # if not converge, use relaxation\n",
    "    fᵢ = (1-ω)*fᵢ + ω*f[1]*Δx^2\n",
    "\n",
    "    # loop count\n",
    "    print(\"count \",cnt,\", ϵ = \",ϵ,\"\\n\")\n",
    "    cnt += 1\n",
    "\n",
    "end"
   ]
  },
  {
   "cell_type": "code",
   "execution_count": null,
   "metadata": {},
   "outputs": [],
   "source": [
    "# converged for this timestep\n",
    "\n",
    "# record body info\n",
    "push!(solns, soln)\n",
    "push!(vs, VertsHistory(system.nbody, bd.bs))\n",
    "\n",
    "# record fluid info\n",
    "push!(thist,t)\n",
    "push!(fx,sum(f[1].u)*Δx^2)\n",
    "push!(fy,sum(f[1].v)*Δx^2)\n",
    "(isapprox(mod(t,tsample),0,atol=1e-12) || isapprox(mod(t,tsample),tsample,atol=1e-12)) ? push!(uhist,u) : nothing"
   ]
  },
  {
   "cell_type": "code",
   "execution_count": null,
   "metadata": {
    "scrolled": true
   },
   "outputs": [],
   "source": [
    "@time for ti in T\n",
    "    t, u, f = ifherk(t,u)\n",
    "    \n",
    "    # save data for later use\n",
    "    push!(thist,t)\n",
    "    push!(fx,sum(f[1].u)*Δx^2)\n",
    "    push!(fy,sum(f[1].v)*Δx^2)\n",
    "    (isapprox(mod(t,tsample),0,atol=1e-12) || isapprox(mod(t,tsample),tsample,atol=1e-12)) ? push!(uhist,u) : nothing\n",
    "end\n",
    "println(\"solution completed through time t = \",t)"
   ]
  },
  {
   "cell_type": "code",
   "execution_count": null,
   "metadata": {},
   "outputs": [],
   "source": [
    "uhist"
   ]
  },
  {
   "cell_type": "code",
   "execution_count": null,
   "metadata": {
    "scrolled": true
   },
   "outputs": [],
   "source": [
    "plot(xg,yg,uhist[1][1],levels=linspace(-0.25,0.25,30))\n",
    "Tr = RigidTransform(uhist[1][2])\n",
    "Tr(body) # transform the body to the current configuration\n",
    "plot!(body,linecolor=:black)"
   ]
  },
  {
   "cell_type": "code",
   "execution_count": null,
   "metadata": {},
   "outputs": [],
   "source": [
    "px = plot(thist,2*fx,ylim=(-3,3),xlabel=\"Convective time\",ylabel=\"\\$C_D\\$\",legend=false)\n",
    "py = plot(thist,2*fy,ylim=(-6,6),xlabel=\"Convective time\",ylabel=\"\\$C_L\\$\",legend=false)\n",
    "plot(px,py)"
   ]
  },
  {
   "cell_type": "code",
   "execution_count": null,
   "metadata": {},
   "outputs": [],
   "source": [
    "ψ = deepcopy(u[1])\n",
    "ψ .= -(sys.L\\u[1])*Δx .+ repmat(collect(yg)',202,1)\n",
    "plot(xg,yg,ψ,trim=1,clim=(-0.1,0.1))\n",
    "plot!(body,fillcolor=:black,linecolor=:black)"
   ]
  },
  {
   "cell_type": "code",
   "execution_count": null,
   "metadata": {},
   "outputs": [],
   "source": []
  }
 ],
 "metadata": {
  "kernelspec": {
   "display_name": "Julia 0.6.2",
   "language": "julia",
   "name": "julia-0.6"
  },
  "language_info": {
   "file_extension": ".jl",
   "mimetype": "application/julia",
   "name": "julia",
   "version": "0.6.2"
  }
 },
 "nbformat": 4,
 "nbformat_minor": 2
}
