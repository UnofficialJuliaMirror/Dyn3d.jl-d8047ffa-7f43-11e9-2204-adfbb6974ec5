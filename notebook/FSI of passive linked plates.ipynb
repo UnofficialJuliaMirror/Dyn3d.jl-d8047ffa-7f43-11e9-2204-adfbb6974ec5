{
 "cells": [
  {
   "cell_type": "markdown",
   "metadata": {},
   "source": [
    "# Navier-Stokes with a pivot-fixed falling flat plate \n",
    "## Using `Whirl` and `Dyn3d`"
   ]
  },
  {
   "cell_type": "code",
   "execution_count": 1,
   "metadata": {},
   "outputs": [],
   "source": [
    "include(joinpath(Pkg.dir(\"Whirl\"), \"src/Whirl.jl\"))\n",
    "using Whirl\n",
    "\n",
    "include(Pkg.dir(\"Dyn3d\")*\"/src/Dyn3d.jl\")\n",
    "using Dyn3d"
   ]
  },
  {
   "cell_type": "code",
   "execution_count": 2,
   "metadata": {},
   "outputs": [],
   "source": [
    "using Plots\n",
    "pyplot()\n",
    "clibrary(:colorbrewer)\n",
    "default(grid = false)"
   ]
  },
  {
   "cell_type": "markdown",
   "metadata": {},
   "source": [
    "## <span style=\"color:blue\"> Set up rigid body with Dyn3d"
   ]
  },
  {
   "cell_type": "code",
   "execution_count": 3,
   "metadata": {},
   "outputs": [
    {
     "name": "stdout",
     "output_type": "stream",
     "text": [
      "Config info set up.\n"
     ]
    }
   ],
   "source": [
    "include(Pkg.dir(\"Dyn3d\")*\"/src/config_files/2dLink.jl\")"
   ]
  },
  {
   "cell_type": "markdown",
   "metadata": {},
   "source": [
    "#### Build joint-body chain"
   ]
  },
  {
   "cell_type": "code",
   "execution_count": 4,
   "metadata": {},
   "outputs": [
    {
     "data": {
      "text/plain": []
     },
     "execution_count": 4,
     "metadata": {},
     "output_type": "execute_result"
    }
   ],
   "source": [
    "# build joint-body chain\n",
    "bodys, joints, system = BuildChain(config_bodys, config_joints, config_system)\n",
    "bd = BodyDyn(bodys, joints, system)"
   ]
  },
  {
   "cell_type": "markdown",
   "metadata": {},
   "source": [
    "#### Initialize rigid body system state"
   ]
  },
  {
   "cell_type": "code",
   "execution_count": 5,
   "metadata": {},
   "outputs": [
    {
     "name": "stdout",
     "output_type": "stream",
     "text": [
      "This is a 2 body-joint system.\n",
      "System is fixed in space\n"
     ]
    }
   ],
   "source": [
    "# init system\n",
    "bd, soln = InitSystem!(bd)\n",
    "\n",
    "# init soln structure\n",
    "solns = (Soln)[]\n",
    "push!(solns, soln)\n",
    "\n",
    "# init VertsHistory struct\n",
    "vs = []\n",
    "push!(vs, VertsHistory(system.nbody, bd.bs));"
   ]
  },
  {
   "cell_type": "markdown",
   "metadata": {},
   "source": [
    "#### Set up HERKBody object"
   ]
  },
  {
   "cell_type": "code",
   "execution_count": 6,
   "metadata": {},
   "outputs": [
    {
     "data": {
      "text/plain": [
       "Order-3 HERK integrator.\n"
      ]
     },
     "execution_count": 6,
     "metadata": {},
     "output_type": "execute_result"
    }
   ],
   "source": [
    "herkbody = Dyn3d.HERKBody(system.num_params,HERKFuncM, HERKFuncGT, HERKFuncG,\n",
    "                (HERKFuncf,HERKFuncgti), (UpdatePosition!,UpdateVelocity!))"
   ]
  },
  {
   "cell_type": "markdown",
   "metadata": {},
   "source": [
    "#### Genrate body grid points and get linear velocity on them"
   ]
  },
  {
   "cell_type": "code",
   "execution_count": 7,
   "metadata": {
    "scrolled": true
   },
   "outputs": [],
   "source": [
    "# generate body points and fit it into 2d\n",
    "# note: np = (# of points on 1d plate - 1)*4+1. So np=101 has 26 points\n",
    "# and np=201 has 51 points, np=49 has 13 points\n",
    "\n",
    "bgs = GenerateBodyGrid(bd; np=201)\n",
    "bgs = CutOut2d(bd,bgs)\n",
    "bgs = AcquireBodyGridKinematics(bd,bgs)\n",
    "\n",
    "coord = hcat(bgs[1].q_i...)'[:,[1,2]]\n",
    "motion = hcat(bgs[1].v_i...)'[:,[1,2]]\n",
    "for i = 2:length(bgs)\n",
    "    coord = [coord[1:end-1,:]; hcat(bgs[i].q_i...)'[:,[1,2]]]\n",
    "    motion = [motion[1:end-1,:]; hcat(bgs[i].v_i...)'[:,[1,2]]]\n",
    "end"
   ]
  },
  {
   "cell_type": "markdown",
   "metadata": {},
   "source": [
    "#### Variable containers for all stages in IFHERK and HERKBody"
   ]
  },
  {
   "cell_type": "code",
   "execution_count": 8,
   "metadata": {},
   "outputs": [],
   "source": [
    "# Herk stages for both body and fluid solver\n",
    "NS = 3\n",
    "\n",
    "# Body kinematics container for ifherk input and herkbody output\n",
    "bkins = Vector{Array{Float64,2}}(NS)\n",
    "\n",
    "# Body force container for ifherk output(not integrated)\n",
    "fs = Vector{Array{Float64,2}}(NS)\n",
    "\n",
    "# Body force container for herkbody input(integrated)\n",
    "f_exis = [zeros(bd.sys.nbody,6) for i=1:NS]\n",
    "\n",
    "# All body info container\n",
    "bds = [bd for i=1:NS];"
   ]
  },
  {
   "cell_type": "markdown",
   "metadata": {},
   "source": [
    "#### Get body verts for plotting"
   ]
  },
  {
   "cell_type": "code",
   "execution_count": 9,
   "metadata": {},
   "outputs": [],
   "source": [
    "@get bd (bs, js, sys)\n",
    "bs, js, sys = UpdatePosition!(bs, js, sys, solns[1].qJ)\n",
    "vs₀ = VertsHistory(sys.nbody, bs);"
   ]
  },
  {
   "cell_type": "markdown",
   "metadata": {},
   "source": [
    "#### Plot body only"
   ]
  },
  {
   "cell_type": "code",
   "execution_count": 10,
   "metadata": {},
   "outputs": [
    {
     "data": {
      "image/png": "[encoded data removed]"
     },
     "execution_count": 10,
     "metadata": {},
     "output_type": "execute_result"
    }
   ],
   "source": [
    "p = plot()\n",
    "for i = 1:sys.nbody\n",
    "    plot!(p,vs₀[i,2:3,1], vs₀[i,2:3,2],linewidth=2)\n",
    "end\n",
    "plot!(xlims=(0,3), ylims=(0,2))"
   ]
  },
  {
   "cell_type": "markdown",
   "metadata": {},
   "source": [
    "## <span style=\"color:blue\"> Set up fluid solver with Whirl </span>"
   ]
  },
  {
   "cell_type": "markdown",
   "metadata": {},
   "source": [
    "#### Set the flow parameters"
   ]
  },
  {
   "cell_type": "code",
   "execution_count": 11,
   "metadata": {},
   "outputs": [],
   "source": [
    "Re = 200 # Reynolds number\n",
    "U = 1.0 # Free stream velocity\n",
    "U∞ = (U,0.0);"
   ]
  },
  {
   "cell_type": "markdown",
   "metadata": {},
   "source": [
    "#### Set the domain size and time step size"
   ]
  },
  {
   "cell_type": "code",
   "execution_count": 12,
   "metadata": {},
   "outputs": [
    {
     "data": {
      "text/plain": [
       "(-0.01:0.02:3.0100000000000002, -0.01:0.02:2.0100000000000002)"
      ]
     },
     "execution_count": 12,
     "metadata": {},
     "output_type": "execute_result"
    }
   ],
   "source": [
    "nx = 152; ny = 102;\n",
    "Ly = 2.0;\n",
    "Δx = Ly/(ny-2);\n",
    "Δt = min(0.5*Δx,0.5*Δx^2*Re)\n",
    "w₀ = Nodes(Dual,(nx,ny))\n",
    "xg, yg = coordinates(w₀,dx=Δx)"
   ]
  },
  {
   "cell_type": "markdown",
   "metadata": {},
   "source": [
    "#### Set up initial conditions"
   ]
  },
  {
   "cell_type": "code",
   "execution_count": 13,
   "metadata": {},
   "outputs": [],
   "source": [
    "t = 0.0\n",
    "w₀ .= 0.0\n",
    "tf = 2*Δt\n",
    "T = Δt:Δt:tf\n",
    "fx = Float64[]\n",
    "fy = Float64[]\n",
    "thist = []\n",
    "uhist = []\n",
    "tsample = 0.02;"
   ]
  },
  {
   "cell_type": "markdown",
   "metadata": {},
   "source": [
    "#### Get body points initial coordinates"
   ]
  },
  {
   "cell_type": "code",
   "execution_count": 14,
   "metadata": {},
   "outputs": [],
   "source": [
    "bgs = AcquireBodyGridKinematics(bd,bgs)\n",
    "coord = hcat(bgs[1].q_i...)'[:,[1,2]]\n",
    "for i = 2:length(bgs)\n",
    "    coord = [coord[1:end-1,:]; hcat(bgs[i].q_i...)'[:,[1,2]]]\n",
    "end\n",
    "coord_init = coord;"
   ]
  },
  {
   "cell_type": "markdown",
   "metadata": {},
   "source": [
    "#### Set up the Navier-Stokes  problem type"
   ]
  },
  {
   "cell_type": "code",
   "execution_count": 15,
   "metadata": {},
   "outputs": [
    {
     "data": {
      "text/plain": [
       "Navier-Stokes system on a grid of size 152 x 102"
      ]
     },
     "execution_count": 15,
     "metadata": {},
     "output_type": "execute_result"
    }
   ],
   "source": [
    "X̃ = VectorData(coord_init)\n",
    "sys = Systems.NavierStokes((nx,ny),Re,Δx,Δt,U∞ = U∞, X̃ = X̃, isstore = true, isstatic = false)"
   ]
  },
  {
   "cell_type": "markdown",
   "metadata": {},
   "source": [
    "## <span style=\"color:blue\"> Preparation for Time Marching </span>"
   ]
  },
  {
   "cell_type": "markdown",
   "metadata": {},
   "source": [
    "#### Constants for coupling"
   ]
  },
  {
   "cell_type": "code",
   "execution_count": 16,
   "metadata": {},
   "outputs": [
    {
     "data": {
      "text/plain": [
       "0.5"
      ]
     },
     "execution_count": 16,
     "metadata": {},
     "output_type": "execute_result"
    }
   ],
   "source": [
    "tol = 5e-4\n",
    "ω = (config_bodys[1].ρ)/(1.0+config_bodys[1].ρ)"
   ]
  },
  {
   "cell_type": "markdown",
   "metadata": {},
   "source": [
    "#### Create Body solver object of type HerkBody"
   ]
  },
  {
   "cell_type": "code",
   "execution_count": 17,
   "metadata": {},
   "outputs": [
    {
     "data": {
      "text/plain": [
       "Order-3 HERK integrator.\n"
      ]
     },
     "execution_count": 17,
     "metadata": {},
     "output_type": "execute_result"
    }
   ],
   "source": [
    "# construct body solver\n",
    "herk = HERKBody(system.num_params,HERKFuncM, HERKFuncGT, HERKFuncG,\n",
    "            (HERKFuncf,HERKFuncgti),\n",
    "            (UpdatePosition!,UpdateVelocity!))"
   ]
  },
  {
   "cell_type": "markdown",
   "metadata": {},
   "source": [
    "#### Create Fluid solver object of type IFHERK"
   ]
  },
  {
   "cell_type": "code",
   "execution_count": 18,
   "metadata": {},
   "outputs": [
    {
     "data": {
      "text/plain": [
       "Order-3 IF-HERK for fs interaction integrator with\n",
       "   State of type Whirl.Fields.Nodes{Whirl.Fields.Dual,152,102}\n",
       "   Force of type Whirl.Fields.VectorData{101}\n",
       "   Time step size 0.01\n"
      ]
     },
     "execution_count": 18,
     "metadata": {},
     "output_type": "execute_result"
    }
   ],
   "source": [
    "u = w₀\n",
    "f = VectorData(X̃)\n",
    "fs = [[f.u f.v] for i=1:NS]\n",
    "\n",
    "# construct fluid solver with uniform constant free stream\n",
    "ifherk_sc2d = Whirl.IFHERK_sc2d(u,f,sys.Δt,\n",
    "                (t,u) -> Systems.plan_intfact(t,u,sys),\n",
    "                (u,t,coord) -> Whirl.plan_constraints(u,t,sys,coord),\n",
    "                ((u,t) -> Whirl.r₁(u,t,sys),\n",
    "                 (u,t,motion) -> Whirl.r₂(u,t,sys,motion)),\n",
    "                coord_init,\n",
    "                tol=1e-3,rk=Whirl.TimeMarching.RK31,\n",
    "                isstored=true,isstaticconstraints=false)"
   ]
  },
  {
   "cell_type": "markdown",
   "metadata": {},
   "source": [
    "## <span style=\"color:blue\"> Time Marching! </span>"
   ]
  },
  {
   "cell_type": "markdown",
   "metadata": {},
   "source": [
    "#### Make timestep in Dyn3d and Whirl the same"
   ]
  },
  {
   "cell_type": "code",
   "execution_count": 19,
   "metadata": {},
   "outputs": [
    {
     "data": {
      "text/plain": [
       "101"
      ]
     },
     "execution_count": 19,
     "metadata": {},
     "output_type": "execute_result"
    }
   ],
   "source": [
    "soln.dt = Δt\n",
    "solns[1].dt = soln.dt\n",
    "\n",
    "# total number of body points in the fluid solver\n",
    "np_total = round(Int,length(f)/2)"
   ]
  },
  {
   "cell_type": "code",
   "execution_count": 20,
   "metadata": {
    "scrolled": true
   },
   "outputs": [
    {
     "name": "stdout",
     "output_type": "stream",
     "text": [
      "proposed fy at all stage: 0.0 0.0 0.0\n",
      "corrected fy at all stage: -51.94153584792282 8.85524050342671 24.49027609788738\n",
      "relaxation fy at all stage: -25.97076792396122 4.427620251713455 12.245138054498845\n",
      "\n",
      "iteration 1, ϵ = 4.30636159516871\n",
      "proposed fy at all stage: -25.97076792396122 4.427620251713455 12.245138054498845\n",
      "corrected fy at all stage: -52.71162136248944 232.75219003338754 245.62861496405262\n",
      "relaxation fy at all stage: -39.34119463190734 118.58990514254967 128.9368765070957\n",
      "\n",
      "iteration 2, ϵ = 144.55736883031204\n",
      "proposed fy at all stage: -39.34119463190734 118.58990514254967 128.9368765070957\n",
      "corrected fy at all stage: -54.443799876273125 377.8540280622124 1515.613645746812\n",
      "relaxation fy at all stage: -46.89249725372069 248.22196660238242 822.2752611248668\n",
      "\n",
      "iteration 3, ϵ = 1120.6269238479435\n",
      "proposed fy at all stage: -46.89249725372069 248.22196660238242 822.2752611248668\n",
      "corrected fy at all stage: -50.529029968318305 411.15053236416674 1537.6066480199042\n",
      "relaxation fy at all stage: -48.71076361372256 329.6862494832696 1179.9409545742417\n",
      "\n",
      "iteration 4, ϵ = 235.28110415302217\n",
      "proposed fy at all stage: -48.71076361372256 329.6862494832696 1179.9409545742417\n",
      "corrected fy at all stage: -45.59589216116386 396.10993289664844 -3658.457229371879\n",
      "relaxation fy at all stage: -47.15332788854441 362.89809118995026 -1239.2581373994399\n",
      "\n",
      "iteration 5, ϵ = 5287.499914022163\n",
      "proposed fy at all stage: -47.15332788854441 362.89809118995026 -1239.2581373994399\n",
      "corrected fy at all stage: -41.56384249307223 399.1824219380701 -70422.03102576785\n",
      "relaxation fy at all stage: -44.358585191247904 381.04025656399114 -35830.644581589426\n",
      "\n",
      "iteration 6, ϵ = 90449.03841018677\n",
      "proposed fy at all stage: -44.358585191247904 381.04025656399114 -35830.644581589426\n",
      "corrected fy at all stage: -38.47920761890307 347.58388266837596 8.2443876971537005e6\n",
      "relaxation fy at all stage: -41.418896404635895 364.312069616171 4.10427852635203e6\n",
      "\n",
      "iteration 7, ϵ = 9.52656384350586e6\n",
      "proposed fy at all stage: -41.418896404635895 364.312069616171 4.10427852635203e6\n",
      "corrected fy at all stage: -35.84820745431161 102.45277071610911 3.8365871633205295e8\n",
      "relaxation fy at all stage: -38.63355192951138 233.38242016615445 1.9388149740891618e8\n",
      "\n",
      "iteration 8, ϵ = 2.617100786671875e9\n"
     ]
    },
    {
     "ename": "LoadError",
     "evalue": "\u001b[91mInterruptException:\u001b[39m",
     "output_type": "error",
     "traceback": [
      "\u001b[91mInterruptException:\u001b[39m",
      "",
      "Stacktrace:",
      " [1] \u001b[1mAt_mul_B\u001b[22m\u001b[22m at \u001b[1m./linalg/rowvector.jl:207\u001b[22m\u001b[22m [inlined]",
      " [2] \u001b[1m(::Whirl.Fields.Regularize{101,false})\u001b[22m\u001b[22m\u001b[1m(\u001b[22m\u001b[22m::Whirl.Fields.Edges{Whirl.Fields.Primal,152,102}, ::Whirl.Fields.VectorData{101}\u001b[1m)\u001b[22m\u001b[22m at \u001b[1m/home/julia/JuliaPro-0.6.2.2/JuliaPro/pkgs-0.6.2.2/v0.6/Whirl/src/fields/regularization.jl:203\u001b[22m\u001b[22m",
      " [3] \u001b[1mWhirl.Fields.RegularizationMatrix\u001b[22m\u001b[22m\u001b[1m(\u001b[22m\u001b[22m::Whirl.Fields.Regularize{101,false}, ::Whirl.Fields.VectorData{101}, ::Whirl.Fields.Edges{Whirl.Fields.Primal,152,102}\u001b[1m)\u001b[22m\u001b[22m at \u001b[1m/home/julia/JuliaPro-0.6.2.2/JuliaPro/pkgs-0.6.2.2/v0.6/Whirl/src/fields/regularization.jl:261\u001b[22m\u001b[22m",
      " [4] \u001b[1mplan_constraints\u001b[22m\u001b[22m\u001b[1m(\u001b[22m\u001b[22m::Whirl.Fields.Nodes{Whirl.Fields.Dual,152,102}, ::Float64, ::Whirl.Systems.NavierStokes{152,102,101,false}, ::Array{Float64,2}\u001b[1m)\u001b[22m\u001b[22m at \u001b[1m/home/julia/JuliaPro-0.6.2.2/JuliaPro/pkgs-0.6.2.2/v0.6/Whirl/src/systems/navierstokes/fs_interaction.jl:40\u001b[22m\u001b[22m",
      " [5] \u001b[1m#construct_saddlesys#66\u001b[22m\u001b[22m\u001b[1m(\u001b[22m\u001b[22m::Bool, ::Function, ::##14#18, ::Whirl.Fields.IntFact{152,102,0.0625,false}, ::Whirl.Fields.Nodes{Whirl.Fields.Dual,152,102}, ::Whirl.Fields.VectorData{101}, ::Float64, ::Array{Float64,2}, ::Float64, ::Bool, ::Bool\u001b[1m)\u001b[22m\u001b[22m at \u001b[1m/home/julia/JuliaPro-0.6.2.2/JuliaPro/pkgs-0.6.2.2/v0.6/Whirl/src/timemarching/ifherk_sc2d.jl:160\u001b[22m\u001b[22m",
      " [6] \u001b[1mconstruct_saddlesys\u001b[22m\u001b[22m\u001b[1m(\u001b[22m\u001b[22m::##14#18, ::Whirl.Fields.IntFact{152,102,0.0625,false}, ::Whirl.Fields.Nodes{Whirl.Fields.Dual,152,102}, ::Whirl.Fields.VectorData{101}, ::Float64, ::Array{Float64,2}, ::Float64, ::Bool, ::Bool\u001b[1m)\u001b[22m\u001b[22m at \u001b[1m/home/julia/JuliaPro-0.6.2.2/JuliaPro/pkgs-0.6.2.2/v0.6/Whirl/src/timemarching/ifherk_sc2d.jl:160\u001b[22m\u001b[22m",
      " [7] \u001b[1m(::Whirl.TimeMarching.IFHERK_sc2d{3,Whirl.Fields.IntFact{152,102,a,false} where a,##15#19,##16#20,##14#18,Whirl.SaddlePointSystems.SaddleSystem{FA,Whirl.SaddlePointSystems.#A⁻¹B₁ᵀ#8{Whirl.Fields.VectorData{101}},Whirl.SaddlePointSystems.#B₂A⁻¹#9{Whirl.Fields.Nodes{Whirl.Fields.Dual,152,102}},Whirl.SaddlePointSystems.##4#10,Whirl.Fields.Nodes{Whirl.Fields.Dual,152,102},Whirl.Fields.VectorData{101},202,true} where FA,Whirl.Fields.Nodes{Whirl.Fields.Dual,152,102},Whirl.Fields.VectorData{101}})\u001b[22m\u001b[22m\u001b[1m(\u001b[22m\u001b[22m::Float64, ::Whirl.Fields.Nodes{Whirl.Fields.Dual,152,102}, ::Array{Array{Float64,2},1}\u001b[1m)\u001b[22m\u001b[22m at \u001b[1m/home/julia/JuliaPro-0.6.2.2/JuliaPro/pkgs-0.6.2.2/v0.6/Whirl/src/timemarching/ifherk_sc2d.jl:264\u001b[22m\u001b[22m",
      " [8] \u001b[1mmacro expansion\u001b[22m\u001b[22m at \u001b[1m./In[20]:70\u001b[22m\u001b[22m [inlined]",
      " [9] \u001b[1mmacro expansion\u001b[22m\u001b[22m at \u001b[1m./util.jl:237\u001b[22m\u001b[22m [inlined]",
      " [10] \u001b[1manonymous\u001b[22m\u001b[22m at \u001b[1m./<missing>:?\u001b[22m\u001b[22m",
      " [11] \u001b[1minclude_string\u001b[22m\u001b[22m\u001b[1m(\u001b[22m\u001b[22m::String, ::String\u001b[1m)\u001b[22m\u001b[22m at \u001b[1m./loading.jl:522\u001b[22m\u001b[22m"
     ]
    }
   ],
   "source": [
    "@time for t in T\n",
    "\n",
    "    iter = 1\n",
    "    fᵢ = fs.*Δx^2\n",
    "\n",
    "    # record body info\n",
    "    soln_buffer = deepcopy(soln)\n",
    "    bd_buffer = deepcopy(bd)\n",
    "    bgs_buffer = deepcopy(bgs)\n",
    "\n",
    "    # record fluid info\n",
    "    u_buffer = deepcopy(u)\n",
    "    t_buffer = t\n",
    "\n",
    "    while true\n",
    "\n",
    "        #--------------------------------------------------------\n",
    "        # get body state of the last timestep\n",
    "        soln = deepcopy(soln_buffer)\n",
    "        bd = deepcopy(bd_buffer)\n",
    "        bgs = deepcopy(bgs_buffer)\n",
    "\n",
    "        #--------------------------------------------------------\n",
    "        # integrate body forces from body points\n",
    "        for k = 1:NS\n",
    "            # assign fluid body points forces to bgs to integrate\n",
    "            b_cnt = 1\n",
    "            ref = 0\n",
    "            for i = 1:np_total\n",
    "                # move to the next bgs if i exceed bgs[b_cnt].np\n",
    "                if i > ref + bgs[b_cnt].np\n",
    "                    ref += bgs[b_cnt].np\n",
    "                    b_cnt += 1        \n",
    "                end\n",
    "                bgs[b_cnt].f_ex3d[i-ref][[1,2]] = fᵢ[k][i,:]\n",
    "            end\n",
    "\n",
    "            # integrate total forces from all body points on a body\n",
    "            bgs = IntegrateBodyGridDynamics(bd,bgs)\n",
    "            for i = 1:bd.sys.nbody\n",
    "                f_exis[k][i,:] = bgs[i].f_ex6d\n",
    "            end\n",
    "        end\n",
    "        \n",
    "        #--------------------------------------------------------\n",
    "        # advance body solver for one step        \n",
    "        bd = bds[NS]\n",
    "        soln, bds = herkbody(soln, bd; _isfixedstep=true, _outputmode=true, f_exi=f_exis);\n",
    "\n",
    "        #--------------------------------------------------------\n",
    "        # acquire vel and coord of body points for fluid computation\n",
    "        for k = 1:NS\n",
    "            bgs = AcquireBodyGridKinematics(bds[k],bgs)\n",
    "            coord = hcat(bgs[1].q_i...)'[:,[1,2]]\n",
    "            motion = hcat(bgs[1].v_i...)'[:,[1,2]]\n",
    "            for i = 2:length(bgs)\n",
    "                coord = [coord[1:end-1,:]; hcat(bgs[i].q_i...)'[:,[1,2]]]\n",
    "                motion = [motion[1:end-1,:]; hcat(bgs[i].v_i...)'[:,[1,2]]]\n",
    "            end\n",
    "            bkins[k] = [coord motion]\n",
    "        end\n",
    "        \n",
    "        #--------------------------------------------------------\n",
    "        # get fluid state of the last timestep\n",
    "        u = deepcopy(u_buffer)\n",
    "        t = t_buffer\n",
    "\n",
    "        #--------------------------------------------------------\n",
    "        # advance fluid solver for one step\n",
    "        t, u, f, fs = ifherk_sc2d(t,u,bkins)\n",
    "\n",
    "        #--------------------------------------------------------\n",
    "        # check if converge, use relaxation if not\n",
    "        ϵ = abs(sum(fs[NS]*Δx^2 - fᵢ[NS]))\n",
    "\n",
    "        if ϵ < tol break end\n",
    "\n",
    "        println(\"proposed fy at all stage: \", sum(fᵢ[1][:,2]),\" \", sum(fᵢ[2][:,2]),\" \", sum(fᵢ[3][:,2]))\n",
    "        println(\"corrected fy at all stage: \", sum(fs[1][:,2])*Δx^2,\" \", sum(fs[2][:,2])*Δx^2,\" \", sum(fs[3][:,2])*Δx^2)\n",
    "        \n",
    "        # if not converge, use relaxation\n",
    "        fᵢ = (1-ω)*fᵢ + ω*fs*Δx^2\n",
    "        \n",
    "        println(\"relaxation fy at all stage: \", sum(fᵢ[1][:,2]),\" \", sum(fᵢ[2][:,2]),\" \", sum(fᵢ[3][:,2]),\"\\n\")\n",
    "        println(\"iteration \",iter,\", ϵ = \",ϵ);\n",
    "        iter += 1\n",
    "        \n",
    "    end\n",
    "    # converged for this timestep\n",
    "    print(\"time = \", t-Δt, \" converged through \", iter, \" iterations\\n\")\n",
    "    \n",
    "    # record body info\n",
    "    push!(solns, soln)\n",
    "    push!(vs, VertsHistory(system.nbody, bd.bs))\n",
    "\n",
    "    # record fluid info\n",
    "    push!(thist,t)\n",
    "    push!(fx,sum(fᵢ[NS][:,1]))\n",
    "    push!(fy,sum(fᵢ[NS][:,2]))\n",
    "    push!(uhist,deepcopy(u))\n",
    "    \n",
    "end\n",
    "\n",
    "println(\"solution completed through time t = \",t)"
   ]
  },
  {
   "cell_type": "markdown",
   "metadata": {},
   "source": [
    "## <span style=\"color:blue\"> Plot </span>"
   ]
  },
  {
   "cell_type": "markdown",
   "metadata": {},
   "source": [
    "#### Get body verts history"
   ]
  },
  {
   "cell_type": "code",
   "execution_count": 21,
   "metadata": {},
   "outputs": [],
   "source": [
    "@get bd (bs, js, sys)\n",
    "\n",
    "# get verts info based on this regular grid solution\n",
    "vshist = []\n",
    "for i = 1:length(solns)\n",
    "    bs, js, sys = UpdatePosition!(bs, js, sys, solns[i].qJ)\n",
    "    push!(vshist, VertsHistory(sys.nbody, bs))\n",
    "end"
   ]
  },
  {
   "cell_type": "markdown",
   "metadata": {},
   "source": [
    "#### Plot first and last time field"
   ]
  },
  {
   "cell_type": "code",
   "execution_count": 22,
   "metadata": {},
   "outputs": [
    {
     "ename": "LoadError",
     "evalue": "\u001b[91mBoundsError: attempt to access 0-element Array{Any,1} at index [1]\u001b[39m",
     "output_type": "error",
     "traceback": [
      "\u001b[91mBoundsError: attempt to access 0-element Array{Any,1} at index [1]\u001b[39m",
      "",
      "Stacktrace:",
      " [1] \u001b[1mgetindex\u001b[22m\u001b[22m\u001b[1m(\u001b[22m\u001b[22m::Array{Any,1}, ::Int64\u001b[1m)\u001b[22m\u001b[22m at \u001b[1m./array.jl:554\u001b[22m\u001b[22m",
      " [2] \u001b[1minclude_string\u001b[22m\u001b[22m\u001b[1m(\u001b[22m\u001b[22m::String, ::String\u001b[1m)\u001b[22m\u001b[22m at \u001b[1m./loading.jl:522\u001b[22m\u001b[22m"
     ]
    }
   ],
   "source": [
    "p1 = plot(xg,yg,uhist[1],levels=linspace(-0.2,0.2,30))\n",
    "for i = 1:sys.nbody\n",
    "    plot!(p1,vshist[1][i,2:3,1], vshist[1][i,2:3,2],linewidth=2,linecolor=\"grey\")\n",
    "end\n",
    "p1"
   ]
  },
  {
   "cell_type": "code",
   "execution_count": 23,
   "metadata": {},
   "outputs": [
    {
     "ename": "LoadError",
     "evalue": "\u001b[91mBoundsError: attempt to access 0-element Array{Any,1} at index [0]\u001b[39m",
     "output_type": "error",
     "traceback": [
      "\u001b[91mBoundsError: attempt to access 0-element Array{Any,1} at index [0]\u001b[39m",
      "",
      "Stacktrace:",
      " [1] \u001b[1mgetindex\u001b[22m\u001b[22m\u001b[1m(\u001b[22m\u001b[22m::Array{Any,1}, ::Int64\u001b[1m)\u001b[22m\u001b[22m at \u001b[1m./array.jl:554\u001b[22m\u001b[22m",
      " [2] \u001b[1minclude_string\u001b[22m\u001b[22m\u001b[1m(\u001b[22m\u001b[22m::String, ::String\u001b[1m)\u001b[22m\u001b[22m at \u001b[1m./loading.jl:522\u001b[22m\u001b[22m"
     ]
    }
   ],
   "source": [
    "p2 = plot(xg,yg,uhist[end],levels=linspace(-0.2,0.2,30))\n",
    "for i = 1:sys.nbody\n",
    "    plot!(p2,vshist[end][i,2:3,1], vshist[end][i,2:3,2],linewidth=2,linecolor=\"grey\")\n",
    "end\n",
    "p2"
   ]
  },
  {
   "cell_type": "markdown",
   "metadata": {},
   "source": [
    "#### Body position begining and end"
   ]
  },
  {
   "cell_type": "code",
   "execution_count": 24,
   "metadata": {},
   "outputs": [
    {
     "data": {
      "image/png": "[encoded data removed]"
     },
     "execution_count": 24,
     "metadata": {},
     "output_type": "execute_result"
    }
   ],
   "source": [
    "pb = plot()\n",
    "for i = 1:sys.nbody\n",
    "    plot!(pb,vshist[1][i,2:3,1], vshist[1][i,2:3,2],linewidth=2,linecolor=\"grey\")\n",
    "end\n",
    "for i = 1:sys.nbody\n",
    "    plot!(pb,vshist[end][i,2:3,1], vshist[end][i,2:3,2],linewidth=2,linecolor=\"red\")\n",
    "end\n",
    "plot!(pb,xlims=(0,3), ylims=(0,2))\n",
    "pb"
   ]
  },
  {
   "cell_type": "markdown",
   "metadata": {},
   "source": [
    "#### Gif!"
   ]
  },
  {
   "cell_type": "code",
   "execution_count": 25,
   "metadata": {},
   "outputs": [
    {
     "ename": "LoadError",
     "evalue": "\u001b[91mfailed process: Process(`ffmpeg -v 0 -i /tmp/tmpWZGCOz/%06d.png -vf palettegen=stats_mode=diff -y /tmp/tmpWZGCOz/palette.bmp`, ProcessExited(1)) [1]\u001b[39m",
     "output_type": "error",
     "traceback": [
      "\u001b[91mfailed process: Process(`ffmpeg -v 0 -i /tmp/tmpWZGCOz/%06d.png -vf palettegen=stats_mode=diff -y /tmp/tmpWZGCOz/palette.bmp`, ProcessExited(1)) [1]\u001b[39m",
      "",
      "Stacktrace:",
      " [1] \u001b[1mpipeline_error\u001b[22m\u001b[22m\u001b[1m(\u001b[22m\u001b[22m::Base.Process\u001b[1m)\u001b[22m\u001b[22m at \u001b[1m./process.jl:682\u001b[22m\u001b[22m",
      " [2] \u001b[1mrun\u001b[22m\u001b[22m\u001b[1m(\u001b[22m\u001b[22m::Cmd\u001b[1m)\u001b[22m\u001b[22m at \u001b[1m./process.jl:651\u001b[22m\u001b[22m",
      " [3] \u001b[1m#buildanimation#330\u001b[22m\u001b[22m\u001b[1m(\u001b[22m\u001b[22m::Int64, ::Int64, ::Bool, ::Bool, ::Function, ::String, ::String, ::Bool\u001b[1m)\u001b[22m\u001b[22m at \u001b[1m/home/julia/JuliaPro-0.6.2.2/JuliaPro/pkgs-0.6.2.2/v0.6/Plots/src/animation.jl:82\u001b[22m\u001b[22m",
      " [4] \u001b[1m#gif#327\u001b[22m\u001b[22m\u001b[1m(\u001b[22m\u001b[22m::Array{Any,1}, ::Function, ::Plots.Animation, ::String\u001b[1m)\u001b[22m\u001b[22m at \u001b[1m/home/julia/JuliaPro-0.6.2.2/JuliaPro/pkgs-0.6.2.2/v0.6/Plots/src/animation.jl:63\u001b[22m\u001b[22m",
      " [5] \u001b[1mgif\u001b[22m\u001b[22m\u001b[1m(\u001b[22m\u001b[22m::Plots.Animation\u001b[1m)\u001b[22m\u001b[22m at \u001b[1m/home/julia/JuliaPro-0.6.2.2/JuliaPro/pkgs-0.6.2.2/v0.6/Plots/src/animation.jl:63\u001b[22m\u001b[22m",
      " [6] \u001b[1mmacro expansion\u001b[22m\u001b[22m at \u001b[1m/home/julia/JuliaPro-0.6.2.2/JuliaPro/pkgs-0.6.2.2/v0.6/Plots/src/animation.jl:156\u001b[22m\u001b[22m [inlined]",
      " [7] \u001b[1manonymous\u001b[22m\u001b[22m at \u001b[1m./<missing>:?\u001b[22m\u001b[22m",
      " [8] \u001b[1minclude_string\u001b[22m\u001b[22m\u001b[1m(\u001b[22m\u001b[22m::String, ::String\u001b[1m)\u001b[22m\u001b[22m at \u001b[1m./loading.jl:522\u001b[22m\u001b[22m"
     ]
    }
   ],
   "source": [
    "@gif for j = 1:length(uhist)\n",
    "    plot(xg,yg,uhist[j],levels=linspace(-0.2,0.2,30))\n",
    "    for i = 1:sys.nbody\n",
    "        plot!(vshist[j][i,2:3,1], vshist[j][i,2:3,2],linewidth=2,linecolor=\"grey\")\n",
    "    end\n",
    "end"
   ]
  },
  {
   "cell_type": "code",
   "execution_count": 26,
   "metadata": {
    "scrolled": true
   },
   "outputs": [
    {
     "data": {
      "image/png": "[encoded data removed]"
     },
     "execution_count": 26,
     "metadata": {},
     "output_type": "execute_result"
    }
   ],
   "source": [
    "px = plot(thist,2*fx,ylim=(-0.005,0.005),xlabel=\"Convective time\",ylabel=\"\\$C_D\\$\",legend=false)\n",
    "py = plot(thist,2*fy,ylim=(0.5,1.5),xlabel=\"Convective time\",ylabel=\"\\$C_L\\$\",legend=false)\n",
    "plot(px,py)"
   ]
  },
  {
   "cell_type": "code",
   "execution_count": 27,
   "metadata": {},
   "outputs": [
    {
     "data": {
      "text/plain": [
       "0-element Array{Float64,1}"
      ]
     },
     "execution_count": 27,
     "metadata": {},
     "output_type": "execute_result"
    }
   ],
   "source": [
    "fx"
   ]
  },
  {
   "cell_type": "code",
   "execution_count": 28,
   "metadata": {},
   "outputs": [
    {
     "data": {
      "text/plain": [
       "0-element Array{Float64,1}"
      ]
     },
     "execution_count": 28,
     "metadata": {},
     "output_type": "execute_result"
    }
   ],
   "source": [
    "fy"
   ]
  }
 ],
 "metadata": {
  "kernelspec": {
   "display_name": "Julia 0.6.2",
   "language": "julia",
   "name": "julia-0.6"
  },
  "language_info": {
   "file_extension": ".jl",
   "mimetype": "application/julia",
   "name": "julia",
   "version": "0.6.2"
  }
 },
 "nbformat": 4,
 "nbformat_minor": 2
}
