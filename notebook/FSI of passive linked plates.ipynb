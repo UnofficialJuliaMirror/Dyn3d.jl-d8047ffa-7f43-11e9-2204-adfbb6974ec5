{
 "cells": [
  {
   "cell_type": "markdown",
   "metadata": {},
   "source": [
    "# Navier-Stokes with a pivot-fixed falling flat plate \n",
    "## Using `Whirl` and `Dyn3d`"
   ]
  },
  {
   "cell_type": "code",
   "execution_count": 1,
   "metadata": {},
   "outputs": [],
   "source": [
    "include(joinpath(Pkg.dir(\"Whirl\"), \"src/Whirl.jl\"))\n",
    "using Whirl\n",
    "\n",
    "include(Pkg.dir(\"Dyn3d\")*\"/src/Dyn3d.jl\")\n",
    "using Dyn3d"
   ]
  },
  {
   "cell_type": "code",
   "execution_count": 2,
   "metadata": {},
   "outputs": [],
   "source": [
    "using Plots\n",
    "pyplot()\n",
    "clibrary(:colorbrewer)\n",
    "default(grid = false)"
   ]
  },
  {
   "cell_type": "markdown",
   "metadata": {},
   "source": [
    "## <span style=\"color:blue\"> Set up rigid body with Dyn3d"
   ]
  },
  {
   "cell_type": "code",
   "execution_count": 101,
   "metadata": {
    "scrolled": true
   },
   "outputs": [
    {
     "name": "stdout",
     "output_type": "stream",
     "text": [
      "Config info set up.\n"
     ]
    }
   ],
   "source": [
    "include(Pkg.dir(\"Dyn3d\")*\"/src/config_files/2dLink.jl\")"
   ]
  },
  {
   "cell_type": "markdown",
   "metadata": {},
   "source": [
    "#### Build joint-body chain"
   ]
  },
  {
   "cell_type": "code",
   "execution_count": 102,
   "metadata": {},
   "outputs": [
    {
     "data": {
      "text/plain": []
     },
     "execution_count": 102,
     "metadata": {},
     "output_type": "execute_result"
    }
   ],
   "source": [
    "# build joint-body chain\n",
    "bodys, joints, system = BuildChain(config_bodys, config_joints, \n",
    "                                   config_system)\n",
    "bd = BodyDyn(bodys, joints, system)"
   ]
  },
  {
   "cell_type": "markdown",
   "metadata": {},
   "source": [
    "#### Initialize rigid body system state"
   ]
  },
  {
   "cell_type": "code",
   "execution_count": 103,
   "metadata": {},
   "outputs": [
    {
     "name": "stdout",
     "output_type": "stream",
     "text": [
      "This is a 4 body-joint system.\n",
      "System is fixed in space\n"
     ]
    }
   ],
   "source": [
    "# init system\n",
    "bd, soln = InitSystem!(bd)\n",
    "\n",
    "# init soln structure\n",
    "solns = (Soln)[]\n",
    "push!(solns, soln)\n",
    "\n",
    "# init VertsHistory struct\n",
    "vs = []\n",
    "push!(vs, VertsHistory(system.nbody, bd.bs));"
   ]
  },
  {
   "cell_type": "markdown",
   "metadata": {},
   "source": [
    "#### Set up HERKBody object"
   ]
  },
  {
   "cell_type": "code",
   "execution_count": 104,
   "metadata": {},
   "outputs": [
    {
     "data": {
      "text/plain": [
       "Order-3 HERK integrator.\n"
      ]
     },
     "execution_count": 104,
     "metadata": {},
     "output_type": "execute_result"
    }
   ],
   "source": [
    "herkbody = Dyn3d.HERKBody(system.num_params,HERKFuncM, HERKFuncGT, HERKFuncG,\n",
    "                (HERKFuncf,HERKFuncgti), (UpdatePosition!,UpdateVelocity!))"
   ]
  },
  {
   "cell_type": "markdown",
   "metadata": {},
   "source": [
    "#### Genrate body grid points and get linear velocity on in"
   ]
  },
  {
   "cell_type": "code",
   "execution_count": 105,
   "metadata": {
    "scrolled": true
   },
   "outputs": [],
   "source": [
    "# generate body points and fit it into 2d, which each items choose [1,3] for 2d cases in [x,y]\n",
    "# note: np = (# of points on 1d plate - 1)*4+1. So np=101 has 26 points\n",
    "# and np=201 has 51 points, np=49 has 13 points\n",
    "\n",
    "bgs = GenerateBodyGrid(bd; np=201)\n",
    "bgs = CutOut2d(bd,bgs)\n",
    "bgs = AcquireBodyGridKinematics(bd,bgs)\n",
    "\n",
    "# generate the format for fluid interface\n",
    "coord = hcat(bgs[1].q_i...)'[:,[1,2]]\n",
    "motion = hcat(bgs[1].v_i...)'[:,[1,2]]\n",
    "for i = 2:length(bgs)\n",
    "    coord = [coord[1:end-1,:]; hcat(bgs[i].q_i...)'[:,[1,2]]]\n",
    "    motion = [motion[1:end-1,:]; hcat(bgs[i].v_i...)'[:,[1,2]]]\n",
    "end"
   ]
  },
  {
   "cell_type": "markdown",
   "metadata": {},
   "source": [
    "#### Get body verts for plotting"
   ]
  },
  {
   "cell_type": "code",
   "execution_count": 106,
   "metadata": {},
   "outputs": [],
   "source": [
    "@get bd (bs, js, sys)\n",
    "bs, js, sys = UpdatePosition!(bs, js, sys, solns[1].qJ)\n",
    "vs₀ = VertsHistory(sys.nbody, bs);"
   ]
  },
  {
   "cell_type": "code",
   "execution_count": 107,
   "metadata": {},
   "outputs": [
    {
     "data": {
      "image/png": "[encoded data removed]"
     },
     "execution_count": 107,
     "metadata": {},
     "output_type": "execute_result"
    }
   ],
   "source": [
    "p = plot()\n",
    "for i = 1:sys.nbody\n",
    "    plot!(p,vs₀[i,2:3,1], vs₀[i,2:3,2],linewidth=2)\n",
    "end\n",
    "plot!(xlims=(0,3), ylims=(0,2))"
   ]
  },
  {
   "cell_type": "markdown",
   "metadata": {},
   "source": [
    "## <span style=\"color:blue\"> Set up fluid solver with Whirl </span>"
   ]
  },
  {
   "cell_type": "markdown",
   "metadata": {},
   "source": [
    "Set the flow parameters"
   ]
  },
  {
   "cell_type": "code",
   "execution_count": 108,
   "metadata": {},
   "outputs": [],
   "source": [
    "Re = 200; # Reynolds number\n",
    "U = 1.0; # Free stream velocity\n",
    "U∞ = (U,0.0);"
   ]
  },
  {
   "cell_type": "markdown",
   "metadata": {},
   "source": [
    "Set the domain size and time step size"
   ]
  },
  {
   "cell_type": "code",
   "execution_count": 109,
   "metadata": {},
   "outputs": [
    {
     "data": {
      "text/plain": [
       "(-0.01:0.02:3.0100000000000002, -0.01:0.02:2.0100000000000002)"
      ]
     },
     "execution_count": 109,
     "metadata": {},
     "output_type": "execute_result"
    }
   ],
   "source": [
    "nx = 152; ny = 102;\n",
    "Ly = 2.0;\n",
    "Δx = Ly/(ny-2);\n",
    "Δt = min(0.5*Δx,0.5*Δx^2*Re)\n",
    "w₀ = Nodes(Dual,(nx,ny));\n",
    "xg, yg = coordinates(w₀,dx=Δx)"
   ]
  },
  {
   "cell_type": "markdown",
   "metadata": {},
   "source": [
    "#### Set up the Navier-Stokes  problem type"
   ]
  },
  {
   "cell_type": "code",
   "execution_count": 110,
   "metadata": {},
   "outputs": [
    {
     "data": {
      "text/plain": [
       "Navier-Stokes system on a grid of size 152 x 102"
      ]
     },
     "execution_count": 110,
     "metadata": {},
     "output_type": "execute_result"
    }
   ],
   "source": [
    "X̃ = VectorData(coord)\n",
    "sys = Systems.NavierStokes((nx,ny),Re,Δx,Δt,U∞ = U∞, X̃ = X̃, isstore = true, isstatic = false)"
   ]
  },
  {
   "cell_type": "markdown",
   "metadata": {},
   "source": [
    "#### Set up initial conditions"
   ]
  },
  {
   "cell_type": "code",
   "execution_count": 111,
   "metadata": {},
   "outputs": [],
   "source": [
    "t = 0.0\n",
    "w₀ .= 0.0\n",
    "tf = 20*Δt\n",
    "T = Δt:Δt:tf\n",
    "fx = Float64[]\n",
    "fy = Float64[]\n",
    "thist = []\n",
    "uhist = []\n",
    "tsample = 0.02;"
   ]
  },
  {
   "cell_type": "markdown",
   "metadata": {},
   "source": [
    "## <span style=\"color:blue\"> Preparation for Time Marching </span>"
   ]
  },
  {
   "cell_type": "markdown",
   "metadata": {},
   "source": [
    "#### Constants for coupling"
   ]
  },
  {
   "cell_type": "code",
   "execution_count": 112,
   "metadata": {},
   "outputs": [
    {
     "data": {
      "text/plain": [
       "0.5"
      ]
     },
     "execution_count": 112,
     "metadata": {},
     "output_type": "execute_result"
    }
   ],
   "source": [
    "tol = 5e-4\n",
    "soln.dt = Δt\n",
    "ω = (config_bodys[1].ρ)/(1.0+config_bodys[1].ρ)"
   ]
  },
  {
   "cell_type": "markdown",
   "metadata": {},
   "source": [
    "#### Helper function to convert VectorData type"
   ]
  },
  {
   "cell_type": "code",
   "execution_count": 113,
   "metadata": {},
   "outputs": [
    {
     "data": {
      "text/plain": [
       "* (generic function with 287 methods)"
      ]
     },
     "execution_count": 113,
     "metadata": {},
     "output_type": "execute_result"
    }
   ],
   "source": [
    "import Base: +,*\n",
    "function (+)(a::VectorData, b::VectorData)\n",
    "    c = VectorData(a)\n",
    "    c.u .= a.u .+ b.u\n",
    "    c.v .= a.v .+ b.v\n",
    "    return c\n",
    "end\n",
    "\n",
    "function (*)(ω::T, a::VectorData) where T<: Real\n",
    "    c = VectorData(a)\n",
    "    c.u .= ω.*a.u\n",
    "    c.v .= ω.*a.v\n",
    "    return c\n",
    "end\n",
    "\n",
    "function (*)(a::VectorData,ω::T) where T<: Real\n",
    "    c = VectorData(a)\n",
    "    c.u .= ω.*a.u\n",
    "    c.v .= ω.*a.v\n",
    "    return c\n",
    "end"
   ]
  },
  {
   "cell_type": "markdown",
   "metadata": {},
   "source": [
    "#### Create Body solver object of type HerkBody"
   ]
  },
  {
   "cell_type": "code",
   "execution_count": 114,
   "metadata": {},
   "outputs": [
    {
     "data": {
      "text/plain": [
       "Order-3 HERK integrator.\n"
      ]
     },
     "execution_count": 114,
     "metadata": {},
     "output_type": "execute_result"
    }
   ],
   "source": [
    "# construct body solver\n",
    "herk = HERKBody(system.num_params,HERKFuncM, HERKFuncGT, HERKFuncG,\n",
    "            (HERKFuncf,HERKFuncgti),\n",
    "            (UpdatePosition!,UpdateVelocity!))"
   ]
  },
  {
   "cell_type": "markdown",
   "metadata": {},
   "source": [
    "#### Create Fluid solver object of type IFHERK"
   ]
  },
  {
   "cell_type": "code",
   "execution_count": 115,
   "metadata": {},
   "outputs": [
    {
     "data": {
      "text/plain": [
       "Order-3 IF-HERK integrator with\n",
       "   State of type Tuple{Whirl.Fields.Nodes{Whirl.Fields.Dual,152,102},Array{Float64,1}}\n",
       "   Force of type Tuple{Whirl.Fields.VectorData{101},Array{Float64,1}}\n",
       "   Time step size 0.01\n"
      ]
     },
     "execution_count": 115,
     "metadata": {},
     "output_type": "execute_result"
    }
   ],
   "source": [
    "u = (w₀,[coord motion][:])\n",
    "f = (VectorData(X̃),Vector{Float64}())\n",
    "\n",
    "# number of constraints (4*total number of body points)\n",
    "nc = length(u[2])\n",
    "\n",
    "# construct fluid solver with uniform constant free stream\n",
    "ifherk = Whirl.IFHERK(u,f,sys.Δt,\n",
    "                ((t,u) -> Systems.plan_intfact(t,u,sys),\n",
    "                 (t,u) -> eye(nc)),\n",
    "                (u,t) -> Whirl.plan_constraints(u,t,sys),\n",
    "                ((u,t) -> Whirl.r₁(u,t,sys),\n",
    "                 (u,t) -> Whirl.r₂(u,t,sys)),\n",
    "                tol=1e-3,rk=Whirl.TimeMarching.RK31,\n",
    "                isstored=true,isstaticconstraints=false)"
   ]
  },
  {
   "cell_type": "markdown",
   "metadata": {},
   "source": [
    "## <span style=\"color:blue\"> Time Marching! </span>"
   ]
  },
  {
   "cell_type": "code",
   "execution_count": 116,
   "metadata": {
    "scrolled": true
   },
   "outputs": [
    {
     "name": "stdout",
     "output_type": "stream",
     "text": [
      "count 1, ϵ = 657.2948758450736\n",
      "\n",
      "count 2, ϵ = 328.6474379225368\n",
      "\n",
      "count 3, ϵ = 164.3237189612684\n",
      "\n",
      "count 4, ϵ = 82.1618594806342\n",
      "\n",
      "count 5, ϵ = 41.08092974031709\n",
      "\n",
      "count 6, ϵ = 20.54046487015854\n",
      "\n",
      "count 7, ϵ = 10.270232435079272\n",
      "\n",
      "count 8, ϵ = 5.13511621753962\n",
      "\n",
      "count 9, ϵ = 2.567558108769817\n",
      "\n",
      "count 10, ϵ = 1.2837790543849255\n",
      "\n",
      "count 11, ϵ = 0.6418895271924617\n",
      "\n",
      "count 12, ϵ = 0.3209447635962359\n",
      "\n",
      "count 13, ϵ = 0.1604723817981096\n",
      "\n",
      "count 14, ϵ = 0.08023619089905797\n",
      "\n",
      "count 15, ϵ = 0.04011809544953707\n",
      "\n",
      "count 16, ϵ = 0.020059047724764592\n",
      "\n",
      "count 17, ϵ = 0.010029523862386137\n",
      "\n",
      "count 18, ϵ = 0.005014761931198142\n",
      "\n",
      "count 19, ϵ = 0.0025073809655985118\n",
      "\n",
      "count 20, ϵ = 0.001253690482813772\n",
      "\n",
      "count 21, ϵ = 0.0006268452413963555\n",
      "\n",
      "time = 0.02 converged through 22 iterations\n",
      "count 1, ϵ = 768.885887424546\n",
      "\n",
      "count 2, ϵ = 384.442943712273\n",
      "\n",
      "count 3, ϵ = 192.22147185613653\n",
      "\n",
      "count 4, ϵ = 96.11073592806827\n",
      "\n",
      "count 5, ϵ = 48.05536796403413\n",
      "\n",
      "count 6, ϵ = 24.027683982017063\n",
      "\n",
      "count 7, ϵ = 12.013841991008533\n",
      "\n",
      "count 8, ϵ = 6.006920995504267\n",
      "\n",
      "count 9, ϵ = 3.0034604977521324\n",
      "\n",
      "count 10, ϵ = 1.5017302488760655\n",
      "\n",
      "count 11, ϵ = 0.7508651244380318\n",
      "\n",
      "count 12, ϵ = 0.3754325622190156\n",
      "\n",
      "count 13, ϵ = 0.18771628110950764\n",
      "\n",
      "count 14, ϵ = 0.09385814055475289\n",
      "\n",
      "count 15, ϵ = 0.046929070277375785\n",
      "\n",
      "count 16, ϵ = 0.02346453513868737\n",
      "\n",
      "count 17, ϵ = 0.011732267569346262\n",
      "\n",
      "count 18, ϵ = 0.005866133784673404\n",
      "\n",
      "count 19, ϵ = 0.002933066892335092\n",
      "\n",
      "count 20, ϵ = 0.001466533446168238\n",
      "\n",
      "count 21, ϵ = 0.0007332667230838672\n",
      "\n",
      "time = 0.03 converged through 22 iterations\n",
      "count 1, ϵ = 15.776122870622308\n",
      "\n",
      "count 2, ϵ = 7.888061435311155\n",
      "\n",
      "count 3, ϵ = 3.9440307176555787\n",
      "\n",
      "count 4, ϵ = 1.9720153588277887\n",
      "\n",
      "count 5, ϵ = 0.9860076794138953\n",
      "\n",
      "count 6, ϵ = 0.4930038397069461\n",
      "\n",
      "count 7, ϵ = 0.24650191985347297\n",
      "\n",
      "count 8, ϵ = 0.12325095992673703\n",
      "\n",
      "count 9, ϵ = 0.06162547996336888\n",
      "\n",
      "count 10, ϵ = 0.03081273998168211\n",
      "\n",
      "count 11, ϵ = 0.015406369990841074\n",
      "\n",
      "count 12, ϵ = 0.007703184995420721\n",
      "\n",
      "count 13, ϵ = 0.003851592497709191\n",
      "\n",
      "count 14, ϵ = 0.001925796248854355\n",
      "\n",
      "count 15, ϵ = 0.0009628981244286253\n",
      "\n",
      "time = 0.04 converged through 16 iterations\n",
      "count 1, ϵ = 14.063794428899836\n",
      "\n",
      "count 2, ϵ = 7.031897214449918\n",
      "\n",
      "count 3, ϵ = 3.5159486072249595\n",
      "\n",
      "count 4, ϵ = 1.7579743036124797\n",
      "\n",
      "count 5, ϵ = 0.8789871518062408\n",
      "\n",
      "count 6, ϵ = 0.4394935759031197\n",
      "\n",
      "count 7, ϵ = 0.21974678795155808\n",
      "\n",
      "count 8, ϵ = 0.10987339397577847\n",
      "\n",
      "count 9, ϵ = 0.054936696987889895\n",
      "\n",
      "count 10, ϵ = 0.027468348493944035\n",
      "\n",
      "count 11, ϵ = 0.013734174246973338\n",
      "\n",
      "count 12, ϵ = 0.006867087123486493\n",
      "\n",
      "count 13, ϵ = 0.0034335435617432125\n",
      "\n",
      "count 14, ϵ = 0.001716771780873143\n",
      "\n",
      "count 15, ϵ = 0.0008583858904373838\n",
      "\n",
      "time = 0.05 converged through 16 iterations\n",
      "count 1, ϵ = 12.19001810820167\n",
      "\n",
      "count 2, ϵ = 6.095009054100835\n",
      "\n",
      "count 3, ϵ = 3.0475045270504175\n",
      "\n",
      "count 4, ϵ = 1.5237522635252099\n",
      "\n",
      "count 5, ϵ = 0.7618761317626043\n",
      "\n",
      "count 6, ϵ = 0.38093806588130036\n",
      "\n",
      "count 7, ϵ = 0.19046903294064962\n",
      "\n",
      "count 8, ϵ = 0.09523451647032413\n",
      "\n",
      "count 9, ϵ = 0.04761725823516244\n",
      "\n",
      "count 10, ϵ = 0.02380862911758073\n",
      "\n",
      "count 11, ϵ = 0.011904314558790924\n",
      "\n",
      "count 12, ϵ = 0.005952157279394857\n",
      "\n",
      "count 13, ϵ = 0.0029760786396963754\n",
      "\n",
      "count 14, ϵ = 0.0014880393198473591\n",
      "\n",
      "count 15, ϵ = 0.0007440196599229846\n",
      "\n",
      "time = 0.060000000000000005 converged through 16 iterations\n",
      "count 1, ϵ = 9.785660447503206\n",
      "\n",
      "count 2, ϵ = 4.892830223751603\n",
      "\n",
      "count 3, ϵ = 2.4464151118758015\n",
      "\n",
      "count 4, ϵ = 1.2232075559379014\n",
      "\n",
      "count 5, ϵ = 0.6116037779689496\n",
      "\n",
      "count 6, ϵ = 0.30580188898447425\n",
      "\n",
      "count 7, ϵ = 0.1529009444922365\n",
      "\n",
      "count 8, ϵ = 0.07645047224611799\n",
      "\n",
      "count 9, ϵ = 0.03822523612305957\n",
      "\n",
      "count 10, ϵ = 0.019112618061530147\n",
      "\n",
      "count 11, ϵ = 0.009556309030765441\n",
      "\n",
      "count 12, ϵ = 0.004778154515382955\n",
      "\n",
      "count 13, ϵ = 0.002389077257691913\n",
      "\n",
      "count 14, ϵ = 0.0011945386288464753\n",
      "\n",
      "count 15, ϵ = 0.0005972693144235895\n",
      "\n",
      "time = 0.06999999999999999 converged through 16 iterations\n",
      "count 1, ϵ = 7.416953198585055\n",
      "\n",
      "count 2, ϵ = 3.7084765992925277\n",
      "\n",
      "count 3, ϵ = 1.854238299646264\n",
      "\n",
      "count 4, ϵ = 0.9271191498231319\n",
      "\n",
      "count 5, ϵ = 0.4635595749115659\n",
      "\n",
      "count 6, ϵ = 0.231779787455784\n",
      "\n",
      "count 7, ϵ = 0.11588989372789155\n",
      "\n",
      "count 8, ϵ = 0.057944946863945794\n",
      "\n",
      "count 9, ϵ = 0.028972473431973404\n",
      "\n",
      "count 10, ϵ = 0.0144862367159873\n",
      "\n",
      "count 11, ϵ = 0.007243118357993197\n",
      "\n",
      "count 12, ϵ = 0.003621559178997283\n",
      "\n",
      "count 13, ϵ = 0.001810779589499297\n",
      "\n",
      "count 14, ϵ = 0.0009053897947493345\n",
      "\n",
      "time = 0.08 converged through 15 iterations\n",
      "count 1, ϵ = 5.626046336160641\n",
      "\n",
      "count 2, ϵ = 2.813023168080321\n",
      "\n"
     ]
    },
    {
     "ename": "LoadError",
     "evalue": "\u001b[91mInterruptException:\u001b[39m",
     "output_type": "error",
     "traceback": [
      "\u001b[91mInterruptException:\u001b[39m",
      "",
      "Stacktrace:",
      " [1] \u001b[1mbroadcast_t\u001b[22m\u001b[22m at \u001b[1m./broadcast.jl:268\u001b[22m\u001b[22m [inlined]",
      " [2] \u001b[1mbroadcast_c\u001b[22m\u001b[22m at \u001b[1m./broadcast.jl:316\u001b[22m\u001b[22m [inlined]",
      " [3] \u001b[1mbroadcast\u001b[22m\u001b[22m at \u001b[1m./broadcast.jl:455\u001b[22m\u001b[22m [inlined]",
      " [4] \u001b[1m-\u001b[22m\u001b[22m\u001b[1m(\u001b[22m\u001b[22m::Float64, ::Array{Float64,1}\u001b[1m)\u001b[22m\u001b[22m at \u001b[1m./arraymath.jl:45\u001b[22m\u001b[22m",
      " [5] \u001b[1m(::Whirl.Fields.Regularize{101,false})\u001b[22m\u001b[22m\u001b[1m(\u001b[22m\u001b[22m::Whirl.Fields.Edges{Whirl.Fields.Primal,152,102}, ::Whirl.Fields.VectorData{101}\u001b[1m)\u001b[22m\u001b[22m at \u001b[1m/home/julia/JuliaPro-0.6.2.2/JuliaPro/pkgs-0.6.2.2/v0.6/Whirl/src/fields/regularization.jl:208\u001b[22m\u001b[22m",
      " [6] \u001b[1mWhirl.Fields.RegularizationMatrix\u001b[22m\u001b[22m\u001b[1m(\u001b[22m\u001b[22m::Whirl.Fields.Regularize{101,false}, ::Whirl.Fields.VectorData{101}, ::Whirl.Fields.Edges{Whirl.Fields.Primal,152,102}\u001b[1m)\u001b[22m\u001b[22m at \u001b[1m/home/julia/JuliaPro-0.6.2.2/JuliaPro/pkgs-0.6.2.2/v0.6/Whirl/src/fields/regularization.jl:261\u001b[22m\u001b[22m",
      " [7] \u001b[1mplan_constraints\u001b[22m\u001b[22m\u001b[1m(\u001b[22m\u001b[22m::Tuple{Whirl.Fields.Nodes{Whirl.Fields.Dual,152,102},Array{Float64,1}}, ::Float64, ::Whirl.Systems.NavierStokes{152,102,101,false}\u001b[1m)\u001b[22m\u001b[22m at \u001b[1m/home/julia/JuliaPro-0.6.2.2/JuliaPro/pkgs-0.6.2.2/v0.6/Whirl/src/systems/navierstokes/fs_interaction.jl:58\u001b[22m\u001b[22m",
      " [8] \u001b[1m#construct_saddlesys#38\u001b[22m\u001b[22m\u001b[1m(\u001b[22m\u001b[22m::Bool, ::Function, ::##73#78, ::Tuple{Whirl.Fields.IntFact{152,102,0.0625,false},Array{Float64,2}}, ::Tuple{Whirl.Fields.Nodes{Whirl.Fields.Dual,152,102},Array{Float64,1}}, ::Tuple{Whirl.Fields.VectorData{101},Array{Float64,1}}, ::Float64, ::Float64, ::Bool, ::Bool\u001b[1m)\u001b[22m\u001b[22m at \u001b[1m/home/julia/JuliaPro-0.6.2.2/JuliaPro/pkgs-0.6.2.2/v0.6/Whirl/src/timemarching/ifherk.jl:178\u001b[22m\u001b[22m",
      " [9] \u001b[1mconstruct_saddlesys\u001b[22m\u001b[22m\u001b[1m(\u001b[22m\u001b[22m::##73#78, ::Tuple{Whirl.Fields.IntFact{152,102,0.0625,false},Array{Float64,2}}, ::Tuple{Whirl.Fields.Nodes{Whirl.Fields.Dual,152,102},Array{Float64,1}}, ::Tuple{Whirl.Fields.VectorData{101},Array{Float64,1}}, ::Float64, ::Float64, ::Bool, ::Bool\u001b[1m)\u001b[22m\u001b[22m at \u001b[1m/home/julia/JuliaPro-0.6.2.2/JuliaPro/pkgs-0.6.2.2/v0.6/Whirl/src/timemarching/ifherk.jl:178\u001b[22m\u001b[22m",
      " [10] \u001b[1m(::Whirl.TimeMarching.IFHERK{3,Tuple{Whirl.Fields.IntFact{152,102,a,false} where a,Array{Float64,2}},##74#79,##75#80,##73#78,Tuple{Whirl.SaddlePointSystems.SaddleSystem{FA,Whirl.SaddlePointSystems.#A⁻¹B₁ᵀ#8{Whirl.Fields.VectorData{101}},Whirl.SaddlePointSystems.#B₂A⁻¹#9{Whirl.Fields.Nodes{Whirl.Fields.Dual,152,102}},Whirl.SaddlePointSystems.##4#10,Whirl.Fields.Nodes{Whirl.Fields.Dual,152,102},Whirl.Fields.VectorData{101},202,true} where FA,Whirl.SaddlePointSystems.SaddleSystem{Whirl.SaddlePointSystems.##3#6{Tuple{Array{Float64,2},Whirl.Systems.##11#19{Tuple{Whirl.Fields.Nodes{Whirl.Fields.Dual,152,102},Array{Float64,1}}},Whirl.Systems.##13#21}},Whirl.SaddlePointSystems.#A⁻¹B₁ᵀ#8{Array{Float64,1}},Whirl.SaddlePointSystems.#B₂A⁻¹#9{Array{Float64,1}},Whirl.SaddlePointSystems.##4#10,Array{Float64,1},Array{Float64,1},0,true}},Tuple{Whirl.Fields.Nodes{Whirl.Fields.Dual,152,102},Array{Float64,1}},Tuple{Whirl.Fields.VectorData{101},Array{Float64,1}}})\u001b[22m\u001b[22m\u001b[1m(\u001b[22m\u001b[22m::Float64, ::Tuple{Whirl.Fields.Nodes{Whirl.Fields.Dual,152,102},Array{Float64,1}}\u001b[1m)\u001b[22m\u001b[22m at \u001b[1m/home/julia/JuliaPro-0.6.2.2/JuliaPro/pkgs-0.6.2.2/v0.6/Whirl/src/timemarching/ifherk.jl:249\u001b[22m\u001b[22m",
      " [11] \u001b[1mmacro expansion\u001b[22m\u001b[22m at \u001b[1m./In[116]:50\u001b[22m\u001b[22m [inlined]",
      " [12] \u001b[1mmacro expansion\u001b[22m\u001b[22m at \u001b[1m./util.jl:237\u001b[22m\u001b[22m [inlined]",
      " [13] \u001b[1manonymous\u001b[22m\u001b[22m at \u001b[1m./<missing>:?\u001b[22m\u001b[22m",
      " [14] \u001b[1minclude_string\u001b[22m\u001b[22m\u001b[1m(\u001b[22m\u001b[22m::String, ::String\u001b[1m)\u001b[22m\u001b[22m at \u001b[1m./loading.jl:522\u001b[22m\u001b[22m"
     ]
    }
   ],
   "source": [
    "@time for t in T\n",
    "\n",
    "    cnt = 1\n",
    "    fᵢ = f[1]*Δx^2\n",
    "\n",
    "    # record body info\n",
    "    soln_buffer = deepcopy(soln)\n",
    "    bd_buffer = deepcopy(bd)\n",
    "    bgs_buffer = deepcopy(bgs)\n",
    "\n",
    "    # record fluid info\n",
    "    u_buffer = deepcopy(u)\n",
    "    t_buffer = t\n",
    "\n",
    "    while true\n",
    "\n",
    "        # get body state of the last timestep\n",
    "        soln = deepcopy(soln_buffer)\n",
    "        bd = deepcopy(bd_buffer)\n",
    "        bgs = deepcopy(bgs_buffer)\n",
    "\n",
    "        # integrate body force for body solver\n",
    "        for i = 1:bgs[1].np\n",
    "            bgs[1].f_ex3d[i][1] = fᵢ.u[i]\n",
    "            bgs[1].f_ex3d[i][3] = fᵢ.v[i]\n",
    "        end\n",
    "        bgs = IntegrateBodyGridDynamics(bd,bgs)\n",
    "        f_exi = zeros(bd.sys.nbody,6)\n",
    "        for i = 1:bd.sys.nbody\n",
    "            f_exi[i,:] = bgs[i].f_ex6d\n",
    "        end\n",
    "\n",
    "        # advance body solver for one step\n",
    "        soln, bd = herkbody(soln, bd; _isfixedstep=true, f_exi=f_exi);\n",
    "\n",
    "        # acquire vel and coord of body points for fluid computation\n",
    "        coord = hcat(bgs[1].q_i...)'[:,[1,2]]\n",
    "        motion = hcat(bgs[1].v_i...)'[:,[1,2]]\n",
    "        for i = 2:length(bgs)\n",
    "            coord = [coord[1:end-1,:]; hcat(bgs[i].q_i...)'[:,[1,2]]]\n",
    "            motion = [motion[1:end-1,:]; hcat(bgs[i].v_i...)'[:,[1,2]]]\n",
    "        end\n",
    "\n",
    "        # get fluid state of the last timestep\n",
    "        u = deepcopy(u_buffer)\n",
    "        t = t_buffer\n",
    "\n",
    "        # advance fluid solver for one step\n",
    "        u = (u[1],[coord motion][:])\n",
    "        t, u, f = ifherk(t,u)\n",
    "\n",
    "        # check if converge\n",
    "        ϵ = norm(f[1]*Δx^2 - fᵢ)\n",
    "        if ϵ < tol break end\n",
    "\n",
    "#         println(\"proposed fy:\", sum(fᵢ.v))\n",
    "#         println(\"corrected fy:\", sum(f[1].v)*Δx^2)\n",
    "        \n",
    "        # if not converge, use relaxation\n",
    "        fᵢ = (1-ω)*fᵢ + ω*(f[1])*Δx^2\n",
    "        \n",
    "#         println(\"relaxation fy:\", sum(fᵢ.v),\"\\n\")\n",
    "        println(\"count \",cnt,\", ϵ = \",ϵ);\n",
    "        cnt += 1\n",
    "\n",
    "    end\n",
    "\n",
    "    # converged for this timestep\n",
    "    print(\"time = \", t, \" converged through \", cnt, \" iterations\\n\")\n",
    "    \n",
    "    # record body info\n",
    "    push!(solns, soln)\n",
    "    push!(vs, VertsHistory(system.nbody, bd.bs))\n",
    "\n",
    "    # record fluid info\n",
    "    push!(thist,t)\n",
    "    push!(fx,sum(fᵢ.u))\n",
    "    push!(fy,sum(fᵢ.v))\n",
    "    push!(uhist,deepcopy(u))\n",
    "    \n",
    "end\n",
    "\n",
    "println(\"solution completed through time t = \",t)"
   ]
  },
  {
   "cell_type": "markdown",
   "metadata": {},
   "source": [
    "#### Get body verts history"
   ]
  },
  {
   "cell_type": "code",
   "execution_count": 117,
   "metadata": {},
   "outputs": [],
   "source": [
    "@get bd (bs, js, sys)\n",
    "\n",
    "# get verts info based on this regular grid solution\n",
    "vshist = []\n",
    "for i = 1:length(solns)\n",
    "    bs, js, sys = UpdatePosition!(bs, js, sys, solns[i].qJ)\n",
    "    push!(vshist, VertsHistory(sys.nbody, bs))\n",
    "end"
   ]
  },
  {
   "cell_type": "markdown",
   "metadata": {},
   "source": [
    "#### Plot first and last time field and body"
   ]
  },
  {
   "cell_type": "code",
   "execution_count": 128,
   "metadata": {
    "scrolled": true
   },
   "outputs": [
    {
     "data": {
      "image/png": "[encoded data removed]"
     },
     "execution_count": 128,
     "metadata": {},
     "output_type": "execute_result"
    }
   ],
   "source": [
    "p1 = plot(xg,yg,uhist[1][1],levels=linspace(-1,1,80))\n",
    "for i = 1:sys.nbody\n",
    "    plot!(p1,vshist[1][i,2:3,1], vshist[1][i,2:3,2],linewidth=2,linecolor=\"grey\")\n",
    "end\n",
    "p1"
   ]
  },
  {
   "cell_type": "code",
   "execution_count": 125,
   "metadata": {
    "scrolled": true
   },
   "outputs": [
    {
     "data": {
      "image/png": "[encoded data removed]"
     },
     "execution_count": 125,
     "metadata": {},
     "output_type": "execute_result"
    }
   ],
   "source": [
    "p1 = plot(xg,yg,uhist[end][1],levels=linspace(-1,1,80))\n",
    "for i = 1:sys.nbody\n",
    "    plot!(p1,vshist[end][i,2:3,1], vshist[end][i,2:3,2],linewidth=2,linecolor=\"grey\")\n",
    "end\n",
    "p1"
   ]
  },
  {
   "cell_type": "markdown",
   "metadata": {},
   "source": [
    "#### Gif!"
   ]
  },
  {
   "cell_type": "code",
   "execution_count": 130,
   "metadata": {},
   "outputs": [
    {
     "name": "stderr",
     "output_type": "stream",
     "text": [
      "\u001b[1m\u001b[36mINFO: \u001b[39m\u001b[22m\u001b[36mSaved animation to /media/ruizhi/Seagate Expansion Drive/Research/Dyn3d.jl/notebook/tmp.gif\n",
      "\u001b[39m"
     ]
    },
    {
     "data": {
      "text/html": [
       "<img src=\"tmp.gif?0.4419168788761041>\" />"
      ],
      "text/plain": [
       "Plots.AnimatedGif(\"/media/ruizhi/Seagate Expansion Drive/Research/Dyn3d.jl/notebook/tmp.gif\")"
      ]
     },
     "execution_count": 130,
     "metadata": {},
     "output_type": "execute_result"
    }
   ],
   "source": [
    "@gif for j = 1:length(uhist)\n",
    "    p1 = plot(xg,yg,uhist[1][1],levels=linspace(-1,1,80))\n",
    "    for i = 1:sys.nbody\n",
    "        plot!(p1,vshist[j][i,2:3,1], vshist[j][i,2:3,2],linewidth=2,linecolor=\"grey\")\n",
    "    end\n",
    "    plot!(xlims=(0.5,2.5), ylims=(0,2))\n",
    "end"
   ]
  },
  {
   "cell_type": "markdown",
   "metadata": {},
   "source": [
    "#### force history"
   ]
  },
  {
   "cell_type": "code",
   "execution_count": 121,
   "metadata": {},
   "outputs": [
    {
     "ename": "LoadError",
     "evalue": "\u001b[91mMethodError: no method matching min(::Array{Float64,1})\u001b[0m\nClosest candidates are:\n  min(::AbstractArray{T1<:Real,N} where N, \u001b[91m::Real\u001b[39m) where T1<:Real at deprecated.jl:56\n  min(::AbstractArray{T1<:Real,N} where N, \u001b[91m::AbstractArray{T2<:Real,N} where N\u001b[39m) where {T1<:Real, T2<:Real} at deprecated.jl:56\n  min(::Any, \u001b[91m::Any\u001b[39m) at operators.jl:361\n  ...\u001b[39m",
     "output_type": "error",
     "traceback": [
      "\u001b[91mMethodError: no method matching min(::Array{Float64,1})\u001b[0m\nClosest candidates are:\n  min(::AbstractArray{T1<:Real,N} where N, \u001b[91m::Real\u001b[39m) where T1<:Real at deprecated.jl:56\n  min(::AbstractArray{T1<:Real,N} where N, \u001b[91m::AbstractArray{T2<:Real,N} where N\u001b[39m) where {T1<:Real, T2<:Real} at deprecated.jl:56\n  min(::Any, \u001b[91m::Any\u001b[39m) at operators.jl:361\n  ...\u001b[39m",
      "",
      "Stacktrace:",
      " [1] \u001b[1minclude_string\u001b[22m\u001b[22m\u001b[1m(\u001b[22m\u001b[22m::String, ::String\u001b[1m)\u001b[22m\u001b[22m at \u001b[1m./loading.jl:522\u001b[22m\u001b[22m"
     ]
    }
   ],
   "source": [
    "px = plot(thist,2*fx,ylim=(min(2*fx),max(2*fx)),xlabel=\"Convective time\",ylabel=\"\\$C_D\\$\",legend=false)\n",
    "py = plot(thist,2*fy,ylim=(min(2*fy),max(2*fy)),xlabel=\"Convective time\",ylabel=\"\\$C_L\\$\",legend=false)\n",
    "plot(px,py)"
   ]
  },
  {
   "cell_type": "code",
   "execution_count": 122,
   "metadata": {},
   "outputs": [
    {
     "data": {
      "text/plain": [
       "7-element Array{Float64,1}:\n",
       " -49.3108  \n",
       "   1.11953 \n",
       "   1.08678 \n",
       "   1.0559  \n",
       "   1.03045 \n",
       "   1.01076 \n",
       "   0.996222"
      ]
     },
     "execution_count": 122,
     "metadata": {},
     "output_type": "execute_result"
    }
   ],
   "source": [
    "fx"
   ]
  },
  {
   "cell_type": "code",
   "execution_count": 123,
   "metadata": {},
   "outputs": [
    {
     "data": {
      "text/plain": [
       "7-element Array{Float64,1}:\n",
       " 42.6624  \n",
       " -0.539219\n",
       " -0.596289\n",
       " -0.643854\n",
       " -0.680944\n",
       " -0.710155\n",
       " -0.734222"
      ]
     },
     "execution_count": 123,
     "metadata": {},
     "output_type": "execute_result"
    }
   ],
   "source": [
    "fy"
   ]
  },
  {
   "cell_type": "code",
   "execution_count": null,
   "metadata": {},
   "outputs": [],
   "source": []
  }
 ],
 "metadata": {
  "kernelspec": {
   "display_name": "Julia 0.6.2",
   "language": "julia",
   "name": "julia-0.6"
  },
  "language_info": {
   "file_extension": ".jl",
   "mimetype": "application/julia",
   "name": "julia",
   "version": "0.6.2"
  }
 },
 "nbformat": 4,
 "nbformat_minor": 2
}
