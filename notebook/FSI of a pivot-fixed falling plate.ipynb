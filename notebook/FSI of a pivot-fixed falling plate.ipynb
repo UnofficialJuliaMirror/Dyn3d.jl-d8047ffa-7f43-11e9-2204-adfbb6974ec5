{
 "cells": [
  {
   "cell_type": "markdown",
   "metadata": {},
   "source": [
    "# Navier-Stokes with a pivot-fixed falling flat plate \n",
    "## Using `Whirl` and `Dyn3d`"
   ]
  },
  {
   "cell_type": "code",
   "execution_count": 38,
   "metadata": {},
   "outputs": [],
   "source": [
    "include(joinpath(Pkg.dir(\"Whirl\"), \"src/Whirl.jl\"))\n",
    "using Whirl\n",
    "\n",
    "include(Pkg.dir(\"Dyn3d\")*\"/src/Dyn3d.jl\")\n",
    "using Dyn3d"
   ]
  },
  {
   "cell_type": "code",
   "execution_count": 39,
   "metadata": {},
   "outputs": [],
   "source": [
    "using Plots\n",
    "pyplot()\n",
    "clibrary(:colorbrewer)\n",
    "default(grid = false)"
   ]
  },
  {
   "cell_type": "markdown",
   "metadata": {},
   "source": [
    "## <span style=\"color:blue\"> Set up rigid body with Dyn3d"
   ]
  },
  {
   "cell_type": "code",
   "execution_count": 40,
   "metadata": {},
   "outputs": [
    {
     "name": "stdout",
     "output_type": "stream",
     "text": [
      "Config info set up.\n"
     ]
    }
   ],
   "source": [
    "include(Pkg.dir(\"Dyn3d\")*\"/src/config_files/2dFall.jl\")"
   ]
  },
  {
   "cell_type": "markdown",
   "metadata": {},
   "source": [
    "#### Build joint-body chain"
   ]
  },
  {
   "cell_type": "code",
   "execution_count": 41,
   "metadata": {},
   "outputs": [
    {
     "data": {
      "text/plain": []
     },
     "execution_count": 41,
     "metadata": {},
     "output_type": "execute_result"
    }
   ],
   "source": [
    "# build joint-body chain\n",
    "bodys, joints, system = BuildChain(config_bodys, config_joints, config_system)\n",
    "bd = BodyDyn(bodys, joints, system)"
   ]
  },
  {
   "cell_type": "markdown",
   "metadata": {},
   "source": [
    "#### Initialize rigid body system state"
   ]
  },
  {
   "cell_type": "code",
   "execution_count": 42,
   "metadata": {},
   "outputs": [
    {
     "name": "stdout",
     "output_type": "stream",
     "text": [
      "This is a 1 body-joint system.\n",
      "System is fixed in space\n"
     ]
    }
   ],
   "source": [
    "# init system\n",
    "bd, soln = InitSystem!(bd)\n",
    "\n",
    "# init soln structure\n",
    "solns = (Soln)[]\n",
    "push!(solns, soln)\n",
    "\n",
    "# init VertsHistory struct\n",
    "vs = []\n",
    "push!(vs, VertsHistory(system.nbody, bd.bs));"
   ]
  },
  {
   "cell_type": "markdown",
   "metadata": {},
   "source": [
    "#### Set up HERKBody object"
   ]
  },
  {
   "cell_type": "code",
   "execution_count": 43,
   "metadata": {},
   "outputs": [
    {
     "data": {
      "text/plain": [
       "Order-3 HERK integrator.\n"
      ]
     },
     "execution_count": 43,
     "metadata": {},
     "output_type": "execute_result"
    }
   ],
   "source": [
    "herkbody = Dyn3d.HERKBody(system.num_params,HERKFuncM, HERKFuncGT, HERKFuncG,\n",
    "                (HERKFuncf,HERKFuncgti), (UpdatePosition!,UpdateVelocity!))"
   ]
  },
  {
   "cell_type": "markdown",
   "metadata": {},
   "source": [
    "#### Genrate body grid points and get linear velocity on them"
   ]
  },
  {
   "cell_type": "code",
   "execution_count": 44,
   "metadata": {
    "scrolled": true
   },
   "outputs": [],
   "source": [
    "# generate body points and fit it into 2d\n",
    "# note: np = (# of points on 1d plate - 1)*4+1. So np=101 has 26 points\n",
    "# and np=201 has 51 points, np=49 has 13 points\n",
    "\n",
    "bgs = GenerateBodyGrid(bd; np=201)\n",
    "bgs = CutOut2d(bd,bgs)\n",
    "bgs = AcquireBodyGridKinematics(bd,bgs)\n",
    "\n",
    "coord = hcat(bgs[1].q_i...)'[:,[1,2]]\n",
    "motion = hcat(bgs[1].v_i...)'[:,[1,2]]\n",
    "for i = 2:length(bgs)\n",
    "    coord = [coord[1:end-1,:]; hcat(bgs[i].q_i...)'[:,[1,2]]]\n",
    "    motion = [motion[1:end-1,:]; hcat(bgs[i].v_i...)'[:,[1,2]]]\n",
    "end"
   ]
  },
  {
   "cell_type": "markdown",
   "metadata": {},
   "source": [
    "#### Variable containers for all stages in IFHERK and HERKBody"
   ]
  },
  {
   "cell_type": "code",
   "execution_count": 45,
   "metadata": {},
   "outputs": [],
   "source": [
    "# Herk stages for both body and fluid solver\n",
    "NS = 3\n",
    "\n",
    "# Body kinematics container for ifherk input and herkbody output\n",
    "bkins = Vector{Array{Float64,2}}(NS)\n",
    "\n",
    "# Body force container for ifherk output(not integrated)\n",
    "fs = Vector{Array{Float64,2}}(NS)\n",
    "\n",
    "# Body force container for herkbody input(integrated)\n",
    "f_exis = [zeros(bd.sys.nbody,6) for i=1:NS]\n",
    "\n",
    "# All body info container\n",
    "bds = [bd for i=1:NS];"
   ]
  },
  {
   "cell_type": "markdown",
   "metadata": {},
   "source": [
    "#### Prepare for the special treatment on the first timestep"
   ]
  },
  {
   "cell_type": "code",
   "execution_count": 46,
   "metadata": {},
   "outputs": [],
   "source": [
    "# using Interpolations\n",
    "\n",
    "# coords_init2 = Array{Float64,2}[]\n",
    "# motions_init2 = Array{Float64,2}[]\n",
    "# push!(coords_init2,coord)\n",
    "# push!(motions_init2,motion);"
   ]
  },
  {
   "cell_type": "markdown",
   "metadata": {},
   "source": [
    "#### Get body verts for plotting"
   ]
  },
  {
   "cell_type": "code",
   "execution_count": 47,
   "metadata": {},
   "outputs": [],
   "source": [
    "@get bd (bs, js, sys)\n",
    "bs, js, sys = UpdatePosition!(bs, js, sys, solns[1].qJ)\n",
    "vs₀ = VertsHistory(sys.nbody, bs);"
   ]
  },
  {
   "cell_type": "markdown",
   "metadata": {},
   "source": [
    "#### Plot body only"
   ]
  },
  {
   "cell_type": "code",
   "execution_count": 48,
   "metadata": {},
   "outputs": [
    {
     "data": {
      "image/png": "[encoded data removed]"
     },
     "execution_count": 48,
     "metadata": {},
     "output_type": "execute_result"
    }
   ],
   "source": [
    "p = plot()\n",
    "for i = 1:sys.nbody\n",
    "    plot!(p,vs₀[i,2:3,1], vs₀[i,2:3,2],linewidth=2)\n",
    "end\n",
    "plot!(xlims=(0,3), ylims=(0,2))"
   ]
  },
  {
   "cell_type": "markdown",
   "metadata": {},
   "source": [
    "## <span style=\"color:blue\"> Set up fluid solver with Whirl </span>"
   ]
  },
  {
   "cell_type": "markdown",
   "metadata": {},
   "source": [
    "#### Set the flow parameters"
   ]
  },
  {
   "cell_type": "code",
   "execution_count": 49,
   "metadata": {},
   "outputs": [],
   "source": [
    "Re = 200 # Reynolds number\n",
    "U = 1.0 # Free stream velocity\n",
    "U∞ = (0.0,U);"
   ]
  },
  {
   "cell_type": "markdown",
   "metadata": {},
   "source": [
    "#### Set the domain size and time step size"
   ]
  },
  {
   "cell_type": "code",
   "execution_count": 50,
   "metadata": {},
   "outputs": [
    {
     "data": {
      "text/plain": [
       "(-0.01:0.02:3.0100000000000002, -0.01:0.02:2.0100000000000002)"
      ]
     },
     "execution_count": 50,
     "metadata": {},
     "output_type": "execute_result"
    }
   ],
   "source": [
    "nx = 152; ny = 102;\n",
    "Ly = 2.0;\n",
    "Δx = Ly/(ny-2);\n",
    "Δt = min(0.5*Δx,0.5*Δx^2*Re)\n",
    "w₀ = Nodes(Dual,(nx,ny))\n",
    "xg, yg = coordinates(w₀,dx=Δx)"
   ]
  },
  {
   "cell_type": "markdown",
   "metadata": {},
   "source": [
    "#### Set up initial conditions"
   ]
  },
  {
   "cell_type": "code",
   "execution_count": 51,
   "metadata": {},
   "outputs": [],
   "source": [
    "t = 0.0\n",
    "w₀ .= 0.0\n",
    "tf = 2*Δt\n",
    "T = Δt:Δt:tf\n",
    "fx = Float64[]\n",
    "fy = Float64[]\n",
    "thist = []\n",
    "uhist = []\n",
    "tsample = 0.02;"
   ]
  },
  {
   "cell_type": "markdown",
   "metadata": {},
   "source": [
    "#### Get body points initial coordinates"
   ]
  },
  {
   "cell_type": "code",
   "execution_count": 52,
   "metadata": {},
   "outputs": [],
   "source": [
    "bgs = AcquireBodyGridKinematics(bd,bgs)\n",
    "coord = hcat(bgs[1].q_i...)'[:,[1,2]]\n",
    "for i = 2:length(bgs)\n",
    "    coord = [coord[1:end-1,:]; hcat(bgs[i].q_i...)'[:,[1,2]]]\n",
    "end\n",
    "coord_init = coord;"
   ]
  },
  {
   "cell_type": "markdown",
   "metadata": {},
   "source": [
    "#### Set up the Navier-Stokes  problem type"
   ]
  },
  {
   "cell_type": "code",
   "execution_count": 53,
   "metadata": {},
   "outputs": [
    {
     "data": {
      "text/plain": [
       "Navier-Stokes system on a grid of size 152 x 102"
      ]
     },
     "execution_count": 53,
     "metadata": {},
     "output_type": "execute_result"
    }
   ],
   "source": [
    "X̃ = VectorData(coord_init)\n",
    "sys = Systems.NavierStokes((nx,ny),Re,Δx,Δt,U∞ = U∞, X̃ = X̃, isstore = true, isstatic = false)"
   ]
  },
  {
   "cell_type": "markdown",
   "metadata": {},
   "source": [
    "## <span style=\"color:blue\"> Preparation for Time Marching </span>"
   ]
  },
  {
   "cell_type": "markdown",
   "metadata": {},
   "source": [
    "#### Constants for coupling"
   ]
  },
  {
   "cell_type": "code",
   "execution_count": 54,
   "metadata": {},
   "outputs": [
    {
     "data": {
      "text/plain": [
       "0.5"
      ]
     },
     "execution_count": 54,
     "metadata": {},
     "output_type": "execute_result"
    }
   ],
   "source": [
    "tol = 5e-4\n",
    "ω = (config_bodys[1].ρ)/(1.0+config_bodys[1].ρ)"
   ]
  },
  {
   "cell_type": "markdown",
   "metadata": {},
   "source": [
    "#### Create Body solver object of type HerkBody"
   ]
  },
  {
   "cell_type": "code",
   "execution_count": 55,
   "metadata": {},
   "outputs": [
    {
     "data": {
      "text/plain": [
       "Order-3 HERK integrator.\n"
      ]
     },
     "execution_count": 55,
     "metadata": {},
     "output_type": "execute_result"
    }
   ],
   "source": [
    "# construct body solver\n",
    "herk = HERKBody(system.num_params,HERKFuncM, HERKFuncGT, HERKFuncG,\n",
    "            (HERKFuncf,HERKFuncgti),\n",
    "            (UpdatePosition!,UpdateVelocity!))"
   ]
  },
  {
   "cell_type": "markdown",
   "metadata": {},
   "source": [
    "#### Create Fluid solver object of type IFHERK"
   ]
  },
  {
   "cell_type": "code",
   "execution_count": 56,
   "metadata": {},
   "outputs": [
    {
     "data": {
      "text/plain": [
       "Order-3 IF-HERK for fs interaction integrator with\n",
       "   State of type Whirl.Fields.Nodes{Whirl.Fields.Dual,152,102}\n",
       "   Force of type Whirl.Fields.VectorData{51}\n",
       "   Time step size 0.01\n"
      ]
     },
     "execution_count": 56,
     "metadata": {},
     "output_type": "execute_result"
    }
   ],
   "source": [
    "u = w₀\n",
    "f = VectorData(X̃)\n",
    "f_init = [[f.u f.v] for i=1:NS]\n",
    "\n",
    "# construct fluid solver with uniform constant free stream\n",
    "ifherk_sc2d = Whirl.IFHERK_sc2d(u,f,sys.Δt,\n",
    "                (t,u) -> Systems.plan_intfact(t,u,sys),\n",
    "                (u,t,coord) -> Whirl.plan_constraints(u,t,sys,coord),\n",
    "                ((u,t) -> Whirl.r₁(u,t,sys),\n",
    "                 (u,t,motion) -> Whirl.r₂(u,t,sys,motion)),\n",
    "                coord_init,\n",
    "                tol=1e-3,rk=Whirl.TimeMarching.RK31,\n",
    "                isstored=true,isstaticconstraints=false)"
   ]
  },
  {
   "cell_type": "markdown",
   "metadata": {},
   "source": [
    "#### Make timestep in Dyn3d and Whirl the same"
   ]
  },
  {
   "cell_type": "code",
   "execution_count": 57,
   "metadata": {},
   "outputs": [
    {
     "data": {
      "text/plain": [
       "51"
      ]
     },
     "execution_count": 57,
     "metadata": {},
     "output_type": "execute_result"
    }
   ],
   "source": [
    "soln.dt = Δt\n",
    "solns[1].dt = soln.dt\n",
    "\n",
    "# total number of body points in the fluid solver\n",
    "np_total = round(Int,length(f)/2)"
   ]
  },
  {
   "cell_type": "markdown",
   "metadata": {},
   "source": [
    "## <span style=\"color:blue\"> First timestep special treatment </span>"
   ]
  },
  {
   "cell_type": "markdown",
   "metadata": {},
   "source": [
    "#### Advance the first timestep without coupling for both fluid and body"
   ]
  },
  {
   "cell_type": "code",
   "execution_count": 58,
   "metadata": {},
   "outputs": [],
   "source": [
    "t = Δt\n",
    "\n",
    "# advance body solver for the first step with default zero external forces     \n",
    "soln, bds = herkbody(soln, bd; _isfixedstep=true, _outputmode=true)\n",
    "\n",
    "# acquire vel and coord of body points for fluid computation\n",
    "for k = 1:NS\n",
    "    bgs = AcquireBodyGridKinematics(bds[k],bgs)\n",
    "    coord = hcat(bgs[1].q_i...)'[:,[1,2]]\n",
    "    motion = hcat(bgs[1].v_i...)'[:,[1,2]]\n",
    "    for i = 2:length(bgs)\n",
    "        coord = [coord[1:end-1,:]; hcat(bgs[i].q_i...)'[:,[1,2]]]\n",
    "        motion = [motion[1:end-1,:]; hcat(bgs[i].v_i...)'[:,[1,2]]]\n",
    "    end\n",
    "    bkins[k] = [coord motion]\n",
    "end\n",
    "\n",
    "# advance fluid solver for the first step\n",
    "t, u, f, fs = ifherk_sc2d(t,u,bkins);"
   ]
  },
  {
   "cell_type": "markdown",
   "metadata": {},
   "source": [
    "#### Record solution for this non-coupling step"
   ]
  },
  {
   "cell_type": "code",
   "execution_count": 59,
   "metadata": {},
   "outputs": [],
   "source": [
    "# record body info\n",
    "push!(solns, soln)\n",
    "push!(vs, VertsHistory(system.nbody, bd.bs))\n",
    "\n",
    "# record fluid info\n",
    "push!(thist,t)\n",
    "push!(fx,sum(fs[NS][:,1]))\n",
    "push!(fy,sum(fs[NS][:,2]))\n",
    "push!(uhist,deepcopy(u));"
   ]
  },
  {
   "cell_type": "markdown",
   "metadata": {},
   "source": [
    "#### For iterations below, reset external force for body back to 0"
   ]
  },
  {
   "cell_type": "code",
   "execution_count": 60,
   "metadata": {},
   "outputs": [
    {
     "data": {
      "text/plain": [
       "3-element Array{Array{Float64,2},1}:\n",
       " [0.0 0.0; 0.0 0.0; … ; 0.0 0.0; 0.0 0.0]\n",
       " [0.0 0.0; 0.0 0.0; … ; 0.0 0.0; 0.0 0.0]\n",
       " [0.0 0.0; 0.0 0.0; … ; 0.0 0.0; 0.0 0.0]"
      ]
     },
     "execution_count": 60,
     "metadata": {},
     "output_type": "execute_result"
    }
   ],
   "source": [
    "fs = f_init"
   ]
  },
  {
   "cell_type": "markdown",
   "metadata": {},
   "source": [
    "#### Proceed body solver for sup_n*Δt, and use sup_n linear interpolation of this as fluid solver b.c. for several timesteps, with each Δt"
   ]
  },
  {
   "cell_type": "code",
   "execution_count": 61,
   "metadata": {},
   "outputs": [],
   "source": [
    "# sup_n = 2\n",
    "# soln.dt = sup_n*Δt\n",
    "# solns[1].dt = soln.dt;"
   ]
  },
  {
   "cell_type": "code",
   "execution_count": 62,
   "metadata": {
    "scrolled": true
   },
   "outputs": [],
   "source": [
    "# fᵢ = f[1]*Δx^2\n",
    "\n",
    "# # integrate body force for body solver\n",
    "# for i = 1:bgs[1].np\n",
    "#     bgs[1].f_ex3d[i][1] = fᵢ.u[i]\n",
    "#     bgs[1].f_ex3d[i][3] = fᵢ.v[i]\n",
    "# end\n",
    "# bgs = IntegrateBodyGridDynamics(bd,bgs)\n",
    "# f_exi = zeros(bd.sys.nbody,6)\n",
    "# for i = 1:bd.sys.nbody\n",
    "#     f_exi[i,:] = bgs[i].f_ex6d\n",
    "# end\n",
    "\n",
    "# # advance body solver for 2Δt as one step\n",
    "# soln, bd = herkbody(soln, bd; _isfixedstep=true, f_exi=f_exi);\n",
    "\n",
    "# # acquire vel and coord of body points for fluid computation\n",
    "# bgs = AcquireBodyGridKinematics(bd,bgs)\n",
    "# coord = hcat(bgs[1].q_i...)'[:,[1,2]]\n",
    "# motion = hcat(bgs[1].v_i...)'[:,[1,2]]\n",
    "# for i = 2:length(bgs)\n",
    "#     coord = [coord[1:end-1,:]; hcat(bgs[i].q_i...)'[:,[1,2]]]\n",
    "#     motion = [motion[1:end-1,:]; hcat(bgs[i].v_i...)'[:,[1,2]]]\n",
    "# end\n",
    "\n",
    "# # record body info\n",
    "# push!(solns, soln)\n",
    "# push!(vs, VertsHistory(system.nbody, bd.bs))\n",
    "\n",
    "# # record for fluid interpolation\n",
    "# push!(coords_init2,coord)\n",
    "# push!(motions_init2,motion);"
   ]
  },
  {
   "cell_type": "markdown",
   "metadata": {},
   "source": [
    "#### Linear interpolation of coord and motion on time"
   ]
  },
  {
   "cell_type": "code",
   "execution_count": 63,
   "metadata": {},
   "outputs": [],
   "source": [
    "# t_init2 = [0.0, sup_n*Δt]\n",
    "# t_init = 0:Δt:sup_n*Δt\n",
    "# coords_init = [Array{Float64,2}(size(coord,1),2) for i=1:sup_n+1]\n",
    "# motions_init = [Array{Float64,2}(size(motion,1),2) for i=1:sup_n+1]\n",
    "\n",
    "# for i = 1:size(coord,1)\n",
    "#     cit = interpolate((t_init2,), [coords_init2[1][i,:],coords_init2[2][i,:]], Gridded(Linear()))\n",
    "#     [coords_init[j][i,:] = cit[t_init[j]] for j = 1:sup_n+1]     \n",
    "#     mit = interpolate((t_init2,), [motions_init2[1][i,:],motions_init2[2][i,:]], Gridded(Linear()))\n",
    "#     [motions_init[j][i,:] = mit[t_init[j]] for j = 1:sup_n+1]   \n",
    "# end"
   ]
  },
  {
   "cell_type": "markdown",
   "metadata": {},
   "source": [
    "#### Advance fluid solver for n_sub steps, with each Δt/n_sub"
   ]
  },
  {
   "cell_type": "code",
   "execution_count": 64,
   "metadata": {},
   "outputs": [],
   "source": [
    "# @time for i = 1:sup_n\n",
    "#     u = (u[1],[coords_init[i+1] motions_init[i+1]][:])\n",
    "# println(motions_init[i+1])\n",
    "#     t, u, f = ifherk(t,u)\n",
    "# println(\"t= \",t,\" fy= \",sum(f[1].v)*Δx^2,\"\\n\")\n",
    "# end\n",
    "\n",
    "# # record fluid info\n",
    "# push!(thist,t)\n",
    "# push!(fx,sum(fᵢ.u)*Δx^2)\n",
    "# push!(fy,sum(fᵢ.v)*Δx^2)\n",
    "# push!(uhist,deepcopy(u))"
   ]
  },
  {
   "cell_type": "markdown",
   "metadata": {},
   "source": [
    "## <span style=\"color:blue\"> Time Marching! </span>"
   ]
  },
  {
   "cell_type": "markdown",
   "metadata": {},
   "source": [
    "#### Proceed with normal coupling AFTER the first timestep"
   ]
  },
  {
   "cell_type": "code",
   "execution_count": 65,
   "metadata": {},
   "outputs": [
    {
     "data": {
      "text/plain": [
       "51×4 Array{Float64,2}:\n",
       " 1.0   1.0        1.66533e-18   0.0   \n",
       " 1.02  0.999999  -2.25e-8      -0.0003\n",
       " 1.04  0.999997  -4.5e-8       -0.0006\n",
       " 1.06  0.999996  -6.75e-8      -0.0009\n",
       " 1.08  0.999994  -9.0e-8       -0.0012\n",
       " 1.1   0.999993  -1.125e-7     -0.0015\n",
       " 1.12  0.999991  -1.35e-7      -0.0018\n",
       " 1.14  0.99999   -1.575e-7     -0.0021\n",
       " 1.16  0.999988  -1.8e-7       -0.0024\n",
       " 1.18  0.999987  -2.025e-7     -0.0027\n",
       " 1.2   0.999985  -2.25e-7      -0.003 \n",
       " 1.22  0.999984  -2.475e-7     -0.0033\n",
       " 1.24  0.999982  -2.7e-7       -0.0036\n",
       " ⋮                                    \n",
       " 1.78  0.999942  -8.775e-7     -0.0117\n",
       " 1.8   0.99994   -9.0e-7       -0.012 \n",
       " 1.82  0.999939  -9.225e-7     -0.0123\n",
       " 1.84  0.999937  -9.45e-7      -0.0126\n",
       " 1.86  0.999936  -9.675e-7     -0.0129\n",
       " 1.88  0.999934  -9.9e-7       -0.0132\n",
       " 1.9   0.999933  -1.0125e-6    -0.0135\n",
       " 1.92  0.999931  -1.035e-6     -0.0138\n",
       " 1.94  0.99993   -1.0575e-6    -0.0141\n",
       " 1.96  0.999928  -1.08e-6      -0.0144\n",
       " 1.98  0.999927  -1.1025e-6    -0.0147\n",
       " 2.0   0.999925  -1.125e-6     -0.015 "
      ]
     },
     "execution_count": 65,
     "metadata": {},
     "output_type": "execute_result"
    }
   ],
   "source": [
    "bkins[3]"
   ]
  },
  {
   "cell_type": "code",
   "execution_count": 67,
   "metadata": {
    "scrolled": true
   },
   "outputs": [
    {
     "name": "stdout",
     "output_type": "stream",
     "text": [
      "proposed fy at all stage: 0.0 0.0 0.0\n",
      "corrected fy at all stage: 1.6672432726152469 2.5515649885358567 3.245421979206195\n",
      "relaxation fy at all stage: 0.16672432726152467 0.2551564988535857 0.32454219792061956\n",
      "\n",
      "iteration 1, ϵ = 3.2691218141960148\n",
      "proposed fy at all stage: 0.16672432726152467 0.2551564988535857 0.32454219792061956\n",
      "corrected fy at all stage: 1.6672432726152469 2.962656172101963 4.181369662841612\n",
      "relaxation fy at all stage: 0.31677622179689696 0.5259064661784234 0.7102249444127189\n",
      "\n",
      "iteration 2, ϵ = 3.882253837056701\n",
      "proposed fy at all stage: 0.31677622179689696 0.5259064661784234 0.7102249444127189\n",
      "corrected fy at all stage: 1.6672432726152469 3.332638237311462 5.160931868572317\n",
      "relaxation fy at all stage: 0.451822926878732 0.8065796432917274 1.1552956368286786\n",
      "\n",
      "iteration 3, ϵ = 4.477852403768543\n",
      "proposed fy at all stage: 0.451822926878732 0.8065796432917274 1.1552956368286786\n",
      "corrected fy at all stage: 1.6672432726152469 3.6656220960000097 6.195617745784479\n",
      "relaxation fy at all stage: 0.5733649614523834 1.0924838885625556 1.659327847724259\n",
      "\n",
      "iteration 4, ϵ = 5.069143274117138\n",
      "proposed fy at all stage: 0.5733649614523834 1.0924838885625556 1.659327847724259\n",
      "corrected fy at all stage: 1.6672432726152469 3.9653075688197017 7.297626267886573\n",
      "relaxation fy at all stage: 0.6827527925686698 1.37976625658827 2.22315768974049\n",
      "\n",
      "iteration 5, ϵ = 5.668730000213559\n",
      "proposed fy at all stage: 0.6827527925686698 1.37976625658827 2.22315768974049\n",
      "corrected fy at all stage: 1.6672432726152469 4.2350244943574245 8.479990422043949\n",
      "relaxation fy at all stage: 0.7812018405733275 1.6652920803651856 2.848840962970836\n",
      "\n",
      "iteration 6, ϵ = 6.2887991772762035\n",
      "proposed fy at all stage: 0.7812018405733275 1.6652920803651856 2.848840962970836\n",
      "corrected fy at all stage: 1.6672432726152469 4.477769727341378 9.756731727503336\n",
      "relaxation fy at all stage: 0.8698059837775194 1.946539845062805 3.5396300394240865\n",
      "\n",
      "iteration 7, ϵ = 6.941315685009303\n",
      "proposed fy at all stage: 0.8698059837775194 1.946539845062805 3.5396300394240865\n",
      "corrected fy at all stage: 1.6672432726152469 4.6962404370269315 11.14302688435977\n",
      "relaxation fy at all stage: 0.9495497126612924 2.2215099042592175 4.2999697239176555\n",
      "\n",
      "iteration 8, ϵ = 7.638210705783816\n",
      "proposed fy at all stage: 0.9495497126612924 2.2215099042592175 4.2999697239176555\n",
      "corrected fy at all stage: 1.6672432726152469 4.892864075743934 12.655388518501752\n",
      "relaxation fy at all stage: 1.0213190686566878 2.4886453214076893 5.135511603376065\n",
      "\n",
      "iteration 9, ϵ = 8.3915651929684\n",
      "proposed fy at all stage: 1.0213190686566878 2.4886453214076893 5.135511603376065\n",
      "corrected fy at all stage: 1.6672432726152469 5.069825350589233 14.311862169643128\n",
      "relaxation fy at all stage: 1.0859114890525436 2.7467633243258436 6.053146660002771\n",
      "\n",
      "iteration 10, ϵ = 9.213791378490251\n",
      "proposed fy at all stage: 1.0859114890525436 2.7467633243258436 6.053146660002771\n",
      "corrected fy at all stage: 1.6672432726152469 5.229090497950003 16.13224187210971\n",
      "relaxation fy at all stage: 1.1440446674088143 2.99499604168826 7.061056181213465\n",
      "\n",
      "iteration 11, ϵ = 10.11781485442201\n",
      "proposed fy at all stage: 1.1440446674088143 2.99499604168826 7.061056181213465\n",
      "corrected fy at all stage: 1.6672432726152469 5.372429130574698 18.138306906350046\n",
      "relaxation fy at all stage: 1.1963645279294577 3.2327393505769035 8.168781253727124\n",
      "\n",
      "iteration 12, ϵ = 11.117259740027244\n",
      "proposed fy at all stage: 1.1963645279294577 3.2327393505769035 8.168781253727124\n",
      "corrected fy at all stage: 1.6672432726152469 5.5014338999369246 20.35408255675357\n",
      "relaxation fy at all stage: 1.2434524023980364 3.4596088055129055 9.387311384029768\n",
      "\n",
      "iteration 13, ϵ = 12.226639453916693\n",
      "proposed fy at all stage: 1.2434524023980364 3.4596088055129055 9.387311384029768\n",
      "corrected fy at all stage: 1.6672432726152469 5.617538192362924 22.80612800205172\n",
      "relaxation fy at all stage: 1.2858314894197576 3.6754017441979077 10.729193045831964\n",
      "\n",
      "iteration 14, ϵ = 13.461555651381149\n",
      "proposed fy at all stage: 1.2858314894197576 3.6754017441979077 10.729193045831964\n",
      "corrected fy at all stage: 1.6672432726152469 5.722032055546324 25.523854792265272\n",
      "relaxation fy at all stage: 1.3239726677393067 3.8800647753327495 12.208659220475296\n",
      "\n",
      "iteration 15, ϵ = 14.83890796027195\n",
      "proposed fy at all stage: 1.3239726677393067 3.8800647753327495 12.208659220475296\n",
      "corrected fy at all stage: 1.6672432726152469 5.816076532411387 28.539879735042792\n",
      "relaxation fy at all stage: 1.3582997282269007 4.0736659510406135 13.841781271932046\n",
      "\n",
      "iteration 16, ϵ = 16.377117255919373\n",
      "proposed fy at all stage: 1.3582997282269007 4.0736659510406135 13.841781271932046\n",
      "corrected fy at all stage: 1.6672432726152469 5.90071656158994 31.890416428903883\n",
      "relaxation fy at all stage: 1.3891940826657352 4.256371012095546 15.646644787629231\n",
      "\n",
      "iteration 17, ϵ = 18.096365357731635\n",
      "proposed fy at all stage: 1.3891940826657352 4.256371012095546 15.646644787629231\n",
      "corrected fy at all stage: 1.6672432726152469 5.976892587850639 35.61571014642942\n",
      "relaxation fy at all stage: 1.4169990016606864 4.428423169671055 17.64355132350925\n",
      "\n",
      "iteration 18, ϵ = 20.01885420889199\n",
      "proposed fy at all stage: 1.4169990016606864 4.428423169671055 17.64355132350925\n",
      "corrected fy at all stage: 1.6672432726152469 6.0454510114852695 39.760521292483524\n",
      "relaxation fy at all stage: 1.4420234287561426 4.5901259538524775 19.855248320406677\n",
      "\n",
      "iteration 19, ϵ = 22.169087817967895\n",
      "proposed fy at all stage: 1.4420234287561426 4.5901259538524775 19.855248320406677\n",
      "corrected fy at all stage: 1.6672432726152469 6.107153592756437 44.374663247413274\n",
      "relaxation fy at all stage: 1.4645454131420528 4.741828717742873 22.30718981310734\n",
      "\n",
      "iteration 20, ϵ = 24.574180499733675\n",
      "proposed fy at all stage: 1.4645454131420528 4.741828717742873 22.30718981310734\n",
      "corrected fy at all stage: 1.6672432726152469 6.162685915900487 49.51360105989823\n",
      "relaxation fy at all stage: 1.4848151990893723 4.883914437558635 25.02783093778643\n",
      "\n",
      "iteration 21, ϵ = 27.26419525503156\n",
      "proposed fy at all stage: 1.4848151990893723 4.883914437558635 25.02783093778643\n",
      "corrected fy at all stage: 1.6672432726152469 6.21266500673013 55.23911818660045\n",
      "relaxation fy at all stage: 1.5030580064419599 5.016789494475785 28.04895966266783\n",
      "\n",
      "iteration 22, ϵ = 30.272516479564715\n",
      "proposed fy at all stage: 1.5030580064419599 5.016789494475785 28.04895966266783\n",
      "corrected fy at all stage: 1.6672432726152469 6.2576461884768095 61.62005929480772\n",
      "relaxation fy at all stage: 1.5194765330592885 5.140875163875887 31.406069625881823\n",
      "\n",
      "iteration 23, ϵ = 33.63626159320337\n",
      "proposed fy at all stage: 1.5194765330592885 5.140875163875887 31.406069625881823\n",
      "corrected fy at all stage: 1.6672432726152469 6.298129252048826 68.73315805971711\n",
      "relaxation fy at all stage: 1.5342532070148842 5.25660057269318 35.138778469265354\n",
      "\n",
      "iteration 24, ϵ = 37.396736639398355\n",
      "proposed fy at all stage: 1.5342532070148842 5.25660057269318 35.138778469265354\n",
      "corrected fy at all stage: 1.6672432726152469 6.334564009263634 76.66395991089732\n",
      "relaxation fy at all stage: 1.5475522135749207 5.364396916350227 39.29129661342855\n",
      "\n",
      "iteration 25, ϵ = 41.599941424050776\n",
      "proposed fy at all stage: 1.5475522135749207 5.364396916350227 39.29129661342855\n",
      "corrected fy at all stage: 1.6672432726152469 6.367355290756967 85.50785082509096\n",
      "relaxation fy at all stage: 1.5595213194789537 5.4646927537909 43.91295203459479\n",
      "\n",
      "iteration 26, ϵ = 46.297130350823814\n",
      "proposed fy at all stage: 1.5595213194789537 5.4646927537909 43.91295203459479\n",
      "corrected fy at all stage: 1.6672432726152469 6.396867444100963 95.37120453861866\n",
      "relaxation fy at all stage: 1.5702935147925827 5.557910222821907 49.058777284997184\n",
      "\n",
      "iteration 27, ϵ = 51.54543577238698\n",
      "proposed fy at all stage: 1.5702935147925827 5.557910222821907 49.058777284997184\n",
      "corrected fy at all stage: 1.6672432726152469 6.42342838211056 106.37266197758869\n",
      "relaxation fy at all stage: 1.5799884905748491 5.644462038750772 54.790165754256336\n",
      "\n",
      "iteration 28, ϵ = 57.40856142235683\n",
      "proposed fy at all stage: 1.5799884905748491 5.644462038750772 54.790165754256336\n",
      "corrected fy at all stage: 1.6672432726152469 6.447333226319197 118.64455829502515\n",
      "relaxation fy at all stage: 1.588713968778889 5.724749157507615 61.17560500833322\n",
      "\n",
      "iteration 29, ϵ = 63.95755432961734\n"
     ]
    },
    {
     "name": "stdout",
     "output_type": "stream",
     "text": [
      "proposed fy at all stage: 1.588713968778889 5.724749157507615 61.17560500833322\n",
      "corrected fy at all stage: 1.6672432726152469 6.468847586106981 132.33451468005848\n",
      "relaxation fy at all stage: 1.5965668991625248 5.799159000367553 68.29149597550573\n",
      "\n",
      "iteration 30, ϵ = 71.27166455529402\n",
      "proposed fy at all stage: 1.5965668991625248 5.799159000367553 68.29149597550573\n",
      "corrected fy at all stage: 1.6672432726152469 6.488210509915966 147.60721408683338\n",
      "relaxation fy at all stage: 1.603634536507797 5.868064151322393 76.22306778663851\n",
      "\n",
      "iteration 31, ϵ = 79.43930314413475\n",
      "proposed fy at all stage: 1.603634536507797 5.868064151322393 76.22306778663851\n",
      "corrected fy at all stage: 1.6672432726152469 6.5056371413440655 164.64638224363608\n",
      "relaxation fy at all stage: 1.6099954101185423 5.931821450324561 85.06539923233828\n",
      "\n",
      "iteration 32, ϵ = 88.55910985902969\n",
      "proposed fy at all stage: 1.6099954101185423 5.931821450324561 85.06539923233828\n",
      "corrected fy at all stage: 1.6672432726152469 6.52132110962935 183.65699777254255\n",
      "relaxation fy at all stage: 1.6157201963682128 5.990771416255039 94.92455908635871\n",
      "\n",
      "iteration 33, ϵ = 98.74114358398444\n",
      "proposed fy at all stage: 1.6157201963682128 5.990771416255039 94.92455908635871\n",
      "corrected fy at all stage: 1.6672432726152469 6.535436681086109 204.86775800636732\n",
      "relaxation fy at all stage: 1.6208725039929162 6.045237942738147 105.91887897835957\n",
      "\n",
      "iteration 34, ϵ = 110.10820975285739\n",
      "proposed fy at all stage: 1.6208725039929162 6.045237942738147 105.91887897835957\n",
      "corrected fy at all stage: 1.6672432726152469 6.548140695397193 228.53383016599645\n",
      "relaxation fy at all stage: 1.6255095808551492 6.095528218004052 118.18037409712326\n",
      "\n",
      "iteration 35, ϵ = 122.797340806237\n",
      "proposed fy at all stage: 1.6255095808551492 6.095528218004052 118.18037409712326\n",
      "corrected fy at all stage: 1.6672432726152469 6.559574308277168 254.93992099433274\n",
      "relaxation fy at all stage: 1.629682950031159 6.141932827031363 131.85632878684422\n",
      "\n",
      "iteration 36, ϵ = 136.96144751673376\n",
      "proposed fy at all stage: 1.629682950031159 6.141932827031363 131.85632878684422\n",
      "corrected fy at all stage: 1.6672432726152469 6.5698645598691465 284.403701774388\n",
      "relaxation fy at all stage: 1.6334389822895676 6.184726000315142 147.1110660855986\n",
      "\n",
      "iteration 37, ϵ = 152.77116107579354\n",
      "proposed fy at all stage: 1.6334389822895676 6.184726000315142 147.1110660855986\n",
      "corrected fy at all stage: 1.6672432726152469 6.579125786301924 317.279629934581\n",
      "relaxation fy at all stage: 1.636819411322136 6.22416597891382 164.12792247049686\n",
      "\n",
      "iteration 38, ϵ = 170.4168881275197\n",
      "proposed fy at all stage: 1.636819411322136 6.22416597891382 164.12792247049686\n",
      "corrected fy at all stage: 1.6672432726152469 6.587460890091424 353.9632132155241\n",
      "relaxation fy at all stage: 1.639861797451447 6.260495470031581 183.1114515449996\n",
      "\n",
      "iteration 39, ϵ = 190.11110349455657\n",
      "proposed fy at all stage: 1.639861797451447 6.260495470031581 183.1114515449996\n",
      "corrected fy at all stage: 1.6672432726152469 6.594962483501976 394.89576769685647\n",
      "relaxation fy at all stage: 1.6425999449678268 6.29394217137862 204.28988316018527\n",
      "\n",
      "iteration 40, ϵ = 212.09090819850385\n",
      "proposed fy at all stage: 1.6425999449678268 6.29394217137862 204.28988316018527\n",
      "corrected fy at all stage: 1.6672432726152469 6.601713917571471 440.569726924116\n",
      "relaxation fy at all stage: 1.645064277732569 6.324719345997907 227.9178675365783\n",
      "\n",
      "iteration 41, ϵ = 236.62088356706596\n",
      "proposed fy at all stage: 1.645064277732569 6.324719345997907 227.9178675365783\n",
      "corrected fy at all stage: 1.6672432726152469 6.607790208234017 491.53456600567375\n",
      "relaxation fy at all stage: 1.647282177220837 6.353026432221517 254.27953738348788\n",
      "\n",
      "iteration 42, ϵ = 263.996275780461\n",
      "proposed fy at all stage: 1.647282177220837 6.353026432221517 254.27953738348788\n",
      "corrected fy at all stage: 1.6672432726152469 6.613258869830311 548.40341194814\n",
      "relaxation fy at all stage: 1.649278286760278 6.379049675982397 283.6919248399531\n",
      "\n",
      "iteration 43, ϵ = 294.54654918336234\n",
      "proposed fy at all stage: 1.649278286760278 6.379049675982397 283.6919248399531\n",
      "corrected fy at all stage: 1.6672432726152469 6.618180665266974 611.8604197544579\n",
      "relaxation fy at all stage: 1.6510747853457746 6.402962774910855 316.50877433140363\n",
      "\n",
      "iteration 44, ϵ = 328.6393511236539\n",
      "proposed fy at all stage: 1.6510747853457746 6.402962774910855 316.50877433140363\n",
      "corrected fy at all stage: 1.6672432726152469 6.622610281159971 682.6690030213691\n",
      "relaxation fy at all stage: 1.652691634072722 6.424927525535767 353.1247972004002\n",
      "\n",
      "iteration 45, ϵ = 366.6849360288217\n",
      "proposed fy at all stage: 1.652691634072722 6.424927525535767 353.1247972004002\n",
      "corrected fy at all stage: 1.6672432726152469 6.626596935463667 761.6810180529433\n",
      "relaxation fy at all stage: 1.6541467979269746 6.445094466528557 393.9804192856545\n",
      "\n",
      "iteration 46, ϵ = 409.1411019544481\n",
      "proposed fy at all stage: 1.6541467979269746 6.445094466528557 393.9804192856545\n",
      "corrected fy at all stage: 1.6672432726152469 6.63018492433699 849.8470119781074\n",
      "relaxation fy at all stage: 1.655456445395802 6.4636035123094 439.5670785548998\n",
      "\n",
      "iteration 47, ϵ = 456.51869900349357\n",
      "proposed fy at all stage: 1.655456445395802 6.4636035123094 439.5670785548998\n",
      "corrected fy at all stage: 1.6672432726152469 6.633414114322985 948.2276581604748\n",
      "relaxation fy at all stage: 1.6566351281177463 6.48058457251076 490.4331365154573\n",
      "\n",
      "iteration 48, ϵ = 509.3877758938719\n",
      "proposed fy at all stage: 1.6566351281177463 6.48058457251076 490.4331365154573\n",
      "corrected fy at all stage: 1.6672432726152469 6.636320385310381 1058.006516472483\n",
      "relaxation fy at all stage: 1.6576959425674964 6.49615815379072 547.19047451116\n",
      "\n",
      "iteration 49, ϵ = 568.3844386282178\n",
      "proposed fy at all stage: 1.6576959425674964 6.49615815379072 547.19047451116\n",
      "corrected fy at all stage: 1.6672432726152469 6.638936029199038 1180.5042719444266\n",
      "relaxation fy at all stage: 1.6586506755722716 6.510435941331553 610.5218542544866\n",
      "\n",
      "iteration 50, ϵ = 634.2185037857403\n",
      "proposed fy at all stage: 1.6586506755722716 6.510435941331553 610.5218542544866\n",
      "corrected fy at all stage: 1.6672432726152469 6.6412901086988265 1317.1946230844667\n",
      "relaxation fy at all stage: 1.6595099352765692 6.5235213580682805 681.1891311374847\n",
      "\n",
      "iteration 51, ϵ = 707.6820385150115\n",
      "proposed fy at all stage: 1.6595099352765692 6.5235213580682805 681.1891311374847\n",
      "corrected fy at all stage: 1.6672432726152469 6.643408780248638 1469.7220110119065\n",
      "relaxation fy at all stage: 1.6602832690104368 6.5355101002863165 760.0424191249268\n",
      "\n",
      "iteration 52, ϵ = 789.6588899732448\n",
      "proposed fy at all stage: 1.6602832690104368 6.5355101002863165 760.0424191249268\n",
      "corrected fy at all stage: 1.6672432726152469 6.645315584643469 1639.92140269173\n",
      "relaxation fy at all stage: 1.660979269370918 6.546490648722032 848.0303174816072\n",
      "\n",
      "iteration 53, ϵ = 881.1353188604558\n",
      "proposed fy at all stage: 1.660979269370918 6.546490648722032 848.0303174816072\n",
      "corrected fy at all stage: 1.6672432726152469 6.647031708598815 1829.8403662700243\n",
      "relaxation fy at all stage: 1.6616056696953507 6.556544754709711 946.211322360449\n",
      "\n",
      "iteration 54, ϵ = 983.2118649790267\n",
      "proposed fy at all stage: 1.6616056696953507 6.556544754709711 946.211322360449\n",
      "corrected fy at all stage: 1.6672432726152469 6.648576220158628 2041.7637040848213\n",
      "relaxation fy at all stage: 1.6621694299873409 6.5657479012546025 1055.7665605328862\n",
      "\n",
      "iteration 55, ϵ = 1097.1165875705074\n",
      "proposed fy at all stage: 1.6621694299873409 6.5657479012546025 1055.7665605328862\n",
      "corrected fy at all stage: 1.6672432726152469 6.649966280562459 2278.2409396966973\n",
      "relaxation fy at all stage: 1.6626768142501311 6.57416973918539 1178.0139984492675\n",
      "\n",
      "iteration 56, ϵ = 1224.2198397201048\n"
     ]
    },
    {
     "ename": "LoadError",
     "evalue": "\u001b[91mInterruptException:\u001b[39m",
     "output_type": "error",
     "traceback": [
      "\u001b[91mInterruptException:\u001b[39m",
      "",
      "Stacktrace:",
      " [1] \u001b[1mWhirl.Fields.Edges\u001b[22m\u001b[22m\u001b[1m(\u001b[22m\u001b[22m::Type{Whirl.Fields.Primal}, ::Tuple{Int64,Int64}\u001b[1m)\u001b[22m\u001b[22m at \u001b[1m/home/julia/JuliaPro-0.6.2.2/JuliaPro/pkgs-0.6.2.2/v0.6/Whirl/src/fields/edges.jl:29\u001b[22m\u001b[22m",
      " [2] \u001b[1m*\u001b[22m\u001b[22m\u001b[1m(\u001b[22m\u001b[22m::Whirl.Fields.Curl, ::Whirl.Fields.Nodes{Whirl.Fields.Dual,152,102}\u001b[1m)\u001b[22m\u001b[22m at \u001b[1m/home/julia/JuliaPro-0.6.2.2/JuliaPro/pkgs-0.6.2.2/v0.6/Whirl/src/fields/operators.jl:424\u001b[22m\u001b[22m",
      " [3] \u001b[1mB₂\u001b[22m\u001b[22m\u001b[1m(\u001b[22m\u001b[22m::Whirl.Fields.Nodes{Whirl.Fields.Dual,152,102}, ::Whirl.Systems.NavierStokes{152,102,51,false}\u001b[1m)\u001b[22m\u001b[22m at \u001b[1m/home/julia/JuliaPro-0.6.2.2/JuliaPro/pkgs-0.6.2.2/v0.6/Whirl/src/systems/navier_stokes.jl:139\u001b[22m\u001b[22m",
      " [4] \u001b[1m(::Base.##55#56{Base.##55#56{Whirl.Systems.##11#15{Whirl.Systems.NavierStokes{152,102,51,false}},Whirl.SaddlePointSystems.##3#6{Tuple{Whirl.Fields.IntFact{152,102,0.0,false},Whirl.Systems.##10#14{Whirl.Systems.NavierStokes{152,102,51,false}},Whirl.Systems.##11#15{Whirl.Systems.NavierStokes{152,102,51,false}}}}},Whirl.Systems.##10#14{Whirl.Systems.NavierStokes{152,102,51,false}}})\u001b[22m\u001b[22m\u001b[1m(\u001b[22m\u001b[22m::Whirl.Fields.VectorData{51}, ::Vararg{Whirl.Fields.VectorData{51},N} where N\u001b[1m)\u001b[22m\u001b[22m at \u001b[1m./operators.jl:884\u001b[22m\u001b[22m",
      " [5] \u001b[1mSchur!\u001b[22m\u001b[22m at \u001b[1m/home/julia/JuliaPro-0.6.2.2/JuliaPro/pkgs-0.6.2.2/v0.6/Whirl/src/SaddlePointSystems.jl:94\u001b[22m\u001b[22m [inlined]",
      " [6] \u001b[1m*\u001b[22m\u001b[22m\u001b[1m(\u001b[22m\u001b[22m::LinearMaps.FunctionMap{Float64,Whirl.SaddlePointSystems.#Schur!#7,Void}, ::Whirl.Fields.VectorData{51}\u001b[1m)\u001b[22m\u001b[22m at \u001b[1m/home/julia/JuliaPro-0.6.2.2/JuliaPro/pkgs-0.6.2.2/v0.6/LinearMaps/src/functionmap.jl:45\u001b[22m\u001b[22m",
      " [7] \u001b[1m#call#1\u001b[22m\u001b[22m\u001b[1m(\u001b[22m\u001b[22m::Float64, ::Whirl.SaddlePointSystems.##4#10, ::Bool, ::Bool, ::Bool, ::Bool, ::Type{T} where T, ::Tuple{Whirl.Fields.Nodes{Whirl.Fields.Dual,152,102},Whirl.Fields.VectorData{51}}, ::Tuple{Whirl.Fields.IntFact{152,102,0.0,false},Whirl.Systems.##10#14{Whirl.Systems.NavierStokes{152,102,51,false}},Whirl.Systems.##11#15{Whirl.Systems.NavierStokes{152,102,51,false}}}\u001b[1m)\u001b[22m\u001b[22m at \u001b[1m/home/julia/JuliaPro-0.6.2.2/JuliaPro/pkgs-0.6.2.2/v0.6/Whirl/src/SaddlePointSystems.jl:106\u001b[22m\u001b[22m",
      " [8] \u001b[1m(::Core.#kw#Type)\u001b[22m\u001b[22m\u001b[1m(\u001b[22m\u001b[22m::Array{Any,1}, ::Type{Whirl.SaddlePointSystems.SaddleSystem}, ::Tuple{Whirl.Fields.Nodes{Whirl.Fields.Dual,152,102},Whirl.Fields.VectorData{51}}, ::Tuple{Whirl.Fields.IntFact{152,102,0.0,false},Whirl.Systems.##10#14{Whirl.Systems.NavierStokes{152,102,51,false}},Whirl.Systems.##11#15{Whirl.Systems.NavierStokes{152,102,51,false}}}\u001b[1m)\u001b[22m\u001b[22m at \u001b[1m./<missing>:0\u001b[22m\u001b[22m",
      " [9] \u001b[1m#construct_saddlesys#66\u001b[22m\u001b[22m\u001b[1m(\u001b[22m\u001b[22m::Bool, ::Function, ::##14#18, ::Whirl.Fields.IntFact{152,102,0.0,false}, ::Whirl.Fields.Nodes{Whirl.Fields.Dual,152,102}, ::Whirl.Fields.VectorData{51}, ::Float64, ::Array{Float64,2}, ::Float64, ::Bool, ::Bool\u001b[1m)\u001b[22m\u001b[22m at \u001b[1m/home/julia/JuliaPro-0.6.2.2/JuliaPro/pkgs-0.6.2.2/v0.6/Whirl/src/timemarching/ifherk_sc2d.jl:201\u001b[22m\u001b[22m",
      " [10] \u001b[1mconstruct_saddlesys\u001b[22m\u001b[22m\u001b[1m(\u001b[22m\u001b[22m::##14#18, ::Whirl.Fields.IntFact{152,102,0.0,false}, ::Whirl.Fields.Nodes{Whirl.Fields.Dual,152,102}, ::Whirl.Fields.VectorData{51}, ::Float64, ::Array{Float64,2}, ::Float64, ::Bool, ::Bool\u001b[1m)\u001b[22m\u001b[22m at \u001b[1m/home/julia/JuliaPro-0.6.2.2/JuliaPro/pkgs-0.6.2.2/v0.6/Whirl/src/timemarching/ifherk_sc2d.jl:160\u001b[22m\u001b[22m",
      " [11] \u001b[1m(::Whirl.TimeMarching.IFHERK_sc2d{3,Whirl.Fields.IntFact{152,102,a,false} where a,##15#19,##16#20,##14#18,Whirl.SaddlePointSystems.SaddleSystem{FA,Whirl.SaddlePointSystems.#A⁻¹B₁ᵀ#8{Whirl.Fields.VectorData{51}},Whirl.SaddlePointSystems.#B₂A⁻¹#9{Whirl.Fields.Nodes{Whirl.Fields.Dual,152,102}},Whirl.SaddlePointSystems.##4#10,Whirl.Fields.Nodes{Whirl.Fields.Dual,152,102},Whirl.Fields.VectorData{51},102,true} where FA,Whirl.Fields.Nodes{Whirl.Fields.Dual,152,102},Whirl.Fields.VectorData{51}})\u001b[22m\u001b[22m\u001b[1m(\u001b[22m\u001b[22m::Float64, ::Whirl.Fields.Nodes{Whirl.Fields.Dual,152,102}, ::Array{Array{Float64,2},1}\u001b[1m)\u001b[22m\u001b[22m at \u001b[1m/home/julia/JuliaPro-0.6.2.2/JuliaPro/pkgs-0.6.2.2/v0.6/Whirl/src/timemarching/ifherk_sc2d.jl:292\u001b[22m\u001b[22m",
      " [12] \u001b[1mmacro expansion\u001b[22m\u001b[22m at \u001b[1m./In[67]:69\u001b[22m\u001b[22m [inlined]",
      " [13] \u001b[1mmacro expansion\u001b[22m\u001b[22m at \u001b[1m./util.jl:237\u001b[22m\u001b[22m [inlined]",
      " [14] \u001b[1manonymous\u001b[22m\u001b[22m at \u001b[1m./<missing>:?\u001b[22m\u001b[22m",
      " [15] \u001b[1minclude_string\u001b[22m\u001b[22m\u001b[1m(\u001b[22m\u001b[22m::String, ::String\u001b[1m)\u001b[22m\u001b[22m at \u001b[1m./loading.jl:522\u001b[22m\u001b[22m"
     ]
    }
   ],
   "source": [
    "@time for t= 2*Δt:Δt:tf\n",
    "\n",
    "    iter = 1\n",
    "    fᵢ = fs.*Δx^2\n",
    "\n",
    "    # record body info\n",
    "    soln_buffer = deepcopy(soln)\n",
    "    bd_buffer = deepcopy(bd)\n",
    "    bgs_buffer = deepcopy(bgs)\n",
    "\n",
    "    # record fluid info\n",
    "    u_buffer = deepcopy(u)\n",
    "    t_buffer = t\n",
    "\n",
    "    while true\n",
    "\n",
    "        #--------------------------------------------------------\n",
    "        # get body state of the last timestep\n",
    "        soln = deepcopy(soln_buffer)\n",
    "        bd = deepcopy(bd_buffer)\n",
    "        bgs = deepcopy(bgs_buffer)\n",
    "\n",
    "        #--------------------------------------------------------\n",
    "        # integrate body forces from body points\n",
    "        for k = 1:NS\n",
    "            # assign fluid body points forces to bgs to integrate\n",
    "            b_cnt = 1\n",
    "            ref = 0\n",
    "            for i = 1:np_total\n",
    "                # move to the next bgs if i exceed bgs[b_cnt].np\n",
    "                if i > ref + bgs[b_cnt].np\n",
    "                    ref += bgs[b_cnt].np\n",
    "                    b_cnt += 1        \n",
    "                end\n",
    "                bgs[b_cnt].f_ex3d[i-ref][[1,2]] = fᵢ[k][i,:]\n",
    "            end\n",
    "\n",
    "            # integrate total forces from all body points on a body\n",
    "            bgs = IntegrateBodyGridDynamics(bd,bgs)\n",
    "            for i = 1:bd.sys.nbody\n",
    "                f_exis[k][i,:] = bgs[i].f_ex6d\n",
    "            end\n",
    "        end\n",
    "        \n",
    "        #--------------------------------------------------------\n",
    "        # advance body solver for one step        \n",
    "        soln, bds = herkbody(soln, bd; _isfixedstep=true, _outputmode=true, f_exi=f_exis);\n",
    "\n",
    "        #--------------------------------------------------------\n",
    "        # acquire vel and coord of body points for fluid computation\n",
    "        for k = 1:NS\n",
    "            bgs = AcquireBodyGridKinematics(bds[k],bgs)\n",
    "            coord = hcat(bgs[1].q_i...)'[:,[1,2]]\n",
    "            motion = hcat(bgs[1].v_i...)'[:,[1,2]]\n",
    "            for i = 2:length(bgs)\n",
    "                coord = [coord[1:end-1,:]; hcat(bgs[i].q_i...)'[:,[1,2]]]\n",
    "                motion = [motion[1:end-1,:]; hcat(bgs[i].v_i...)'[:,[1,2]]]\n",
    "            end\n",
    "            bkins[k] = [coord motion]\n",
    "        end\n",
    "        \n",
    "        #--------------------------------------------------------\n",
    "        # get fluid state of the last timestep\n",
    "        u = deepcopy(u_buffer)\n",
    "        t = t_buffer\n",
    "\n",
    "        #--------------------------------------------------------\n",
    "        # advance fluid solver for one step\n",
    "        t, u, f, fs = ifherk_sc2d(t,u,bkins)\n",
    "\n",
    "        #--------------------------------------------------------\n",
    "        # check if converge, use relaxation if not\n",
    "        ϵ = abs(sum(fs[NS]*Δx^2 - fᵢ[NS]))\n",
    "\n",
    "        if ϵ < tol break end\n",
    "\n",
    "        println(\"proposed fy at all stage: \", sum(fᵢ[1][:,2]),\" \", sum(fᵢ[2][:,2]),\" \", sum(fᵢ[3][:,2]))\n",
    "        println(\"corrected fy at all stage: \", sum(fs[1][:,2])*Δx^2,\" \", sum(fs[2][:,2])*Δx^2,\" \", sum(fs[3][:,2])*Δx^2)\n",
    "        \n",
    "        # if not converge, use relaxation\n",
    "        fᵢ = (1-ω)*fᵢ + ω*fs*Δx^2\n",
    "        \n",
    "        println(\"relaxation fy at all stage: \", sum(fᵢ[1][:,2]),\" \", sum(fᵢ[2][:,2]),\" \", sum(fᵢ[3][:,2]),\"\\n\")\n",
    "        println(\"iteration \",iter,\", ϵ = \",ϵ);\n",
    "        iter += 1\n",
    "\n",
    "   \n",
    "    end\n",
    "    # converged for this timestep\n",
    "    print(\"time = \", t-Δt, \" converged through \", iter, \" iterations\\n\")\n",
    "    \n",
    "    # record converged bd for next step\n",
    "    bd = bds[NS]    \n",
    "    \n",
    "    # record body info\n",
    "    push!(solns, soln)\n",
    "    push!(vs, VertsHistory(system.nbody, bd.bs))\n",
    "\n",
    "    # record fluid info\n",
    "    push!(thist,t)\n",
    "    push!(fx,sum(fᵢ[NS][:,1]))\n",
    "    push!(fy,sum(fᵢ[NS][:,2]))\n",
    "    push!(uhist,deepcopy(u))\n",
    "    \n",
    "end\n",
    "\n",
    "println(\"solution completed through time t = \",t)"
   ]
  },
  {
   "cell_type": "code",
   "execution_count": 68,
   "metadata": {},
   "outputs": [
    {
     "data": {
      "image/png": "[encoded data removed]"
     },
     "execution_count": 68,
     "metadata": {},
     "output_type": "execute_result"
    }
   ],
   "source": [
    "plot(fs[NS][:,2]*Δx^2)"
   ]
  },
  {
   "cell_type": "markdown",
   "metadata": {},
   "source": [
    "## <span style=\"color:blue\"> Plot </span>"
   ]
  },
  {
   "cell_type": "markdown",
   "metadata": {},
   "source": [
    "#### Get body verts history"
   ]
  },
  {
   "cell_type": "code",
   "execution_count": 69,
   "metadata": {},
   "outputs": [],
   "source": [
    "@get bd (bs, js, sys)\n",
    "\n",
    "# get verts info based on this regular grid solution\n",
    "vshist = []\n",
    "for i = 1:length(solns)\n",
    "    bs, js, sys = UpdatePosition!(bs, js, sys, solns[i].qJ)\n",
    "    push!(vshist, VertsHistory(sys.nbody, bs))\n",
    "end"
   ]
  },
  {
   "cell_type": "markdown",
   "metadata": {},
   "source": [
    "#### Plot first and last time field"
   ]
  },
  {
   "cell_type": "code",
   "execution_count": 70,
   "metadata": {},
   "outputs": [
    {
     "data": {
      "image/png": "[encoded data removed]"
     },
     "execution_count": 70,
     "metadata": {},
     "output_type": "execute_result"
    },
    {
     "name": "stderr",
     "output_type": "stream",
     "text": [
      "/home/julia/JuliaPro-0.6.2.2/JuliaPro/pkgs-0.6.2.2/v0.6/Conda/deps/usr/lib/python2.7/site-packages/matplotlib/contour.py:1004: UserWarning: The following kwargs were not used by contour: 'label'\n",
      "  s)\n"
     ]
    }
   ],
   "source": [
    "p1 = plot(xg,yg,uhist[1],levels=linspace(-0.2,0.2,30))\n",
    "for i = 1:sys.nbody\n",
    "    plot!(p1,vshist[1][i,2:3,1], vshist[1][i,2:3,2],linewidth=2,linecolor=\"grey\")\n",
    "end\n",
    "p1"
   ]
  },
  {
   "cell_type": "code",
   "execution_count": 71,
   "metadata": {},
   "outputs": [
    {
     "data": {
      "image/png": "[encoded data removed]"
     },
     "execution_count": 71,
     "metadata": {},
     "output_type": "execute_result"
    }
   ],
   "source": [
    "p2 = plot(xg,yg,uhist[end],levels=linspace(-0.2,0.2,30))\n",
    "for i = 1:sys.nbody\n",
    "    plot!(p2,vshist[end][i,2:3,1], vshist[end][i,2:3,2],linewidth=2,linecolor=\"grey\")\n",
    "end\n",
    "p2"
   ]
  },
  {
   "cell_type": "markdown",
   "metadata": {},
   "source": [
    "#### Body position begining and end"
   ]
  },
  {
   "cell_type": "code",
   "execution_count": 72,
   "metadata": {},
   "outputs": [
    {
     "data": {
      "image/png": "[encoded data removed]"
     },
     "execution_count": 72,
     "metadata": {},
     "output_type": "execute_result"
    }
   ],
   "source": [
    "pb = plot()\n",
    "for i = 1:sys.nbody\n",
    "    plot!(pb,vshist[1][i,2:3,1], vshist[1][i,2:3,2],linewidth=2,linecolor=\"grey\")\n",
    "end\n",
    "for i = 1:sys.nbody\n",
    "    plot!(pb,vshist[end][i,2:3,1], vshist[end][i,2:3,2],linewidth=2,linecolor=\"red\")\n",
    "end\n",
    "plot!(pb,xlims=(0,3), ylims=(0,2))\n",
    "pb"
   ]
  },
  {
   "cell_type": "markdown",
   "metadata": {},
   "source": [
    "#### Gif!"
   ]
  },
  {
   "cell_type": "code",
   "execution_count": 73,
   "metadata": {},
   "outputs": [
    {
     "name": "stderr",
     "output_type": "stream",
     "text": [
      "\u001b[1m\u001b[36mINFO: \u001b[39m\u001b[22m\u001b[36mSaved animation to /media/ruizhi/Seagate Expansion Drive/Research/Dyn3d.jl/notebook/tmp.gif\n",
      "\u001b[39m"
     ]
    },
    {
     "data": {
      "text/html": [
       "<img src=\"tmp.gif?0.24920862848123027>\" />"
      ],
      "text/plain": [
       "Plots.AnimatedGif(\"/media/ruizhi/Seagate Expansion Drive/Research/Dyn3d.jl/notebook/tmp.gif\")"
      ]
     },
     "execution_count": 73,
     "metadata": {},
     "output_type": "execute_result"
    }
   ],
   "source": [
    "@gif for j = 1:length(uhist)\n",
    "    plot(xg,yg,uhist[j],levels=linspace(-0.2,0.2,30))\n",
    "    for i = 1:sys.nbody\n",
    "        plot!(vshist[j][i,2:3,1], vshist[j][i,2:3,2],linewidth=2,linecolor=\"grey\")\n",
    "    end\n",
    "end"
   ]
  },
  {
   "cell_type": "code",
   "execution_count": 74,
   "metadata": {
    "scrolled": true
   },
   "outputs": [
    {
     "data": {
      "image/png": "[encoded data removed]"
     },
     "execution_count": 74,
     "metadata": {},
     "output_type": "execute_result"
    }
   ],
   "source": [
    "px = plot(thist,2*fx,ylim=(-0.005,0.005),xlabel=\"Convective time\",ylabel=\"\\$C_D\\$\",legend=false)\n",
    "py = plot(thist,2*fy,ylim=(0.5,1.5),xlabel=\"Convective time\",ylabel=\"\\$C_L\\$\",legend=false)\n",
    "plot(px,py)"
   ]
  },
  {
   "cell_type": "code",
   "execution_count": 75,
   "metadata": {},
   "outputs": [
    {
     "data": {
      "text/plain": [
       "1-element Array{Float64,1}:\n",
       " 14.5652"
      ]
     },
     "execution_count": 75,
     "metadata": {},
     "output_type": "execute_result"
    }
   ],
   "source": [
    "fx"
   ]
  },
  {
   "cell_type": "code",
   "execution_count": 76,
   "metadata": {},
   "outputs": [
    {
     "data": {
      "text/plain": [
       "1-element Array{Float64,1}:\n",
       " -2.16266e5"
      ]
     },
     "execution_count": 76,
     "metadata": {},
     "output_type": "execute_result"
    }
   ],
   "source": [
    "fy"
   ]
  }
 ],
 "metadata": {
  "kernelspec": {
   "display_name": "Julia 0.6.2",
   "language": "julia",
   "name": "julia-0.6"
  },
  "language_info": {
   "file_extension": ".jl",
   "mimetype": "application/julia",
   "name": "julia",
   "version": "0.6.2"
  }
 },
 "nbformat": 4,
 "nbformat_minor": 2
}
