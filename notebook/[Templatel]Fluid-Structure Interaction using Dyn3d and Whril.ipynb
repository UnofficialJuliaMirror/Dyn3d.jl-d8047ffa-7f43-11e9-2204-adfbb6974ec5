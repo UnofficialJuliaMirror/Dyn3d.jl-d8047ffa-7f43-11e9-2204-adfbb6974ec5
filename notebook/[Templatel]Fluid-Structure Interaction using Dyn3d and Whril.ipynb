{
 "cells": [
  {
   "cell_type": "markdown",
   "metadata": {},
   "source": [
    "# Fluid-Structure Interaction using `Dyn3d` and `Whirl`"
   ]
  },
  {
   "cell_type": "markdown",
   "metadata": {},
   "source": [
    "## <span style=\"color:blue\"> Include Packages"
   ]
  },
  {
   "cell_type": "code",
   "execution_count": 1,
   "metadata": {},
   "outputs": [],
   "source": [
    "include(joinpath(Pkg.dir(\"Whirl\"), \"src/Whirl.jl\"))\n",
    "using Whirl\n",
    "\n",
    "include(Pkg.dir(\"Dyn3d\")*\"/src/Dyn3d.jl\")\n",
    "using Dyn3d"
   ]
  },
  {
   "cell_type": "code",
   "execution_count": 2,
   "metadata": {},
   "outputs": [],
   "source": [
    "using Plots\n",
    "pyplot()\n",
    "clibrary(:colorbrewer)\n",
    "default(grid = false)"
   ]
  },
  {
   "cell_type": "markdown",
   "metadata": {},
   "source": [
    "## <span style=\"color:blue\"> Set up rigid body with Dyn3d"
   ]
  },
  {
   "cell_type": "markdown",
   "metadata": {},
   "source": [
    "#### Include any joint-body setup script from Dyn3d"
   ]
  },
  {
   "cell_type": "code",
   "execution_count": 3,
   "metadata": {},
   "outputs": [
    {
     "name": "stdout",
     "output_type": "stream",
     "text": [
      "Config info set up.\n"
     ]
    }
   ],
   "source": [
    "include(Pkg.dir(\"Dyn3d\")*\"/src/config_files/2dFall.jl\")"
   ]
  },
  {
   "cell_type": "markdown",
   "metadata": {},
   "source": [
    "#### Build joint-body chain"
   ]
  },
  {
   "cell_type": "code",
   "execution_count": 4,
   "metadata": {},
   "outputs": [
    {
     "data": {
      "text/plain": []
     },
     "execution_count": 4,
     "metadata": {},
     "output_type": "execute_result"
    },
    {
     "name": "stdout",
     "output_type": "stream",
     "text": [
      "This is a 1 body-joint system.\n",
      "System is fixed in space\n"
     ]
    }
   ],
   "source": [
    "bodys, joints, system = BuildChain(config_bodys, config_joints, config_system)\n",
    "bd = BodyDyn(bodys, joints, system)"
   ]
  },
  {
   "cell_type": "markdown",
   "metadata": {},
   "source": [
    "#### Initialize rigid body system state"
   ]
  },
  {
   "cell_type": "code",
   "execution_count": 5,
   "metadata": {},
   "outputs": [],
   "source": [
    "# init system\n",
    "bd, soln = InitSystem!(bd)\n",
    "\n",
    "# init soln structure\n",
    "solns = (Soln)[]\n",
    "push!(solns, soln)\n",
    "\n",
    "# init VertsHistory struct\n",
    "vs = []\n",
    "push!(vs, VertsHistory(system.nbody, bd.bs));"
   ]
  },
  {
   "cell_type": "markdown",
   "metadata": {},
   "source": [
    "#### Set up HERKBody object"
   ]
  },
  {
   "cell_type": "code",
   "execution_count": 6,
   "metadata": {},
   "outputs": [
    {
     "data": {
      "text/plain": [
       "Order-3 HERK integrator.\n"
      ]
     },
     "execution_count": 6,
     "metadata": {},
     "output_type": "execute_result"
    }
   ],
   "source": [
    "herkbody = Dyn3d.HERKBody(system.num_params,HERKFuncM, HERKFuncGT, HERKFuncG,\n",
    "                (HERKFuncf,HERKFuncgti), (UpdatePosition!,UpdateVelocity!))"
   ]
  },
  {
   "cell_type": "markdown",
   "metadata": {},
   "source": [
    "#### Genrate body grid points and get linear velocity on them"
   ]
  },
  {
   "cell_type": "code",
   "execution_count": 7,
   "metadata": {
    "scrolled": true
   },
   "outputs": [],
   "source": [
    "# generate body points and fit it into 2d\n",
    "# note: np = (# of points on 1d plate - 1)*4+1.\n",
    "# So np=201 has 51 points(1 body), np=101 has 26 points(2 body)\n",
    "# np=49 has 13 points(4 body), np=25 has 7 points(8 body)\n",
    "\n",
    "bgs = GenerateBodyGrid(bd; np=201)\n",
    "bgs = CutOut2d(bd,bgs)\n",
    "bgs = AcquireBodyGridKinematics(bd,bgs)\n",
    "\n",
    "coord = hcat(bgs[1].q_i...)'[:,[1,2]]\n",
    "motion = hcat(bgs[1].v_i...)'[:,[1,2]]\n",
    "for i = 2:length(bgs)\n",
    "    coord = [coord[1:end-1,:]; hcat(bgs[i].q_i...)'[:,[1,2]]]\n",
    "    motion = [motion[1:end-1,:]; hcat(bgs[i].v_i...)'[:,[1,2]]]\n",
    "end"
   ]
  },
  {
   "cell_type": "markdown",
   "metadata": {},
   "source": [
    "#### Variable containers for all stages in IFHERK and HERKBody"
   ]
  },
  {
   "cell_type": "code",
   "execution_count": 8,
   "metadata": {},
   "outputs": [],
   "source": [
    "# Herk stages for both body and fluid solver\n",
    "NS = 3\n",
    "\n",
    "# Body kinematics container for ifherk input and herkbody output\n",
    "bkins = Vector{Array{Float64,2}}(NS)\n",
    "\n",
    "# Body force container for ifherk output(not integrated)\n",
    "fs = Vector{Array{Float64,2}}(NS)\n",
    "\n",
    "# Body force container for herkbody input(integrated)\n",
    "f_exis = [zeros(bd.sys.nbody,6) for i=1:NS]\n",
    "\n",
    "# All body info container\n",
    "bds = [bd for i=1:NS];"
   ]
  },
  {
   "cell_type": "markdown",
   "metadata": {},
   "source": [
    "#### Get body verts for plotting"
   ]
  },
  {
   "cell_type": "code",
   "execution_count": 9,
   "metadata": {},
   "outputs": [],
   "source": [
    "@get bd (bs, js, sys)\n",
    "bs, js, sys = UpdatePosition!(bs, js, sys, solns[1].qJ)\n",
    "vs₀ = VertsHistory(sys.nbody, bs);"
   ]
  },
  {
   "cell_type": "markdown",
   "metadata": {},
   "source": [
    "#### Plot body only"
   ]
  },
  {
   "cell_type": "code",
   "execution_count": 10,
   "metadata": {},
   "outputs": [
    {
     "data": {
      "text/html": [
       "<img src=\"data:image/png;base64,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\" />"
      ]
     },
     "execution_count": 10,
     "metadata": {},
     "output_type": "execute_result"
    }
   ],
   "source": [
    "p = plot()\n",
    "for i = 1:sys.nbody\n",
    "    plot!(p,vs₀[i,2:3,1], vs₀[i,2:3,2],linewidth=2)\n",
    "end\n",
    "plot!(xlims=(0,3), ylims=(0,2))"
   ]
  },
  {
   "cell_type": "markdown",
   "metadata": {},
   "source": [
    "## <span style=\"color:blue\"> Set up fluid solver with Whirl </span>"
   ]
  },
  {
   "cell_type": "markdown",
   "metadata": {},
   "source": [
    "#### Set the flow parameters"
   ]
  },
  {
   "cell_type": "code",
   "execution_count": 11,
   "metadata": {},
   "outputs": [],
   "source": [
    "Re = 200 # Reynolds number\n",
    "U = 1.0 # Free stream velocity\n",
    "U∞ = (0.0,U);"
   ]
  },
  {
   "cell_type": "markdown",
   "metadata": {},
   "source": [
    "#### Set the domain size and time step size"
   ]
  },
  {
   "cell_type": "code",
   "execution_count": 12,
   "metadata": {},
   "outputs": [
    {
     "data": {
      "text/plain": [
       "(-0.01:0.02:3.0100000000000002, -0.01:0.02:2.0100000000000002)"
      ]
     },
     "execution_count": 12,
     "metadata": {},
     "output_type": "execute_result"
    }
   ],
   "source": [
    "nx = 152; ny = 102;\n",
    "Ly = 2.0;\n",
    "Δx = Ly/(ny-2);\n",
    "Δt = min(0.5*Δx,0.5*Δx^2*Re)\n",
    "w₀ = Nodes(Dual,(nx,ny))\n",
    "xg, yg = coordinates(w₀,dx=Δx)"
   ]
  },
  {
   "cell_type": "markdown",
   "metadata": {},
   "source": [
    "#### Set up initial conditions"
   ]
  },
  {
   "cell_type": "code",
   "execution_count": 13,
   "metadata": {},
   "outputs": [],
   "source": [
    "t = 0.0\n",
    "w₀ .= 0.0\n",
    "tf = 50*Δt\n",
    "T = Δt:Δt:tf\n",
    "fx = Float64[]\n",
    "fy = Float64[]\n",
    "thist = []\n",
    "uhist = []\n",
    "tsample = 0.02;"
   ]
  },
  {
   "cell_type": "markdown",
   "metadata": {},
   "source": [
    "#### Get body points initial coordinates"
   ]
  },
  {
   "cell_type": "code",
   "execution_count": 14,
   "metadata": {},
   "outputs": [],
   "source": [
    "bgs = AcquireBodyGridKinematics(bd,bgs)\n",
    "coord = hcat(bgs[1].q_i...)'[:,[1,2]]\n",
    "for i = 2:length(bgs)\n",
    "    coord = [coord[1:end-1,:]; hcat(bgs[i].q_i...)'[:,[1,2]]]\n",
    "end\n",
    "coord_init = coord;"
   ]
  },
  {
   "cell_type": "markdown",
   "metadata": {},
   "source": [
    "#### Set up the Navier-Stokes  problem type"
   ]
  },
  {
   "cell_type": "code",
   "execution_count": 15,
   "metadata": {},
   "outputs": [
    {
     "data": {
      "text/plain": [
       "Navier-Stokes system on a grid of size 152 x 102"
      ]
     },
     "execution_count": 15,
     "metadata": {},
     "output_type": "execute_result"
    }
   ],
   "source": [
    "X̃ = VectorData(coord_init)\n",
    "sys = Systems.NavierStokes((nx,ny),Re,Δx,Δt,U∞ = U∞, X̃ = X̃, isstore = true, isstatic = false)"
   ]
  },
  {
   "cell_type": "markdown",
   "metadata": {},
   "source": [
    "## <span style=\"color:blue\"> Preparation for Time Marching </span>"
   ]
  },
  {
   "cell_type": "markdown",
   "metadata": {},
   "source": [
    "#### Constants for coupling"
   ]
  },
  {
   "cell_type": "code",
   "execution_count": 16,
   "metadata": {},
   "outputs": [
    {
     "data": {
      "text/plain": [
       "0.5"
      ]
     },
     "execution_count": 16,
     "metadata": {},
     "output_type": "execute_result"
    }
   ],
   "source": [
    "tol = 5e-4  # coupling tolerance\n",
    "ω = (config_bodys[1].ρ)/(1.0+config_bodys[1].ρ)  # relaxation parameter"
   ]
  },
  {
   "cell_type": "markdown",
   "metadata": {},
   "source": [
    "#### Create Body solver object of type HerkBody"
   ]
  },
  {
   "cell_type": "code",
   "execution_count": 17,
   "metadata": {},
   "outputs": [
    {
     "data": {
      "text/plain": [
       "Order-3 HERK integrator.\n"
      ]
     },
     "execution_count": 17,
     "metadata": {},
     "output_type": "execute_result"
    }
   ],
   "source": [
    "herk = HERKBody(system.num_params,HERKFuncM, HERKFuncGT, HERKFuncG,\n",
    "            (HERKFuncf,HERKFuncgti),\n",
    "            (UpdatePosition!,UpdateVelocity!))"
   ]
  },
  {
   "cell_type": "markdown",
   "metadata": {},
   "source": [
    "#### Create Fluid solver object of type IFHERK"
   ]
  },
  {
   "cell_type": "code",
   "execution_count": 18,
   "metadata": {},
   "outputs": [
    {
     "data": {
      "text/plain": [
       "Order-3 IF-HERK for fs interaction integrator with\n",
       "   State of type Whirl.Fields.Nodes{Whirl.Fields.Dual,152,102}\n",
       "   Force of type Whirl.Fields.VectorData{51}\n",
       "   Time step size 0.01\n"
      ]
     },
     "execution_count": 18,
     "metadata": {},
     "output_type": "execute_result"
    }
   ],
   "source": [
    "u = w₀\n",
    "f = VectorData(X̃)\n",
    "fs = [[f.u f.v] for i=1:NS]\n",
    "\n",
    "# construct fluid solver with uniform constant free stream\n",
    "ifherk_sc2d = Whirl.IFHERK_sc2d(u,f,sys.Δt,\n",
    "                (t,u) -> Systems.plan_intfact(t,u,sys),\n",
    "                (u,t,coord) -> Whirl.plan_constraints(u,t,sys,coord),\n",
    "                ((u,t) -> Whirl.r₁(u,t,sys),\n",
    "                 (u,t,motion) -> Whirl.r₂(u,t,sys,motion)),\n",
    "                coord_init,\n",
    "                tol=1e-3,rk=Whirl.TimeMarching.RK31,\n",
    "                isstored=true,isstaticconstraints=false)"
   ]
  },
  {
   "cell_type": "markdown",
   "metadata": {},
   "source": [
    "## <span style=\"color:blue\"> Time Marching! </span>"
   ]
  },
  {
   "cell_type": "markdown",
   "metadata": {},
   "source": [
    "#### Make timestep in Dyn3d and Whirl the same"
   ]
  },
  {
   "cell_type": "code",
   "execution_count": 19,
   "metadata": {},
   "outputs": [
    {
     "data": {
      "text/plain": [
       "51"
      ]
     },
     "execution_count": 19,
     "metadata": {},
     "output_type": "execute_result"
    }
   ],
   "source": [
    "soln.dt = Δt\n",
    "solns[1].dt = soln.dt\n",
    "\n",
    "# total number of body points in the fluid solver\n",
    "np_total = round(Int,length(f)/2)"
   ]
  },
  {
   "cell_type": "markdown",
   "metadata": {},
   "source": [
    "#### Proceed with normal coupling AFTER the first timestep"
   ]
  },
  {
   "cell_type": "code",
   "execution_count": 20,
   "metadata": {
    "scrolled": true
   },
   "outputs": [
    {
     "name": "stdout",
     "output_type": "stream",
     "text": [
      "iteration 1, ϵ = 86.50042465119408\n",
      "iteration 2, ϵ = 140.10228001673758\n",
      "iteration 3, ϵ = 102.19860720116249\n",
      "iteration 4, ϵ = 65.45289123980172\n",
      "iteration 5, ϵ = 39.670036423251645\n",
      "iteration 6, ϵ = 23.255524345935402\n",
      "iteration 7, ϵ = 13.330003933314405\n",
      "iteration 8, ϵ = 7.51746409756515\n",
      "iteration 9, ϵ = 4.186916018695336\n",
      "iteration 10, ϵ = 2.3087118023718904\n",
      "iteration 11, ϵ = 1.262541961722878\n",
      "iteration 12, ϵ = 0.6856127415823997\n",
      "iteration 13, ϵ = 0.370085596640343\n",
      "iteration 14, ϵ = 0.19873004918376325\n",
      "iteration 15, ϵ = 0.1062300952916922\n",
      "iteration 16, ϵ = 0.05655750100607588\n",
      "iteration 17, ϵ = 0.030004675723082297\n",
      "iteration 18, ϵ = 0.01586756816185824\n",
      "iteration 19, ϵ = 0.008367508154012184\n",
      "iteration 20, ϵ = 0.004401163107697415\n",
      "iteration 21, ϵ = 0.0023095573642274974\n",
      "iteration 22, ϵ = 0.001209401594691145\n",
      "iteration 23, ϵ = 0.0006320795719055089\n",
      "time = 0.01 converged through 24 iterations\n",
      "iteration 1, ϵ = 87.32046876794179\n",
      "iteration 2, ϵ = 140.46630340501144\n",
      "iteration 3, ϵ = 102.54156553489564\n",
      "iteration 4, ϵ = 65.63427520856013\n",
      "iteration 5, ϵ = 39.78834359917488\n",
      "iteration 6, ϵ = 23.355096712722663\n",
      "iteration 7, ϵ = 13.409875867919757\n",
      "iteration 8, ϵ = 7.570722639376326\n",
      "iteration 9, ϵ = 4.217926474536826\n",
      "iteration 10, ϵ = 2.3250696494907666\n",
      "iteration 11, ϵ = 1.2704964103286687\n",
      "iteration 12, ϵ = 0.6891818347558631\n",
      "iteration 13, ϵ = 0.3715337360859021\n",
      "iteration 14, ϵ = 0.19922618245590024\n",
      "iteration 15, ϵ = 0.1063366864554335\n",
      "iteration 16, ϵ = 0.056527110772181005\n",
      "iteration 17, ϵ = 0.029941426015149757\n",
      "iteration 18, ϵ = 0.015808892765690308\n",
      "iteration 19, ϵ = 0.008323158903640757\n",
      "iteration 20, ϵ = 0.004370747186972843\n",
      "iteration 21, ϵ = 0.0022898632509578765\n",
      "iteration 22, ϵ = 0.0011971293662111566\n",
      "iteration 23, ϵ = 0.0006246400148701033\n",
      "time = 0.019999999999999997 converged through 24 iterations\n",
      "iteration 1, ϵ = 0.3084143753701709\n",
      "iteration 2, ϵ = 0.10153820096581345\n",
      "iteration 3, ϵ = 0.11009369819160425\n",
      "iteration 4, ϵ = 0.07745709920439134\n",
      "iteration 5, ϵ = 0.04915779034478429\n",
      "iteration 6, ϵ = 0.029706172660261987\n",
      "iteration 7, ϵ = 0.017404755426914727\n",
      "iteration 8, ϵ = 0.009975570915718119\n",
      "iteration 9, ϵ = 0.005623414186050817\n",
      "iteration 10, ϵ = 0.003129074822826909\n",
      "iteration 11, ϵ = 0.001723001928831529\n",
      "iteration 12, ϵ = 0.0009406239797272713\n",
      "iteration 13, ϵ = 0.0005098189247738152\n",
      "time = 0.03 converged through 14 iterations\n",
      "iteration 1, ϵ = 0.07481000576967776\n",
      "iteration 2, ϵ = 0.036876493759616276\n",
      "iteration 3, ϵ = 0.03918398398676058\n",
      "iteration 4, ϵ = 0.028219021035917415\n",
      "iteration 5, ϵ = 0.018233718324132286\n",
      "iteration 6, ϵ = 0.011156744203369956\n",
      "iteration 7, ϵ = 0.0065948801249933195\n",
      "iteration 8, ϵ = 0.003804790080346775\n",
      "iteration 9, ϵ = 0.0021557042553902337\n",
      "iteration 10, ϵ = 0.0012043329872850617\n",
      "iteration 11, ϵ = 0.0006653210242696453\n",
      "time = 0.04 converged through 12 iterations\n",
      "iteration 1, ϵ = 0.03911538588301888\n",
      "iteration 2, ϵ = 0.002506972749796388\n",
      "iteration 3, ϵ = 0.0060869183299803314\n",
      "iteration 4, ϵ = 0.004797732480506509\n",
      "iteration 5, ϵ = 0.003204509151245663\n",
      "iteration 6, ϵ = 0.0019970098626537116\n",
      "iteration 7, ϵ = 0.0011947995659599524\n",
      "iteration 8, ϵ = 0.0006953199980797463\n",
      "time = 0.05 converged through 9 iterations\n",
      "iteration 1, ϵ = 0.0039000094626738813\n",
      "iteration 2, ϵ = 0.014947838525952106\n",
      "iteration 3, ϵ = 0.013892833390605819\n",
      "iteration 4, ϵ = 0.009938068425139793\n",
      "iteration 5, ϵ = 0.0064403023178938555\n",
      "iteration 6, ϵ = 0.003952429963440644\n",
      "iteration 7, ϵ = 0.0023416208628430236\n",
      "iteration 8, ϵ = 0.0013532465025687052\n",
      "iteration 9, ϵ = 0.0007677184252223692\n",
      "time = 0.05999999999999999 converged through 10 iterations\n",
      "iteration 1, ϵ = 0.0019757273247396068\n",
      "iteration 2, ϵ = 0.010664367973699518\n",
      "iteration 3, ϵ = 0.008419485906541735\n",
      "iteration 4, ϵ = 0.005565326895904943\n",
      "iteration 5, ϵ = 0.0034396896438923866\n",
      "iteration 6, ϵ = 0.002045784343520372\n",
      "iteration 7, ϵ = 0.0011854075110587971\n",
      "iteration 8, ϵ = 0.0006738229325786698\n",
      "time = 0.07 converged through 9 iterations\n",
      "iteration 1, ϵ = 0.03850106267187936\n",
      "iteration 2, ϵ = 0.005857597322687369\n",
      "time = 0.08 converged through 3 iterations\n",
      "iteration 1, ϵ = 0.03182148301738458\n",
      "iteration 2, ϵ = 0.006950996645074856\n",
      "iteration 3, ϵ = 0.0032823238626670664\n",
      "iteration 4, ϵ = 0.001999143697903074\n",
      "iteration 5, ϵ = 0.0012265852314561516\n",
      "iteration 6, ϵ = 0.000731782151651433\n",
      "time = 0.09 converged through 7 iterations\n",
      "iteration 1, ϵ = 0.012976871585167249\n",
      "iteration 2, ϵ = 0.009204123540603099\n",
      "iteration 3, ϵ = 0.006881677623928786\n",
      "iteration 4, ϵ = 0.004677951822432077\n",
      "iteration 5, ϵ = 0.002967287422589473\n",
      "iteration 6, ϵ = 0.0017985155642336473\n",
      "iteration 7, ϵ = 0.0010566065532399012\n",
      "iteration 8, ϵ = 0.0006068864527045663\n",
      "time = 0.1 converged through 9 iterations\n",
      "iteration 1, ϵ = 0.007552787104231351\n",
      "time = 0.11 converged through 2 iterations\n",
      "iteration 1, ϵ = 0.03132034985424571\n",
      "iteration 2, ϵ = 0.000756013797878867\n",
      "iteration 3, ϵ = 0.0026220972931519024\n",
      "iteration 4, ϵ = 0.002335198690715178\n",
      "iteration 5, ϵ = 0.0016284768480777471\n",
      "iteration 6, ϵ = 0.0010390070775858273\n",
      "iteration 7, ϵ = 0.0006311794374901851\n",
      "time = 0.12000000000000001 converged through 8 iterations\n",
      "iteration 1, ϵ = 0.02755091814673253\n",
      "iteration 2, ϵ = 0.004399965731551185\n",
      "iteration 3, ϵ = 0.0012740115839360733\n",
      "iteration 4, ϵ = 0.0005775683090893167\n",
      "time = 0.13 converged through 5 iterations\n",
      "iteration 1, ϵ = 0.022845934442536617\n",
      "iteration 2, ϵ = 0.00418936665413365\n",
      "iteration 3, ϵ = 0.002062671235732047\n",
      "iteration 4, ϵ = 0.0013974549937978056\n",
      "iteration 5, ϵ = 0.0009223687179005791\n",
      "iteration 6, ϵ = 0.0005772388115672044\n",
      "time = 0.14 converged through 7 iterations\n",
      "iteration 1, ϵ = 0.016987295787855572\n",
      "iteration 2, ϵ = 0.0006442847374924926\n",
      "iteration 3, ϵ = 0.003001561016895136\n",
      "iteration 4, ϵ = 0.002636833979154811\n",
      "iteration 5, ϵ = 0.0018641050936390072\n",
      "iteration 6, ϵ = 0.0012022530241547866\n",
      "iteration 7, ϵ = 0.0007358194135123903\n",
      "time = 0.15 converged through 8 iterations\n",
      "iteration 1, ϵ = 0.022307562733465847\n",
      "iteration 2, ϵ = 0.0024614601870330474\n",
      "time = 0.16 converged through 3 iterations\n",
      "iteration 1, ϵ = 0.032146553942279214\n",
      "iteration 2, ϵ = 0.003953508760648908\n",
      "time = 0.17 converged through 3 iterations\n",
      "iteration 1, ϵ = 0.004833469606830329\n",
      "iteration 2, ϵ = 0.00303427052302952\n",
      "iteration 3, ϵ = 0.0008359957499653255\n",
      "time = 0.18 converged through 4 iterations\n",
      "iteration 1, ϵ = 0.009513075908988545\n",
      "iteration 2, ϵ = 0.0013200146831226457\n",
      "time = 0.19 converged through 3 iterations\n",
      "iteration 1, ϵ = 0.026914945343597257\n",
      "iteration 2, ϵ = 0.0025870761279221492\n",
      "iteration 3, ϵ = 0.0008593218311171887\n",
      "iteration 4, ϵ = 0.0011581166287170232\n",
      "iteration 5, ϵ = 0.000906187563287053\n",
      "iteration 6, ϵ = 0.0006125991821765348\n",
      "time = 0.2 converged through 7 iterations\n",
      "iteration 1, ϵ = 0.014081783697672642\n",
      "iteration 2, ϵ = 0.0036169158706659777\n",
      "iteration 3, ϵ = 0.003476524404098813\n",
      "iteration 4, ϵ = 0.002187048534966336\n",
      "iteration 5, ϵ = 0.001277251928629443\n",
      "iteration 6, ϵ = 0.0007261352095036012\n",
      "time = 0.21 converged through 7 iterations\n",
      "iteration 1, ϵ = 0.007443438993146506\n",
      "iteration 2, ϵ = 0.004188014260426601\n",
      "iteration 3, ϵ = 0.0032572061848302122\n",
      "iteration 4, ϵ = 0.0023063156879869918\n",
      "iteration 5, ϵ = 0.0015017315311701626\n",
      "iteration 6, ϵ = 0.0009260268896654602\n",
      "iteration 7, ϵ = 0.000550617061230615\n",
      "time = 0.22 converged through 8 iterations\n",
      "iteration 1, ϵ = 0.028560124665304963\n",
      "iteration 2, ϵ = 0.005428995334684446\n",
      "iteration 3, ϵ = 0.0008608644756519738\n",
      "time = 0.23 converged through 4 iterations\n",
      "iteration 1, ϵ = 0.005482385421032798\n",
      "iteration 2, ϵ = 0.007431672417744582\n",
      "iteration 3, ϵ = 0.00653856173797631\n",
      "iteration 4, ϵ = 0.004731076041214437\n",
      "iteration 5, ϵ = 0.0031012568456522662\n",
      "iteration 6, ϵ = 0.001918689645873687\n",
      "iteration 7, ϵ = 0.0011432371223126774\n",
      "iteration 8, ϵ = 0.0006634696432198796\n",
      "time = 0.24 converged through 9 iterations\n",
      "iteration 1, ϵ = 0.024202424957343108\n",
      "iteration 2, ϵ = 0.0014276286758704015\n",
      "iteration 3, ϵ = 0.0032068035986054094\n",
      "iteration 4, ϵ = 0.0023882544624820937\n",
      "iteration 5, ϵ = 0.0015364539950120095\n",
      "iteration 6, ϵ = 0.0009338500371695508\n",
      "iteration 7, ϵ = 0.0005490724754345228\n",
      "time = 0.25 converged through 8 iterations\n",
      "iteration 1, ϵ = 0.016396194525673556\n",
      "iteration 2, ϵ = 0.0018247137851779456\n",
      "iteration 3, ϵ = 0.0012030063535757047\n",
      "iteration 4, ϵ = 0.0015422418928967992\n"
     ]
    },
    {
     "name": "stdout",
     "output_type": "stream",
     "text": [
      "iteration 5, ϵ = 0.0012284058341391808\n",
      "iteration 6, ϵ = 0.000841222841564359\n",
      "iteration 7, ϵ = 0.0005338433999740644\n",
      "time = 0.26 converged through 8 iterations\n",
      "iteration 1, ϵ = 0.002848788559980761\n",
      "iteration 2, ϵ = 0.003942281575833834\n",
      "iteration 3, ϵ = 0.0029257556346784907\n",
      "iteration 4, ϵ = 0.0017519541334241363\n",
      "iteration 5, ϵ = 0.000999939731179728\n",
      "iteration 6, ϵ = 0.0005596621076254574\n",
      "time = 0.27 converged through 7 iterations\n",
      "iteration 1, ϵ = 0.024031077841365885\n",
      "iteration 2, ϵ = 0.004042091533335568\n",
      "iteration 3, ϵ = 0.0010479782373799661\n",
      "time = 0.28 converged through 4 iterations\n",
      "iteration 1, ϵ = 0.013222058428991827\n",
      "iteration 2, ϵ = 0.0024207274493301904\n",
      "time = 0.29 converged through 3 iterations\n",
      "iteration 1, ϵ = 0.0021211567620998822\n",
      "iteration 2, ϵ = 0.0026164161817514367\n",
      "iteration 3, ϵ = 0.0018976066728241398\n",
      "iteration 4, ϵ = 0.0011077366635724164\n",
      "iteration 5, ϵ = 0.0006185376483066932\n",
      "time = 0.3 converged through 6 iterations\n",
      "iteration 1, ϵ = 0.02495649757240423\n",
      "iteration 2, ϵ = 0.00415468671660825\n",
      "iteration 3, ϵ = 0.0008915050630105836\n",
      "time = 0.31 converged through 4 iterations\n",
      "iteration 1, ϵ = 0.013658495419293787\n",
      "iteration 2, ϵ = 0.006097092019983236\n",
      "iteration 3, ϵ = 0.0025206920244585096\n",
      "iteration 4, ϵ = 0.0009791445318112213\n",
      "time = 0.32 converged through 5 iterations\n",
      "iteration 1, ϵ = 0.0006297832174772637\n",
      "iteration 2, ϵ = 0.004120987248369543\n",
      "iteration 3, ϵ = 0.0028453669516205317\n",
      "iteration 4, ϵ = 0.0016935297814152277\n",
      "iteration 5, ϵ = 0.0009688836870814083\n",
      "iteration 6, ϵ = 0.0005440042437179827\n",
      "time = 0.33 converged through 7 iterations\n",
      "iteration 1, ϵ = 0.02072579151173659\n",
      "iteration 2, ϵ = 0.004291865806146156\n",
      "iteration 3, ϵ = 0.0015316526140871853\n",
      "iteration 4, ϵ = 0.0007193436377884548\n",
      "time = 0.34 converged through 5 iterations\n",
      "iteration 1, ϵ = 0.007715427576142936\n",
      "iteration 2, ϵ = 0.006589566614976658\n",
      "iteration 3, ϵ = 0.003300884142016111\n",
      "iteration 4, ϵ = 0.0015077308633743326\n",
      "iteration 5, ϵ = 0.0006669590595258876\n",
      "time = 0.35 converged through 6 iterations\n",
      "iteration 1, ϵ = 0.009920947011828524\n",
      "iteration 2, ϵ = 0.0013473551952843527\n",
      "iteration 3, ϵ = 0.001973887244762565\n",
      "iteration 4, ϵ = 0.0014411232896980111\n",
      "iteration 5, ϵ = 0.0009267890826364193\n",
      "iteration 6, ϵ = 0.000564209736776687\n",
      "time = 0.36 converged through 7 iterations\n",
      "iteration 1, ϵ = 0.0022160756538622817\n",
      "iteration 2, ϵ = 0.005648532901148688\n",
      "iteration 3, ϵ = 0.004454543349470076\n",
      "iteration 4, ϵ = 0.002974950197013125\n",
      "iteration 5, ϵ = 0.0018539432087463885\n",
      "iteration 6, ϵ = 0.0011092714084624741\n",
      "iteration 7, ϵ = 0.0006456056577414954\n",
      "time = 0.37 converged through 8 iterations\n",
      "iteration 1, ϵ = 0.03757086541978791\n",
      "iteration 2, ϵ = 0.018190171476029873\n",
      "iteration 3, ϵ = 0.008905074325353937\n",
      "iteration 4, ϵ = 0.00436909375956129\n",
      "iteration 5, ϵ = 0.0021441022846039916\n",
      "iteration 6, ϵ = 0.0010519872187390589\n",
      "iteration 7, ϵ = 0.000515989640392631\n",
      "time = 0.38 converged through 8 iterations\n",
      "iteration 1, ϵ = 0.011600284933963811\n",
      "iteration 2, ϵ = 0.019690821335589637\n",
      "iteration 3, ϵ = 0.014057300210528312\n",
      "iteration 4, ϵ = 0.008833871720893643\n",
      "iteration 5, ϵ = 0.00528582243310426\n",
      "iteration 6, ϵ = 0.00307325429609771\n",
      "iteration 7, ϵ = 0.0017511449079656858\n",
      "iteration 8, ϵ = 0.0009826572107398488\n",
      "iteration 9, ϵ = 0.0005448006325900231\n",
      "time = 0.39 converged through 10 iterations\n",
      "iteration 1, ϵ = 0.023793596197227762\n",
      "iteration 2, ϵ = 0.0050516063705246805\n",
      "iteration 3, ϵ = 0.0012917899481386386\n",
      "time = 0.4 converged through 4 iterations\n",
      "iteration 1, ϵ = 0.023652642024333537\n",
      "iteration 2, ϵ = 0.0060557546449868105\n",
      "iteration 3, ϵ = 0.001399464981811857\n",
      "time = 0.41 converged through 4 iterations\n",
      "iteration 1, ϵ = 0.010555320328681977\n",
      "iteration 2, ϵ = 0.009478982853200701\n",
      "iteration 3, ϵ = 0.005852843227677734\n",
      "iteration 4, ϵ = 0.003374825891157899\n",
      "iteration 5, ϵ = 0.0018995544481802736\n",
      "iteration 6, ϵ = 0.0010544113159406347\n",
      "iteration 7, ϵ = 0.0005793058967583694\n",
      "time = 0.42 converged through 8 iterations\n",
      "iteration 1, ϵ = 0.016776364019038266\n",
      "iteration 2, ϵ = 0.005909330793324697\n",
      "iteration 3, ϵ = 0.002891429988789747\n",
      "iteration 4, ϵ = 0.0015414364160790959\n",
      "iteration 5, ϵ = 0.0008323111810743496\n",
      "time = 0.43 converged through 6 iterations\n",
      "iteration 1, ϵ = 0.018599724387299715\n",
      "iteration 2, ϵ = 0.006045381243426243\n",
      "iteration 3, ϵ = 0.0023317262677598457\n",
      "iteration 4, ϵ = 0.000922163564992245\n",
      "time = 0.44 converged through 5 iterations\n",
      "iteration 1, ϵ = 0.003691987704956592\n",
      "iteration 2, ϵ = 0.0064280850479681954\n",
      "iteration 3, ϵ = 0.0040017065452108876\n",
      "iteration 4, ϵ = 0.002231001234451616\n",
      "iteration 5, ϵ = 0.0012126635345963846\n",
      "iteration 6, ϵ = 0.0006529085833723142\n",
      "time = 0.45 converged through 7 iterations\n",
      "iteration 1, ϵ = 0.005119051289029484\n",
      "iteration 2, ϵ = 0.003916526984440402\n",
      "iteration 3, ϵ = 0.002510082849077341\n",
      "iteration 4, ϵ = 0.0015169993206231409\n",
      "iteration 5, ϵ = 0.0008878311590654574\n",
      "iteration 6, ϵ = 0.000508332471643814\n",
      "time = 0.46 converged through 7 iterations\n",
      "iteration 1, ϵ = 0.004562466381946104\n",
      "iteration 2, ϵ = 0.002378521014511574\n",
      "iteration 3, ϵ = 0.0012640536430864237\n",
      "iteration 4, ϵ = 0.0006721437171813491\n",
      "time = 0.47 converged through 5 iterations\n",
      "iteration 1, ϵ = 0.009476566533821201\n",
      "iteration 2, ϵ = 0.009980263998902825\n",
      "iteration 3, ϵ = 0.006129062228545904\n",
      "iteration 4, ϵ = 0.0034782290090085493\n",
      "iteration 5, ϵ = 0.0019293948128644594\n",
      "iteration 6, ϵ = 0.001057976888058761\n",
      "iteration 7, ϵ = 0.0005753708190951745\n",
      "time = 0.48 converged through 8 iterations\n",
      "iteration 1, ϵ = 0.0014633049225110696\n",
      "iteration 2, ϵ = 0.007539723703058339\n",
      "iteration 3, ϵ = 0.005533034511617404\n",
      "iteration 4, ϵ = 0.003472012834669141\n",
      "iteration 5, ϵ = 0.0020695164528261468\n",
      "iteration 6, ϵ = 0.0011992421401236701\n",
      "iteration 7, ϵ = 0.0006815121177112557\n",
      "time = 0.49 converged through 8 iterations\n",
      "iteration 1, ϵ = 0.02918212131219424\n",
      "iteration 2, ϵ = 0.0021772550692569243\n",
      "iteration 3, ϵ = 0.0012855058916983958\n",
      "iteration 4, ϵ = 0.0014137932845762965\n",
      "iteration 5, ϵ = 0.0010469350774412285\n",
      "iteration 6, ϵ = 0.0006883526291640723\n",
      "time = 0.5 converged through 7 iterations\n",
      "1720.517815 seconds (16.04 G allocations: 2.882 TiB, 14.84% gc time)\n",
      "solution completed through time t = 0.51\n"
     ]
    }
   ],
   "source": [
    "@time for t in T\n",
    "\n",
    "    iter = 1\n",
    "    fᵢ = fs.*Δx^2\n",
    "\n",
    "    # record body info\n",
    "    soln_buffer = deepcopy(soln)\n",
    "    bd_buffer = deepcopy(bd)\n",
    "    bgs_buffer = deepcopy(bgs)\n",
    "\n",
    "    # record fluid info\n",
    "    u_buffer = deepcopy(u)\n",
    "    t_buffer = t\n",
    "\n",
    "    while true\n",
    "\n",
    "        #--------------------------------------------------------\n",
    "        # get body state of the last timestep\n",
    "        soln = deepcopy(soln_buffer)\n",
    "        bd = deepcopy(bd_buffer)\n",
    "        bgs = deepcopy(bgs_buffer)\n",
    "\n",
    "        #--------------------------------------------------------\n",
    "        # integrate body forces from body points\n",
    "        for k = 1:NS\n",
    "            # assign fluid body points forces to bgs to integrate\n",
    "            b_cnt = 1\n",
    "            ref = 0\n",
    "            for i = 1:np_total\n",
    "                # move to the next bgs if i exceed bgs[b_cnt].np\n",
    "                if i > ref + bgs[b_cnt].np\n",
    "                    ref += bgs[b_cnt].np\n",
    "                    b_cnt += 1        \n",
    "                end\n",
    "                bgs[b_cnt].f_ex3d[i-ref][[1,2]] = fᵢ[k][i,:]\n",
    "            end\n",
    "\n",
    "            # integrate total forces from all body points on a body\n",
    "            bgs = IntegrateBodyGridDynamics(bd,bgs)\n",
    "            for i = 1:bd.sys.nbody\n",
    "                f_exis[k][i,:] = bgs[i].f_ex6d\n",
    "            end\n",
    "        end\n",
    "        \n",
    "        #--------------------------------------------------------\n",
    "        # advance body solver for one step        \n",
    "        soln, bds = herkbody(soln, bd; _isfixedstep=true, _outputmode=true, f_exi=f_exis);\n",
    "\n",
    "        #--------------------------------------------------------\n",
    "        # acquire vel and coord of body points for fluid computation\n",
    "        for k = 1:NS\n",
    "            bgs = AcquireBodyGridKinematics(bds[k],bgs)\n",
    "            coord = hcat(bgs[1].q_i...)'[:,[1,2]]\n",
    "            motion = hcat(bgs[1].v_i...)'[:,[1,2]]\n",
    "            for i = 2:length(bgs)\n",
    "                coord = [coord[1:end-1,:]; hcat(bgs[i].q_i...)'[:,[1,2]]]\n",
    "                motion = [motion[1:end-1,:]; hcat(bgs[i].v_i...)'[:,[1,2]]]\n",
    "            end\n",
    "            bkins[k] = [coord motion]\n",
    "        end\n",
    "        \n",
    "        #--------------------------------------------------------\n",
    "        # get fluid state of the last timestep\n",
    "        u = deepcopy(u_buffer)\n",
    "        t = t_buffer\n",
    "\n",
    "        #--------------------------------------------------------\n",
    "        # advance fluid solver for one step\n",
    "        t, u, f, fs = ifherk_sc2d(t,u,bkins)\n",
    "\n",
    "        #--------------------------------------------------------\n",
    "        # check if converge, use relaxation if not\n",
    "        ϵ = abs(sum(fs[NS]*Δx^2 - fᵢ[NS]))\n",
    "\n",
    "        if ϵ < tol break end\n",
    "\n",
    "#         println(\"proposed fy at last stage: \", sum(fᵢ[NS][:,2]))\n",
    "#         println(\"corrected fy at last stage: \", sum(fs[NS][:,2])*Δx^2)\n",
    "        \n",
    "        # if not converge, use relaxation\n",
    "        fᵢ = (1-ω)*fᵢ + ω*fs*Δx^2\n",
    "        \n",
    "#         println(\"relaxation fy at last stage: \", sum(fᵢ[NS][:,2]),\"\\n\")\n",
    "        println(\"iteration \",iter,\", ϵ = \",ϵ);\n",
    "        iter += 1\n",
    "        \n",
    "    end\n",
    "    # converged for this timestep\n",
    "    print(\"time = \", t-Δt, \" converged through \", iter, \" iterations\\n\")\n",
    "    \n",
    "    # record converged bd for next step\n",
    "    bd = bds[NS]\n",
    "    \n",
    "    # record body info\n",
    "    push!(solns, soln)\n",
    "    push!(vs, VertsHistory(system.nbody, bd.bs))\n",
    "\n",
    "    # record fluid info\n",
    "    push!(thist,t)\n",
    "    push!(fx,sum(fᵢ[NS][:,1]))\n",
    "    push!(fy,sum(fᵢ[NS][:,2]))\n",
    "    push!(uhist,deepcopy(u))\n",
    "    \n",
    "end\n",
    "\n",
    "println(\"solution completed through time t = \",t)"
   ]
  },
  {
   "cell_type": "markdown",
   "metadata": {},
   "source": [
    "## <span style=\"color:blue\"> Plot </span>"
   ]
  },
  {
   "cell_type": "markdown",
   "metadata": {},
   "source": [
    "#### Get body verts history"
   ]
  },
  {
   "cell_type": "code",
   "execution_count": 21,
   "metadata": {},
   "outputs": [],
   "source": [
    "@get bd (bs, js, sys)\n",
    "vshist = []\n",
    "for i = 1:length(solns)\n",
    "    bs, js, sys = UpdatePosition!(bs, js, sys, solns[i].qJ)\n",
    "    push!(vshist, VertsHistory(sys.nbody, bs))\n",
    "end"
   ]
  },
  {
   "cell_type": "markdown",
   "metadata": {},
   "source": [
    "#### Contour levels and gif name"
   ]
  },
  {
   "cell_type": "code",
   "execution_count": null,
   "metadata": {},
   "outputs": [],
   "source": [
    "contour_levels = linspace(-0.2,0.2,30)\n",
    "gif_name = \"pivot-fixed falling.gif\""
   ]
  },
  {
   "cell_type": "markdown",
   "metadata": {},
   "source": [
    "#### Plot first and last time field"
   ]
  },
  {
   "cell_type": "code",
   "execution_count": 22,
   "metadata": {},
   "outputs": [
    {
     "data": {
      "text/html": [
       "<img src=\"data:image/png;base64,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\" />"
      ]
     },
     "execution_count": 22,
     "metadata": {},
     "output_type": "execute_result"
    }
   ],
   "source": [
    "p1 = plot(xg,yg,uhist[1],levels=contour_levels)\n",
    "for i = 1:sys.nbody\n",
    "    plot!(p1,vshist[1][i,2:3,1], vshist[1][i,2:3,2],linewidth=2,linecolor=\"grey\")\n",
    "end\n",
    "p1"
   ]
  },
  {
   "cell_type": "code",
   "execution_count": 23,
   "metadata": {},
   "outputs": [
    {
     "data": {
      "text/html": [
       "<img src=\"data:image/png;base64,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\" />"
      ]
     },
     "execution_count": 23,
     "metadata": {},
     "output_type": "execute_result"
    }
   ],
   "source": [
    "p2 = plot(xg,yg,uhist[end],levels=contour_levels)\n",
    "for i = 1:sys.nbody\n",
    "    plot!(p2,vshist[end][i,2:3,1], vshist[end][i,2:3,2],linewidth=2,linecolor=\"grey\")\n",
    "end\n",
    "p2"
   ]
  },
  {
   "cell_type": "markdown",
   "metadata": {},
   "source": [
    "#### Body position begining and end"
   ]
  },
  {
   "cell_type": "code",
   "execution_count": 24,
   "metadata": {},
   "outputs": [
    {
     "data": {
      "text/html": [
       "<img src=\"data:image/png;base64,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\" />"
      ]
     },
     "execution_count": 24,
     "metadata": {},
     "output_type": "execute_result"
    }
   ],
   "source": [
    "pb = plot()\n",
    "for i = 1:sys.nbody\n",
    "    plot!(pb,vshist[1][i,2:3,1], vshist[1][i,2:3,2],linewidth=2,linecolor=\"grey\",label=\"begin\")\n",
    "end\n",
    "for i = 1:sys.nbody\n",
    "    plot!(pb,vshist[end][i,2:3,1], vshist[end][i,2:3,2],linewidth=2,linecolor=\"red\",label=\"end\")\n",
    "end\n",
    "plot!(pb,xlims=(0,3), ylims=(0,2))\n",
    "pb"
   ]
  },
  {
   "cell_type": "markdown",
   "metadata": {},
   "source": [
    "#### Gif!"
   ]
  },
  {
   "cell_type": "code",
   "execution_count": 29,
   "metadata": {},
   "outputs": [
    {
     "name": "stderr",
     "output_type": "stream",
     "text": [
      "\u001b[1m\u001b[36mINFO: \u001b[39m\u001b[22m\u001b[36mSaved animation to /mnt/g/Research/Dyn3d.jl/notebook/pivot-fixed falling.gif\n",
      "\u001b[39m"
     ]
    },
    {
     "data": {
      "text/html": [
       "<img src=\"pivot-fixed falling.gif?0.9592411171863999>\" />"
      ],
      "text/plain": [
       "Plots.AnimatedGif(\"/mnt/g/Research/Dyn3d.jl/notebook/pivot-fixed falling.gif\")"
      ]
     },
     "execution_count": 29,
     "metadata": {},
     "output_type": "execute_result"
    }
   ],
   "source": [
    "anim = @animate for j = 1:length(uhist)\n",
    "    plot(xg,yg,uhist[j],levels=contour_levels)\n",
    "    for i = 1:sys.nbody\n",
    "        plot!(vshist[j][i,2:3,1], vshist[j][i,2:3,2],linewidth=2,linecolor=\"grey\")\n",
    "    end\n",
    "end\n",
    "\n",
    "gif(anim, gif_name, fps = 20)"
   ]
  },
  {
   "cell_type": "code",
   "execution_count": 30,
   "metadata": {
    "scrolled": true
   },
   "outputs": [
    {
     "data": {
      "text/html": [
       "<img src=\"data:image/png;base64,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\" />"
      ]
     },
     "execution_count": 30,
     "metadata": {},
     "output_type": "execute_result"
    }
   ],
   "source": [
    "px = plot(thist,2*fx,ylim=(-1,0.),xlabel=\"Convective time\",ylabel=\"\\$C_D\\$\",legend=false)\n",
    "py = plot(thist,2*fy,ylim=(2.0,3.0),xlabel=\"Convective time\",ylabel=\"\\$C_L\\$\",legend=false)\n",
    "plot(px,py)"
   ]
  },
  {
   "cell_type": "code",
   "execution_count": 27,
   "metadata": {},
   "outputs": [
    {
     "data": {
      "text/plain": [
       "50-element Array{Float64,1}:\n",
       "  0.137791\n",
       " -0.578445\n",
       " -0.682423\n",
       " -0.660236\n",
       " -0.670378\n",
       " -0.650501\n",
       " -0.644105\n",
       " -0.643007\n",
       " -0.61536 \n",
       " -0.623829\n",
       " -0.62074 \n",
       " -0.607882\n",
       " -0.620158\n",
       "  ⋮       \n",
       " -0.841237\n",
       " -0.832577\n",
       " -0.861015\n",
       " -0.883404\n",
       " -0.88586 \n",
       " -0.893161\n",
       " -0.914309\n",
       " -0.920124\n",
       " -0.919348\n",
       " -0.938827\n",
       " -0.946831\n",
       " -0.937169"
      ]
     },
     "execution_count": 27,
     "metadata": {},
     "output_type": "execute_result"
    }
   ],
   "source": [
    "2*fx"
   ]
  },
  {
   "cell_type": "code",
   "execution_count": 28,
   "metadata": {},
   "outputs": [
    {
     "data": {
      "text/plain": [
       "50-element Array{Float64,1}:\n",
       " -487.403  \n",
       "    2.69788\n",
       "    2.70367\n",
       "    2.60764\n",
       "    2.63569\n",
       "    2.56529\n",
       "    2.592  \n",
       "    2.63602\n",
       "    2.5625 \n",
       "    2.61029\n",
       "    2.61544\n",
       "    2.57975\n",
       "    2.62657\n",
       "    ⋮      \n",
       "    2.53041\n",
       "    2.49221\n",
       "    2.489  \n",
       "    2.47855\n",
       "    2.45243\n",
       "    2.43093\n",
       "    2.43316\n",
       "    2.42382\n",
       "    2.41359\n",
       "    2.39973\n",
       "    2.38515\n",
       "    2.3478 "
      ]
     },
     "execution_count": 28,
     "metadata": {},
     "output_type": "execute_result"
    }
   ],
   "source": [
    "2*fy"
   ]
  }
 ],
 "metadata": {
  "kernelspec": {
   "display_name": "Julia 0.6.2",
   "language": "julia",
   "name": "julia-0.6"
  },
  "language_info": {
   "file_extension": ".jl",
   "mimetype": "application/julia",
   "name": "julia",
   "version": "0.6.2"
  }
 },
 "nbformat": 4,
 "nbformat_minor": 2
}
