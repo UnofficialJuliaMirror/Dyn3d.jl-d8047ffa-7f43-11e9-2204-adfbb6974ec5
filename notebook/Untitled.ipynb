{
 "cells": [
  {
   "cell_type": "code",
   "execution_count": 1,
   "metadata": {
    "collapsed": false
   },
   "outputs": [
    {
     "data": {
      "text/plain": [
       "Dyn3d.ConstructSystem.SingleJoint"
      ]
     },
     "execution_count": 1,
     "metadata": {},
     "output_type": "execute_result"
    }
   ],
   "source": [
    "include(\"../src/Dyn3d.jl\")\n",
    "using Dyn3d\n",
    "using Base.Test\n",
    "path = Pkg.dir(\"Dyn3d\")*\"/src/Config_files\"\n",
    "names = readdir(path)\n",
    "SingleJoint"
   ]
  },
  {
   "cell_type": "code",
   "execution_count": 4,
   "metadata": {
    "collapsed": false,
    "scrolled": false
   },
   "outputs": [
    {
     "name": "stdout",
     "output_type": "stream",
     "text": [
      "Config info set up.\n",
      "Config info set up.\n",
      "Config info set up.\n",
      "Config info set up.\n",
      "Config info set up.\n",
      "Config info set up.\n",
      "Config info set up.\n"
     ]
    }
   ],
   "source": [
    "for i = 1:length(names)\n",
    "    if names[i][1] == '2' || names[i][1] == '3'\n",
    "        include(path*'/'*names[i])\n",
    "        \n",
    "            # check config files\n",
    "            @test njoint == nbody\n",
    "            if isdefined(:config_bodys)\n",
    "                for j = 1:length(config_bodys)\n",
    "                    @test config_bodys[j].nverts == size(config_bodys[j].verts,1)\n",
    "                    @test length(config_joints[j].joint_dof) == \n",
    "                          length(config_joints[j].qJ_init)\n",
    "                end\n",
    "            else\n",
    "                @test config_body.nverts == size(config_body.verts,1)\n",
    "            end\n",
    "        \n",
    "        # add bodys\n",
    "        bodys = Vector{SingleBody}(nbody) # body system\n",
    "        for i = 1:nbody\n",
    "            bodys[i] = AddBody(i, config_body) # add body\n",
    "        end\n",
    "\n",
    "        # add joints\n",
    "        joints = Vector{SingleJoint}(njoint) # joint system\n",
    "        for i = 1:njoint\n",
    "            joints[i] = AddJoint(i, config_joints[i]) # add joint\n",
    "        end\n",
    "\n",
    "        # assemble system to a chain\n",
    "        system = System(ndim, nbody, njoint, gravity, num_params)\n",
    "        bodys, joints, system = AssembleSystem!(bodys, joints, system)\n",
    "        system\n",
    "    end\n",
    "end"
   ]
  },
  {
   "cell_type": "code",
   "execution_count": 3,
   "metadata": {
    "collapsed": false
   },
   "outputs": [
    {
     "data": {
      "text/plain": [
       "3-element Array{Dyn3d.ConfigDataType.ConfigBody,1}:\n",
       "  nbody=3\n",
       " nverts=4\n",
       " verts=[0.0 0.0; 1.0 0.0; 1.0 0.333333; 0.0 0.333333]\n",
       " ρ=0.01\n",
       "\n",
       "  nbody=3\n",
       " nverts=4\n",
       " verts=[0.0 0.0; 1.0 0.0; 1.0 0.333333; 0.0 0.333333]\n",
       " ρ=0.01\n",
       "\n",
       "  nbody=3\n",
       " nverts=4\n",
       " verts=[0.0 0.0; 1.0 0.0; 1.0 0.333333; 0.0 0.333333]\n",
       " ρ=0.01\n"
      ]
     },
     "execution_count": 3,
     "metadata": {},
     "output_type": "execute_result"
    }
   ],
   "source": [
    "isdefined(:config_bodys)\n",
    "\n",
    "config_bodys = Vector{ConfigBody}(3)\n",
    "[config_bodys[i] = ConfigBody(3) for i = 1:3]\n",
    "config_bodys"
   ]
  }
 ],
 "metadata": {
  "kernelspec": {
   "display_name": "Julia 0.6.2",
   "language": "julia",
   "name": "julia-0.6"
  },
  "language_info": {
   "file_extension": ".jl",
   "mimetype": "application/julia",
   "name": "julia",
   "version": "0.6.2"
  }
 },
 "nbformat": 4,
 "nbformat_minor": 2
}
