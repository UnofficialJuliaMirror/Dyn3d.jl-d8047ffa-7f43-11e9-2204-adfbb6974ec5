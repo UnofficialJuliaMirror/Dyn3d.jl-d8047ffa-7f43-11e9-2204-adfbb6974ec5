{
 "cells": [
  {
   "cell_type": "code",
   "execution_count": 1,
   "metadata": {
    "collapsed": false
   },
   "outputs": [
    {
     "data": {
      "text/plain": [
       "Plots.GRBackend()"
      ]
     },
     "execution_count": 1,
     "metadata": {},
     "output_type": "execute_result"
    }
   ],
   "source": [
    "include(\"../src/Dyn3d.jl\")\n",
    "using Dyn3d\n",
    "using Base.Test\n",
    "using Plots\n",
    "gr()"
   ]
  },
  {
   "cell_type": "code",
   "execution_count": 2,
   "metadata": {
    "collapsed": false
   },
   "outputs": [
    {
     "name": "stdout",
     "output_type": "stream",
     "text": [
      "Config info set up.\n"
     ]
    }
   ],
   "source": [
    "include(\"../src/config_files/2dThrow.jl\")"
   ]
  },
  {
   "cell_type": "code",
   "execution_count": 3,
   "metadata": {
    "collapsed": false
   },
   "outputs": [
    {
     "data": {
      "text/plain": [
       "4-element Array{Dyn3d.ConstructSystem.SingleBody,1}:\n",
       " body_id = 1, parent_id = 0, nchild = 0, chid = Int64[], nverts = 4\n",
       "q = [0.0, 0.0, 0.0, 0.0, 0.0, 0.0]\n",
       "v = [0.0, 0.0, 0.0, 0.0, 0.0, 0.0]\n",
       "v̇ = [0.0, 0.0, 0.0, 0.0, 0.0, 0.0]\n",
       "\n",
       " body_id = 2, parent_id = 0, nchild = 0, chid = Int64[], nverts = 4\n",
       "q = [0.0, 0.0, 0.0, 0.0, 0.0, 0.0]\n",
       "v = [0.0, 0.0, 0.0, 0.0, 0.0, 0.0]\n",
       "v̇ = [0.0, 0.0, 0.0, 0.0, 0.0, 0.0]\n",
       "\n",
       " body_id = 3, parent_id = 0, nchild = 0, chid = Int64[], nverts = 4\n",
       "q = [0.0, 0.0, 0.0, 0.0, 0.0, 0.0]\n",
       "v = [0.0, 0.0, 0.0, 0.0, 0.0, 0.0]\n",
       "v̇ = [0.0, 0.0, 0.0, 0.0, 0.0, 0.0]\n",
       "\n",
       " body_id = 4, parent_id = 0, nchild = 0, chid = Int64[], nverts = 4\n",
       "q = [0.0, 0.0, 0.0, 0.0, 0.0, 0.0]\n",
       "v = [0.0, 0.0, 0.0, 0.0, 0.0, 0.0]\n",
       "v̇ = [0.0, 0.0, 0.0, 0.0, 0.0, 0.0]\n"
      ]
     },
     "execution_count": 3,
     "metadata": {},
     "output_type": "execute_result"
    }
   ],
   "source": [
    "# add bodys\n",
    "bodys = Vector{SingleBody}(nbody) # body system\n",
    "for i = 1:nbody\n",
    "    bodys[i] = AddBody(i, config_body) # add body\n",
    "end\n",
    "\n"
   ]
  },
  {
   "cell_type": "code",
   "execution_count": 4,
   "metadata": {
    "collapsed": false
   },
   "outputs": [
    {
     "data": {
      "text/plain": [
       "4-element Array{Dyn3d.ConstructSystem.SingleJoint,1}:\n",
       " joint_id = 1, joint_type = revolute, body1 = 0\n",
       "nudof = 1, ncdof = 5, np = 0, na = 1\n",
       "udof = [3], cdof = [1, 2, 4, 5, 6]\n",
       "udof_p = Int64[], udof_a = [3]\n",
       "nudof_HERK = 0, ncdof_HERK = 6\n",
       "udof_HERK = Int64[], cdof_HERK = [1, 2, 3, 4, 5, 6]\n",
       "qJ = [0.0, 0.0, 0.0, 0.0, 0.0, 0.0]\n",
       "vJ = [0.0, 0.0, 0.0, 0.0, 0.0, 0.0]\n",
       "v̇J = [0.0, 0.0, 0.0, 0.0, 0.0, 0.0]\n",
       "\n",
       " joint_id = 2, joint_type = planar, body1 = 1\n",
       "nudof = 3, ncdof = 3, np = 2, na = 1\n",
       "udof = [3, 4, 5], cdof = [1, 2, 6]\n",
       "udof_p = [3, 4], udof_a = [5]\n",
       "nudof_HERK = 2, ncdof_HERK = 4\n",
       "udof_HERK = [3, 4], cdof_HERK = [1, 2, 5, 6]\n",
       "qJ = [0.0, 0.0, 0.0, 0.0, 0.0, 0.0]\n",
       "vJ = [0.0, 0.0, 0.0, 0.0, 0.0, 0.0]\n",
       "v̇J = [0.0, 0.0, 0.0, 0.0, 0.0, 0.0]\n",
       "          \n",
       " joint_id = 3, joint_type = planar, body1 = 2\n",
       "nudof = 3, ncdof = 3, np = 2, na = 1\n",
       "udof = [3, 4, 5], cdof = [1, 2, 6]\n",
       "udof_p = [3, 4], udof_a = [5]\n",
       "nudof_HERK = 2, ncdof_HERK = 4\n",
       "udof_HERK = [3, 4], cdof_HERK = [1, 2, 5, 6]\n",
       "qJ = [0.0, 0.0, 0.0, 0.0, 0.0, 0.0]\n",
       "vJ = [0.0, 0.0, 0.0, 0.0, 0.0, 0.0]\n",
       "v̇J = [0.0, 0.0, 0.0, 0.0, 0.0, 0.0]\n",
       "          \n",
       " joint_id = 4, joint_type = planar, body1 = 3\n",
       "nudof = 3, ncdof = 3, np = 2, na = 1\n",
       "udof = [3, 4, 5], cdof = [1, 2, 6]\n",
       "udof_p = [3, 4], udof_a = [5]\n",
       "nudof_HERK = 2, ncdof_HERK = 4\n",
       "udof_HERK = [3, 4], cdof_HERK = [1, 2, 5, 6]\n",
       "qJ = [0.0, 0.0, 0.0, 0.0, 0.0, 0.0]\n",
       "vJ = [0.0, 0.0, 0.0, 0.0, 0.0, 0.0]\n",
       "v̇J = [0.0, 0.0, 0.0, 0.0, 0.0, 0.0]\n",
       "          "
      ]
     },
     "execution_count": 4,
     "metadata": {},
     "output_type": "execute_result"
    }
   ],
   "source": [
    "# add joints\n",
    "joints = Vector{SingleJoint}(njoint) # joint system\n",
    "for i = 1:njoint\n",
    "    joints[i] = AddJoint(i, config_joints[i]) # add joint\n",
    "end\n",
    "\n",
    "joints"
   ]
  },
  {
   "cell_type": "code",
   "execution_count": 5,
   "metadata": {
    "collapsed": false
   },
   "outputs": [
    {
     "data": {
      "text/plain": [
       "ndim = 2, njoint = 4, nbody = 4\n",
       "ndof = 24, nudof = 10, ncdof = 14, np = 6, na = 4\n",
       "udof = [3, 9, 10, 11, 15, 16, 17, 21, 22, 23]\n",
       "udof_p = [9, 10, 15, 16, 21, 22]\n",
       "udof_a = [3, 11, 17, 23]\n",
       "nudof_HERK = 6, ncdof_HERK = 18\n",
       "udof_HERK = [9, 10, 15, 16, 21, 22]\n",
       "gravity = [0.0, 0.0, 0.0]\n",
       "kinmap = [1 1; 2 3; 3 3; 4 3]\n"
      ]
     },
     "execution_count": 5,
     "metadata": {},
     "output_type": "execute_result"
    }
   ],
   "source": [
    "# assemble system to a chain\n",
    "system = System(ndim, nbody, njoint, gravity, num_params)\n",
    "bodys, joints, system = AssembleSystem!(bodys, joints, system)\n",
    "\n",
    "system"
   ]
  },
  {
   "cell_type": "code",
   "execution_count": 8,
   "metadata": {
    "collapsed": false
   },
   "outputs": [
    {
     "data": {
      "text/plain": [
       "4-element Array{Dyn3d.ConstructSystem.SingleBody,1}:\n",
       " body_id = 1, parent_id = 0, nchild = 1, chid = [2], nverts = 4\n",
       "q = [0.0, 0.0, 0.0, 0.0, 0.0, 0.0]\n",
       "v = [0.0, 0.0, 0.0, 0.0, 0.0, 0.0]\n",
       "v̇ = [0.0, 0.0, 0.0, 0.0, 0.0, 0.0]\n",
       "    \n",
       " body_id = 2, parent_id = 1, nchild = 1, chid = [3], nverts = 4\n",
       "q = [0.0, 0.0, 0.0, 0.0, 0.0, 0.0]\n",
       "v = [0.0, 0.0, 0.0, 0.0, 0.0, 0.0]\n",
       "v̇ = [0.0, 0.0, 0.0, 0.0, 0.0, 0.0]\n",
       "    \n",
       " body_id = 3, parent_id = 2, nchild = 1, chid = [4], nverts = 4\n",
       "q = [0.0, 0.0, 0.0, 0.0, 0.0, 0.0]\n",
       "v = [0.0, 0.0, 0.0, 0.0, 0.0, 0.0]\n",
       "v̇ = [0.0, 0.0, 0.0, 0.0, 0.0, 0.0]\n",
       "    \n",
       " body_id = 4, parent_id = 3, nchild = 0, chid = Int64[], nverts = 4\n",
       "q = [0.0, 0.0, 0.0, 0.0, 0.0, 0.0]\n",
       "v = [0.0, 0.0, 0.0, 0.0, 0.0, 0.0]\n",
       "v̇ = [0.0, 0.0, 0.0, 0.0, 0.0, 0.0]\n"
      ]
     },
     "execution_count": 8,
     "metadata": {},
     "output_type": "execute_result"
    }
   ],
   "source": [
    "bodys"
   ]
  },
  {
   "cell_type": "code",
   "execution_count": 6,
   "metadata": {
    "collapsed": false,
    "scrolled": true
   },
   "outputs": [
    {
     "name": "stdout",
     "output_type": "stream",
     "text": [
      "11.8732234338113883.9999442028141754"
     ]
    }
   ],
   "source": [
    "a = 4.0\n",
    "tᵣ = [π/2, π, 3π/2, 2π]\n",
    "\n",
    "t = linspace(-1, 10, 200)\n",
    "\n",
    "f(t) = cosh(a*(t-tᵣ[1]))\n",
    "g(t) = cosh(a*(t-tᵣ[2]))\n",
    "m(t) = cosh(a*(t-tᵣ[3]))\n",
    "n(t) = cosh(a*(t-tᵣ[4]))\n",
    "\n",
    "ḟ(t) = a*sinh(a*(t-tᵣ[1]))\n",
    "ġ(t) = a*sinh(a*(t-tᵣ[2]))\n",
    "ṁ(t) = a*sinh(a*(t-tᵣ[3]))\n",
    "ṅ(t) = a*sinh(a*(t-tᵣ[4]))\n",
    "\n",
    "func(t) = log(f(t)*n(t)/(g(t)*m(t)))\n",
    "ddt_func(t) = g(t)*m(t)/(f(t)*n(t))*\n",
    "              (-f(t)*n(t)*(ġ(t)*m(t)+ṁ(t)*g(t))/(g(t).^2*m(t).^2)\n",
    "                  + (ḟ(t)*n(t)+ṅ(t)*f(t))/(g(t)*m(t)))\n",
    "\n",
    "\n",
    "scatter(tᵣ,zeros(4))\n",
    "plot!(t,[func,ddt_func])\n",
    "\n",
    "print(func(π),ddt_func(π))"
   ]
  },
  {
   "cell_type": "code",
   "execution_count": 7,
   "metadata": {
    "collapsed": false
   },
   "outputs": [
    {
     "name": "stdout",
     "output_type": "stream",
     "text": [
      "0.95857616783363720.07941579659003167"
     ]
    }
   ],
   "source": [
    "a = 1.0\n",
    "t = linspace(-1, 10, 200)\n",
    "\n",
    "f(t) = 0.5*(tanh(a*t) + 1)\n",
    "dfdt(t) = 0.5*a*sech(a*t).^2\n",
    "\n",
    "plot(t,[f,dfdt])\n",
    "print(f(π/2),dfdt(π/2))"
   ]
  }
 ],
 "metadata": {
  "kernelspec": {
   "display_name": "Julia 0.6.2",
   "language": "julia",
   "name": "julia-0.6"
  },
  "language_info": {
   "file_extension": ".jl",
   "mimetype": "application/julia",
   "name": "julia",
   "version": "0.6.2"
  }
 },
 "nbformat": 4,
 "nbformat_minor": 2
}
