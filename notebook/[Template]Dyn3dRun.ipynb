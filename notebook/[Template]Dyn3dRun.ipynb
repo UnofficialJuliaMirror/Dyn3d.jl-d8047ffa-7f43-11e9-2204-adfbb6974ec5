{
 "cells": [
  {
   "cell_type": "markdown",
   "metadata": {},
   "source": [
    "### Choose from configuration files"
   ]
  },
  {
   "cell_type": "code",
   "execution_count": 1,
   "metadata": {},
   "outputs": [
    {
     "data": {
      "text/html": [
       "<div id=\"interact-js-shim\">\n",
       "    <script charset=\"utf-8\">\n",
       "(function (IPython, $, _, MathJax) {\n",
       "    $.event.special.destroyed = {\n",
       "\tremove: function(o) {\n",
       "\t    if (o.handler) {\n",
       "\t\to.handler.apply(this, arguments)\n",
       "\t    }\n",
       "\t}\n",
       "    }\n",
       "\n",
       "    var OutputArea = IPython.version >= \"4.0.0\" ? require(\"notebook/js/outputarea\").OutputArea : IPython.OutputArea;\n",
       "\n",
       "    var redrawValue = function (container, type, val) {\n",
       "\tvar selector = $(\"<div/>\");\n",
       "\tvar oa = new OutputArea(_.extend(selector, {\n",
       "\t    selector: selector,\n",
       "\t    prompt_area: true,\n",
       "\t    events: IPython.events,\n",
       "\t    keyboard_manager: IPython.keyboard_manager\n",
       "\t})); // Hack to work with IPython 2.1.0\n",
       "\n",
       "\tswitch (type) {\n",
       "\tcase \"image/png\":\n",
       "            var _src = 'data:' + type + ';base64,' + val;\n",
       "\t    $(container).find(\"img\").attr('src', _src);\n",
       "\t    break;\n",
       "\tcase \"text/latex\":\n",
       "\t\tif (MathJax){\n",
       "\t\t\tvar math = MathJax.Hub.getAllJax(container)[0];\n",
       "\t\t\tMathJax.Hub.Queue([\"Text\", math, val.replace(/^\\${1,2}|\\${1,2}$/g, '')]);\n",
       "\t\t\tbreak;\n",
       "\t\t}\n",
       "\tdefault:\n",
       "\t    var toinsert = OutputArea.append_map[type].apply(\n",
       "\t\toa, [val, {}, selector]\n",
       "\t    );\n",
       "\t    $(container).empty().append(toinsert.contents());\n",
       "\t    selector.remove();\n",
       "\t}\n",
       "    }\n",
       "\n",
       "\n",
       "    $(document).ready(function() {\n",
       "\tfunction initComm(evt, data) {\n",
       "\t    var comm_manager = data.kernel.comm_manager;\n",
       "        //_.extend(comm_manager.targets, require(\"widgets/js/widget\"))\n",
       "\t    comm_manager.register_target(\"Signal\", function (comm) {\n",
       "            comm.on_msg(function (msg) {\n",
       "                var val = msg.content.data.value;\n",
       "                $(\".signal-\" + comm.comm_id).each(function() {\n",
       "                var type = $(this).data(\"type\");\n",
       "                if (typeof(val[type]) !== \"undefined\" && val[type] !== null) {\n",
       "                    redrawValue(this, type, val[type], type);\n",
       "                }\n",
       "                });\n",
       "                delete val;\n",
       "                delete msg.content.data.value;\n",
       "            });\n",
       "\t    });\n",
       "\n",
       "\t    // coordingate with Comm and redraw Signals\n",
       "\t    // XXX: Test using Reactive here to improve performance\n",
       "\t    $([IPython.events]).on(\n",
       "\t\t'output_appended.OutputArea', function (event, type, value, md, toinsert) {\n",
       "\t\t    if (md && md.reactive) {\n",
       "                // console.log(md.comm_id);\n",
       "                toinsert.addClass(\"signal-\" + md.comm_id);\n",
       "                toinsert.data(\"type\", type);\n",
       "                // Signal back indicating the mimetype required\n",
       "                var comm_manager = IPython.notebook.kernel.comm_manager;\n",
       "                var comm = comm_manager.comms[md.comm_id];\n",
       "                comm.then(function (c) {\n",
       "                    c.send({action: \"subscribe_mime\",\n",
       "                       mime: type});\n",
       "                    toinsert.bind(\"destroyed\", function() {\n",
       "                        c.send({action: \"unsubscribe_mime\",\n",
       "                               mime: type});\n",
       "                    });\n",
       "                })\n",
       "\t\t    }\n",
       "\t    });\n",
       "\t}\n",
       "\n",
       "\ttry {\n",
       "\t    // try to initialize right away. otherwise, wait on the status_started event.\n",
       "\t    initComm(undefined, IPython.notebook);\n",
       "\t} catch (e) {\n",
       "\t    $([IPython.events]).on('kernel_created.Kernel kernel_created.Session', initComm);\n",
       "\t}\n",
       "    });\n",
       "})(IPython, jQuery, _, MathJax);\n",
       "</script>\n",
       "    <script>\n",
       "        window.interactLoadedFlag = true\n",
       "       $(\"#interact-js-shim\").bind(\"destroyed\", function () {\n",
       "           if (window.interactLoadedFlag) {\n",
       "               console.warn(\"JavaScript required by Interact will be removed if you remove this cell or run using Interact more than once.\")\n",
       "           }\n",
       "       })\n",
       "       $([IPython.events]).on(\"kernel_starting.Kernel kernel_restarting.Kernel\", function () { window.interactLoadedFlag = false })\n",
       "   </script>\n",
       "</div>"
      ]
     },
     "metadata": {},
     "output_type": "display_data"
    },
    {
     "data": {
      "application/vnd.jupyter.widget-view+json": {
       "model_id": "46cbaa0f-1b22-4bf2-b918-401be3d0f07b",
       "version_major": 2,
       "version_minor": 0
      }
     },
     "metadata": {},
     "output_type": "display_data"
    },
    {
     "data": {
      "text/html": [],
      "text/plain": [
       "Interact.Options{:Dropdown,Any}(1: \"input\" = 2dLink Any , \"\", \"2dLink\", \"2dLink\", 0, Interact.OptionDict(DataStructures.OrderedDict{Any,Any}(\"2dLink\"=>\"2dLink\",\"2dFall\"=>\"2dFall\",\"2dSwim\"=>\"2dSwim\",\"2dThrow\"=>\"2dThrow\",\"3dHinge\"=>\"3dHinge\",\"3dPrismatic\"=>\"3dPrismatic\",\"3dCylindrical\"=>\"3dCylindrical\",\"2dFallingCircle\"=>\"2dFallingCircle\"), Dict{Any,Any}(Pair{Any,Any}(\"2dLink\", \"2dLink\"),Pair{Any,Any}(\"2dFall\", \"2dFall\"),Pair{Any,Any}(\"2dThrow\", \"2dThrow\"),Pair{Any,Any}(\"3dCylindrical\", \"3dCylindrical\"),Pair{Any,Any}(\"3dHinge\", \"3dHinge\"),Pair{Any,Any}(\"2dFallingCircle\", \"2dFallingCircle\"),Pair{Any,Any}(\"2dSwim\", \"2dSwim\"),Pair{Any,Any}(\"3dPrismatic\", \"3dPrismatic\"))), Any[], Any[], true, \"horizontal\")"
      ]
     },
     "execution_count": 1,
     "metadata": {},
     "output_type": "execute_result"
    }
   ],
   "source": [
    "using Reactive, Interact\n",
    "\n",
    "filenames = [\"2dLink\", \"2dFall\", \"2dSwim\", \"2dThrow\", \"2dTplate\",\n",
    "             \"3dHinge\", \"3dPrismatic\", \"3dCylindrical\", \"2dFallingCircle\"]\n",
    "file = dropdown(filenames)"
   ]
  },
  {
   "cell_type": "markdown",
   "metadata": {},
   "source": [
    "### Include Dyn3d and config files"
   ]
  },
  {
   "cell_type": "code",
   "execution_count": 20,
   "metadata": {
    "scrolled": true
   },
   "outputs": [
    {
     "name": "stderr",
     "output_type": "stream",
     "text": [
      "WARNING: replacing module Dyn3d\n"
     ]
    },
    {
     "data": {
      "text/plain": [
       "Plots.PyPlotBackend()"
      ]
     },
     "execution_count": 20,
     "metadata": {},
     "output_type": "execute_result"
    }
   ],
   "source": [
    "include(Pkg.dir(\"Dyn3d\")*\"/src/Dyn3d.jl\")\n",
    "using Dyn3d\n",
    "using Plots\n",
    "pyplot()"
   ]
  },
  {
   "cell_type": "code",
   "execution_count": 21,
   "metadata": {},
   "outputs": [
    {
     "name": "stdout",
     "output_type": "stream",
     "text": [
      "Config info set up.\n"
     ]
    },
    {
     "data": {
      "text/plain": [
       "nothing"
      ]
     },
     "execution_count": 21,
     "metadata": {
      "comm_id": "32a49456-d5e3-41fc-8fe8-cf9d65e70a08",
      "reactive": true
     },
     "output_type": "execute_result"
    }
   ],
   "source": [
    "map(x -> include(\"../src/config_files/\"*x*\".jl\"), signal(file))"
   ]
  },
  {
   "cell_type": "markdown",
   "metadata": {},
   "source": [
    "### Build joint-body chain"
   ]
  },
  {
   "cell_type": "code",
   "execution_count": 22,
   "metadata": {},
   "outputs": [
    {
     "data": {
      "text/plain": []
     },
     "execution_count": 22,
     "metadata": {},
     "output_type": "execute_result"
    }
   ],
   "source": [
    "bodys, joints, system = BuildChain(config_bodys, config_joints, \n",
    "                                   config_system)\n",
    "bd = BodyDyn(bodys, joints, system)"
   ]
  },
  {
   "cell_type": "markdown",
   "metadata": {},
   "source": [
    "### Initialize system state"
   ]
  },
  {
   "cell_type": "code",
   "execution_count": 23,
   "metadata": {
    "scrolled": true
   },
   "outputs": [
    {
     "name": "stdout",
     "output_type": "stream",
     "text": [
      "This is a 8 body-joint system, system is fixed in space"
     ]
    }
   ],
   "source": [
    "# init system\n",
    "bd, soln = InitSystem!(bd)\n",
    "\n",
    "# init soln structure\n",
    "solns = (Soln)[]\n",
    "push!(solns, soln)\n",
    "\n",
    "# init VertsHistory struct\n",
    "vs = []\n",
    "push!(vs, VertsHistory(system.nbody, bd.bs))\n",
    "\n",
    "nothing"
   ]
  },
  {
   "cell_type": "markdown",
   "metadata": {},
   "source": [
    "### Set up HERKBody object"
   ]
  },
  {
   "cell_type": "code",
   "execution_count": 24,
   "metadata": {
    "scrolled": true
   },
   "outputs": [
    {
     "data": {
      "text/plain": [
       "Order-3 HERK time-marching function like object for Dyn3d\n"
      ]
     },
     "execution_count": 24,
     "metadata": {},
     "output_type": "execute_result"
    }
   ],
   "source": [
    "herk = HERKBody(system.num_params,HERKFuncM, HERKFuncGT, HERKFuncG,\n",
    "                (HERKFuncf,HERKFuncgti), (UpdatePosition!,UpdateVelocity!))"
   ]
  },
  {
   "cell_type": "markdown",
   "metadata": {},
   "source": [
    "### Time Marching"
   ]
  },
  {
   "cell_type": "code",
   "execution_count": 25,
   "metadata": {},
   "outputs": [
    {
     "name": "stdout",
     "output_type": "stream",
     "text": [
      "itr = 1, t = 0.001, dt = 1.000000e-03\n",
      "itr = 501, t = 0.501, dt = 1.000000e-03\n",
      "itr = 1001, t = 1.001, dt = 1.000000e-03\n",
      "itr = 1501, t = 1.501, dt = 1.000000e-03\n",
      "itr = 2001, t = 2.001, dt = 1.000000e-03\n",
      "itr = 2501, t = 2.501, dt = 1.000000e-03\n",
      "itr = 3001, t = 3.001, dt = 1.000000e-03\n",
      "itr = 3501, t = 3.501, dt = 1.000000e-03\n",
      "itr = 4001, t = 4.001, dt = 1.000000e-03\n",
      "itr = 4501, t = 4.501, dt = 1.000000e-03\n",
      "itr = 5001, t = 5.001, dt = 1.000000e-03\n",
      "itr = 5501, t = 5.501, dt = 1.000000e-03\n",
      "itr = 6001, t = 6.001, dt = 1.000000e-03\n",
      "itr = 6501, t = 6.501, dt = 1.000000e-03\n",
      "itr = 7001, t = 7.001, dt = 1.000000e-03\n",
      "itr = 7501, t = 7.501, dt = 1.000000e-03\n",
      "itr = 8001, t = 8.001, dt = 1.000000e-03\n",
      "itr = 8501, t = 8.501, dt = 1.000000e-03\n",
      "itr = 9001, t = 9.001, dt = 1.000000e-03\n",
      "itr = 9501, t = 9.501, dt = 1.000000e-03\n",
      "itr = 10001, t = 10.001, dt = 1.000000e-03\n",
      "itr = 10501, t = 10.501, dt = 1.000000e-03\n",
      "itr = 11001, t = 11.001, dt = 1.000000e-03\n",
      "itr = 11501, t = 11.501, dt = 1.000000e-03\n",
      "itr = 12001, t = 12.001, dt = 1.000000e-03\n",
      "itr = 12501, t = 12.501, dt = 1.000000e-03\n",
      "itr = 13001, t = 13.001, dt = 1.000000e-03\n",
      "itr = 13501, t = 13.501, dt = 1.000000e-03\n",
      "itr = 14001, t = 14.001, dt = 1.000000e-03\n",
      "itr = 14501, t = 14.501, dt = 1.000000e-03\n",
      "itr = 15001, t = 15.001, dt = 1.000000e-03\n",
      "itr = 15501, t = 15.501, dt = 1.000000e-03\n",
      "itr = 16001, t = 16.001, dt = 1.000000e-03\n",
      "itr = 16501, t = 16.501, dt = 1.000000e-03\n",
      "itr = 17001, t = 17.001, dt = 1.000000e-03\n",
      "itr = 17501, t = 17.501, dt = 1.000000e-03\n",
      "itr = 18001, t = 18.001, dt = 1.000000e-03\n",
      "itr = 18501, t = 18.501, dt = 1.000000e-03\n",
      "itr = 19001, t = 19.001, dt = 1.000000e-03\n",
      "itr = 19501, t = 19.501, dt = 1.000000e-03\n",
      "itr = 20000, t = 20.000, dt = 1.000000e-03\n",
      " 76.309433 seconds (118.58 M allocations: 25.477 GiB, 7.51% gc time)\n"
     ]
    }
   ],
   "source": [
    "# advance in time\n",
    "idx = 0\n",
    "@time begin\n",
    "while soln.t < tf\n",
    "    # advance one step\n",
    "#     soln, bd.bs, bd.js, bd.sys = herk(soln, bd)\n",
    "    soln, bd = herk(soln, bd, _isfixedstep=true)\n",
    "        \n",
    "    # record soln and verts_i info\n",
    "    push!(solns, soln)\n",
    "    push!(vs, VertsHistory(system.nbody, bd.bs))\n",
    "        \n",
    "    # print progress\n",
    "    idx += 1\n",
    "    if mod(idx,500) == 1 \n",
    "        @printf(\"itr = %d, t = %.3f, dt = %e\\n\", idx, soln.t, soln.dt)\n",
    "#         println(\"center of mass at\", MassCenter(bodys, system))\n",
    "    end\n",
    "end\n",
    "@printf(\"itr = %d, t = %.3f, dt = %e\\n\", idx, soln.t, soln.dt)\n",
    "end"
   ]
  },
  {
   "cell_type": "markdown",
   "metadata": {},
   "source": [
    "### Save verts data on regulated time grid for movie in Matlab"
   ]
  },
  {
   "cell_type": "markdown",
   "metadata": {},
   "source": [
    "2d body is always constructed in z-x plane"
   ]
  },
  {
   "cell_type": "code",
   "execution_count": 26,
   "metadata": {
    "scrolled": true
   },
   "outputs": [],
   "source": [
    "bodys, joints, system = bd.bs, bd.js, bd.sys\n",
    "\n",
    "using MAT\n",
    "using Interpolations\n",
    "\n",
    "# create regular time grid and acquire solutions on it\n",
    "qJ_regs = Float64[]\n",
    "t_reg = linspace(0,solns[end].t,length(solns))\n",
    "for i = 1:system.ndof\n",
    "    t_temp = ([solns[k].t for k = 1:length(solns)],)\n",
    "    qJ_temp = [solns[k].qJ[i] for k = 1:length(solns)]   \n",
    "    qJ_reg = interpolate(t_temp, qJ_temp, Gridded(Linear()))[t_reg]\n",
    "    append!(qJ_regs, qJ_reg)\n",
    "end\n",
    "qJ_regs = reshape(qJ_regs,(length(solns), system.ndof))\n",
    "\n",
    "# get verts info based on this regular grid solution\n",
    "vs_reg = []\n",
    "bodys_reg = deepcopy(bodys)\n",
    "joints_reg = deepcopy(joints)\n",
    "system_reg = deepcopy(system)\n",
    "for i = 1:length(solns)\n",
    "    bodys_reg, joints_reg, system_reg = UpdatePosition!(bodys_reg, joints_reg, system_reg, solns[i].qJ)\n",
    "    push!(vs_reg, VertsHistory(system.nbody, bodys_reg))\n",
    "end\n",
    "\n",
    "# write to .mat file for animation\n",
    "# vs_reg follow the form [ntime][nbody, nverts, xyz]\n",
    "matwrite(\"../matlab_plot/verts_i.mat\", Dict(\n",
    "    \"ndim\" => system.ndim,\n",
    "    \"nbody\" => system.nbody,\n",
    "    \"nverts\" => bodys[1].nverts,\n",
    "    \"t\" => collect(t_reg),\n",
    "    \"verts\" => vs_reg\n",
    "))"
   ]
  },
  {
   "cell_type": "markdown",
   "metadata": {},
   "source": [
    "### Interactive plot"
   ]
  },
  {
   "cell_type": "code",
   "execution_count": 27,
   "metadata": {
    "scrolled": true
   },
   "outputs": [
    {
     "data": {
      "application/vnd.jupyter.widget-view+json": {
       "model_id": "96c29545-800e-44d8-81d6-7f83b82168e0",
       "version_major": 2,
       "version_minor": 0
      }
     },
     "metadata": {},
     "output_type": "display_data"
    },
    {
     "data": {
      "text/html": [],
      "text/plain": [
       "Interact.Options{:SelectionSlider,Any}(17: \"input-4\" = 100 Any , \"i\", 100, \"100\", 100, Interact.OptionDict(DataStructures.OrderedDict{Any,Any}(\"1\"=>1,\"2\"=>2,\"3\"=>3,\"4\"=>4,\"5\"=>5,\"6\"=>6,\"7\"=>7,\"8\"=>8,\"9\"=>9,\"10\"=>10…), Dict{Any,Any}(Pair{Any,Any}(11, \"11\"),Pair{Any,Any}(134, \"134\"),Pair{Any,Any}(158, \"158\"),Pair{Any,Any}(160, \"160\"),Pair{Any,Any}(29, \"29\"),Pair{Any,Any}(131, \"131\"),Pair{Any,Any}(173, \"173\"),Pair{Any,Any}(74, \"74\"),Pair{Any,Any}(176, \"176\"),Pair{Any,Any}(57, \"57\")…)), Any[], Any[], true, \"horizontal\")"
      ]
     },
     "metadata": {},
     "output_type": "display_data"
    },
    {
     "data": {
      "image/png": "[encoded data removed]"
     },
     "execution_count": 27,
     "metadata": {
      "comm_id": "f0ad1083-ceeb-4aaa-ba47-33b90b700dda",
      "reactive": true
     },
     "output_type": "execute_result"
    }
   ],
   "source": [
    "freq = 100 # intervals of plotting\n",
    "camera_view = (45,45)\n",
    "v = isdefined(:plot_dir) ? plot_dir : system.ndim==2 ? (1,2) : (1,2,3)\n",
    "\n",
    "@manipulate for i in 1:Int(round(length(t_reg)/freq)-1)\n",
    "\n",
    "    if system.ndim == 2\n",
    "        k = i*freq+1\n",
    "        # first body\n",
    "        p = plot(vs_reg[k][1,:,v[1]],vs_reg[k][1,:,v[2]], linewidth=3, aspect_ratio=:equal)        \n",
    "        # the rest bodys\n",
    "        for j in 2:system.nbody\n",
    "            plot!(vs_reg[k][j,:,v[1]],vs_reg[k][j,:,v[2]], linewidth=3, aspect_ratio=:equal)            \n",
    "        end    \n",
    "        plot!(xlims=(-2,2), ylims=(-2,2))\n",
    "        \n",
    "    else\n",
    "        k = i*freq+1\n",
    "        h = [1:bodys[1].nverts;1]\n",
    "        # first body        \n",
    "        plot(vs_reg[k][1,h,v[1]],vs_reg[k][1,h,v[2]],vs_reg[k][1,h,v[3]], linewidth=3, aspect_ratio=:equal ,camera = camera_view)\n",
    "        # the rest bodys\n",
    "        for j in 2:system.nbody\n",
    "            plot!(vs_reg[k][j,h,v[1]],vs_reg[k][j,h,v[2]],vs_reg[k][j,h,v[3]], linewidth=3, aspect_ratio=:equal ,camera = camera_view)\n",
    "        end    \n",
    "        plot!(xlims=(-2,2), ylims=(-2,2), zlims=(-2,2))        \n",
    "    end\n",
    "\n",
    "end"
   ]
  },
  {
   "cell_type": "markdown",
   "metadata": {},
   "source": [
    "### Make gif"
   ]
  },
  {
   "cell_type": "code",
   "execution_count": 28,
   "metadata": {},
   "outputs": [
    {
     "name": "stderr",
     "output_type": "stream",
     "text": [
      "\u001b[1m\u001b[36mINFO: \u001b[39m\u001b[22m\u001b[36mSaved animation to /media/ruizhi/Seagate Expansion Drive/Research/Dyn3d.jl/notebook/2dFall.gif\n",
      "\u001b[39m"
     ]
    },
    {
     "data": {
      "text/html": [
       "<img src=\"2dFall.gif?0.42792793619038916>\" />"
      ],
      "text/plain": [
       "Plots.AnimatedGif(\"/media/ruizhi/Seagate Expansion Drive/Research/Dyn3d.jl/notebook/2dFall.gif\")"
      ]
     },
     "execution_count": 28,
     "metadata": {},
     "output_type": "execute_result"
    }
   ],
   "source": [
    "freq = 20\n",
    "camera_view = (45,45)\n",
    "v = isdefined(:plot_dir) ? plot_dir : system.ndim==2 ? (1,2) : (1,2,3)\n",
    "\n",
    "anim = @animate for i in 1:Int(round(length(t_reg)/freq)-1)\n",
    "\n",
    "    if system.ndim == 2\n",
    "        k = i*freq+1\n",
    "        # first body\n",
    "        p = plot(vs_reg[k][1,:,v[1]],vs_reg[k][1,:,v[2]], linewidth=3, aspect_ratio=:equal)        \n",
    "        # the rest bodys\n",
    "        for j in 2:system.nbody\n",
    "            plot!(vs_reg[k][j,:,v[1]],vs_reg[k][j,:,v[2]], linewidth=3, aspect_ratio=:equal)            \n",
    "        end    \n",
    "        plot!(xlims=(-2,2), ylims=(-2,2))\n",
    "        \n",
    "    else\n",
    "        k = i*freq+1\n",
    "        h = [1:bodys[1].nverts;1]\n",
    "        # first body        \n",
    "        plot(vs_reg[k][1,h,v[1]],vs_reg[k][1,h,v[2]],vs_reg[k][1,h,v[3]], linewidth=3, aspect_ratio=:equal ,camera = camera_view)\n",
    "        # the rest bodys\n",
    "        for j in 2:system.nbody\n",
    "            plot!(vs_reg[k][j,h,v[1]],vs_reg[k][j,h,v[2]],vs_reg[k][j,h,v[3]], linewidth=3, aspect_ratio=:equal ,camera = camera_view)\n",
    "        end    \n",
    "        plot!(xlims=(-2,2), ylims=(-2,2), zlims=(-2,2))        \n",
    "    end\n",
    "\n",
    "end\n",
    "\n",
    "gif(anim, file.value*\".gif\", fps = 50)"
   ]
  }
 ],
 "metadata": {
  "kernelspec": {
   "display_name": "Julia 0.6.2",
   "language": "julia",
   "name": "julia-0.6"
  },
  "language_info": {
   "file_extension": ".jl",
   "mimetype": "application/julia",
   "name": "julia",
   "version": "0.6.2"
  }
 },
 "nbformat": 4,
 "nbformat_minor": 2
}
