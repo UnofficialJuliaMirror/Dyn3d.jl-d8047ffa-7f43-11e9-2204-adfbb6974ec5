{
 "cells": [
  {
   "cell_type": "markdown",
   "metadata": {},
   "source": [
    "### Choose from configuration files"
   ]
  },
  {
   "cell_type": "code",
   "execution_count": 1,
   "metadata": {},
   "outputs": [],
   "source": [
    "# \"2dLink\", \"2dFall\", \"2dSwim\", \"2dThrow\", \"2dTplate\", \"2dFallingCircle\"\n",
    "# \"3dHinge\", \"3dPrismatic\", \"3dCylindrical\"\n",
    "\n",
    "casename = \"2dFall\";"
   ]
  },
  {
   "cell_type": "markdown",
   "metadata": {},
   "source": [
    "### Include Dyn3d and config files"
   ]
  },
  {
   "cell_type": "code",
   "execution_count": 2,
   "metadata": {
    "scrolled": false
   },
   "outputs": [
    {
     "data": {
      "text/html": [
       "<div id=\"interact-js-shim\">\n",
       "    <script charset=\"utf-8\">\n",
       "(function (IPython, $, _, MathJax) {\n",
       "    $.event.special.destroyed = {\n",
       "\tremove: function(o) {\n",
       "\t    if (o.handler) {\n",
       "\t\to.handler.apply(this, arguments)\n",
       "\t    }\n",
       "\t}\n",
       "    }\n",
       "\n",
       "    var OutputArea = IPython.version >= \"4.0.0\" ? require(\"notebook/js/outputarea\").OutputArea : IPython.OutputArea;\n",
       "\n",
       "    var redrawValue = function (container, type, val) {\n",
       "\tvar selector = $(\"<div/>\");\n",
       "\tvar oa = new OutputArea(_.extend(selector, {\n",
       "\t    selector: selector,\n",
       "\t    prompt_area: true,\n",
       "\t    events: IPython.events,\n",
       "\t    keyboard_manager: IPython.keyboard_manager\n",
       "\t})); // Hack to work with IPython 2.1.0\n",
       "\n",
       "\tswitch (type) {\n",
       "\tcase \"image/png\":\n",
       "            var _src = 'data:' + type + ';base64,' + val;\n",
       "\t    $(container).find(\"img\").attr('src', _src);\n",
       "\t    break;\n",
       "\tcase \"text/latex\":\n",
       "\t\tif (MathJax){\n",
       "\t\t\tvar math = MathJax.Hub.getAllJax(container)[0];\n",
       "\t\t\tMathJax.Hub.Queue([\"Text\", math, val.replace(/^\\${1,2}|\\${1,2}$/g, '')]);\n",
       "\t\t\tbreak;\n",
       "\t\t}\n",
       "\tdefault:\n",
       "\t    var toinsert = OutputArea.append_map[type].apply(\n",
       "\t\toa, [val, {}, selector]\n",
       "\t    );\n",
       "\t    $(container).empty().append(toinsert.contents());\n",
       "\t    selector.remove();\n",
       "\t}\n",
       "    }\n",
       "\n",
       "\n",
       "    $(document).ready(function() {\n",
       "\tfunction initComm(evt, data) {\n",
       "\t    var comm_manager = data.kernel.comm_manager;\n",
       "        //_.extend(comm_manager.targets, require(\"widgets/js/widget\"))\n",
       "\t    comm_manager.register_target(\"Signal\", function (comm) {\n",
       "            comm.on_msg(function (msg) {\n",
       "                var val = msg.content.data.value;\n",
       "                $(\".signal-\" + comm.comm_id).each(function() {\n",
       "                var type = $(this).data(\"type\");\n",
       "                if (typeof(val[type]) !== \"undefined\" && val[type] !== null) {\n",
       "                    redrawValue(this, type, val[type], type);\n",
       "                }\n",
       "                });\n",
       "                delete val;\n",
       "                delete msg.content.data.value;\n",
       "            });\n",
       "\t    });\n",
       "\n",
       "\t    // coordingate with Comm and redraw Signals\n",
       "\t    // XXX: Test using Reactive here to improve performance\n",
       "\t    $([IPython.events]).on(\n",
       "\t\t'output_appended.OutputArea', function (event, type, value, md, toinsert) {\n",
       "\t\t    if (md && md.reactive) {\n",
       "                // console.log(md.comm_id);\n",
       "                toinsert.addClass(\"signal-\" + md.comm_id);\n",
       "                toinsert.data(\"type\", type);\n",
       "                // Signal back indicating the mimetype required\n",
       "                var comm_manager = IPython.notebook.kernel.comm_manager;\n",
       "                var comm = comm_manager.comms[md.comm_id];\n",
       "                comm.then(function (c) {\n",
       "                    c.send({action: \"subscribe_mime\",\n",
       "                       mime: type});\n",
       "                    toinsert.bind(\"destroyed\", function() {\n",
       "                        c.send({action: \"unsubscribe_mime\",\n",
       "                               mime: type});\n",
       "                    });\n",
       "                })\n",
       "\t\t    }\n",
       "\t    });\n",
       "\t}\n",
       "\n",
       "\ttry {\n",
       "\t    // try to initialize right away. otherwise, wait on the status_started event.\n",
       "\t    initComm(undefined, IPython.notebook);\n",
       "\t} catch (e) {\n",
       "\t    $([IPython.events]).on('kernel_created.Kernel kernel_created.Session', initComm);\n",
       "\t}\n",
       "    });\n",
       "})(IPython, jQuery, _, MathJax);\n",
       "</script>\n",
       "    <script>\n",
       "        window.interactLoadedFlag = true\n",
       "       $(\"#interact-js-shim\").bind(\"destroyed\", function () {\n",
       "           if (window.interactLoadedFlag) {\n",
       "               console.warn(\"JavaScript required by Interact will be removed if you remove this cell or run using Interact more than once.\")\n",
       "           }\n",
       "       })\n",
       "       $([IPython.events]).on(\"kernel_starting.Kernel kernel_restarting.Kernel\", function () { window.interactLoadedFlag = false })\n",
       "   </script>\n",
       "</div>"
      ]
     },
     "metadata": {},
     "output_type": "display_data"
    }
   ],
   "source": [
    "include(Pkg.dir(\"Dyn3d\")*\"/src/Dyn3d.jl\")\n",
    "using Dyn3d\n",
    "using Plots\n",
    "pyplot()\n",
    "using Interact, Reactive"
   ]
  },
  {
   "cell_type": "code",
   "execution_count": 3,
   "metadata": {},
   "outputs": [
    {
     "name": "stdout",
     "output_type": "stream",
     "text": [
      "Config info set up.\n"
     ]
    }
   ],
   "source": [
    "include(\"../src/config_files/\"*casename*\".jl\");"
   ]
  },
  {
   "cell_type": "markdown",
   "metadata": {},
   "source": [
    "### Build joint-body chain"
   ]
  },
  {
   "cell_type": "code",
   "execution_count": 4,
   "metadata": {},
   "outputs": [
    {
     "data": {
      "text/plain": []
     },
     "execution_count": 4,
     "metadata": {},
     "output_type": "execute_result"
    }
   ],
   "source": [
    "bodys, joints, system = BuildChain(config_bodys, config_joints,\n",
    "                                   config_system)\n",
    "bd = BodyDyn(bodys, joints, system)"
   ]
  },
  {
   "cell_type": "markdown",
   "metadata": {},
   "source": [
    "### Initialize system state"
   ]
  },
  {
   "cell_type": "code",
   "execution_count": 5,
   "metadata": {
    "scrolled": true
   },
   "outputs": [
    {
     "name": "stdout",
     "output_type": "stream",
     "text": [
      "This is a 8 body-joint system, system is fixed in space"
     ]
    }
   ],
   "source": [
    "# init system\n",
    "bd, soln = InitSystem!(bd)\n",
    "\n",
    "# init soln structure\n",
    "solns = (Soln)[]\n",
    "push!(solns, soln)\n",
    "\n",
    "# init VertsHistory struct\n",
    "vs = []\n",
    "push!(vs, VertsHistory(system.nbody, bd.bs));"
   ]
  },
  {
   "cell_type": "markdown",
   "metadata": {},
   "source": [
    "### Set up HERKBody object"
   ]
  },
  {
   "cell_type": "code",
   "execution_count": 6,
   "metadata": {
    "scrolled": true
   },
   "outputs": [
    {
     "data": {
      "text/plain": [
       "Order-3 HERK time-marching function like object for Dyn3d\n"
      ]
     },
     "execution_count": 6,
     "metadata": {},
     "output_type": "execute_result"
    }
   ],
   "source": [
    "herk = HERKBody(system.num_params,HERKFuncM, HERKFuncGT, HERKFuncG,\n",
    "                (HERKFuncf,HERKFuncgti), (UpdatePosition!,UpdateVelocity!))"
   ]
  },
  {
   "cell_type": "markdown",
   "metadata": {},
   "source": [
    "### Time Marching"
   ]
  },
  {
   "cell_type": "markdown",
   "metadata": {},
   "source": [
    "#### Note that sometimes the solver can break due to singular matrix. Change between fixed step or not to solve the problem"
   ]
  },
  {
   "cell_type": "code",
   "execution_count": 7,
   "metadata": {
    "scrolled": true
   },
   "outputs": [
    {
     "name": "stdout",
     "output_type": "stream",
     "text": [
      "itr = 1, t = 0.001, dt = 1.417527e-03\n",
      "itr = 501, t = 1.172, dt = 1.335563e-03\n",
      "itr = 1001, t = 1.955, dt = 1.940785e-03\n",
      "itr = 1501, t = 3.003, dt = 2.286815e-03\n",
      "itr = 2001, t = 4.178, dt = 8.527571e-04\n",
      "itr = 2501, t = 4.736, dt = 2.794354e-03\n",
      "itr = 3001, t = 5.321, dt = 8.493599e-04\n",
      "itr = 3501, t = 6.155, dt = 1.440288e-03\n",
      "itr = 4001, t = 6.682, dt = 1.248087e-03\n",
      "itr = 4501, t = 7.307, dt = 7.987634e-04\n",
      "itr = 5001, t = 7.726, dt = 1.347528e-03\n",
      "itr = 5159, t = 8.001, dt = 2.063169e-03\n",
      " 18.117280 seconds (26.27 M allocations: 6.103 GiB, 5.23% gc time)\n"
     ]
    }
   ],
   "source": [
    "idx = 0\n",
    "@time begin\n",
    "while soln.t < tf\n",
    "    # advance one step\n",
    "    soln, bd = herk(soln, bd)\n",
    "#     soln, bd = herk(soln, bd, _isfixedstep=true)\n",
    "\n",
    "    # record soln and verts_i info\n",
    "    push!(solns, soln)\n",
    "    push!(vs, VertsHistory(system.nbody, bd.bs))\n",
    "\n",
    "    # print progress\n",
    "    idx += 1\n",
    "    if mod(idx,500) == 1\n",
    "        @printf(\"itr = %d, t = %.3f, dt = %e\\n\", idx, soln.t, soln.dt)\n",
    "#         println(\"center of mass at\", MassCenter(bodys, system))\n",
    "    end\n",
    "end\n",
    "@printf(\"itr = %d, t = %.3f, dt = %e\\n\", idx, soln.t, soln.dt)\n",
    "end"
   ]
  },
  {
   "cell_type": "markdown",
   "metadata": {},
   "source": [
    "### Save verts data on regulated time grid for movie in Matlab"
   ]
  },
  {
   "cell_type": "markdown",
   "metadata": {},
   "source": [
    "#### 2d body is always constructed in z-x plane"
   ]
  },
  {
   "cell_type": "code",
   "execution_count": 8,
   "metadata": {
    "scrolled": true
   },
   "outputs": [],
   "source": [
    "bodys, joints, system = bd.bs, bd.js, bd.sys\n",
    "\n",
    "using MAT\n",
    "using Interpolations\n",
    "\n",
    "# create regular time grid and acquire solutions on it\n",
    "qJ_regs = Float64[]\n",
    "t_reg = linspace(0,solns[end].t,length(solns))\n",
    "for i = 1:system.ndof\n",
    "    t_temp = ([solns[k].t for k = 1:length(solns)],)\n",
    "    qJ_temp = [solns[k].qJ[i] for k = 1:length(solns)]   \n",
    "    qJ_reg = interpolate(t_temp, qJ_temp, Gridded(Linear()))[t_reg]\n",
    "    append!(qJ_regs, qJ_reg)\n",
    "end\n",
    "qJ_regs = reshape(qJ_regs,(length(solns), system.ndof))\n",
    "\n",
    "# get verts info based on this regular grid solution\n",
    "vs_reg = []\n",
    "bodys_reg = deepcopy(bodys)\n",
    "joints_reg = deepcopy(joints)\n",
    "system_reg = deepcopy(system)\n",
    "for i = 1:length(solns)\n",
    "    bodys_reg, joints_reg, system_reg = UpdatePosition!(bodys_reg, joints_reg, system_reg, solns[i].qJ)\n",
    "    push!(vs_reg, VertsHistory(system.nbody, bodys_reg))\n",
    "end\n",
    "\n",
    "# write to .mat file for animation\n",
    "# vs_reg follow the form [ntime][nbody, nverts, xyz]\n",
    "matwrite(\"../matlab_plot/verts_i.mat\", Dict(\n",
    "    \"ndim\" => system.ndim,\n",
    "    \"nbody\" => system.nbody,\n",
    "    \"nverts\" => bodys[1].nverts,\n",
    "    \"t\" => collect(t_reg),\n",
    "    \"verts\" => vs_reg\n",
    "))"
   ]
  },
  {
   "cell_type": "markdown",
   "metadata": {},
   "source": [
    "#### Store time-regulated verts in tuples"
   ]
  },
  {
   "cell_type": "code",
   "execution_count": 9,
   "metadata": {},
   "outputs": [],
   "source": [
    "# plot direction\n",
    "v = isdefined(:plot_dir) ? plot_dir : system.ndim==2 ? (1,2) : (1,2,3)\n",
    "\n",
    "if system.ndim == 2\n",
    "    # push the verts of all body in the same time into a tuple\n",
    "    vs_total = []\n",
    "    for i = 1:length(t_reg)\n",
    "        vs_tmp = []\n",
    "        for k = 1:system.nbody\n",
    "            push!(vs_tmp,[vs_reg[i][k,:,v[1]],vs_reg[i][k,:,v[2]]])\n",
    "        end\n",
    "        push!(vs_total,vs_tmp)\n",
    "    end\n",
    "elseif system.ndim == 3\n",
    "    h = [1:bodys[1].nverts;1]\n",
    "    # push the verts of all body in the same time into a tuple\n",
    "    vs_total = []\n",
    "    for i = 1:length(t_reg)\n",
    "        vs_tmp = []\n",
    "        for k = 1:system.nbody\n",
    "            push!(vs_tmp,[vs_reg[i][k,h,v[1]],vs_reg[i][k,h,v[2]],vs_reg[i][k,h,v[3]]])\n",
    "        end\n",
    "        push!(vs_total,vs_tmp)\n",
    "    end       \n",
    "end"
   ]
  },
  {
   "cell_type": "markdown",
   "metadata": {},
   "source": [
    "### Interactive plot"
   ]
  },
  {
   "cell_type": "code",
   "execution_count": 10,
   "metadata": {},
   "outputs": [
    {
     "data": {
      "text/plain": [
       "50"
      ]
     },
     "execution_count": 10,
     "metadata": {},
     "output_type": "execute_result"
    }
   ],
   "source": [
    "# total number of frames for this interactive plot\n",
    "plot_number = 50"
   ]
  },
  {
   "cell_type": "code",
   "execution_count": 11,
   "metadata": {
    "scrolled": false
   },
   "outputs": [
    {
     "data": {
      "application/vnd.jupyter.widget-view+json": {
       "model_id": "a882d16c-a644-40a8-a1ae-8513b3d457dc",
       "version_major": 2,
       "version_minor": 0
      }
     },
     "metadata": {},
     "output_type": "display_data"
    },
    {
     "data": {
      "text/html": [],
      "text/plain": [
       "Interact.Options{:SelectionSlider,Any}(1: \"input\" = 2576 Any , \"i\", 2576, \"2576\", 26, Interact.OptionDict(DataStructures.OrderedDict{Any,Any}(\"1\"=>1,\"104\"=>104,\"207\"=>207,\"310\"=>310,\"413\"=>413,\"516\"=>516,\"619\"=>619,\"722\"=>722,\"825\"=>825,\"928\"=>928…), Dict{Any,Any}(Pair{Any,Any}(2473, \"2473\"),Pair{Any,Any}(3194, \"3194\"),Pair{Any,Any}(2782, \"2782\"),Pair{Any,Any}(1237, \"1237\"),Pair{Any,Any}(4430, \"4430\"),Pair{Any,Any}(3503, \"3503\"),Pair{Any,Any}(4327, \"4327\"),Pair{Any,Any}(4224, \"4224\"),Pair{Any,Any}(207, \"207\"),Pair{Any,Any}(3709, \"3709\")…)), Any[], Any[], true, \"horizontal\")"
      ]
     },
     "metadata": {},
     "output_type": "display_data"
    },
    {
     "data": {
      "image/png": "[encoded data removed]"
     },
     "execution_count": 11,
     "metadata": {
      "comm_id": "aadf7fff-ab16-4e83-afcd-087f4657ebde",
      "reactive": true
     },
     "output_type": "execute_result"
    }
   ],
   "source": [
    "freq = round(Int,idx/plot_number)\n",
    "camera_view = (45,45)\n",
    "\n",
    "if system.ndim == 2\n",
    "    @manipulate for i = 1:freq:length(t_reg)\n",
    "        p = plot()        \n",
    "        for j in 1:system.nbody\n",
    "            plot!(vs_total[i][j][1],vs_total[i][j][2], linewidth=3)            \n",
    "        end    \n",
    "        plot!(xlims=(-2,2), ylims=(-2,2), aspect_ratio=:equal)        \n",
    "    end\n",
    "elseif system.ndim == 3\n",
    "    @manipulate for i = 1:freq:length(t_reg)\n",
    "        h = [1:bodys[1].nverts;1]\n",
    "        p = plot()\n",
    "        for j in 2:system.nbody\n",
    "            plot!(vs_total[i][j][1],vs_total[i][j][2],vs_total[i][j][3], linewidth=3)\n",
    "        end    \n",
    "        plot!(xlims=(-2,2), ylims=(-2,2), zlims=(-2,2), aspect_ratio=:equal, camera = camera_view)     \n",
    "    end\n",
    "end"
   ]
  },
  {
   "cell_type": "markdown",
   "metadata": {},
   "source": [
    "### Make gif"
   ]
  },
  {
   "cell_type": "code",
   "execution_count": 14,
   "metadata": {},
   "outputs": [
    {
     "data": {
      "text/plain": [
       "4"
      ]
     },
     "execution_count": 14,
     "metadata": {},
     "output_type": "execute_result"
    }
   ],
   "source": [
    "# Total number of seconds of this gif\n",
    "gif_time = 4"
   ]
  },
  {
   "cell_type": "code",
   "execution_count": 15,
   "metadata": {},
   "outputs": [
    {
     "name": "stderr",
     "output_type": "stream",
     "text": [
      "\u001b[1m\u001b[36mINFO: \u001b[39m\u001b[22m\u001b[36mSaved animation to /media/ruizhi/Seagate Expansion Drive/Research/Dyn3d.jl/notebook/2dFall.gif\n",
      "\u001b[39m"
     ]
    },
    {
     "data": {
      "text/html": [
       "<img src=\"2dFall.gif?0.6314038142810015>\" />"
      ],
      "text/plain": [
       "Plots.AnimatedGif(\"/media/ruizhi/Seagate Expansion Drive/Research/Dyn3d.jl/notebook/2dFall.gif\")"
      ]
     },
     "execution_count": 15,
     "metadata": {},
     "output_type": "execute_result"
    }
   ],
   "source": [
    "freq = round(Int,idx/30/gif_time)\n",
    "camera_view = (45,45)\n",
    "\n",
    "if system.ndim == 2\n",
    "    anim = @animate for i = 1:freq:length(t_reg)\n",
    "        p = plot()        \n",
    "        for j in 1:system.nbody\n",
    "            plot!(vs_total[i][j][1],vs_total[i][j][2], linewidth=3)            \n",
    "        end    \n",
    "        plot!(xlims=(-2,2), ylims=(-2,2), aspect_ratio=:equal)        \n",
    "    end        \n",
    "elseif system.ndim == 3 \n",
    "    anim = @animate for i = 1:freq:length(t_reg)\n",
    "        h = [1:bodys[1].nverts;1]\n",
    "        p = plot()\n",
    "        for j in 2:system.nbody\n",
    "            plot!(vs_total[i][j][1],vs_total[i][j][2],vs_total[i][j][3], linewidth=3)\n",
    "        end    \n",
    "        plot!(xlims=(-2,2), ylims=(-2,2), zlims=(-2,2), aspect_ratio=:equal, camera = camera_view)\n",
    "    end    \n",
    "end\n",
    "\n",
    "gif(anim, casename*\".gif\", fps = 30)"
   ]
  }
 ],
 "metadata": {
  "kernelspec": {
   "display_name": "Julia 0.6.2",
   "language": "julia",
   "name": "julia-0.6"
  },
  "language_info": {
   "file_extension": ".jl",
   "mimetype": "application/julia",
   "name": "julia",
   "version": "0.6.2"
  }
 },
 "nbformat": 4,
 "nbformat_minor": 2
}
