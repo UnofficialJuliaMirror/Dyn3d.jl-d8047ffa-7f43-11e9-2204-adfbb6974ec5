{
 "cells": [
  {
   "cell_type": "code",
   "execution_count": 1,
   "metadata": {
    "collapsed": false
   },
   "outputs": [],
   "source": [
    "include(\"../src/Dyn3d.jl\")\n",
    "import Dyn3d: ConfigBody, ConfigJoint, SingleBody, SingleJoint, \n",
    "              System, Motions, Dof, NumParams, Soln,\n",
    "              AddBody, AddJoint, AssembleSystem!, InitSystem!, HERK!\n"
   ]
  },
  {
   "cell_type": "code",
   "execution_count": 2,
   "metadata": {
    "collapsed": false,
    "scrolled": true
   },
   "outputs": [],
   "source": [
    "# choose config files \n",
    "include(\"../src/Config_files/2dLinkobj.jl\")"
   ]
  },
  {
   "cell_type": "code",
   "execution_count": 3,
   "metadata": {
    "collapsed": false,
    "scrolled": false
   },
   "outputs": [
    {
     "data": {
      "text/plain": [
       "ndim = 2, njoint = 4, nbody = 4\n",
       "ndof = 24, nudof = 4, ncdof = 20, np = 3, na = 1\n",
       "udof = [3, 9, 15, 21]\n",
       "udof_p = [9, 15, 21]\n",
       "udof_a = [3]\n",
       "nudof_HERK = 3, ncdof_HERK = 21\n",
       "udof_HERK = [9, 15, 21]\n",
       "gravity = [0.0, 0.0, 0.0]\n",
       "kinmap = [1 1]\n"
      ]
     },
     "execution_count": 3,
     "metadata": {},
     "output_type": "execute_result"
    }
   ],
   "source": [
    "# add bodys\n",
    "bodys = Vector{SingleBody}(nbody) # body system\n",
    "for i = 1:nbody\n",
    "    bodys[i] = AddBody(i, config_body) # add body\n",
    "end\n",
    "\n",
    "# add joints\n",
    "joints = Vector{SingleJoint}(njoint) # joint system\n",
    "for i = 1:njoint\n",
    "    joints[i] = AddJoint(i, config_joints[i]) # add joint\n",
    "end\n",
    "\n",
    "# assemble system to a chain\n",
    "system = System(ndim, nbody, njoint, gravity, num_params)\n",
    "bodys, joints, system = AssembleSystem!(bodys, joints, system)\n",
    "system"
   ]
  },
  {
   "cell_type": "code",
   "execution_count": 4,
   "metadata": {
    "collapsed": false,
    "scrolled": true
   },
   "outputs": [
    {
     "data": {
      "text/plain": [
       "joint_id = 1, joint_type = revolute, pid = 0\n",
       "shape1 = [0.0, 0.0, 0.0, 0.0, 0.0, 0.0], shape2 = [0.0, 0.0, 0.0, 0.0, 0.0, 0.0]\n",
       "nudof = 1, ncdof = 5, np = 0, na = 1\n",
       "udof = [3], cdof = [1, 2, 4, 5, 6]\n",
       "udof_p = Int64[], udof_a = [3]\n",
       "i_udof_p = Int64[], i_udof_a = [1]\n",
       "udofmap = [1]\n",
       "cdofmap_HERK = [1, 2, 3, 4, 5, 6]\n",
       "nudof_HERK = 0, ncdof_HERK = 6\n",
       "udof_HERK = Int64[], cdof_HERK = [1, 2, 3, 4, 5, 6]\n",
       "S = [0; 0; 1; 0; 0; 0]\n",
       "T = [1 0 0 0 0; 0 1 0 0 0; 0 0 0 0 0; 0 0 1 0 0; 0 0 0 1 0; 0 0 0 0 1]\n",
       "T_HERK = [1 0 0 0 0 0; 0 1 0 0 0 0; 0 0 1 0 0 0; 0 0 0 1 0 0; 0 0 0 0 1 0; 0 0 0 0 0 1]\n",
       "joint_dof = Dyn3d.ConfigDataType.Dof[Dyn3d.ConfigDataType.Dof(3, \"active\", 0.0, 0.0, Dyn3d.ConfigDataType.Motions(\"oscillatory\", [0.785398, 1.0, 0.0]))]\n",
       "Xj = Array{Float64}(0,0)\n",
       "Xp_to_j = [1.0 0.0 0.0 0.0 0.0 0.0; 0.0 1.0 0.0 0.0 0.0 0.0; 0.0 0.0 1.0 0.0 0.0 0.0; 0.0 0.0 0.0 1.0 0.0 0.0; 0.0 0.0 0.0 0.0 1.0 0.0; 0.0 0.0 0.0 0.0 0.0 1.0]\n",
       "Xj_to_ch = [1.0 0.0 0.0 0.0 0.0 0.0; 0.0 1.0 0.0 0.0 0.0 0.0; 0.0 0.0 1.0 0.0 0.0 0.0; 0.0 0.0 0.0 1.0 0.0 0.0; 0.0 0.0 0.0 0.0 1.0 0.0; 0.0 0.0 0.0 0.0 0.0 1.0]\n",
       "qJ = [0.0, 0.0, 0.0, 0.0, 0.0, 0.0]\n",
       "vJ = [0.0, 0.0, 0.0, 0.0, 0.0, 0.0]\n",
       "v̇J = [0.0, 0.0, 0.0, 0.0, 0.0, 0.0]\n"
      ]
     },
     "execution_count": 4,
     "metadata": {},
     "output_type": "execute_result"
    }
   ],
   "source": [
    "# # test function UpdatePosition!\n",
    "# bodys, joints, system = UpdatePosition!(bodys, joints, system)\n",
    "\n",
    "# # test function UpdateVelocity!\n",
    "# for i = 1:nbody\n",
    "#     @assert length(bodys[i].v) == 6\n",
    "#     @assert length(bodys[i].Xp_to_b) == 36\n",
    "#     @assert length(joints[i].vJ) == 6\n",
    "# end\n",
    "# v = ones(Float64,24)\n",
    "# bodys, joints, system, vJ = UpdateVelocity!(bodys, joints, system, v)\n",
    "\n",
    "\n",
    "# do some output\n",
    "# bodys[1]\n",
    "# bodys[2]\n",
    "joints[1]\n",
    "# system"
   ]
  },
  {
   "cell_type": "code",
   "execution_count": 5,
   "metadata": {
    "collapsed": false,
    "scrolled": true
   },
   "outputs": [
    {
     "name": "stdout",
     "output_type": "stream",
     "text": [
      "  3.888563 seconds (9.45 M allocations: 1.695 GiB, 5.19% gc time)\n"
     ]
    }
   ],
   "source": [
    "# init system\n",
    "bodys, joints, system, soln = InitSystem!(bodys, joints, system)\n",
    "solns = (Soln)[]\n",
    "push!(solns, soln)\n",
    "\n",
    "# advance in time\n",
    "@time begin\n",
    "while soln.t < tf\n",
    "    soln, bodys, joints, system = HERK!(soln, bodys, joints, system)\n",
    "    push!(solns, soln)\n",
    "end\n",
    "end"
   ]
  },
  {
   "cell_type": "code",
   "execution_count": 6,
   "metadata": {
    "collapsed": false
   },
   "outputs": [
    {
     "data": {
      "text/plain": [
       "24-element Array{Float64,1}:\n",
       "  0.0       \n",
       "  0.0       \n",
       " -0.0310061 \n",
       "  0.0       \n",
       "  0.0       \n",
       "  0.0       \n",
       "  0.0       \n",
       "  0.0       \n",
       "  0.0565515 \n",
       " -0.00548107\n",
       " -0.00548124\n",
       "  0.0       \n",
       "  0.0       \n",
       "  0.0       \n",
       " -0.0857947 \n",
       "  0.00224531\n",
       "  0.00999689\n",
       "  0.0       \n",
       "  0.0       \n",
       "  0.0       \n",
       "  0.033687  \n",
       " -0.00650981\n",
       " -0.00968541\n",
       "  0.0       "
      ]
     },
     "execution_count": 6,
     "metadata": {},
     "output_type": "execute_result"
    }
   ],
   "source": [
    "solns[2].v"
   ]
  }
 ],
 "metadata": {
  "kernelspec": {
   "display_name": "Julia 0.6.2",
   "language": "julia",
   "name": "julia-0.6"
  },
  "language_info": {
   "file_extension": ".jl",
   "mimetype": "application/julia",
   "name": "julia",
   "version": "0.6.2"
  }
 },
 "nbformat": 4,
 "nbformat_minor": 2
}
