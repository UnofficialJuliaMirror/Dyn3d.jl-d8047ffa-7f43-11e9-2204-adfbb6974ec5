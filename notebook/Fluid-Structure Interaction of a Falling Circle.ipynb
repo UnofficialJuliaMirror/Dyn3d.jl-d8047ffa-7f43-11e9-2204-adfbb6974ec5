{
 "cells": [
  {
   "cell_type": "markdown",
   "metadata": {},
   "source": [
    "### Include Dyn3d and config files"
   ]
  },
  {
   "cell_type": "code",
   "execution_count": 1,
   "metadata": {},
   "outputs": [
    {
     "data": {
      "text/html": [
       "<div id=\"interact-js-shim\">\n",
       "    <script charset=\"utf-8\">\n",
       "(function (IPython, $, _, MathJax) {\n",
       "    $.event.special.destroyed = {\n",
       "\tremove: function(o) {\n",
       "\t    if (o.handler) {\n",
       "\t\to.handler.apply(this, arguments)\n",
       "\t    }\n",
       "\t}\n",
       "    }\n",
       "\n",
       "    var OutputArea = IPython.version >= \"4.0.0\" ? require(\"notebook/js/outputarea\").OutputArea : IPython.OutputArea;\n",
       "\n",
       "    var redrawValue = function (container, type, val) {\n",
       "\tvar selector = $(\"<div/>\");\n",
       "\tvar oa = new OutputArea(_.extend(selector, {\n",
       "\t    selector: selector,\n",
       "\t    prompt_area: true,\n",
       "\t    events: IPython.events,\n",
       "\t    keyboard_manager: IPython.keyboard_manager\n",
       "\t})); // Hack to work with IPython 2.1.0\n",
       "\n",
       "\tswitch (type) {\n",
       "\tcase \"image/png\":\n",
       "            var _src = 'data:' + type + ';base64,' + val;\n",
       "\t    $(container).find(\"img\").attr('src', _src);\n",
       "\t    break;\n",
       "\tcase \"text/latex\":\n",
       "\t\tif (MathJax){\n",
       "\t\t\tvar math = MathJax.Hub.getAllJax(container)[0];\n",
       "\t\t\tMathJax.Hub.Queue([\"Text\", math, val.replace(/^\\${1,2}|\\${1,2}$/g, '')]);\n",
       "\t\t\tbreak;\n",
       "\t\t}\n",
       "\tdefault:\n",
       "\t    var toinsert = OutputArea.append_map[type].apply(\n",
       "\t\toa, [val, {}, selector]\n",
       "\t    );\n",
       "\t    $(container).empty().append(toinsert.contents());\n",
       "\t    selector.remove();\n",
       "\t}\n",
       "    }\n",
       "\n",
       "\n",
       "    $(document).ready(function() {\n",
       "\tfunction initComm(evt, data) {\n",
       "\t    var comm_manager = data.kernel.comm_manager;\n",
       "        //_.extend(comm_manager.targets, require(\"widgets/js/widget\"))\n",
       "\t    comm_manager.register_target(\"Signal\", function (comm) {\n",
       "            comm.on_msg(function (msg) {\n",
       "                var val = msg.content.data.value;\n",
       "                $(\".signal-\" + comm.comm_id).each(function() {\n",
       "                var type = $(this).data(\"type\");\n",
       "                if (typeof(val[type]) !== \"undefined\" && val[type] !== null) {\n",
       "                    redrawValue(this, type, val[type], type);\n",
       "                }\n",
       "                });\n",
       "                delete val;\n",
       "                delete msg.content.data.value;\n",
       "            });\n",
       "\t    });\n",
       "\n",
       "\t    // coordingate with Comm and redraw Signals\n",
       "\t    // XXX: Test using Reactive here to improve performance\n",
       "\t    $([IPython.events]).on(\n",
       "\t\t'output_appended.OutputArea', function (event, type, value, md, toinsert) {\n",
       "\t\t    if (md && md.reactive) {\n",
       "                // console.log(md.comm_id);\n",
       "                toinsert.addClass(\"signal-\" + md.comm_id);\n",
       "                toinsert.data(\"type\", type);\n",
       "                // Signal back indicating the mimetype required\n",
       "                var comm_manager = IPython.notebook.kernel.comm_manager;\n",
       "                var comm = comm_manager.comms[md.comm_id];\n",
       "                comm.then(function (c) {\n",
       "                    c.send({action: \"subscribe_mime\",\n",
       "                       mime: type});\n",
       "                    toinsert.bind(\"destroyed\", function() {\n",
       "                        c.send({action: \"unsubscribe_mime\",\n",
       "                               mime: type});\n",
       "                    });\n",
       "                })\n",
       "\t\t    }\n",
       "\t    });\n",
       "\t}\n",
       "\n",
       "\ttry {\n",
       "\t    // try to initialize right away. otherwise, wait on the status_started event.\n",
       "\t    initComm(undefined, IPython.notebook);\n",
       "\t} catch (e) {\n",
       "\t    $([IPython.events]).on('kernel_created.Kernel kernel_created.Session', initComm);\n",
       "\t}\n",
       "    });\n",
       "})(IPython, jQuery, _, MathJax);\n",
       "</script>\n",
       "    <script>\n",
       "        window.interactLoadedFlag = true\n",
       "       $(\"#interact-js-shim\").bind(\"destroyed\", function () {\n",
       "           if (window.interactLoadedFlag) {\n",
       "               console.warn(\"JavaScript required by Interact will be removed if you remove this cell or run using Interact more than once.\")\n",
       "           }\n",
       "       })\n",
       "       $([IPython.events]).on(\"kernel_starting.Kernel kernel_restarting.Kernel\", function () { window.interactLoadedFlag = false })\n",
       "   </script>\n",
       "</div>"
      ]
     },
     "metadata": {},
     "output_type": "display_data"
    },
    {
     "data": {
      "text/plain": [
       "Plots.PyPlotBackend()"
      ]
     },
     "execution_count": 1,
     "metadata": {},
     "output_type": "execute_result"
    }
   ],
   "source": [
    "include(Pkg.dir(\"Dyn3d\")*\"/src/Dyn3d.jl\")\n",
    "using Dyn3d\n",
    "\n",
    "include(joinpath(Pkg.dir(\"Whirl\"), \"src/Whirl.jl\"))\n",
    "using Whirl\n",
    "\n",
    "using Reactive, Interact\n",
    "using Plots\n",
    "pyplot()"
   ]
  },
  {
   "cell_type": "markdown",
   "metadata": {},
   "source": [
    "### Choose from configuration files"
   ]
  },
  {
   "cell_type": "code",
   "execution_count": null,
   "metadata": {
    "scrolled": true
   },
   "outputs": [],
   "source": [
    "include(\"../src/config_files/2dFallingCircle.jl\")"
   ]
  },
  {
   "cell_type": "markdown",
   "metadata": {},
   "source": [
    "### Build joint-body chain"
   ]
  },
  {
   "cell_type": "code",
   "execution_count": null,
   "metadata": {},
   "outputs": [],
   "source": [
    "bodys, joints, system = BuildChain(config_bodys, config_joints, \n",
    "                                   config_system)\n",
    "bd = BodyDyn(bodys, joints, system)"
   ]
  },
  {
   "cell_type": "markdown",
   "metadata": {},
   "source": [
    "### Initialize system state"
   ]
  },
  {
   "cell_type": "code",
   "execution_count": null,
   "metadata": {
    "scrolled": true
   },
   "outputs": [],
   "source": [
    "# init system\n",
    "bd, soln = InitSystem!(bd)\n",
    "\n",
    "# init soln structure\n",
    "solns = (Soln)[]\n",
    "push!(solns, soln)\n",
    "\n",
    "# init VertsHistory struct\n",
    "vs = []\n",
    "push!(vs, VertsHistory(system.nbody, bd.bs))\n",
    "\n",
    "nothing"
   ]
  },
  {
   "cell_type": "markdown",
   "metadata": {},
   "source": [
    "### Set up HERKBody object"
   ]
  },
  {
   "cell_type": "code",
   "execution_count": null,
   "metadata": {
    "scrolled": true
   },
   "outputs": [],
   "source": [
    "herk = HERKBody(system.num_params,HERKFuncM, HERKFuncGT, HERKFuncG,\n",
    "                (HERKFuncf,HERKFuncgti), (UpdatePosition!,UpdateVelocity!))"
   ]
  },
  {
   "cell_type": "markdown",
   "metadata": {},
   "source": [
    "### Time Marching"
   ]
  },
  {
   "cell_type": "code",
   "execution_count": null,
   "metadata": {},
   "outputs": [],
   "source": [
    "# advance in time\n",
    "idx = 0\n",
    "@time begin\n",
    "while soln.t < tf\n",
    "    # advance one step\n",
    "    soln, bd.bs, bd.js, bd.sys = herk(soln, bd, _isfixedstep=true)\n",
    "        \n",
    "    # record soln and verts_i info\n",
    "    push!(solns, soln)\n",
    "    push!(vs, VertsHistory(system.nbody, bd.bs))\n",
    "        \n",
    "    # print progress\n",
    "    idx += 1\n",
    "    if mod(idx,500) == 1 \n",
    "        @printf(\"itr = %d, t = %.3f, dt = %e\\n\", idx, soln.t, soln.dt)\n",
    "#         println(\"center of mass at\", MassCenter(bodys, system))\n",
    "    end\n",
    "end\n",
    "@printf(\"itr = %d, t = %.3f, dt = %e\\n\", idx, soln.t, soln.dt)\n",
    "end"
   ]
  },
  {
   "cell_type": "markdown",
   "metadata": {},
   "source": [
    "### Save verts data on regulated time grid for movie in Matlab"
   ]
  },
  {
   "cell_type": "code",
   "execution_count": null,
   "metadata": {
    "scrolled": true
   },
   "outputs": [],
   "source": [
    "bodys, joints, system = bd.bs, bd.js, bd.sys\n",
    "\n",
    "using MAT\n",
    "using Interpolations\n",
    "\n",
    "# create regular time grid and acquire solutions on it\n",
    "qJ_regs = Float64[]\n",
    "t_reg = linspace(0,solns[end].t,length(solns))\n",
    "for i = 1:system.ndof\n",
    "    t_temp = ([solns[k].t for k = 1:length(solns)],)\n",
    "    qJ_temp = [solns[k].qJ[i] for k = 1:length(solns)]   \n",
    "    qJ_reg = interpolate(t_temp, qJ_temp, Gridded(Linear()))[t_reg]\n",
    "    append!(qJ_regs, qJ_reg)\n",
    "end\n",
    "qJ_regs = reshape(qJ_regs,(length(solns), system.ndof))\n",
    "\n",
    "# get verts info based on this regular grid solution\n",
    "vs_reg = []\n",
    "bodys_reg = deepcopy(bodys)\n",
    "joints_reg = deepcopy(joints)\n",
    "system_reg = deepcopy(system)\n",
    "for i = 1:length(solns)\n",
    "    bodys_reg, joints_reg, system_reg = UpdatePosition!(bodys_reg, joints_reg, system_reg, solns[i].qJ)\n",
    "    push!(vs_reg, VertsHistory(system.nbody, bodys_reg))\n",
    "end\n",
    "\n",
    "# write to .mat file for animation\n",
    "# vs_reg follow the form [ntime][nbody, nverts, xyz]\n",
    "matwrite(\"../matlab_plot/verts_i.mat\", Dict(\n",
    "    \"ndim\" => system.ndim,\n",
    "    \"nbody\" => system.nbody,\n",
    "    \"nverts\" => bodys[1].nverts,\n",
    "    \"t\" => collect(t_reg),\n",
    "    \"verts\" => vs_reg\n",
    "))"
   ]
  },
  {
   "cell_type": "markdown",
   "metadata": {},
   "source": [
    "### Interactive plot"
   ]
  },
  {
   "cell_type": "code",
   "execution_count": null,
   "metadata": {
    "scrolled": true
   },
   "outputs": [],
   "source": [
    "freq = 100 # intervals of plotting\n",
    "camera_view = (45,45)\n",
    "v = isdefined(:plot_dir) ? plot_dir : system.ndim==2 ? (1,2) : (1,2,3)\n",
    "\n",
    "@manipulate for i in 1:Int(round(length(t_reg)/freq)-1)\n",
    "\n",
    "    if system.ndim == 2\n",
    "        k = i*freq+1\n",
    "        # first body\n",
    "        p = plot(vs_reg[k][1,:,v[1]],vs_reg[k][1,:,v[2]], linewidth=3, aspect_ratio=:equal)        \n",
    "        # the rest bodys\n",
    "        for j in 2:system.nbody\n",
    "            plot!(vs_reg[k][j,:,v[1]],vs_reg[k][j,:,v[2]], linewidth=3, aspect_ratio=:equal)            \n",
    "        end    \n",
    "        plot!(xlims=(-2,2), ylims=(-2,2))\n",
    "        \n",
    "    else\n",
    "        k = i*freq+1\n",
    "        h = [1:bodys[1].nverts;1]\n",
    "        # first body        \n",
    "        plot(vs_reg[k][1,h,v[1]],vs_reg[k][1,h,v[2]],vs_reg[k][1,h,v[3]], linewidth=3, aspect_ratio=:equal ,camera = camera_view)\n",
    "        # the rest bodys\n",
    "        for j in 2:system.nbody\n",
    "            plot!(vs_reg[k][j,h,v[1]],vs_reg[k][j,h,v[2]],vs_reg[k][j,h,v[3]], linewidth=3, aspect_ratio=:equal ,camera = camera_view)\n",
    "        end    \n",
    "        plot!(xlims=(-2,2), ylims=(-2,2), zlims=(-2,2))        \n",
    "    end\n",
    "\n",
    "end"
   ]
  }
 ],
 "metadata": {
  "kernelspec": {
   "display_name": "Julia 0.6.2",
   "language": "julia",
   "name": "julia-0.6"
  },
  "language_info": {
   "file_extension": ".jl",
   "mimetype": "application/julia",
   "name": "julia",
   "version": "0.6.2"
  }
 },
 "nbformat": 4,
 "nbformat_minor": 2
}
