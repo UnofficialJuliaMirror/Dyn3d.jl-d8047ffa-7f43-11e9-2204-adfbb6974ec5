{
 "cells": [
  {
   "cell_type": "code",
   "execution_count": 1,
   "metadata": {
    "collapsed": false
   },
   "outputs": [
    {
     "name": "stdout",
     "output_type": "stream",
     "text": [
      "Config info set up.\n"
     ]
    }
   ],
   "source": [
    "include(Pkg.dir(\"Dyn3d\")*\"/src/Dyn3d.jl\")\n",
    "using Dyn3d\n",
    "\n",
    "# choose config files from folder Config_files\n",
    "include(\"../src/Config_files/2dLink.jl\")\n",
    "# include(\"../src/Config_files/2dFall.jl\")\n",
    "# include(\"../src/Config_files/2dSwim.jl\")\n",
    "# include(\"../src/Config_files/3dHinge.jl\")\n",
    "# include(\"../src/Config_files/3dPrismatic.jl\")\n",
    "# include(\"../src/Config_files/3dCylindrical.jl\")\n",
    "# include(\"../src/Config_files/2dThrow.jl\")"
   ]
  },
  {
   "cell_type": "code",
   "execution_count": 2,
   "metadata": {
    "collapsed": false,
    "scrolled": false
   },
   "outputs": [
    {
     "data": {
      "text/plain": [
       "ndim = 2, njoint = 4, nbody = 4\n",
       "ndof = 24, nudof = 4, ncdof = 20, np = 3, na = 1\n",
       "udof = [3, 9, 15, 21]\n",
       "udof_p = [9, 15, 21]\n",
       "udof_a = [3]\n",
       "nudof_HERK = 3, ncdof_HERK = 21\n",
       "udof_HERK = [9, 15, 21]\n",
       "gravity = [0.0, 0.0, 0.0]\n",
       "kinmap = [1 1]\n"
      ]
     },
     "execution_count": 2,
     "metadata": {},
     "output_type": "execute_result"
    }
   ],
   "source": [
    "# add bodys\n",
    "bodys = Vector{SingleBody}(nbody) # body system\n",
    "for i = 1:nbody\n",
    "    bodys[i] = AddBody(i, config_body) # add body\n",
    "end\n",
    "\n",
    "# add joints\n",
    "joints = Vector{SingleJoint}(njoint) # joint system\n",
    "for i = 1:njoint\n",
    "    joints[i] = AddJoint(i, config_joints[i]) # add joint\n",
    "end\n",
    "\n",
    "# assemble system to a chain\n",
    "system = System(ndim, nbody, njoint, gravity, num_params)\n",
    "bodys, joints, system = AssembleSystem!(bodys, joints, system)\n",
    "system"
   ]
  },
  {
   "cell_type": "code",
   "execution_count": 3,
   "metadata": {
    "collapsed": true,
    "scrolled": true
   },
   "outputs": [],
   "source": [
    "# # test function UpdatePosition!\n",
    "# bodys, joints, system = UpdatePosition!(bodys, joints, system)\n",
    "\n",
    "# # test function UpdateVelocity!\n",
    "# for i = 1:nbody\n",
    "#     @assert length(bodys[i].v) == 6\n",
    "#     @assert length(bodys[i].Xp_to_b) == 36\n",
    "#     @assert length(joints[i].vJ) == 6\n",
    "# end\n",
    "# v = ones(Float64,24)\n",
    "# bodys, joints, system, vJ = UpdateVelocity!(bodys, joints, system, v)"
   ]
  },
  {
   "cell_type": "code",
   "execution_count": 4,
   "metadata": {
    "collapsed": false
   },
   "outputs": [
    {
     "data": {
      "text/plain": [
       "1-element Array{Any,1}:\n",
       " [0.0 0.0 0.176777 0.176777; 0.176777 0.176777 0.353553 0.353553; 0.353553 0.353553 0.53033 0.53033; 0.53033 0.53033 0.707107 0.707107]\n",
       "\n",
       "[0.0 0.0 0.176777 0.176777; 0.176777 0.176777 0.353553 0.353553; 0.353553 0.353553 0.53033 0.53033; 0.53033 0.53033 0.707107 0.707107]\n",
       "\n",
       "[0.0 1.0 1.0 0.0; 0.0 1.0 1.0 0.0; 0.0 1.0 1.0 0.0; 0.0 1.0 1.0 0.0]"
      ]
     },
     "execution_count": 4,
     "metadata": {},
     "output_type": "execute_result"
    }
   ],
   "source": [
    "# init system\n",
    "bodys, joints, system, soln = InitSystem!(bodys, joints, system, scheme)\n",
    "\n",
    "# init soln structure\n",
    "solns = (Soln)[]\n",
    "push!(solns, soln)\n",
    "\n",
    "# init VertsHistory struct\n",
    "vs = []\n",
    "push!(vs, VertsHistory(system.nbody, bodys))"
   ]
  },
  {
   "cell_type": "code",
   "execution_count": 5,
   "metadata": {
    "collapsed": false,
    "scrolled": true
   },
   "outputs": [
    {
     "name": "stdout",
     "output_type": "stream",
     "text": [
      "itr = 1, t = 0.001, dt = 3.173893e-04\n",
      "itr = 501, t = 0.420, dt = 7.908261e-04\n",
      "itr = 1001, t = 0.863, dt = 6.895769e-04\n",
      "itr = 1501, t = 1.288, dt = 7.654497e-04\n",
      "itr = 2001, t = 1.691, dt = 1.003393e-03\n",
      "itr = 2405, t = 2.000, dt = 7.334141e-04\n",
      "  4.151553 seconds (7.61 M allocations: 1.240 GiB, 4.06% gc time)\n"
     ]
    }
   ],
   "source": [
    "# advance in time\n",
    "idx = 0\n",
    "@time begin\n",
    "while soln.t < tf\n",
    "    # advance one step\n",
    "    soln, bodys, joints, system = HERK!(soln, bodys, joints, system, scheme, tol)\n",
    "        \n",
    "    # record soln and verts_i info\n",
    "    push!(solns, soln)\n",
    "    push!(vs, VertsHistory(system.nbody, bodys))\n",
    "        \n",
    "    # print progress\n",
    "    idx += 1\n",
    "    if mod(idx,500) == 1 \n",
    "        @printf(\"itr = %d, t = %.3f, dt = %e\\n\", idx, soln.t, soln.dt)\n",
    "#         println(\"center of mass at\", MassCenter(bodys, system))\n",
    "    end\n",
    "end\n",
    "@printf(\"itr = %d, t = %.3f, dt = %e\\n\", idx, soln.t, soln.dt)\n",
    "end"
   ]
  },
  {
   "cell_type": "code",
   "execution_count": 6,
   "metadata": {
    "collapsed": false,
    "scrolled": true
   },
   "outputs": [],
   "source": [
    "using MAT\n",
    "using Interpolations\n",
    "\n",
    "# create regular time grid and acquire solutions on it\n",
    "qJ_regs = Float64[]\n",
    "t_reg = linspace(0,solns[end].t,length(solns))\n",
    "for i = 1:system.ndof\n",
    "    t_temp = ([solns[k].t for k = 1:length(solns)],)\n",
    "    qJ_temp = [solns[k].qJ[i] for k = 1:length(solns)]   \n",
    "    qJ_reg = interpolate(t_temp, qJ_temp, Gridded(Linear()))[t_reg]\n",
    "    append!(qJ_regs, qJ_reg)\n",
    "end\n",
    "qJ_regs = reshape(qJ_regs,(length(solns), system.ndof))\n",
    "\n",
    "# get verts info based on this regular grid solution\n",
    "vs_reg = []\n",
    "bodys_reg = deepcopy(bodys)\n",
    "joints_reg = deepcopy(joints)\n",
    "system_reg = deepcopy(system)\n",
    "for i = 1:length(solns)\n",
    "    bodys_reg, joints_reg, system_reg = UpdatePosition!(bodys_reg, joints_reg, system_reg, solns[i].qJ)\n",
    "    push!(vs_reg, VertsHistory(system.nbody, bodys_reg))\n",
    "end\n",
    "\n",
    "# write to .mat file for animation\n",
    "matwrite(\"../matlab_plot/verts_i.mat\", Dict(\n",
    "    \"ndim\" => system.ndim,\n",
    "    \"nbody\" => system.nbody,\n",
    "    \"nverts\" => bodys[1].nverts,\n",
    "    \"t\" => collect(t_reg),\n",
    "    \"verts\" => vs_reg\n",
    "))"
   ]
  },
  {
   "cell_type": "code",
   "execution_count": 7,
   "metadata": {
    "collapsed": false,
    "scrolled": true
   },
   "outputs": [],
   "source": [
    "# # results printed\n",
    "# solns[end].qJ\n",
    "# solns[end].v\n",
    "# solns[end].v̇\n",
    "# solns[end].λ\n",
    "# solns[end].t\n",
    "\n",
    "# # code analysis\n",
    "# using BenchmarkTools, Compat\n",
    "# @benchmark HERK!(soln, bodys, joints, system, scheme, tol)\n",
    "# @profile HERK!(soln, bodys, joints, system, scheme, tol)\n",
    "# Profile.print()\n",
    "\n",
    "# using Coverage\n",
    "# m = analyze_malloc(\"../src\")\n",
    "# m[end-20:end]"
   ]
  }
 ],
 "metadata": {
  "kernelspec": {
   "display_name": "Julia 0.6.2",
   "language": "julia",
   "name": "julia-0.6"
  },
  "language_info": {
   "file_extension": ".jl",
   "mimetype": "application/julia",
   "name": "julia",
   "version": "0.6.2"
  }
 },
 "nbformat": 4,
 "nbformat_minor": 2
}
