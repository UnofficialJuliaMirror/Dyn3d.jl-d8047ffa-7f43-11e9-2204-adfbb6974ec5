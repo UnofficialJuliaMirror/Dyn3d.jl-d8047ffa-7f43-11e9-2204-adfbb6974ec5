{
 "cells": [
  {
   "cell_type": "code",
   "execution_count": 1,
   "metadata": {},
   "outputs": [],
   "source": [
    "include(\"../src/Dyn3d.jl\")\n",
    "import Dyn3d: ConfigBody, ConfigJoint, SingleBody, SingleJoint, \n",
    "              System, Motions, Dof, NumParams, Soln, VertsHistory,\n",
    "              AddBody, AddJoint, AssembleSystem!, InitSystem!, HERK!, UpdatePosition!\n",
    "\n",
    "using BenchmarkTools, Compat\n",
    "using MAT\n",
    "using Interpolations"
   ]
  },
  {
   "cell_type": "code",
   "execution_count": 2,
   "metadata": {
    "scrolled": true
   },
   "outputs": [],
   "source": [
    "# choose config files from folder Config_files\n",
    "include(\"../src/Config_files/2dLinkobj.jl\")"
   ]
  },
  {
   "cell_type": "code",
   "execution_count": 3,
   "metadata": {
    "scrolled": false
   },
   "outputs": [
    {
     "data": {
      "text/plain": [
       "ndim = 2, njoint = 10, nbody = 10\n",
       "ndof = 60, nudof = 10, ncdof = 50, np = 9, na = 1\n",
       "udof = [3, 9, 15, 21, 27, 33, 39, 45, 51, 57]\n",
       "udof_p = [9, 15, 21, 27, 33, 39, 45, 51, 57]\n",
       "udof_a = [3]\n",
       "nudof_HERK = 9, ncdof_HERK = 51\n",
       "udof_HERK = [9, 15, 21, 27, 33, 39, 45, 51, 57]\n",
       "gravity = [0.0, 0.0, 0.0]\n",
       "kinmap = [1 1]\n"
      ]
     },
     "execution_count": 3,
     "metadata": {},
     "output_type": "execute_result"
    }
   ],
   "source": [
    "# add bodys\n",
    "bodys = Vector{SingleBody}(nbody) # body system\n",
    "for i = 1:nbody\n",
    "    bodys[i] = AddBody(i, config_body) # add body\n",
    "end\n",
    "\n",
    "# add joints\n",
    "joints = Vector{SingleJoint}(njoint) # joint system\n",
    "for i = 1:njoint\n",
    "    joints[i] = AddJoint(i, config_joints[i]) # add joint\n",
    "end\n",
    "\n",
    "# assemble system to a chain\n",
    "system = System(ndim, nbody, njoint, gravity, num_params)\n",
    "bodys, joints, system = AssembleSystem!(bodys, joints, system)\n",
    "system"
   ]
  },
  {
   "cell_type": "code",
   "execution_count": 4,
   "metadata": {
    "scrolled": true
   },
   "outputs": [],
   "source": [
    "# # test function UpdatePosition!\n",
    "# bodys, joints, system = UpdatePosition!(bodys, joints, system)\n",
    "\n",
    "# # test function UpdateVelocity!\n",
    "# for i = 1:nbody\n",
    "#     @assert length(bodys[i].v) == 6\n",
    "#     @assert length(bodys[i].Xp_to_b) == 36\n",
    "#     @assert length(joints[i].vJ) == 6\n",
    "# end\n",
    "# v = ones(Float64,24)\n",
    "# bodys, joints, system, vJ = UpdateVelocity!(bodys, joints, system, v)"
   ]
  },
  {
   "cell_type": "code",
   "execution_count": 5,
   "metadata": {},
   "outputs": [
    {
     "data": {
      "text/plain": [
       "1-element Array{Any,1}:\n",
       " [0.0 0.0 0.0707107 0.0707107; 0.0707107 0.0707107 0.141421 0.141421; … ; 0.565685 0.565685 0.636396 0.636396; 0.636396 0.636396 0.707107 0.707107]\n",
       "\n",
       "[0.0 0.0 0.0707107 0.0707107; 0.0707107 0.0707107 0.141421 0.141421; … ; 0.565685 0.565685 0.636396 0.636396; 0.636396 0.636396 0.707107 0.707107]\n",
       "\n",
       "[0.0 1.0 1.0 0.0; 0.0 1.0 1.0 0.0; … ; 0.0 1.0 1.0 0.0; 0.0 1.0 1.0 0.0]"
      ]
     },
     "execution_count": 5,
     "metadata": {},
     "output_type": "execute_result"
    }
   ],
   "source": [
    "# init system\n",
    "bodys, joints, system, soln = InitSystem!(bodys, joints, system, scheme)\n",
    "\n",
    "# init soln structure\n",
    "solns = (Soln)[]\n",
    "push!(solns, soln)\n",
    "\n",
    "# init VertsHistory struct\n",
    "vs = []\n",
    "push!(vs, VertsHistory(system.nbody, bodys))"
   ]
  },
  {
   "cell_type": "code",
   "execution_count": 6,
   "metadata": {
    "scrolled": false
   },
   "outputs": [
    {
     "name": "stdout",
     "output_type": "stream",
     "text": [
      "itr = 1, t = 0.001, dt = 3.024582e-05\n",
      "itr = 501, t = 0.023, dt = 5.755930e-05\n",
      "itr = 1001, t = 0.052, dt = 5.757103e-05\n",
      "itr = 1501, t = 0.081, dt = 5.758328e-05\n",
      "itr = 2001, t = 0.110, dt = 5.760865e-05\n",
      "itr = 2501, t = 0.139, dt = 5.765330e-05\n",
      "itr = 3001, t = 0.168, dt = 5.771940e-05\n",
      "itr = 3501, t = 0.196, dt = 5.780626e-05\n",
      "itr = 4001, t = 0.225, dt = 5.791119e-05\n",
      "itr = 4501, t = 0.254, dt = 5.802944e-05\n",
      "itr = 5001, t = 0.283, dt = 5.815385e-05\n",
      "itr = 5501, t = 0.312, dt = 5.827500e-05\n",
      "itr = 6001, t = 0.342, dt = 5.838199e-05\n",
      "itr = 6501, t = 0.371, dt = 5.846371e-05\n",
      "itr = 7001, t = 0.400, dt = 5.851034e-05\n",
      "itr = 7501, t = 0.429, dt = 5.851479e-05\n",
      "itr = 8001, t = 0.459, dt = 5.847393e-05\n",
      "itr = 8501, t = 0.488, dt = 5.838909e-05\n",
      "itr = 9001, t = 0.517, dt = 5.826605e-05\n",
      "itr = 9501, t = 0.546, dt = 5.811478e-05\n",
      "itr = 10001, t = 0.575, dt = 5.794901e-05\n",
      "itr = 10501, t = 0.604, dt = 5.778652e-05\n",
      "itr = 11001, t = 0.633, dt = 5.765152e-05\n",
      "itr = 11501, t = 0.662, dt = 5.757727e-05\n",
      "itr = 12001, t = 0.690, dt = 5.759255e-05\n",
      "itr = 12501, t = 0.719, dt = 5.769424e-05\n",
      "itr = 13001, t = 0.748, dt = 5.785451e-05\n",
      "itr = 13501, t = 0.777, dt = 5.804868e-05\n",
      "itr = 14001, t = 0.806, dt = 5.826138e-05\n",
      "itr = 14501, t = 0.835, dt = 5.848110e-05\n",
      "itr = 15001, t = 0.865, dt = 5.869641e-05\n",
      "itr = 15501, t = 0.894, dt = 5.889481e-05\n",
      "itr = 16001, t = 0.924, dt = 5.906305e-05\n",
      "itr = 16501, t = 0.953, dt = 5.918829e-05\n",
      "itr = 17001, t = 0.983, dt = 5.925963e-05\n",
      "itr = 17501, t = 1.012, dt = 5.926933e-05\n",
      "itr = 18001, t = 1.042, dt = 5.921358e-05\n",
      "itr = 18501, t = 1.072, dt = 5.909293e-05\n",
      "itr = 19001, t = 1.101, dt = 5.891287e-05\n",
      "itr = 19501, t = 1.130, dt = 5.868492e-05\n",
      "itr = 20001, t = 1.160, dt = 5.842797e-05\n",
      "itr = 20501, t = 1.189, dt = 5.816796e-05\n",
      "itr = 21001, t = 1.218, dt = 5.793389e-05\n",
      "itr = 21501, t = 1.247, dt = 5.775104e-05\n",
      "itr = 22001, t = 1.276, dt = 5.763483e-05\n",
      "itr = 22501, t = 1.305, dt = 5.758692e-05\n",
      "itr = 23001, t = 1.333, dt = 5.759489e-05\n",
      "itr = 23501, t = 1.362, dt = 5.763848e-05\n",
      "itr = 24001, t = 1.391, dt = 5.769763e-05\n",
      "itr = 24501, t = 1.420, dt = 5.775596e-05\n",
      "itr = 25001, t = 1.449, dt = 5.780100e-05\n",
      "itr = 25501, t = 1.478, dt = 5.782396e-05\n",
      "itr = 26001, t = 1.507, dt = 5.781991e-05\n",
      "itr = 26501, t = 1.535, dt = 5.778835e-05\n",
      "itr = 27001, t = 1.564, dt = 5.773408e-05\n",
      "itr = 27501, t = 1.593, dt = 5.766827e-05\n",
      "itr = 28001, t = 1.622, dt = 5.760915e-05\n",
      "itr = 28501, t = 1.651, dt = 5.757947e-05\n",
      "itr = 29001, t = 1.680, dt = 5.759721e-05\n",
      "itr = 29501, t = 1.708, dt = 5.766527e-05\n",
      "itr = 30001, t = 1.737, dt = 5.777338e-05\n",
      "itr = 30501, t = 1.766, dt = 5.790794e-05\n",
      "itr = 31001, t = 1.795, dt = 5.805682e-05\n",
      "itr = 31501, t = 1.824, dt = 5.820885e-05\n",
      "itr = 32001, t = 1.853, dt = 5.835266e-05\n",
      "itr = 32501, t = 1.883, dt = 5.847639e-05\n",
      "itr = 33001, t = 1.912, dt = 5.856837e-05\n",
      "itr = 33501, t = 1.941, dt = 5.861844e-05\n",
      "itr = 34001, t = 1.970, dt = 5.861926e-05\n",
      "itr = 34501, t = 2.000, dt = 5.856756e-05\n",
      "itr = 34506, t = 2.000, dt = 5.857528e-05\n",
      "236.192672 seconds (257.19 M allocations: 87.704 GiB, 3.80% gc time)\n"
     ]
    }
   ],
   "source": [
    "# advance in time\n",
    "idx = 0\n",
    "@time begin\n",
    "while soln.t < tf\n",
    "    # advance one step\n",
    "    soln, bodys, joints, system = HERK!(soln, bodys, joints, system, scheme, tol)\n",
    "        \n",
    "    # record soln and verts_i info\n",
    "    push!(solns, soln)\n",
    "    push!(vs, VertsHistory(system.nbody, bodys))\n",
    "        \n",
    "    # print progress\n",
    "    idx += 1\n",
    "    if mod(idx,500) == 1 @printf(\"itr = %d, t = %.3f, dt = %e\\n\", idx, soln.t, soln.dt) end\n",
    "end\n",
    "@printf(\"itr = %d, t = %.3f, dt = %e\\n\", idx, soln.t, soln.dt)\n",
    "end"
   ]
  },
  {
   "cell_type": "code",
   "execution_count": 7,
   "metadata": {
    "scrolled": true
   },
   "outputs": [],
   "source": [
    "# create regular time grid and acquire solutions on it\n",
    "qJ_regs = Float64[]\n",
    "t_reg = linspace(0,solns[end].t,length(solns))\n",
    "for i = 1:system.ndof\n",
    "    t_temp = ([solns[k].t for k = 1:length(solns)],)\n",
    "    qJ_temp = [solns[k].qJ[i] for k = 1:length(solns)]   \n",
    "    qJ_reg = interpolate(t_temp, qJ_temp, Gridded(Linear()))[t_reg]\n",
    "    append!(qJ_regs, qJ_reg)\n",
    "end\n",
    "qJ_regs = reshape(qJ_regs,(length(solns), system.ndof))\n",
    "\n",
    "# get verts info based on this regular grid solution\n",
    "vs_reg = []\n",
    "bodys_reg = deepcopy(bodys)\n",
    "joints_reg = deepcopy(joints)\n",
    "system_reg = deepcopy(system)\n",
    "for i = 1:length(solns)\n",
    "    bodys_reg, joints_reg, system_reg = UpdatePosition!(bodys_reg, joints_reg, system_reg, solns[i].qJ)\n",
    "    push!(vs_reg, VertsHistory(system.nbody, bodys_reg))\n",
    "end\n",
    "\n",
    "# write to .mat file for animation\n",
    "matwrite(\"../matlab_plot/verts_i.mat\", Dict(\n",
    "    \"ndim\" => system.ndim,\n",
    "    \"nbody\" => system.nbody,\n",
    "    \"nverts\" => bodys[1].nverts,\n",
    "    \"t\" => collect(t_reg),\n",
    "    \"verts\" => vs_reg\n",
    "))"
   ]
  },
  {
   "cell_type": "code",
   "execution_count": 8,
   "metadata": {
    "scrolled": true
   },
   "outputs": [
    {
     "name": "stdout",
     "output_type": "stream",
     "text": [
      "6 ./task.jl:335; (::IJulia.##14#17)()\n",
      " 6 ...IJulia/src/eventloop.jl:8; eventloop(::ZMQ.Socket)\n",
      "  6 ...6/Compat/src/Compat.jl:385; (::Compat.#inner#17{Array{Any,1},...\n",
      "   6 ...rc/execute_request.jl:158; execute_request(::ZMQ.Socket, ::I...\n",
      "    6 ./loading.jl:522; include_string(::String, ::String)\n",
      "     6 ./<missing>:?; anonymous\n",
      "      6 ./profile.jl:23; macro expansion\n",
      "       2 .../src/TimeMarching.jl:126; HERK!(::Dyn3d.ConstructSystem....\n",
      "        1 ...src/TimeMarching.jl:212; HERKFuncf(::Array{Dyn3d.Constr...\n",
      "         1 ./array.jl:1164; vcat(::Array{Float64,1}, ::Ar...\n",
      "        1 ...src/TimeMarching.jl:250; HERKFuncf(::Array{Dyn3d.Constr...\n",
      "         1 ./operators.jl:424; *\n",
      "          1 ./linalg/matmul.jl:483; generic_matmatmul!(::Array{Fl...\n",
      "           1 ./linalg/matmul.jl:548; _generic_matmatmul!(::Array{...\n",
      "       2 .../src/TimeMarching.jl:138; HERK!(::Dyn3d.ConstructSystem....\n",
      "        2 ...src/TimeMarching.jl:295; HERKFuncG(::Array{Dyn3d.Constr...\n",
      "         2 ./linalg/matmul.jl:483; generic_matmatmul!(::Array{Fl...\n",
      "          2 ./linalg/matmul.jl:625; _generic_matmatmul!(::Array{F...\n",
      "       2 .../src/TimeMarching.jl:154; HERK!(::Dyn3d.ConstructSystem....\n",
      "        2 ...src/TimeMarching.jl:342; BlockLU(::Array{Float64,2}, ::...\n",
      "         2 ./linalg/dense.jl:659; inv(::SubArray{Float64,2,Arra...\n",
      "          2 ./linalg/lu.jl:82; lufact(::SubArray{Float64,2,A...\n",
      "           2 ./linalg/lu.jl:19; lufact!\n",
      "            2 ./linalg/lapack.jl:534; getrf!(::Array{Float64,2})\n"
     ]
    }
   ],
   "source": [
    "# # results printed\n",
    "# solns[end].qJ\n",
    "# solns[end].v\n",
    "# solns[end].v̇\n",
    "# solns[end].λ\n",
    "# solns[end].t\n",
    "\n",
    "# # code analysis\n",
    "# @benchmark HERK!(soln, bodys, joints, system, scheme, tol)\n",
    "# @profile HERK!(soln, bodys, joints, system, scheme, tol)\n",
    "# Profile.print()"
   ]
  }
 ],
 "metadata": {
  "kernelspec": {
   "display_name": "Julia 0.6.2",
   "language": "julia",
   "name": "julia-0.6"
  },
  "language_info": {
   "file_extension": ".jl",
   "mimetype": "application/julia",
   "name": "julia",
   "version": "0.6.2"
  }
 },
 "nbformat": 4,
 "nbformat_minor": 2
}
